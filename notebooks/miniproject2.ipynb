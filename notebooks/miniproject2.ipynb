{
 "cells": [
  {
   "cell_type": "markdown",
   "metadata": {},
   "source": [
    "# Miniproject 2: Melody generation\n",
    "\n",
    "## Introduction\n",
    "\n",
    "### Description\n",
    "\n",
    "To develop a model employing ANN on real-world data requires going through several major steps, each of which with important design choices that directly impact the end results. In this project, we guide you through these choices starting from a large database of [Irish folk melodies](https://github.com/IraKorshunova/folk-rnn/tree/master/data) to your own model of symbolic music composition. \n",
    "\n",
    "\n",
    "### Prerequisites\n",
    "\n",
    "- You should have a running installation of [tensorflow](https://www.tensorflow.org/install/) and [keras](https://keras.io/).\n",
    "- You should know the concepts \"recurrent neural networks\", \"LSTM\", \"training and validation data\", \"overfitting\" and \"early stopping\".\n",
    "\n",
    "### What you will learn\n",
    "\n",
    "- You will be guided through a data processing procedure and understand the importance of design choices in ANN modeling\n",
    "- You will learn how to define recurrent neural networks in keras and fit them to data.\n",
    "- You will be guided through a prototyping procedure for the application of deep learning to a specific domain.\n",
    "- You will get in contact with concepts discussed later in the lecture, like \"overfitting\", \"LSTM network\", and \"Generative model\".\n",
    "- You will learn to be more patient :) Some fits may take your computer quite a bit of time; run them over night.\n",
    "\n",
    "### Evaluation criteria\n",
    "\n",
    "The evaluation is (mostly) based on the figures you submit and your answer sentences. \n",
    "We will only do random tests of your code and not re-run the full notebook. Please ensure that your notebook is fully executed before handing it in. "
   ]
  },
  {
   "cell_type": "markdown",
   "metadata": {},
   "source": [
    "## Functions and imports\n",
    "\n",
    "For your convenience we import some libraries and provide some functions below. Some libraries (midi and music21) should be added. If you work with the docker image, pull it `docker pull zifeo/artificial-neural-networks:cpu` before to get the latest version where these libraries are added. If you work locally, be sure to import them. If you do not find the midi library for python3, install it with `python python3-midi/setup.py install` after cloning https://github.com/louisabraham/python3-midi.git.\n",
    "\n",
    "Finally, fill in your sciper number(s) for the random seed and simply run the following cell."
   ]
  },
  {
   "cell_type": "code",
   "execution_count": 1,
   "metadata": {},
   "outputs": [
    {
     "name": "stderr",
     "output_type": "stream",
     "text": [
      "Using TensorFlow backend.\n"
     ]
    }
   ],
   "source": [
    "import numpy as np\n",
    "import matplotlib.pyplot as plt\n",
    "import os\n",
    "import sys\n",
    "import pickle\n",
    "\n",
    "from functools import reduce\n",
    "\n",
    "from bisect import bisect_left\n",
    "\n",
    "plt.rcParams['font.size'] = 28\n",
    "plt.style.use('ggplot')\n",
    "plt.rcParams[\"axes.grid\"] = False\n",
    "c = plt.rcParams['axes.prop_cycle'].by_key()['color']\n",
    "plt.rcParams['figure.figsize'] = 8, 4\n",
    "\n",
    "import keras\n",
    "from keras.models import Model, load_model\n",
    "from keras.layers import Input, Masking, TimeDistributed, Dense, Concatenate, Dropout, LSTM, GRU, SimpleRNN\n",
    "from keras.optimizers import Adam\n",
    "from keras.utils import np_utils\n",
    "from keras.preprocessing.sequence import pad_sequences\n",
    "from keras.callbacks import ModelCheckpoint\n",
    "\n",
    "import midi\n",
    "import music21\n",
    "\n",
    "from collections import Counter"
   ]
  },
  {
   "cell_type": "code",
   "execution_count": 2,
   "metadata": {},
   "outputs": [],
   "source": [
    "sciper = {'student_1': 284216, \n",
    "          'student_2': 285155}\n",
    "seed = sciper['student_1']+sciper['student_2']\n",
    "\n",
    "%matplotlib inline"
   ]
  },
  {
   "cell_type": "code",
   "execution_count": 3,
   "metadata": {},
   "outputs": [],
   "source": [
    "def plotMelody(P, T, dictionaries, PrP=None, PrT=None, H=None):\n",
    "    \"\"\"\n",
    "    P: The pitch array (integer representation) or matrix (one-hot encoding)\n",
    "    T: The duration array (integer representation) or matrix (one-hot encoding)\n",
    "    dictionaries: The dictionaries relating integer to a pitch or duration\n",
    "    PrP: (Optional) If provided with PrT, plot the transition probabilities\n",
    "    PrT: (Optional) If provided with PrP, plot the transition probabilities\n",
    "    H: (Optional) Add a plot with the hidden state dynamic sorted by frequency\n",
    "    \"\"\"\n",
    "    P = np.asarray(P)\n",
    "    T = np.asarray(T)\n",
    "    if len(P.shape) == 1:#if array\n",
    "        P = np_utils.to_categorical(P, len(dictionaries['P']))\n",
    "    if len(T.shape) == 1:#if array\n",
    "        T = np_utils.to_categorical(T, len(dictionaries['T']))\n",
    "    \n",
    "    xlim = [-1,np.where(P==1)[0][-1]+1]\n",
    "    \n",
    "    activeidxes = np.where(np.sum(P, axis=0)>1.)[0]\n",
    "    plt.figure(figsize=(8,4))\n",
    "    if PrP is not None:\n",
    "        targets = np.where(P[:,activeidxes]==1)\n",
    "        plt.imshow(PrP[:,activeidxes].T, origin='lower', aspect='auto', interpolation='nearest', cmap=plt.cm.gray_r, vmin=0, vmax=1)\n",
    "        plt.scatter(targets[0]-1,targets[1], color='red',s=10, marker='.') \n",
    "    else:\n",
    "        plt.imshow(P[:,activeidxes].T, origin='lower', aspect='auto', interpolation='nearest', cmap=plt.cm.gray_r, vmin=0, vmax=1)\n",
    "    plt.ylim([-0.5,len(activeidxes)-0.5])\n",
    "    plt.yticks(range(len(activeidxes)),[dictionaries[\"P\"][i] for i in activeidxes])\n",
    "    plt.tight_layout()\n",
    "    plt.xlabel(\"$n$\")\n",
    "    plt.ylabel(\"$P[n]$\")\n",
    "    plt.xlim(xlim)\n",
    "    plt.show()\n",
    "    \n",
    "    activeidxes = np.where(np.sum(T, axis=0)>1.)[0]\n",
    "    plt.figure(figsize=(8,4))\n",
    "    if PrT is not None:\n",
    "        targets = np.where(T[:,activeidxes]==1)\n",
    "        plt.imshow(PrT[:,activeidxes].T, origin='lower', aspect='auto', interpolation='nearest', cmap=plt.cm.gray_r, vmin=0, vmax=1)\n",
    "        plt.scatter(targets[0]-1,targets[1], color='red',s=10, marker='.')\n",
    "    else:\n",
    "        plt.imshow(T[:,activeidxes].T, origin='lower', aspect='auto', interpolation='nearest', cmap=plt.cm.gray_r, vmin=0, vmax=1)\n",
    "    plt.ylim([-0.5,len(activeidxes)-0.5])\n",
    "    plt.yticks(range(len(activeidxes)),[dictionaries[\"T\"][i] for i in activeidxes])\n",
    "    plt.tight_layout()\n",
    "    plt.xlabel(\"$n$\")\n",
    "    plt.ylabel(\"$T[n]$\")\n",
    "    plt.xlim(xlim)\n",
    "    plt.show()\n",
    "    \n",
    "    \n",
    "    if H is not None:\n",
    "        diff = np.mean([[abs(j-i) for i,j in zip(H[:xlim[1]-1,k], H[1:xlim[1],k])] for k in range(H.shape[1])], axis=1)\n",
    "        sortidx = np.argsort(-diff)\n",
    "        H = H[:,sortidx]\n",
    "        plt.figure(figsize=(8,4))\n",
    "        plt.imshow(H.T, origin='lower', aspect='auto', interpolation='nearest', cmap=plt.cm.seismic, vmin=-1, vmax=1)\n",
    "        plt.xlim([-1,np.where(T==1)[0][-1]+1])\n",
    "        plt.tight_layout()\n",
    "        plt.xlabel(\"$n$\")\n",
    "        plt.ylabel(\"$H[n]$\")\n",
    "        plt.show()\n",
    "\n",
    "\n",
    "def plotLearningCurves(History):\n",
    "    \n",
    "    log = History.history\n",
    "    \n",
    "    plt.figure(figsize=(8,4))\n",
    "    plt.plot(log['YP_loss'], '--', c=c[0], label='Pitch train loss')\n",
    "    plt.plot(log['val_YP_loss'], c=c[0], label='Pitch val loss')\n",
    "    \n",
    "    plt.plot(log['YT_loss'], '--', c=c[1], label='Dur train loss')\n",
    "    plt.plot(log['val_YT_loss'], c=c[1], label='Dur val loss')\n",
    "    plt.legend(loc='best')\n",
    "    \n",
    "    plt.figure(figsize=(8,4))\n",
    "    plt.plot(log['YP_acc'], '--', c=c[0], label='Pitch train acc')\n",
    "    plt.plot(log['val_YP_acc'], c=c[0], label='Pitch val acc')\n",
    "    \n",
    "    plt.plot(log['YT_acc'], '--', c=c[1], label='Dur train acc')\n",
    "    plt.plot(log['val_YT_acc'], c=c[1], label='Dur val acc')\n",
    "    plt.legend(loc='best')\n",
    "\n",
    "def sample(preds, temperature=1.):\n",
    "    \"\"\"Helper function to sample an index from a probability array\"\"\"\n",
    "    preds = np.asarray(preds).astype('float64')\n",
    "    preds = np.log(preds) / temperature\n",
    "    exp_preds = np.exp(preds)\n",
    "    preds = exp_preds / np.sum(exp_preds)\n",
    "    probas = np.random.multinomial(1, preds, 1)\n",
    "    return np.argmax(probas)\n",
    "\n",
    "def writeMIDI(xP, xT, dictionaries, label):\n",
    "\n",
    "    # Instantiate a MIDI Pattern (contains a list of tracks)\n",
    "    pattern = midi.Pattern(format = 0, resolution=480)\n",
    "    # Instantiate a MIDI Track (contains a list of MIDI events)\n",
    "    track = midi.Track()\n",
    "    # Append the track to the pattern\n",
    "    pattern.append(track)\n",
    "    Events = []\n",
    "    \n",
    "    pseq = [dictionaries['P'][p] for p in xP]\n",
    "    tseq = [dictionaries['T'][t] for t in xT]\n",
    "    for t, p in zip(tseq, pseq):\n",
    "        e = midi.NoteOnEvent(tick=0, velocity=90, pitch=p)\n",
    "        track.append(e)\n",
    "        e = midi.NoteOffEvent(tick=t, velocity=0, pitch=p)\n",
    "        track.append(e)\n",
    "        \n",
    "    eot = midi.EndOfTrackEvent(tick=1)\n",
    "    track.append(eot)\n",
    "    # Save the pattern to disk\n",
    "    midi.write_midifile(label, pattern)"
   ]
  },
  {
   "cell_type": "markdown",
   "metadata": {},
   "source": [
    "## Exercise 1 : Data processing\n",
    "### Description\n",
    "\n",
    "For a real world application of ANNs, the original data should be translated into a representation understandable by an ANN. This step is often neglected but is of outmost importance. In order for you to better understand how ANN are applied to real world problems, the first step of this miniproject will guide you through a possible representation. \n",
    "\n",
    "Note that in general, your representation should be normalized in order to obtain homogeneous data from which a structure can be extracted by your ANN model. Importantly, all processing steps toward your representation should not (or minimally) distort your original data.\n",
    "\n",
    "To represent MIDI files, we provide you with a Python MIDI library. You should then\n",
    "\n",
    "0. Download the MIDI tar file from [this link](https://github.com/IraKorshunova/folk-rnn/tree/master/data) and put it in a folder named \"chorpus\" at the same level of this notebook.\n",
    "1. Parse the chorpus to extract the label of (a random subset of) the data (code is provided)\n",
    "2. Read each MIDI file in the subset with the midi [library](https://github.com/louisabraham/python3-midi)\n",
    "3. For each data sequence extract the sequence of MIDI notes defined by two dimensions (\"P\": the sequence of note pitches (integer between 0 and 127 representing a piano key), \"T\": the sequence of note durations.\n",
    "4. Select two melodies and display them both as sequences of MIDI events and sequence of notes in two dimensions. Control that your representation is correct.\n",
    "\n",
    "For step 3, you should learn how MIDI files are constructed. Below, we give a minimal explanation and some code for this particular project. For a more complete explanation, look for MIDI in your favorite search engine. Given this dataset, you can observe that it is monophonic (one note at a time) and there's a small delay (1 tick) inbetween each note. You could decide to ignore this delay or correct (recommanded) for it.\n",
    "\n",
    "A MIDI files is composed of timed events of many kinds. For this project, we focus on the events related to notes being played or stopped. Those are MIDI events \"Note Off\" and \"Note On\". Each event is timed with respect with the previous one (dt). The duration of a note is therefore given by the cummulated dt inbetween the event associated to a note's onset and the event associated with the same note's offset.\n",
    "        "
   ]
  },
  {
   "cell_type": "markdown",
   "metadata": {},
   "source": [
    "### Minimal code to read MIDI files"
   ]
  },
  {
   "cell_type": "code",
   "execution_count": 4,
   "metadata": {
    "scrolled": false
   },
   "outputs": [
    {
     "name": "stdout",
     "output_type": "stream",
     "text": [
      "chorpus/sessiontune0.mid\n",
      "########################################\n",
      "tick \t pitch \t message \t velocity\n",
      "########################################\n",
      "\n",
      "1 \t 67 \t Note On \t 105\n",
      "240 \t 67 \t Note Off \t 0\n",
      "241 \t 64 \t Note On \t 80\n",
      "480 \t 64 \t Note Off \t 0\n",
      "481 \t 64 \t Note On \t 80\n",
      "720 \t 64 \t Note Off \t 0\n",
      "721 \t 64 \t Note On \t 95\n",
      "1200 \t 64 \t Note Off \t 0\n",
      "1201 \t 62 \t Note On \t 80\n",
      ". \t . \t . \t \t .\n",
      ". \t . \t . \t \t .\n",
      ". \t . \t . \t \t .\n",
      "33601 \t 67 \t Note On \t 80\n",
      "33840 \t 67 \t Note Off \t 0\n",
      "33841 \t 69 \t Note On \t 95\n",
      "34080 \t 69 \t Note Off \t 0\n",
      "34081 \t 71 \t Note On \t 80\n",
      "34320 \t 71 \t Note Off \t 0\n",
      "34321 \t 72 \t Note On \t 80\n",
      "34560 \t 72 \t Note Off \t 0\n",
      "########################################\n",
      "\n",
      "4629/45852 melodies retained\n"
     ]
    }
   ],
   "source": [
    "def display(midi_file=\"chorpus/sessiontune0.mid\"):\n",
    "    #index 0 for first track only\n",
    "    events = midi.read_midifile(midi_file)[0] \n",
    "    tick = 0\n",
    "    print(midi_file)\n",
    "    print(\"#\"*40)\n",
    "    print(\"tick \\t pitch \\t message \\t velocity\")\n",
    "    print(\"#\"*40+'\\n')\n",
    "    for n, event in enumerate(events):\n",
    "        tick += event.tick\n",
    "        if event.name in ['Note On', 'Note Off']:\n",
    "            if n<13 or n>len(events)-10:\n",
    "                print(\"%i \\t %i \\t %s \\t %i\"%(tick, event.data[0], event.name, event.data[1]))\n",
    "            if n in range(20,23):\n",
    "                print(\". \\t . \\t . \\t \\t .\")\n",
    "    print(\"#\"*40+'\\n')\n",
    "\n",
    "display()\n",
    "\n",
    "datapath = \"chorpus/\"\n",
    "dataset = {}\n",
    "np.random.seed(seed)\n",
    "\n",
    "for filename in os.listdir(datapath):\n",
    "    if filename.endswith(\"mid\"):\n",
    "        label = filename[:-4]\n",
    "        #Down sample dataset\n",
    "        if np.random.rand() < 0.1:\n",
    "            dataset[label] = {\"T\":[], \"P\": []}\n",
    "print(\"%i/%i melodies retained\"%(len(list(dataset.keys())), len(os.listdir(datapath))))"
   ]
  },
  {
   "cell_type": "markdown",
   "metadata": {},
   "source": [
    "### Solution"
   ]
  },
  {
   "cell_type": "code",
   "execution_count": 5,
   "metadata": {},
   "outputs": [],
   "source": [
    "def parseMIDI(midi_file):\n",
    "    events = midi.read_midifile(midi_file)[0] #index 0 for first track only  \n",
    "    T = []\n",
    "    P = []\n",
    "    for n, event in enumerate(events):\n",
    "        if event.name == 'Note On':\n",
    "            P.append(event.data[0])\n",
    "        elif event.name == 'Note Off':\n",
    "            T.append(event.tick + 1)\n",
    "    return P, T"
   ]
  },
  {
   "cell_type": "code",
   "execution_count": 6,
   "metadata": {},
   "outputs": [],
   "source": [
    "for label in list(dataset.keys()):\n",
    "    Pseq, Tseq = parseMIDI(datapath+label+\".mid\")\n",
    "    dataset[label]['T']= Tseq\n",
    "    dataset[label]['P']= Pseq"
   ]
  },
  {
   "cell_type": "code",
   "execution_count": 7,
   "metadata": {},
   "outputs": [
    {
     "name": "stdout",
     "output_type": "stream",
     "text": [
      "sessiontune37150\n",
      "MIDI events\n",
      "chorpus/sessiontune37150.mid\n",
      "########################################\n",
      "tick \t pitch \t message \t velocity\n",
      "########################################\n",
      "\n",
      "1 \t 68 \t Note On \t 105\n",
      "480 \t 68 \t Note Off \t 0\n",
      "481 \t 66 \t Note On \t 80\n",
      "720 \t 66 \t Note Off \t 0\n",
      "721 \t 65 \t Note On \t 105\n",
      "960 \t 65 \t Note Off \t 0\n",
      "961 \t 68 \t Note On \t 80\n",
      "1120 \t 68 \t Note Off \t 0\n",
      "1121 \t 72 \t Note On \t 80\n",
      ". \t . \t . \t \t .\n",
      ". \t . \t . \t \t .\n",
      ". \t . \t . \t \t .\n",
      "45841 \t 66 \t Note On \t 80\n",
      "46080 \t 66 \t Note Off \t 0\n",
      "46081 \t 65 \t Note On \t 95\n",
      "46320 \t 65 \t Note Off \t 0\n",
      "46321 \t 63 \t Note On \t 80\n",
      "46560 \t 63 \t Note Off \t 0\n",
      "46561 \t 61 \t Note On \t 80\n",
      "46800 \t 61 \t Note Off \t 0\n",
      "########################################\n",
      "\n",
      "Note representation\n",
      "{'T': [480, 240, 240, 160, 160, 160, 240, 240, 240, 240, 240, 240, 240, 240, 240, 240, 240, 240, 720, 240, 240, 240, 720, 240, 160, 160, 160, 240, 240, 240, 240, 240, 240, 240, 240, 240, 240, 240, 240, 240, 240, 240, 240, 240, 240, 480, 240, 240, 160, 160, 160, 240, 240, 240, 240, 240, 240, 240, 240, 240, 240, 240, 240, 720, 240, 240, 240, 720, 240, 160, 160, 160, 240, 240, 240, 240, 240, 240, 240, 240, 240, 240, 240, 240, 240, 240, 240, 240, 240, 240, 480, 240, 240, 240, 240, 240, 240, 240, 240, 160, 160, 160, 240, 240, 240, 240, 240, 240, 240, 240, 240, 240, 240, 240, 240, 240, 240, 240, 240, 240, 240, 240, 240, 240, 240, 240, 240, 240, 240, 240, 240, 240, 240, 240, 240, 240, 240, 240, 480, 240, 240, 240, 240, 240, 240, 240, 240, 160, 160, 160, 240, 240, 240, 240, 240, 240, 240, 240, 240, 240, 240, 240, 240, 240, 240, 240, 240, 240, 240, 240, 240, 240, 240, 240, 240, 240, 240, 240, 240, 240, 240, 240, 240, 240, 240, 240, 240, 240, 240], 'P': [68, 66, 65, 68, 72, 68, 68, 70, 72, 73, 72, 70, 68, 66, 65, 66, 70, 66, 63, 65, 68, 65, 61, 65, 68, 72, 68, 68, 70, 72, 73, 72, 70, 68, 66, 65, 70, 72, 73, 75, 77, 78, 77, 73, 73, 73, 68, 65, 68, 72, 68, 68, 70, 72, 73, 72, 70, 68, 66, 65, 66, 70, 66, 63, 65, 68, 65, 61, 65, 68, 72, 68, 68, 70, 72, 73, 72, 70, 68, 66, 65, 70, 72, 73, 75, 77, 78, 77, 73, 73, 73, 78, 77, 73, 73, 77, 73, 73, 72, 68, 72, 68, 75, 77, 78, 77, 73, 73, 73, 75, 77, 78, 77, 78, 75, 77, 78, 77, 80, 77, 78, 82, 78, 77, 80, 77, 75, 72, 68, 70, 72, 73, 75, 77, 78, 77, 73, 73, 73, 75, 77, 73, 73, 77, 73, 73, 72, 68, 72, 68, 75, 77, 78, 77, 73, 73, 73, 75, 77, 78, 77, 78, 75, 77, 78, 77, 80, 77, 78, 82, 78, 77, 80, 77, 75, 72, 68, 70, 72, 73, 75, 72, 68, 73, 68, 66, 65, 63, 61]}\n",
      "/n\n",
      "sessiontune27655\n",
      "MIDI events\n",
      "chorpus/sessiontune27655.mid\n",
      "########################################\n",
      "tick \t pitch \t message \t velocity\n",
      "########################################\n",
      "\n",
      "1 \t 61 \t Note On \t 105\n",
      "240 \t 61 \t Note Off \t 0\n",
      "241 \t 63 \t Note On \t 80\n",
      "480 \t 63 \t Note Off \t 0\n",
      "481 \t 65 \t Note On \t 80\n",
      "720 \t 65 \t Note Off \t 0\n",
      "721 \t 56 \t Note On \t 95\n",
      "1200 \t 56 \t Note Off \t 0\n",
      "1201 \t 58 \t Note On \t 80\n",
      ". \t . \t . \t \t .\n",
      ". \t . \t . \t \t .\n",
      ". \t . \t . \t \t .\n",
      "44161 \t 65 \t Note On \t 80\n",
      "44400 \t 65 \t Note Off \t 0\n",
      "44401 \t 63 \t Note On \t 80\n",
      "44640 \t 63 \t Note Off \t 0\n",
      "44641 \t 61 \t Note On \t 95\n",
      "45360 \t 61 \t Note Off \t 0\n",
      "45361 \t 61 \t Note On \t 95\n",
      "46080 \t 61 \t Note Off \t 0\n",
      "########################################\n",
      "\n",
      "Note representation\n",
      "{'T': [240, 240, 240, 480, 240, 480, 240, 480, 240, 480, 240, 480, 240, 480, 240, 720, 240, 240, 240, 480, 240, 480, 240, 480, 240, 480, 240, 240, 240, 240, 720, 720, 240, 240, 240, 480, 240, 480, 240, 480, 240, 480, 240, 480, 240, 480, 240, 720, 240, 240, 240, 480, 240, 480, 240, 480, 240, 480, 240, 240, 240, 240, 720, 720, 720, 720, 480, 240, 720, 240, 240, 240, 240, 240, 240, 480, 240, 720, 720, 720, 480, 240, 720, 240, 240, 240, 240, 240, 240, 720, 480, 240, 720, 720, 480, 240, 480, 240, 480, 240, 480, 240, 480, 240, 720, 240, 240, 240, 480, 240, 480, 240, 480, 240, 480, 240, 240, 240, 240, 720, 720], 'P': [61, 63, 65, 56, 58, 61, 63, 65, 61, 63, 61, 65, 61, 63, 61, 58, 61, 63, 65, 56, 58, 61, 63, 65, 61, 68, 65, 63, 65, 63, 61, 61, 61, 63, 65, 56, 58, 61, 63, 65, 61, 63, 61, 65, 61, 63, 61, 58, 61, 63, 65, 56, 58, 61, 63, 65, 61, 68, 65, 63, 65, 63, 61, 61, 73, 73, 70, 68, 70, 73, 70, 68, 65, 63, 61, 63, 61, 58, 73, 73, 70, 68, 70, 70, 73, 75, 73, 70, 68, 70, 70, 72, 73, 73, 70, 68, 65, 61, 63, 61, 65, 61, 63, 61, 58, 61, 63, 65, 56, 58, 61, 63, 65, 61, 68, 65, 63, 65, 63, 61, 61]}\n",
      "/n\n"
     ]
    }
   ],
   "source": [
    "for label in np.random.choice(list(dataset.keys()), 2):\n",
    "    print(label)\n",
    "    print(\"MIDI events\")\n",
    "    display(datapath+label+\".mid\")\n",
    "    print(\"Note representation\")\n",
    "    print(dataset[label])\n",
    "    print('/n')"
   ]
  },
  {
   "cell_type": "markdown",
   "metadata": {},
   "source": [
    "## Exercise 2: Tokenzation and translation to integer\n",
    "### Description\n",
    "\n",
    "Now you should have a \"dataset\" dictionary where each entry corresponds to one melody example from a subset of the full dataset. In turn, every melody example is represented by a dictionary with two sequences: the \"P\" entry being the sequence of pitches and the \"T\" entry, the sequence of durations. Here, you will implement the first steps to translate this dataset in a language that can be read by your ANN models. To achieve that, we will later use the [one-hot encoding scheme](https://machinelearningmastery.com/why-one-hot-encode-data-in-machine-learning/), which will associate each input (and output) unit of your network to a unique pitch or duration. In your network, these units will then be sequentially activated in the same order as their corresponding pitch/duration in your dataset. And at each note, the model will be trained to approximate the probability distributions of the upcoming pitch and duration.\n",
    "\n",
    "1. Gather in a list of all possible pitches and durations in your dataset. These two lists will be your \"dictionaries\" translating a pitch/duration to a unique integer between 0 and the number of entries (-1) in the pitch/duration dictionary.\n",
    "2. Translate the pitch/duration sequence of each melody to the integer representation.\n",
    "3. Select randomly two melodies and display them in the note representation and translated to integer. Check that the translation is correct."
   ]
  },
  {
   "cell_type": "markdown",
   "metadata": {},
   "source": [
    "### Solution"
   ]
  },
  {
   "cell_type": "code",
   "execution_count": 8,
   "metadata": {},
   "outputs": [],
   "source": [
    "reduce_union = lambda x, y: x.union(y)\n",
    "\n",
    "def index(a, x):\n",
    "    'Locate the leftmost value exactly equal to x'\n",
    "    i = bisect_left(a, x)\n",
    "    if i != len(a) and a[i] == x:\n",
    "        return i\n",
    "    raise ValueError"
   ]
  },
  {
   "cell_type": "code",
   "execution_count": 9,
   "metadata": {},
   "outputs": [],
   "source": [
    "def translation(dataset):\n",
    "    durations = sorted(reduce(reduce_union, [set(dataset[x]['T']) for x in dataset]))\n",
    "    pitches = sorted(reduce(reduce_union, [set(dataset[x]['P']) for x in dataset]))\n",
    "\n",
    "    dur2Id = lambda x: index(durations, x)\n",
    "    pit2Id = lambda x: index(pitches, x)\n",
    "    dictionary = {'T': durations, 'P': pitches}\n",
    "\n",
    "    for label in list(dataset.keys()):\n",
    "        dataset[label]['T'] = list(map(dur2Id, dataset[label]['T']))\n",
    "        dataset[label]['P'] = list(map(pit2Id, dataset[label]['P']))\n",
    "    \n",
    "    return dataset, dictionary\n",
    "        \n",
    "dataset, dictionary = translation(dataset)"
   ]
  },
  {
   "cell_type": "code",
   "execution_count": 10,
   "metadata": {},
   "outputs": [
    {
     "name": "stdout",
     "output_type": "stream",
     "text": [
      "sessiontune13420\n",
      "MIDI events\n",
      "chorpus/sessiontune13420.mid\n",
      "########################################\n",
      "tick \t pitch \t message \t velocity\n",
      "########################################\n",
      "\n",
      "481 \t 71 \t Note On \t 80\n",
      "960 \t 71 \t Note Off \t 0\n",
      "961 \t 74 \t Note On \t 95\n",
      "1440 \t 74 \t Note Off \t 0\n",
      "1441 \t 74 \t Note On \t 80\n",
      "1920 \t 74 \t Note Off \t 0\n",
      "1921 \t 72 \t Note On \t 105\n",
      "2400 \t 72 \t Note Off \t 0\n",
      "2401 \t 76 \t Note On \t 80\n",
      ". \t . \t . \t \t .\n",
      ". \t . \t . \t \t .\n",
      ". \t . \t . \t \t .\n",
      "37681 \t 72 \t Note On \t 80\n",
      "37920 \t 72 \t Note Off \t 0\n",
      "37921 \t 69 \t Note On \t 80\n",
      "38160 \t 69 \t Note Off \t 0\n",
      "38161 \t 71 \t Note On \t 80\n",
      "38400 \t 71 \t Note Off \t 0\n",
      "38401 \t 67 \t Note On \t 105\n",
      "40320 \t 67 \t Note Off \t 0\n",
      "########################################\n",
      "\n",
      "Note representation\n",
      "{'T': [33, 33, 33, 33, 33, 33, 33, 33, 39, 23, 23, 23, 23, 23, 51, 33, 33, 33, 33, 33, 33, 33, 33, 39, 23, 23, 23, 23, 23, 39, 23, 23, 23, 57, 23, 33, 39, 23, 23, 23, 23, 23, 23, 23, 23, 23, 44, 39, 23, 23, 23, 23, 23, 23, 23, 23, 23, 23, 23, 23, 23, 23, 23, 23, 23, 57, 23, 33, 39, 23, 23, 23, 23, 23, 23, 23, 23, 23, 44, 39, 23, 23, 23, 23, 23, 23, 23, 23, 23, 23, 23, 23, 23, 23, 23, 23, 23, 55], 'P': [23, 26, 26, 24, 28, 28, 29, 31, 26, 24, 23, 21, 23, 24, 26, 23, 26, 26, 24, 28, 28, 29, 31, 26, 24, 23, 21, 23, 24, 26, 23, 26, 23, 19, 23, 21, 21, 23, 26, 24, 24, 23, 23, 21, 18, 19, 21, 21, 23, 26, 24, 24, 23, 23, 21, 18, 19, 21, 23, 24, 23, 26, 24, 21, 23, 19, 23, 21, 21, 23, 26, 24, 24, 23, 23, 21, 18, 19, 21, 21, 23, 26, 24, 24, 23, 23, 21, 18, 19, 21, 23, 24, 23, 26, 24, 21, 23, 19]}\n",
      "/n\n",
      "sessiontune31348\n",
      "MIDI events\n",
      "chorpus/sessiontune31348.mid\n",
      "########################################\n",
      "tick \t pitch \t message \t velocity\n",
      "########################################\n",
      "\n",
      "1 \t 65 \t Note On \t 105\n",
      "240 \t 65 \t Note Off \t 0\n",
      "241 \t 61 \t Note On \t 80\n",
      "480 \t 61 \t Note Off \t 0\n",
      "481 \t 68 \t Note On \t 80\n",
      "720 \t 68 \t Note Off \t 0\n",
      "721 \t 65 \t Note On \t 80\n",
      "960 \t 65 \t Note Off \t 0\n",
      "961 \t 66 \t Note On \t 95\n",
      ". \t . \t . \t \t .\n",
      ". \t . \t . \t \t .\n",
      ". \t . \t . \t \t .\n",
      "60001 \t 68 \t Note On \t 80\n",
      "60240 \t 68 \t Note Off \t 0\n",
      "60241 \t 65 \t Note On \t 80\n",
      "60480 \t 65 \t Note Off \t 0\n",
      "60481 \t 66 \t Note On \t 95\n",
      "60960 \t 66 \t Note Off \t 0\n",
      "60961 \t 66 \t Note On \t 80\n",
      "61440 \t 66 \t Note Off \t 0\n",
      "########################################\n",
      "\n",
      "Note representation\n",
      "{'T': [23, 23, 23, 23, 23, 23, 23, 23, 23, 23, 23, 23, 39, 23, 23, 23, 23, 23, 23, 23, 23, 23, 23, 23, 23, 23, 39, 23, 23, 23, 23, 23, 23, 23, 23, 23, 23, 23, 23, 23, 39, 23, 23, 23, 23, 23, 23, 23, 23, 23, 23, 23, 23, 23, 39, 23, 23, 23, 23, 23, 23, 23, 23, 23, 23, 23, 23, 23, 39, 23, 23, 23, 23, 23, 23, 23, 23, 23, 23, 23, 23, 23, 39, 23, 23, 23, 23, 23, 23, 23, 23, 23, 23, 23, 23, 23, 39, 23, 23, 23, 23, 23, 23, 23, 23, 23, 23, 23, 23, 23, 39, 23, 39, 23, 23, 23, 23, 23, 39, 23, 23, 23, 23, 23, 39, 23, 23, 23, 23, 23, 23, 23, 23, 23, 33, 33, 39, 23, 23, 23, 23, 23, 39, 23, 23, 23, 33, 39, 23, 39, 23, 23, 23, 23, 23, 33, 33, 39, 23, 23, 23, 23, 23, 39, 23, 23, 23, 23, 23, 39, 23, 23, 23, 23, 23, 23, 23, 23, 23, 33, 33, 39, 23, 23, 23, 23, 23, 39, 23, 23, 23, 33, 39, 23, 39, 23, 23, 23, 23, 23, 33, 33], 'P': [17, 13, 20, 17, 18, 17, 15, 13, 17, 13, 20, 17, 18, 20, 17, 13, 20, 17, 18, 17, 15, 24, 25, 22, 24, 20, 18, 20, 17, 13, 20, 17, 18, 17, 15, 13, 17, 13, 20, 17, 18, 20, 17, 13, 20, 17, 18, 17, 15, 24, 25, 22, 24, 20, 18, 20, 17, 13, 20, 17, 18, 17, 15, 13, 17, 13, 20, 17, 18, 20, 17, 13, 20, 17, 18, 17, 15, 24, 25, 22, 24, 20, 18, 20, 17, 13, 20, 17, 18, 17, 15, 13, 17, 13, 20, 17, 18, 20, 17, 13, 20, 17, 18, 17, 15, 24, 25, 22, 24, 20, 18, 20, 20, 22, 24, 20, 18, 15, 20, 22, 24, 25, 27, 24, 20, 22, 24, 20, 18, 15, 25, 22, 24, 20, 18, 18, 20, 22, 24, 20, 18, 15, 20, 22, 24, 25, 27, 29, 25, 27, 24, 25, 24, 20, 17, 18, 18, 20, 22, 24, 20, 18, 15, 20, 22, 24, 25, 27, 24, 20, 22, 24, 20, 18, 15, 25, 22, 24, 20, 18, 18, 20, 22, 24, 20, 18, 15, 20, 22, 24, 25, 27, 29, 25, 27, 24, 25, 24, 20, 17, 18, 18]}\n",
      "/n\n"
     ]
    }
   ],
   "source": [
    "for label in np.random.choice(list(dataset.keys()), 2):\n",
    "    print(label)\n",
    "    print(\"MIDI events\")\n",
    "    display(datapath+label+\".mid\")\n",
    "    print(\"Note representation\")\n",
    "    print(dataset[label])\n",
    "    print('/n')"
   ]
  },
  {
   "cell_type": "markdown",
   "metadata": {},
   "source": [
    "## Exercise 3: Data reprocessing\n",
    "### Description\n",
    "\n",
    "Before moving to the implementation of your RNN generative model of note transition, you will perform data exploration and modification. This step will allow your model to get the most out of your original data as well as ensuring some features such as transposition invariance. \n",
    "\n",
    "To further improve your model, you might want to reconsider your original data. Many different approaches can be undertaken. Here you are asked to implement the a rare event suppression method and transposition invariance.\n",
    "\n",
    "**Rare event suppression** If a unit in your network is associated to a duration that happens very rarely in your data, a possible simplification consists in removing the melodies conaining these rare events from your dataset. \n",
    "1. Plot and comment the histogram of durations in your entire dataset. Use the labels from the original duration values (rather than the integer representation). \n",
    "2. Based on your observations, remove from your dataset melodies containing very rare durations. Adjust the rejection threshold such that at most 5% of the melodies are dicarded with this step. \n",
    "3. Recompute the duration dictionary based on your filtered dataset and plot the new histogram of durations. \n",
    "\n",
    "**Transposition invariance** A melody is perceived similarly by the human ear if it's shifted up or down by a constant offset (see [transposition](https://en.wikipedia.org/wiki/Transposition_(music))). Here, you will force your model to be transposition invariant. For this you can choose to use one of two orthogonal methods. The first consists in transposing every melody into a common tonality (C Major/A minor). On the other hand, the second consists in transposing each melody in all possible keys. The second method will increase your dataset size by a factor bigger than 11! As the training time is directly related with the dataset size, to save computing time, we recomand that you implement the first option.\n",
    "\n",
    "***Pitch normalization*** \n",
    "1. Use the provided function to create a new dataset where all melodies are transposed to C Major/A minor. \n",
    "2. Plot the histograms of the pitches before and after transposition.\n",
    "\n",
    "Finally, you shoud recompute the tokenization step for your brand new filtered and normalized dataset."
   ]
  },
  {
   "cell_type": "code",
   "execution_count": 11,
   "metadata": {},
   "outputs": [
    {
     "data": {
      "image/png": "[encoded data removed]",
      "text/plain": [
       "<Figure size 432x288 with 1 Axes>"
      ]
     },
     "metadata": {
      "image/png": {
       "height": 250,
       "width": 375
      }
     },
     "output_type": "display_data"
    }
   ],
   "source": [
    "merged_durations = reduce(lambda x, y: x + y, [dataset[x]['T'] for x in dataset])\n",
    "\n",
    "plt.hist(merged_durations, bins=40, log=True)\n",
    "plt.show()"
   ]
  },
  {
   "cell_type": "code",
   "execution_count": 12,
   "metadata": {},
   "outputs": [
    {
     "name": "stdout",
     "output_type": "stream",
     "text": [
      "Deleted 2.570749621948585% of elements\n"
     ]
    }
   ],
   "source": [
    "counts = Counter(x for x in merged_durations)\n",
    "counts = Counter(dict(filter(lambda x: x[1] < 50, counts.items())))\n",
    "\n",
    "cleaned_ds = {k: v for k, v in dataset.items() if len([i for i in counts.keys() if i in v['T']]) == 0}\n",
    "print(\"Deleted {}% of elements\".format((len(dataset) - len(cleaned_ds))/len(dataset) * 100))"
   ]
  },
  {
   "cell_type": "code",
   "execution_count": 13,
   "metadata": {},
   "outputs": [
    {
     "data": {
      "image/png": "[encoded data removed]",
      "text/plain": [
       "<Figure size 432x288 with 1 Axes>"
      ]
     },
     "metadata": {
      "image/png": {
       "height": 250,
       "width": 375
      }
     },
     "output_type": "display_data"
    }
   ],
   "source": [
    "plt.hist(reduce(lambda x, y: x + y, [cleaned_ds[x]['T'] for x in cleaned_ds]), bins=40, log=True)\n",
    "plt.show()"
   ]
  },
  {
   "cell_type": "code",
   "execution_count": 14,
   "metadata": {},
   "outputs": [
    {
     "name": "stdout",
     "output_type": "stream",
     "text": [
      "sessiontune42175\n",
      "MIDI events\n",
      "chorpus/sessiontune42175.mid\n",
      "########################################\n",
      "tick \t pitch \t message \t velocity\n",
      "########################################\n",
      "\n",
      "1 \t 68 \t Note On \t 105\n",
      "120 \t 68 \t Note Off \t 0\n",
      "121 \t 66 \t Note On \t 80\n",
      "240 \t 66 \t Note Off \t 0\n",
      "241 \t 65 \t Note On \t 105\n",
      "480 \t 65 \t Note Off \t 0\n",
      "481 \t 66 \t Note On \t 80\n",
      "720 \t 66 \t Note Off \t 0\n",
      "721 \t 68 \t Note On \t 80\n",
      ". \t . \t . \t \t .\n",
      ". \t . \t . \t \t .\n",
      ". \t . \t . \t \t .\n",
      "44161 \t 70 \t Note On \t 95\n",
      "44640 \t 70 \t Note Off \t 0\n",
      "44641 \t 72 \t Note On \t 80\n",
      "44880 \t 72 \t Note Off \t 0\n",
      "44881 \t 73 \t Note On \t 105\n",
      "45600 \t 73 \t Note Off \t 0\n",
      "45601 \t 61 \t Note On \t 95\n",
      "46080 \t 61 \t Note Off \t 0\n",
      "########################################\n",
      "\n",
      "Note representation\n",
      "{'T': [11, 11, 23, 23, 23, 33, 23, 23, 23, 23, 33, 23, 23, 23, 23, 33, 23, 48, 11, 11, 23, 23, 23, 23, 23, 23, 23, 23, 23, 33, 23, 23, 23, 23, 23, 23, 23, 39, 33, 11, 11, 23, 23, 23, 33, 23, 23, 23, 23, 33, 23, 23, 23, 23, 33, 23, 48, 11, 11, 23, 23, 23, 23, 23, 23, 23, 23, 23, 33, 23, 23, 23, 23, 23, 23, 23, 39, 33, 11, 11, 23, 23, 23, 33, 23, 23, 23, 23, 33, 23, 23, 23, 23, 33, 23, 39, 33, 23, 23, 23, 23, 33, 23, 23, 23, 23, 33, 23, 23, 23, 23, 33, 23, 39, 33, 11, 11, 23, 23, 23, 33, 23, 23, 23, 23, 33, 23, 23, 23, 23, 33, 23, 39, 33, 23, 23, 23, 23, 33, 23, 23, 23, 23, 33, 23, 23, 23, 23, 33, 23, 39, 33], 'P': [20, 18, 17, 18, 20, 13, 25, 24, 25, 27, 20, 18, 17, 18, 20, 13, 17, 15, 20, 18, 17, 18, 20, 13, 24, 25, 24, 25, 27, 20, 18, 17, 18, 20, 20, 22, 24, 25, 13, 20, 18, 17, 18, 20, 13, 25, 24, 25, 27, 20, 18, 17, 18, 20, 13, 17, 15, 20, 18, 17, 18, 20, 13, 24, 25, 24, 25, 27, 20, 18, 17, 18, 20, 20, 22, 24, 25, 13, 25, 27, 29, 27, 25, 27, 25, 24, 25, 22, 20, 27, 29, 27, 25, 24, 25, 27, 32, 30, 29, 27, 25, 27, 25, 24, 25, 22, 20, 22, 20, 22, 20, 22, 24, 25, 13, 25, 27, 29, 27, 25, 27, 25, 24, 25, 22, 20, 27, 29, 27, 25, 24, 25, 27, 32, 30, 29, 27, 25, 27, 25, 24, 25, 22, 20, 22, 20, 22, 20, 22, 24, 25, 13]}\n",
      "/n\n",
      "sessiontune27456\n",
      "MIDI events\n",
      "chorpus/sessiontune27456.mid\n",
      "########################################\n",
      "tick \t pitch \t message \t velocity\n",
      "########################################\n",
      "\n",
      "1 \t 68 \t Note On \t 105\n",
      "240 \t 68 \t Note Off \t 0\n",
      "241 \t 66 \t Note On \t 80\n",
      "480 \t 66 \t Note Off \t 0\n",
      "481 \t 65 \t Note On \t 105\n",
      "960 \t 65 \t Note Off \t 0\n",
      "961 \t 65 \t Note On \t 80\n",
      "1200 \t 65 \t Note Off \t 0\n",
      "1201 \t 63 \t Note On \t 80\n",
      ". \t . \t . \t \t .\n",
      ". \t . \t . \t \t .\n",
      ". \t . \t . \t \t .\n",
      "90481 \t 66 \t Note On \t 80\n",
      "90720 \t 66 \t Note Off \t 0\n",
      "90721 \t 65 \t Note On \t 105\n",
      "91200 \t 65 \t Note Off \t 0\n",
      "91201 \t 61 \t Note On \t 80\n",
      "91680 \t 61 \t Note Off \t 0\n",
      "91681 \t 61 \t Note On \t 95\n",
      "92160 \t 61 \t Note Off \t 0\n",
      "########################################\n",
      "\n",
      "Note representation\n",
      "{'T': [23, 23, 33, 23, 23, 23, 23, 23, 23, 23, 23, 23, 23, 23, 23, 23, 23, 33, 23, 23, 14, 14, 14, 23, 23, 33, 33, 33, 23, 23, 33, 23, 23, 23, 23, 23, 23, 23, 23, 23, 23, 23, 23, 23, 23, 33, 23, 23, 14, 14, 14, 23, 23, 33, 33, 33, 23, 23, 33, 23, 23, 23, 23, 23, 23, 23, 23, 23, 23, 23, 23, 23, 23, 33, 23, 23, 14, 14, 14, 23, 23, 33, 33, 33, 23, 23, 33, 23, 23, 23, 23, 23, 23, 23, 23, 23, 23, 23, 23, 23, 23, 33, 23, 23, 14, 14, 14, 23, 23, 33, 33, 33, 23, 23, 23, 23, 23, 23, 23, 23, 23, 23, 23, 23, 23, 23, 33, 23, 23, 23, 23, 23, 23, 23, 23, 23, 23, 23, 23, 23, 23, 33, 23, 23, 33, 23, 23, 23, 23, 33, 23, 23, 23, 23, 23, 23, 23, 23, 33, 23, 23, 14, 14, 14, 23, 23, 33, 33, 33, 23, 23, 23, 23, 23, 23, 23, 23, 23, 23, 23, 23, 23, 23, 33, 23, 23, 23, 23, 23, 23, 23, 23, 23, 23, 23, 23, 23, 23, 33, 23, 23, 33, 23, 23, 23, 23, 33, 23, 23, 23, 23, 23, 23, 23, 23, 33, 23, 23, 14, 14, 14, 23, 23, 33, 33, 33, 23, 23, 23, 23, 23, 23, 23, 23, 23, 23, 23, 23, 23, 23, 39, 23, 23, 23, 23, 23, 23, 23, 23, 23, 23, 23, 23, 23, 23, 23, 23, 23, 33, 23, 23, 23, 23, 23, 23, 23, 23, 23, 23, 23, 23, 23, 23, 33, 23, 23, 23, 23, 23, 23, 33, 33, 33, 23, 23, 23, 23, 23, 23, 23, 23, 23, 23, 23, 23, 23, 23, 39, 23, 23, 23, 23, 23, 23, 23, 23, 23, 23, 23, 23, 23, 23, 23, 23, 23, 33, 23, 23, 23, 23, 23, 23, 23, 23, 23, 23, 23, 23, 23, 23, 33, 23, 23, 23, 23, 23, 23, 33, 33, 33], 'P': [20, 18, 17, 17, 15, 13, 17, 20, 25, 24, 20, 18, 17, 18, 22, 20, 18, 17, 17, 13, 10, 12, 13, 15, 17, 18, 15, 15, 20, 18, 17, 17, 15, 13, 17, 20, 25, 24, 20, 18, 17, 18, 22, 20, 18, 17, 17, 13, 10, 12, 13, 15, 18, 17, 13, 13, 20, 18, 17, 17, 15, 13, 17, 20, 25, 24, 20, 18, 17, 18, 22, 20, 18, 17, 17, 13, 10, 12, 13, 15, 17, 18, 15, 15, 20, 18, 17, 17, 15, 13, 17, 20, 25, 24, 20, 18, 17, 18, 22, 20, 18, 17, 17, 13, 10, 12, 13, 15, 18, 17, 13, 13, 17, 18, 20, 17, 13, 17, 20, 17, 13, 17, 20, 17, 18, 15, 13, 15, 17, 18, 15, 12, 15, 18, 15, 12, 15, 18, 17, 15, 13, 13, 17, 15, 13, 17, 18, 20, 25, 25, 24, 20, 18, 17, 18, 22, 20, 18, 17, 17, 13, 10, 12, 13, 15, 18, 17, 13, 13, 17, 18, 20, 17, 13, 17, 20, 17, 13, 17, 20, 17, 18, 15, 13, 15, 17, 18, 15, 12, 15, 18, 15, 12, 15, 18, 17, 15, 13, 13, 17, 15, 13, 17, 18, 20, 25, 25, 24, 20, 18, 17, 18, 22, 20, 18, 17, 17, 13, 10, 12, 13, 15, 18, 17, 13, 13, 17, 18, 20, 25, 25, 24, 25, 27, 29, 25, 27, 24, 20, 19, 20, 22, 23, 22, 20, 22, 24, 25, 27, 24, 25, 24, 20, 17, 18, 22, 20, 18, 17, 17, 15, 13, 17, 20, 25, 29, 25, 20, 17, 18, 22, 20, 18, 17, 8, 10, 12, 13, 15, 18, 17, 13, 13, 17, 18, 20, 25, 25, 24, 25, 27, 29, 25, 27, 24, 20, 19, 20, 22, 23, 22, 20, 22, 24, 25, 27, 24, 25, 24, 20, 17, 18, 22, 20, 18, 17, 17, 15, 13, 17, 20, 25, 29, 25, 20, 17, 18, 22, 20, 18, 17, 8, 10, 12, 13, 15, 18, 17, 13, 13]}\n",
      "/n\n"
     ]
    }
   ],
   "source": [
    "for label in np.random.choice(list(cleaned_ds.keys()), 2):\n",
    "    print(label)\n",
    "    print(\"MIDI events\")\n",
    "    display(datapath+label+\".mid\")\n",
    "    print(\"Note representation\")\n",
    "    print(dataset[label])\n",
    "    print('/n')"
   ]
  },
  {
   "cell_type": "code",
   "execution_count": 15,
   "metadata": {
    "scrolled": true
   },
   "outputs": [],
   "source": [
    "def transposeDataset(dataset):\n",
    "    transposed_dataset = {}\n",
    "\n",
    "    for label in list(dataset.keys()):\n",
    "        transposed_dataset[label] = {}\n",
    "        score = music21.converter.parse(datapath+label+\".mid\")\n",
    "        key = score.analyze('key')\n",
    "        if key.mode == \"major\":\n",
    "            i = music21.interval.Interval(key.tonic, music21.pitch.Pitch('C'))\n",
    "        elif key.mode == \"minor\":\n",
    "            i = music21.interval.Interval(key.tonic, music21.pitch.Pitch('A'))\n",
    "        i = i.semitones\n",
    "        transposed_dataset[label]['P'] = [p+i for p in dataset[label]['P']]\n",
    "        transposed_dataset[label]['T'] = dataset[label]['T']\n",
    "        \n",
    "    return transposed_dataset"
   ]
  },
  {
   "cell_type": "code",
   "execution_count": 16,
   "metadata": {},
   "outputs": [],
   "source": [
    "transposed_dataset = transposeDataset(cleaned_ds)"
   ]
  },
  {
   "cell_type": "code",
   "execution_count": 17,
   "metadata": {},
   "outputs": [],
   "source": [
    "pitches = reduce(lambda x, y: x + y, [cleaned_ds[x]['P'] for x in cleaned_ds])\n",
    "transposed_pitches = reduce(lambda x, y: x + y, [transposed_dataset[x]['P'] for x in transposed_dataset])"
   ]
  },
  {
   "cell_type": "code",
   "execution_count": 18,
   "metadata": {},
   "outputs": [
    {
     "data": {
      "image/png": "[encoded data removed]",
      "text/plain": [
       "<Figure size 432x288 with 1 Axes>"
      ]
     },
     "metadata": {
      "image/png": {
       "height": 250,
       "width": 390
      }
     },
     "output_type": "display_data"
    },
    {
     "data": {
      "image/png": "[encoded data removed]",
      "text/plain": [
       "<Figure size 432x288 with 1 Axes>"
      ]
     },
     "metadata": {
      "image/png": {
       "height": 250,
       "width": 397
      }
     },
     "output_type": "display_data"
    }
   ],
   "source": [
    "plt.hist(pitches, bins=50)\n",
    "plt.show()\n",
    "\n",
    "plt.hist(transposed_pitches, bins=50)\n",
    "plt.show()"
   ]
  },
  {
   "cell_type": "code",
   "execution_count": 19,
   "metadata": {},
   "outputs": [],
   "source": [
    "translated, dictionary = translation(transposed_dataset)"
   ]
  },
  {
   "cell_type": "markdown",
   "metadata": {},
   "source": [
    "**Question**: How much did you reduce the space of possible durations with your rare event suppression procedure? What is the impact in term of training time?\n",
    "    \n",
    "**Answer**: \n",
    "\n",
    "**Question**: Explain why and how both transposition to a single tonality and to all possible tonalities can yield transposition invariance in your model. \n",
    "\n",
    "**Answer**:\n",
    "\n",
    "**Question**: In terms of number of dimensions, what would have been the impact of keeping the joint represenation of a note duration and pitch (vs separating the two features)? \n",
    "\n",
    "**Answer**: \n",
    "\n",
    "**Question**: How would the distribution of notes in the joint representation differ from the distributions in the pitch and duration only representations (as shown by your histograms above)?\n",
    "\n",
    "**Answer**: "
   ]
  },
  {
   "cell_type": "markdown",
   "metadata": {},
   "source": [
    "## Exercise 4: One-hot and zero-padding\n",
    "### Description\n",
    "\n",
    "The last few steps to be able to feed (note by note) your music scores to a RNN model are\n",
    "1. Transform the sequence of integers into a sequence of vectors in the one-hot encoding scheme.\n",
    "2. Homegenize the length of each sequence\n",
    "\n",
    "**One-hot encode** You can implement your own integer to one-hot code. For this use the numpy library and the suitable datatype. Alternatively, Keras provides a [built in one-hot encoding scheme](https://keras.io/utils/#to_categorical). After this step, for each melody, you should have two similar length matrices with one representing the sequence of note pitches and the other the sequence of note durations.\n",
    "1. Code the integer representation into matrices of one-hot vectors\n",
    "\n",
    "**Zero-padding** Most deep learning libraries, including Keras, require that you specify the shape of the input data. As such, you cannot have variable length inputs per-se. The trick to handle them is [zero-padding](https://keras.io/preprocessing/sequence/#pad_sequences). Provided with the [Masking Layer](https://keras.io/layers/core/#masking) Keras will then ignore time steps where all inputs are 0.\n",
    "1. Extend the end of each melody matrices with vectors containing only zeros until all melodies have the same size. For simplicity, use the Keras pad_sequences function. There might be some rare very long melodies in your dataset, a possible choice is to set the 'maxlen' argument of pad_sequences to the mean+2std of the melody lengths. This ensure that 95% of your melodies would end before being truncated.\n",
    "2. Check and display the dimension of the resulting tensors. Typically, the tensor representing the sequence of pitches should be of shape [number of melodies x number of notes x number of entries in the pitch dictionary] and the tensor representing the sequence of durations [number of melodies x number of notes x number of entries in the duration dictionary]\n",
    "\n",
    "To check if this step was done correctly use the provided plotMelody function. For two randomly selected melodies, call the plotMelody function before and after one-hot/zero-pad. You should obtain the same plots (or slightly truncated if you randomly selected one belonging to 5% longest).\n",
    "\n",
    "Finally, we strongly suggest that you save your preprocessed data now."
   ]
  },
  {
   "cell_type": "markdown",
   "metadata": {},
   "source": [
    "### Solution"
   ]
  },
  {
   "cell_type": "code",
   "execution_count": 20,
   "metadata": {},
   "outputs": [],
   "source": [
    "one_hot = {}\n",
    "for label in list(translated.keys()):\n",
    "    one_hot[label] = {}\n",
    "    one_hot[label]['P'] = np_utils.to_categorical(translated[label]['P'], len(dictionary['P']))\n",
    "    one_hot[label]['T'] = np_utils.to_categorical(translated[label]['T'], len(dictionary['T']))"
   ]
  },
  {
   "cell_type": "code",
   "execution_count": 21,
   "metadata": {},
   "outputs": [],
   "source": [
    "lengths = np.array([x['P'].shape[0] for k, x in one_hot.items()])\n",
    "ml = int(lengths.mean() + 2 * lengths.std())\n",
    "\n",
    "ps = pad_sequences([x['P'] for k, x in one_hot.items()], maxlen=ml, padding='post', truncating='post')\n",
    "ts = pad_sequences([x['T'] for k, x in one_hot.items()], maxlen=ml, padding='post', truncating='post')\n",
    "\n",
    "dataset = {}\n",
    "for i, label in enumerate(list(one_hot.keys())):\n",
    "    dataset[label] = {}\n",
    "    dataset[label]['P'] = ps[i]\n",
    "    dataset[label]['T'] = ts[i]"
   ]
  },
  {
   "cell_type": "code",
   "execution_count": 22,
   "metadata": {},
   "outputs": [
    {
     "name": "stdout",
     "output_type": "stream",
     "text": [
      "sessiontune3899\n",
      "(394, 24)\n",
      "(394, 52)\n"
     ]
    },
    {
     "data": {
      "image/png": "[encoded data removed]",
      "text/plain": [
       "<Figure size 576x288 with 1 Axes>"
      ]
     },
     "metadata": {
      "image/png": {
       "height": 294,
       "width": 584
      }
     },
     "output_type": "display_data"
    },
    {
     "data": {
      "image/png": "[encoded data removed]",
      "text/plain": [
       "<Figure size 576x288 with 1 Axes>"
      ]
     },
     "metadata": {
      "image/png": {
       "height": 294,
       "width": 584
      }
     },
     "output_type": "display_data"
    },
    {
     "data": {
      "image/png": "[encoded data removed]",
      "text/plain": [
       "<Figure size 576x288 with 1 Axes>"
      ]
     },
     "metadata": {
      "image/png": {
       "height": 294,
       "width": 584
      }
     },
     "output_type": "display_data"
    },
    {
     "data": {
      "image/png": "[encoded data removed]",
      "text/plain": [
       "<Figure size 576x288 with 1 Axes>"
      ]
     },
     "metadata": {
      "image/png": {
       "height": 294,
       "width": 584
      }
     },
     "output_type": "display_data"
    }
   ],
   "source": [
    "for label in np.random.choice(list(dataset.keys()), 1):\n",
    "    print(label)\n",
    "    print(dataset[label]['T'].shape)\n",
    "    print(dataset[label]['P'].shape)\n",
    "    plotMelody(dataset[label]['P'], dataset[label]['T'], dictionary)\n",
    "    plotMelody(translated[label]['P'], translated[label]['T'], dictionary)"
   ]
  },
  {
   "cell_type": "code",
   "execution_count": 23,
   "metadata": {},
   "outputs": [],
   "source": [
    "dataset_path = \"tmp/\""
   ]
  },
  {
   "cell_type": "code",
   "execution_count": 24,
   "metadata": {},
   "outputs": [],
   "source": [
    "# Execute this for saving data to pickle\n",
    "if not os.path.exists(os.path.dirname(dataset_path)):\n",
    "    try:\n",
    "        os.makedirs(os.path.dirname(dataset_path))\n",
    "    except OSError as exc: # Guard against race condition\n",
    "        if exc.errno != errno.EEXIST:\n",
    "            raise\n",
    "\n",
    "f = open(os.path.join(dataset_path, \"dataset.pckl\"), 'wb')\n",
    "pickle.dump(dataset, f)\n",
    "f.close()\n",
    "\n",
    "f = open(os.path.join(dataset_path, \"dictionary.pckl\"), 'wb')\n",
    "pickle.dump(dictionary, f)\n",
    "f.close()"
   ]
  },
  {
   "cell_type": "code",
   "execution_count": 25,
   "metadata": {},
   "outputs": [],
   "source": [
    "# Execute this for loading data from pickle\n",
    "if os.path.exists(dataset_path):\n",
    "    f = open(os.path.join(dataset_path, \"dataset.pckl\"), 'rb')\n",
    "    dataset = pickle.load(f)\n",
    "    f.close()\n",
    "    \n",
    "    f = open(os.path.join(dataset_path, \"dictionary.pckl\"), 'rb')\n",
    "    dictionary = pickle.load(f)\n",
    "    f.close()\n",
    "else:\n",
    "    dataset = None\n",
    "    print(\"Could not load dataset\")"
   ]
  },
  {
   "cell_type": "markdown",
   "metadata": {},
   "source": [
    "## Exercise 5: Building and training a generative model of  note transition with the Keras functional API\n",
    "### Description\n",
    "\n",
    "The Keras Sequential model is very efficient for fast prototyping, however suffers from a lack of design liberty. The Keras Functional API is only slightly more complex but allows for more control on the different parts of your model. You will be using the Functional API for the rest of this project. Please read carefully the [documentation](https://keras.io/getting-started/sequential-model-guide/). \n",
    "\n",
    "Here, you will be constructing your RNN model of note transition. To achieve that, your model should be trained to approximate the probability distribution of the upcoming note (observed as two output softmax layers - one for pitch and one for duration) given the current note (given as input) and the model internal representation of the history of notes (its hidden state). To achieve that, set the Keras RNN layer argument \"return_sequences\" to True when building your model. Doing this will give you an output for each note, rather than a single output at the end of the sequence. During training, the target at each time step is the next note pitch and duration.\n",
    "\n",
    "You are free to use your own architecture but make sure to use at least 128 hidden units, Masking, and dropout to prevent overfitting. Your model should have two output (softmax) layers, one related to the pitch predictions that you should name `YP`, and the other related to the duration predictions `YT`. You should monitor both the loss (categorical_crossentropy) and the accuracy. For your best model, you should reach 40%/75% accuracy on the pitch/duration predictions.\n",
    "\n",
    "1. Train your first model composed of SimpleRNN cells for min 250 epochs and save the model/parameters that lead to the higher accuracy on the validating set. Use a validation split of 0.2. Try  If you correctly named the output layers (`YP` and `YT`) use the provided `plotLearningCurves(History)` function to plot the learning curves by giving the History object returned by the Keras fit function as argument.  \n",
    "2. Train a second model where you replaced the SimpleRNN units with GRUs (LSTM unit equivalent that requires less parameters). Make sure you use the same hyperparameters as before. Plot the learning curves.\n",
    "3. On a single plot, adapt the `plotLearningCurves(History)` function to compare the validation learning curves of the simpleRNN and GRU models. In other words, plot the validation loss vs epoch for pitch/duration for the simpleRNN and GRU models. Do the same for accuracies.\n"
   ]
  },
  {
   "cell_type": "markdown",
   "metadata": {},
   "source": [
    "### Solution"
   ]
  },
  {
   "cell_type": "code",
   "execution_count": 26,
   "metadata": {},
   "outputs": [
    {
     "name": "stderr",
     "output_type": "stream",
     "text": [
      "/usr/local/lib/python3.5/dist-packages/ipykernel_launcher.py:23: UserWarning: Update your `SimpleRNN` call to the Keras 2 API: `SimpleRNN(return_sequences=True, units=256, dropout=0.2)`\n",
      "/usr/local/lib/python3.5/dist-packages/ipykernel_launcher.py:24: UserWarning: Update your `SimpleRNN` call to the Keras 2 API: `SimpleRNN(return_sequences=True, units=128, dropout=0.2)`\n"
     ]
    },
    {
     "name": "stdout",
     "output_type": "stream",
     "text": [
      "__________________________________________________________________________________________________\n",
      "Layer (type)                    Output Shape         Param #     Connected to                     \n",
      "==================================================================================================\n",
      "XT (InputLayer)                 (None, 393, 24)      0                                            \n",
      "__________________________________________________________________________________________________\n",
      "XP (InputLayer)                 (None, 393, 52)      0                                            \n",
      "__________________________________________________________________________________________________\n",
      "MT (Masking)                    (None, 393, 24)      0           XT[0][0]                         \n",
      "__________________________________________________________________________________________________\n",
      "MP (Masking)                    (None, 393, 52)      0           XP[0][0]                         \n",
      "__________________________________________________________________________________________________\n",
      "MergeX (Concatenate)            (None, 393, 76)      0           MT[0][0]                         \n",
      "                                                                 MP[0][0]                         \n",
      "__________________________________________________________________________________________________\n",
      "simple_rnn_1 (SimpleRNN)        (None, 393, 256)     85248       MergeX[0][0]                     \n",
      "__________________________________________________________________________________________________\n",
      "simple_rnn_2 (SimpleRNN)        (None, 393, 128)     49280       simple_rnn_1[0][0]               \n",
      "__________________________________________________________________________________________________\n",
      "YT (TimeDistributed)            (None, 393, 24)      3096        simple_rnn_2[0][0]               \n",
      "__________________________________________________________________________________________________\n",
      "YP (TimeDistributed)            (None, 393, 52)      6708        simple_rnn_2[0][0]               \n",
      "==================================================================================================\n",
      "Total params: 144,332\n",
      "Trainable params: 144,332\n",
      "Non-trainable params: 0\n",
      "__________________________________________________________________________________________________\n"
     ]
    }
   ],
   "source": [
    "def buildModel(dictionaries, batch_length, dropout=0.2, activation='GRU', Hsize=128):\n",
    "    X = dict()\n",
    "    H = dict()\n",
    "    M = dict()\n",
    "    Y = dict()\n",
    "    \n",
    "    X['T'] = Input(shape=(batch_length, len(dictionaries['T'])), name=\"XT\")\n",
    "    \n",
    "    X['P'] = Input(shape=(batch_length, len(dictionaries['P'])), name=\"XP\")\n",
    "    \n",
    "    M['T'] = Masking(mask_value=0., name=\"MT\")(X['T'])\n",
    "    M['P'] = Masking(mask_value=0., name=\"MP\")(X['P'])\n",
    "    \n",
    "    H['1'] = Concatenate(name=\"MergeX\")([M['T'], M['P']])\n",
    "    if activation == 'GRU':\n",
    "        pass\n",
    "    elif activation == 'LSTM':\n",
    "        pass\n",
    "    elif activation == 'RNN':\n",
    "        H['2'] = SimpleRNN(output_dim=256, return_sequences=True, dropout=dropout)(H['1'])\n",
    "        H['3'] = SimpleRNN(output_dim=128, return_sequences=True, dropout=dropout)(H['2'])\n",
    "        \n",
    "    Y['T'] = TimeDistributed(Dense(len(dictionaries['T']), activation='softmax'), name='YT')(H['3'])\n",
    "    #(Input(s) to duration output layer)\n",
    "    Y['P'] = TimeDistributed(Dense(len(dictionaries['P']), activation='softmax'), name='YP')(H['3'])\n",
    "    #(Input(s) to pitch output layer)\n",
    "    \n",
    "    model = Model(inputs = [X['T'], X['P']], outputs = [Y['T'], Y['P']])\n",
    "    opt = Adam() \n",
    "    model.compile(\n",
    "        loss='categorical_crossentropy', \n",
    "        optimizer=opt,\n",
    "        metrics=['acc'])\n",
    "    \n",
    "    return model\n",
    "\n",
    "RNNmodel = buildModel(dictionary, \n",
    "                      batch_length=ml-1,#Put here the number of notes (timesteps) you have in your Zero-padded matrices\n",
    "                      activation='RNN')\n",
    "RNNmodel.summary()"
   ]
  },
  {
   "cell_type": "code",
   "execution_count": 27,
   "metadata": {},
   "outputs": [],
   "source": [
    "xs = {'XT': [], 'XP': []}\n",
    "ys = {'YT': [], 'YP': []}\n",
    "for k, v in dataset.items():\n",
    "    xs['XT'].append(v['T'][:-1])\n",
    "    xs['XP'].append(v['P'][:-1])\n",
    "    ys['YT'].append(v['T'][1:])\n",
    "    ys['YP'].append(v['P'][1:])\n",
    "    \n",
    "xs['XT'] = np.asarray(xs['XT'])\n",
    "xs['XP'] = np.asarray(xs['XP'])\n",
    "ys['YT'] = np.asarray(ys['YT'])\n",
    "ys['YP'] = np.asarray(ys['YP'])"
   ]
  },
  {
   "cell_type": "code",
   "execution_count": 28,
   "metadata": {},
   "outputs": [
    {
     "name": "stdout",
     "output_type": "stream",
     "text": [
      "Train on 3608 samples, validate on 902 samples\n",
      "Epoch 1/250\n",
      "3608/3608 [==============================] - 49s 14ms/step - loss: 5.1469 - YT_loss: 1.6360 - YP_loss: 3.5109 - YT_acc: 0.6014 - YP_acc: 0.0763 - val_loss: 4.1890 - val_YT_loss: 1.2039 - val_YP_loss: 2.9851 - val_YT_acc: 0.6827 - val_YP_acc: 0.1360\n",
      "Epoch 2/250\n",
      "3608/3608 [==============================] - 48s 13ms/step - loss: 3.9911 - YT_loss: 1.0797 - YP_loss: 2.9114 - YT_acc: 0.7090 - YP_acc: 0.1109 - val_loss: 3.7808 - val_YT_loss: 0.9797 - val_YP_loss: 2.8011 - val_YT_acc: 0.7133 - val_YP_acc: 0.1250\n",
      "Epoch 3/250\n",
      "3608/3608 [==============================] - 48s 13ms/step - loss: 3.7822 - YT_loss: 0.9860 - YP_loss: 2.7962 - YT_acc: 0.7303 - YP_acc: 0.1316 - val_loss: 3.6412 - val_YT_loss: 0.9102 - val_YP_loss: 2.7310 - val_YT_acc: 0.7393 - val_YP_acc: 0.1362\n",
      "Epoch 4/250\n",
      "3608/3608 [==============================] - 48s 13ms/step - loss: 3.6064 - YT_loss: 0.9228 - YP_loss: 2.6836 - YT_acc: 0.7426 - YP_acc: 0.1486 - val_loss: 3.4870 - val_YT_loss: 0.8946 - val_YP_loss: 2.5924 - val_YT_acc: 0.7396 - val_YP_acc: 0.1689\n",
      "Epoch 5/250\n",
      "3608/3608 [==============================] - 48s 13ms/step - loss: 3.4685 - YT_loss: 0.8929 - YP_loss: 2.5756 - YT_acc: 0.7486 - YP_acc: 0.1731 - val_loss: 3.3314 - val_YT_loss: 0.8589 - val_YP_loss: 2.4725 - val_YT_acc: 0.7474 - val_YP_acc: 0.1926\n",
      "Epoch 6/250\n",
      "3608/3608 [==============================] - 49s 13ms/step - loss: 3.3422 - YT_loss: 0.8642 - YP_loss: 2.4780 - YT_acc: 0.7529 - YP_acc: 0.1866 - val_loss: 3.2217 - val_YT_loss: 0.8274 - val_YP_loss: 2.3943 - val_YT_acc: 0.7546 - val_YP_acc: 0.2064\n",
      "Epoch 7/250\n",
      "3608/3608 [==============================] - 49s 14ms/step - loss: 3.2561 - YT_loss: 0.8410 - YP_loss: 2.4151 - YT_acc: 0.7597 - YP_acc: 0.1989 - val_loss: 3.1760 - val_YT_loss: 0.8087 - val_YP_loss: 2.3672 - val_YT_acc: 0.7569 - val_YP_acc: 0.2100\n",
      "Epoch 8/250\n",
      "3608/3608 [==============================] - 48s 13ms/step - loss: 3.2039 - YT_loss: 0.8307 - YP_loss: 2.3732 - YT_acc: 0.7614 - YP_acc: 0.2089 - val_loss: 3.1031 - val_YT_loss: 0.8114 - val_YP_loss: 2.2917 - val_YT_acc: 0.7555 - val_YP_acc: 0.2375\n",
      "Epoch 9/250\n",
      "3608/3608 [==============================] - 48s 13ms/step - loss: 3.1341 - YT_loss: 0.8152 - YP_loss: 2.3190 - YT_acc: 0.7651 - YP_acc: 0.2206 - val_loss: 3.0409 - val_YT_loss: 0.7946 - val_YP_loss: 2.2463 - val_YT_acc: 0.7605 - val_YP_acc: 0.2456\n",
      "Epoch 10/250\n",
      "3608/3608 [==============================] - 48s 13ms/step - loss: 3.0889 - YT_loss: 0.8062 - YP_loss: 2.2827 - YT_acc: 0.7690 - YP_acc: 0.2316 - val_loss: 2.9965 - val_YT_loss: 0.7894 - val_YP_loss: 2.2070 - val_YT_acc: 0.7612 - val_YP_acc: 0.2564\n",
      "Epoch 11/250\n",
      "3608/3608 [==============================] - 49s 14ms/step - loss: 3.0421 - YT_loss: 0.7950 - YP_loss: 2.2471 - YT_acc: 0.7687 - YP_acc: 0.2387 - val_loss: 2.9515 - val_YT_loss: 0.7738 - val_YP_loss: 2.1777 - val_YT_acc: 0.7627 - val_YP_acc: 0.2640\n",
      "Epoch 12/250\n",
      "3608/3608 [==============================] - 49s 13ms/step - loss: 3.0034 - YT_loss: 0.7884 - YP_loss: 2.2150 - YT_acc: 0.7698 - YP_acc: 0.2474 - val_loss: 2.9028 - val_YT_loss: 0.7614 - val_YP_loss: 2.1414 - val_YT_acc: 0.7672 - val_YP_acc: 0.2726\n",
      "Epoch 13/250\n",
      "3608/3608 [==============================] - 48s 13ms/step - loss: 2.9728 - YT_loss: 0.7826 - YP_loss: 2.1902 - YT_acc: 0.7716 - YP_acc: 0.2546 - val_loss: 2.8650 - val_YT_loss: 0.7552 - val_YP_loss: 2.1098 - val_YT_acc: 0.7686 - val_YP_acc: 0.2815\n",
      "Epoch 14/250\n",
      "3608/3608 [==============================] - 49s 13ms/step - loss: 2.9408 - YT_loss: 0.7786 - YP_loss: 2.1621 - YT_acc: 0.7722 - YP_acc: 0.2612 - val_loss: 2.8347 - val_YT_loss: 0.7491 - val_YP_loss: 2.0856 - val_YT_acc: 0.7699 - val_YP_acc: 0.2866\n",
      "Epoch 15/250\n",
      "3608/3608 [==============================] - 48s 13ms/step - loss: 2.9074 - YT_loss: 0.7666 - YP_loss: 2.1408 - YT_acc: 0.7773 - YP_acc: 0.2672 - val_loss: 2.8124 - val_YT_loss: 0.7477 - val_YP_loss: 2.0647 - val_YT_acc: 0.7705 - val_YP_acc: 0.2936\n",
      "Epoch 16/250\n",
      "3608/3608 [==============================] - 48s 13ms/step - loss: 2.8806 - YT_loss: 0.7579 - YP_loss: 2.1227 - YT_acc: 0.7771 - YP_acc: 0.2716 - val_loss: 2.7862 - val_YT_loss: 0.7429 - val_YP_loss: 2.0433 - val_YT_acc: 0.7715 - val_YP_acc: 0.2985\n",
      "Epoch 17/250\n",
      "3608/3608 [==============================] - 48s 13ms/step - loss: 2.8697 - YT_loss: 0.7636 - YP_loss: 2.1061 - YT_acc: 0.7758 - YP_acc: 0.2760 - val_loss: 2.7600 - val_YT_loss: 0.7336 - val_YP_loss: 2.0264 - val_YT_acc: 0.7744 - val_YP_acc: 0.3015\n",
      "Epoch 18/250\n",
      "3608/3608 [==============================] - 49s 13ms/step - loss: 2.8583 - YT_loss: 0.7697 - YP_loss: 2.0886 - YT_acc: 0.7763 - YP_acc: 0.2812 - val_loss: 2.7400 - val_YT_loss: 0.7304 - val_YP_loss: 2.0095 - val_YT_acc: 0.7740 - val_YP_acc: 0.3101\n",
      "Epoch 19/250\n",
      "3608/3608 [==============================] - 48s 13ms/step - loss: 2.8291 - YT_loss: 0.7482 - YP_loss: 2.0808 - YT_acc: 0.7799 - YP_acc: 0.2842 - val_loss: 2.7342 - val_YT_loss: 0.7297 - val_YP_loss: 2.0045 - val_YT_acc: 0.7770 - val_YP_acc: 0.3138\n",
      "Epoch 20/250\n",
      "3608/3608 [==============================] - 50s 14ms/step - loss: 2.8060 - YT_loss: 0.7382 - YP_loss: 2.0677 - YT_acc: 0.7832 - YP_acc: 0.2872 - val_loss: 2.7043 - val_YT_loss: 0.7195 - val_YP_loss: 1.9848 - val_YT_acc: 0.7791 - val_YP_acc: 0.3158\n",
      "Epoch 21/250\n",
      "3608/3608 [==============================] - 48s 13ms/step - loss: 2.7898 - YT_loss: 0.7336 - YP_loss: 2.0562 - YT_acc: 0.7831 - YP_acc: 0.2898 - val_loss: 2.6866 - val_YT_loss: 0.7180 - val_YP_loss: 1.9686 - val_YT_acc: 0.7825 - val_YP_acc: 0.3211\n",
      "Epoch 22/250\n",
      "3608/3608 [==============================] - 49s 14ms/step - loss: 2.7864 - YT_loss: 0.7384 - YP_loss: 2.0480 - YT_acc: 0.7838 - YP_acc: 0.2922 - val_loss: 2.6724 - val_YT_loss: 0.7183 - val_YP_loss: 1.9541 - val_YT_acc: 0.7804 - val_YP_acc: 0.3249\n",
      "Epoch 23/250\n",
      "3608/3608 [==============================] - 48s 13ms/step - loss: 2.7812 - YT_loss: 0.7403 - YP_loss: 2.0409 - YT_acc: 0.7836 - YP_acc: 0.2951 - val_loss: 2.6565 - val_YT_loss: 0.7083 - val_YP_loss: 1.9482 - val_YT_acc: 0.7816 - val_YP_acc: 0.3287\n",
      "Epoch 24/250\n",
      "3608/3608 [==============================] - 48s 13ms/step - loss: 2.7683 - YT_loss: 0.7347 - YP_loss: 2.0337 - YT_acc: 0.7837 - YP_acc: 0.2983 - val_loss: 2.6464 - val_YT_loss: 0.7047 - val_YP_loss: 1.9417 - val_YT_acc: 0.7836 - val_YP_acc: 0.3296\n",
      "Epoch 25/250\n",
      "3608/3608 [==============================] - 48s 13ms/step - loss: 2.7557 - YT_loss: 0.7309 - YP_loss: 2.0249 - YT_acc: 0.7856 - YP_acc: 0.2988 - val_loss: 2.6422 - val_YT_loss: 0.7085 - val_YP_loss: 1.9337 - val_YT_acc: 0.7828 - val_YP_acc: 0.3301\n",
      "Epoch 26/250\n",
      "3608/3608 [==============================] - 48s 13ms/step - loss: 2.7466 - YT_loss: 0.7277 - YP_loss: 2.0189 - YT_acc: 0.7860 - YP_acc: 0.3011 - val_loss: 2.6294 - val_YT_loss: 0.6992 - val_YP_loss: 1.9302 - val_YT_acc: 0.7852 - val_YP_acc: 0.3317\n",
      "Epoch 27/250\n",
      "3608/3608 [==============================] - 48s 13ms/step - loss: 2.7388 - YT_loss: 0.7261 - YP_loss: 2.0127 - YT_acc: 0.7861 - YP_acc: 0.3022 - val_loss: 2.6211 - val_YT_loss: 0.7022 - val_YP_loss: 1.9189 - val_YT_acc: 0.7863 - val_YP_acc: 0.3327\n",
      "Epoch 28/250\n",
      "3608/3608 [==============================] - 48s 13ms/step - loss: 2.7279 - YT_loss: 0.7228 - YP_loss: 2.0051 - YT_acc: 0.7879 - YP_acc: 0.3051 - val_loss: 2.6140 - val_YT_loss: 0.6974 - val_YP_loss: 1.9166 - val_YT_acc: 0.7847 - val_YP_acc: 0.3377\n",
      "Epoch 29/250\n",
      "3608/3608 [==============================] - 48s 13ms/step - loss: 2.7420 - YT_loss: 0.7384 - YP_loss: 2.0036 - YT_acc: 0.7849 - YP_acc: 0.3056 - val_loss: 2.6088 - val_YT_loss: 0.6977 - val_YP_loss: 1.9111 - val_YT_acc: 0.7892 - val_YP_acc: 0.3345\n",
      "Epoch 30/250\n",
      "3608/3608 [==============================] - 49s 14ms/step - loss: 2.7275 - YT_loss: 0.7235 - YP_loss: 2.0039 - YT_acc: 0.7895 - YP_acc: 0.3043 - val_loss: 2.5954 - val_YT_loss: 0.6951 - val_YP_loss: 1.9003 - val_YT_acc: 0.7898 - val_YP_acc: 0.3394\n",
      "Epoch 31/250\n",
      "3608/3608 [==============================] - 48s 13ms/step - loss: 2.7194 - YT_loss: 0.7265 - YP_loss: 1.9930 - YT_acc: 0.7878 - YP_acc: 0.3090 - val_loss: 2.5974 - val_YT_loss: 0.6935 - val_YP_loss: 1.9040 - val_YT_acc: 0.7863 - val_YP_acc: 0.3420\n",
      "Epoch 32/250\n",
      "3608/3608 [==============================] - 48s 13ms/step - loss: 2.7055 - YT_loss: 0.7108 - YP_loss: 1.9947 - YT_acc: 0.7914 - YP_acc: 0.3079 - val_loss: 2.5928 - val_YT_loss: 0.6965 - val_YP_loss: 1.8963 - val_YT_acc: 0.7845 - val_YP_acc: 0.3421\n",
      "Epoch 33/250\n",
      "3608/3608 [==============================] - 49s 14ms/step - loss: 2.7147 - YT_loss: 0.7260 - YP_loss: 1.9887 - YT_acc: 0.7879 - YP_acc: 0.3100 - val_loss: 2.5925 - val_YT_loss: 0.6975 - val_YP_loss: 1.8950 - val_YT_acc: 0.7891 - val_YP_acc: 0.3386\n",
      "Epoch 34/250\n",
      "3608/3608 [==============================] - 49s 13ms/step - loss: 2.7141 - YT_loss: 0.7317 - YP_loss: 1.9824 - YT_acc: 0.7881 - YP_acc: 0.3105 - val_loss: 2.5814 - val_YT_loss: 0.6974 - val_YP_loss: 1.8840 - val_YT_acc: 0.7874 - val_YP_acc: 0.3442\n",
      "Epoch 35/250\n",
      "3608/3608 [==============================] - 48s 13ms/step - loss: 2.7022 - YT_loss: 0.7168 - YP_loss: 1.9854 - YT_acc: 0.7894 - YP_acc: 0.3116 - val_loss: 2.5776 - val_YT_loss: 0.6910 - val_YP_loss: 1.8866 - val_YT_acc: 0.7881 - val_YP_acc: 0.3415\n",
      "Epoch 36/250\n",
      "3608/3608 [==============================] - 48s 13ms/step - loss: 2.6822 - YT_loss: 0.7044 - YP_loss: 1.9779 - YT_acc: 0.7933 - YP_acc: 0.3122 - val_loss: 2.5614 - val_YT_loss: 0.6866 - val_YP_loss: 1.8747 - val_YT_acc: 0.7898 - val_YP_acc: 0.3449\n",
      "Epoch 37/250\n",
      "3608/3608 [==============================] - 48s 13ms/step - loss: 2.6920 - YT_loss: 0.7160 - YP_loss: 1.9759 - YT_acc: 0.7898 - YP_acc: 0.3126 - val_loss: 2.5580 - val_YT_loss: 0.6840 - val_YP_loss: 1.8740 - val_YT_acc: 0.7912 - val_YP_acc: 0.3481\n",
      "Epoch 38/250\n",
      "3608/3608 [==============================] - 48s 13ms/step - loss: 2.6795 - YT_loss: 0.7070 - YP_loss: 1.9724 - YT_acc: 0.7924 - YP_acc: 0.3145 - val_loss: 2.5503 - val_YT_loss: 0.6801 - val_YP_loss: 1.8702 - val_YT_acc: 0.7914 - val_YP_acc: 0.3479\n",
      "Epoch 39/250\n",
      "3608/3608 [==============================] - 48s 13ms/step - loss: 2.6800 - YT_loss: 0.7152 - YP_loss: 1.9648 - YT_acc: 0.7909 - YP_acc: 0.3169 - val_loss: 2.5502 - val_YT_loss: 0.6823 - val_YP_loss: 1.8680 - val_YT_acc: 0.7909 - val_YP_acc: 0.3484\n",
      "Epoch 40/250\n",
      "3608/3608 [==============================] - 49s 14ms/step - loss: 2.6702 - YT_loss: 0.7037 - YP_loss: 1.9665 - YT_acc: 0.7934 - YP_acc: 0.3164 - val_loss: 2.5506 - val_YT_loss: 0.6785 - val_YP_loss: 1.8721 - val_YT_acc: 0.7920 - val_YP_acc: 0.3455\n",
      "Epoch 41/250\n",
      "3608/3608 [==============================] - 48s 13ms/step - loss: 2.6794 - YT_loss: 0.7097 - YP_loss: 1.9697 - YT_acc: 0.7923 - YP_acc: 0.3158 - val_loss: 2.5469 - val_YT_loss: 0.6822 - val_YP_loss: 1.8647 - val_YT_acc: 0.7924 - val_YP_acc: 0.3513\n",
      "Epoch 42/250\n",
      "3608/3608 [==============================] - 48s 13ms/step - loss: 2.6601 - YT_loss: 0.7007 - YP_loss: 1.9593 - YT_acc: 0.7942 - YP_acc: 0.3180 - val_loss: 2.5481 - val_YT_loss: 0.6824 - val_YP_loss: 1.8657 - val_YT_acc: 0.7877 - val_YP_acc: 0.3505\n",
      "Epoch 43/250\n",
      "3608/3608 [==============================] - 48s 13ms/step - loss: 2.6646 - YT_loss: 0.7048 - YP_loss: 1.9598 - YT_acc: 0.7931 - YP_acc: 0.3186 - val_loss: 2.5367 - val_YT_loss: 0.6792 - val_YP_loss: 1.8575 - val_YT_acc: 0.7922 - val_YP_acc: 0.3506\n",
      "Epoch 44/250\n",
      "3608/3608 [==============================] - 49s 13ms/step - loss: 2.6598 - YT_loss: 0.7052 - YP_loss: 1.9546 - YT_acc: 0.7925 - YP_acc: 0.3211 - val_loss: 2.5276 - val_YT_loss: 0.6759 - val_YP_loss: 1.8517 - val_YT_acc: 0.7932 - val_YP_acc: 0.3532\n",
      "Epoch 45/250\n",
      "3608/3608 [==============================] - 48s 13ms/step - loss: 2.6596 - YT_loss: 0.7077 - YP_loss: 1.9519 - YT_acc: 0.7926 - YP_acc: 0.3194 - val_loss: 2.5299 - val_YT_loss: 0.6788 - val_YP_loss: 1.8511 - val_YT_acc: 0.7927 - val_YP_acc: 0.3529\n",
      "Epoch 46/250\n",
      "3608/3608 [==============================] - 48s 13ms/step - loss: 2.6587 - YT_loss: 0.7085 - YP_loss: 1.9502 - YT_acc: 0.7919 - YP_acc: 0.3210 - val_loss: 2.5294 - val_YT_loss: 0.6791 - val_YP_loss: 1.8504 - val_YT_acc: 0.7939 - val_YP_acc: 0.3512\n",
      "Epoch 47/250\n",
      "3608/3608 [==============================] - 48s 13ms/step - loss: 2.6466 - YT_loss: 0.7002 - YP_loss: 1.9464 - YT_acc: 0.7949 - YP_acc: 0.3208 - val_loss: 2.5221 - val_YT_loss: 0.6747 - val_YP_loss: 1.8474 - val_YT_acc: 0.7933 - val_YP_acc: 0.3540\n",
      "Epoch 48/250\n",
      "3608/3608 [==============================] - 48s 13ms/step - loss: 2.6525 - YT_loss: 0.7048 - YP_loss: 1.9476 - YT_acc: 0.7920 - YP_acc: 0.3222 - val_loss: 2.5229 - val_YT_loss: 0.6762 - val_YP_loss: 1.8467 - val_YT_acc: 0.7933 - val_YP_acc: 0.3529\n",
      "Epoch 49/250\n",
      "3608/3608 [==============================] - 48s 13ms/step - loss: 2.6466 - YT_loss: 0.6995 - YP_loss: 1.9472 - YT_acc: 0.7957 - YP_acc: 0.3216 - val_loss: 2.5361 - val_YT_loss: 0.6808 - val_YP_loss: 1.8553 - val_YT_acc: 0.7954 - val_YP_acc: 0.3540\n",
      "Epoch 50/250\n",
      "3608/3608 [==============================] - 48s 13ms/step - loss: 2.6526 - YT_loss: 0.7029 - YP_loss: 1.9496 - YT_acc: 0.7949 - YP_acc: 0.3212 - val_loss: 2.5211 - val_YT_loss: 0.6718 - val_YP_loss: 1.8493 - val_YT_acc: 0.7940 - val_YP_acc: 0.3536\n",
      "Epoch 51/250\n",
      "3608/3608 [==============================] - 48s 13ms/step - loss: 2.6476 - YT_loss: 0.6977 - YP_loss: 1.9499 - YT_acc: 0.7962 - YP_acc: 0.3211 - val_loss: 2.5309 - val_YT_loss: 0.6850 - val_YP_loss: 1.8459 - val_YT_acc: 0.7947 - val_YP_acc: 0.3516\n",
      "Epoch 52/250\n",
      "3608/3608 [==============================] - 48s 13ms/step - loss: 2.6560 - YT_loss: 0.7117 - YP_loss: 1.9443 - YT_acc: 0.7929 - YP_acc: 0.3224 - val_loss: 2.5191 - val_YT_loss: 0.6714 - val_YP_loss: 1.8476 - val_YT_acc: 0.7942 - val_YP_acc: 0.3558\n",
      "Epoch 53/250\n",
      "3608/3608 [==============================] - 48s 13ms/step - loss: 2.6376 - YT_loss: 0.6973 - YP_loss: 1.9403 - YT_acc: 0.7953 - YP_acc: 0.3243 - val_loss: 2.5092 - val_YT_loss: 0.6670 - val_YP_loss: 1.8422 - val_YT_acc: 0.7958 - val_YP_acc: 0.3560\n",
      "Epoch 54/250\n",
      "3608/3608 [==============================] - 48s 13ms/step - loss: 2.6330 - YT_loss: 0.6936 - YP_loss: 1.9393 - YT_acc: 0.7960 - YP_acc: 0.3240 - val_loss: 2.5053 - val_YT_loss: 0.6690 - val_YP_loss: 1.8363 - val_YT_acc: 0.7961 - val_YP_acc: 0.3571\n",
      "Epoch 55/250\n",
      "3608/3608 [==============================] - 49s 14ms/step - loss: 2.6247 - YT_loss: 0.6923 - YP_loss: 1.9324 - YT_acc: 0.7971 - YP_acc: 0.3263 - val_loss: 2.5027 - val_YT_loss: 0.6700 - val_YP_loss: 1.8326 - val_YT_acc: 0.7946 - val_YP_acc: 0.3575\n",
      "Epoch 56/250\n",
      "3608/3608 [==============================] - 48s 13ms/step - loss: 2.6203 - YT_loss: 0.6901 - YP_loss: 1.9302 - YT_acc: 0.7977 - YP_acc: 0.3276 - val_loss: 2.5013 - val_YT_loss: 0.6675 - val_YP_loss: 1.8338 - val_YT_acc: 0.7952 - val_YP_acc: 0.3579\n",
      "Epoch 57/250\n",
      "3608/3608 [==============================] - 48s 13ms/step - loss: 2.6163 - YT_loss: 0.6865 - YP_loss: 1.9299 - YT_acc: 0.7978 - YP_acc: 0.3270 - val_loss: 2.5019 - val_YT_loss: 0.6677 - val_YP_loss: 1.8342 - val_YT_acc: 0.7963 - val_YP_acc: 0.3587\n",
      "Epoch 58/250\n",
      "3608/3608 [==============================] - 48s 13ms/step - loss: 2.6249 - YT_loss: 0.6940 - YP_loss: 1.9309 - YT_acc: 0.7943 - YP_acc: 0.3266 - val_loss: 2.4975 - val_YT_loss: 0.6674 - val_YP_loss: 1.8301 - val_YT_acc: 0.7965 - val_YP_acc: 0.3587\n",
      "Epoch 59/250\n",
      "3608/3608 [==============================] - 49s 14ms/step - loss: 2.6250 - YT_loss: 0.6915 - YP_loss: 1.9335 - YT_acc: 0.7960 - YP_acc: 0.3263 - val_loss: 2.4971 - val_YT_loss: 0.6642 - val_YP_loss: 1.8329 - val_YT_acc: 0.7966 - val_YP_acc: 0.3576\n",
      "Epoch 60/250\n",
      "3608/3608 [==============================] - 48s 13ms/step - loss: 2.6197 - YT_loss: 0.6886 - YP_loss: 1.9311 - YT_acc: 0.7971 - YP_acc: 0.3270 - val_loss: 2.5008 - val_YT_loss: 0.6655 - val_YP_loss: 1.8352 - val_YT_acc: 0.7958 - val_YP_acc: 0.3571\n",
      "Epoch 61/250\n",
      "3608/3608 [==============================] - 48s 13ms/step - loss: 2.6232 - YT_loss: 0.6915 - YP_loss: 1.9317 - YT_acc: 0.7972 - YP_acc: 0.3261 - val_loss: 2.5111 - val_YT_loss: 0.6717 - val_YP_loss: 1.8394 - val_YT_acc: 0.7954 - val_YP_acc: 0.3574\n",
      "Epoch 62/250\n",
      "3608/3608 [==============================] - 48s 13ms/step - loss: 2.6270 - YT_loss: 0.7003 - YP_loss: 1.9267 - YT_acc: 0.7956 - YP_acc: 0.3280 - val_loss: 2.4903 - val_YT_loss: 0.6668 - val_YP_loss: 1.8234 - val_YT_acc: 0.7991 - val_YP_acc: 0.3621\n",
      "Epoch 63/250\n"
     ]
    },
    {
     "name": "stdout",
     "output_type": "stream",
     "text": [
      "3608/3608 [==============================] - 49s 13ms/step - loss: 2.6154 - YT_loss: 0.6901 - YP_loss: 1.9253 - YT_acc: 0.7979 - YP_acc: 0.3294 - val_loss: 2.4861 - val_YT_loss: 0.6626 - val_YP_loss: 1.8235 - val_YT_acc: 0.7963 - val_YP_acc: 0.3616\n",
      "Epoch 64/250\n",
      "3608/3608 [==============================] - 48s 13ms/step - loss: 2.6106 - YT_loss: 0.6898 - YP_loss: 1.9208 - YT_acc: 0.7964 - YP_acc: 0.3295 - val_loss: 2.4812 - val_YT_loss: 0.6603 - val_YP_loss: 1.8208 - val_YT_acc: 0.7964 - val_YP_acc: 0.3594\n",
      "Epoch 65/250\n",
      "3608/3608 [==============================] - 48s 13ms/step - loss: 2.6126 - YT_loss: 0.6961 - YP_loss: 1.9165 - YT_acc: 0.7946 - YP_acc: 0.3313 - val_loss: 2.4846 - val_YT_loss: 0.6589 - val_YP_loss: 1.8256 - val_YT_acc: 0.7975 - val_YP_acc: 0.3598\n",
      "Epoch 66/250\n",
      "3608/3608 [==============================] - 48s 13ms/step - loss: 2.6132 - YT_loss: 0.6894 - YP_loss: 1.9238 - YT_acc: 0.7975 - YP_acc: 0.3287 - val_loss: 2.4906 - val_YT_loss: 0.6623 - val_YP_loss: 1.8283 - val_YT_acc: 0.7967 - val_YP_acc: 0.3611\n",
      "Epoch 67/250\n",
      "3608/3608 [==============================] - 48s 13ms/step - loss: 2.6176 - YT_loss: 0.6970 - YP_loss: 1.9206 - YT_acc: 0.7957 - YP_acc: 0.3317 - val_loss: 2.4858 - val_YT_loss: 0.6606 - val_YP_loss: 1.8252 - val_YT_acc: 0.7997 - val_YP_acc: 0.3626\n",
      "Epoch 68/250\n",
      "3608/3608 [==============================] - 48s 13ms/step - loss: 2.6095 - YT_loss: 0.6869 - YP_loss: 1.9226 - YT_acc: 0.7982 - YP_acc: 0.3299 - val_loss: 2.4808 - val_YT_loss: 0.6611 - val_YP_loss: 1.8197 - val_YT_acc: 0.7975 - val_YP_acc: 0.3632\n",
      "Epoch 69/250\n",
      "3608/3608 [==============================] - 48s 13ms/step - loss: 2.6034 - YT_loss: 0.6873 - YP_loss: 1.9162 - YT_acc: 0.7973 - YP_acc: 0.3315 - val_loss: 2.4861 - val_YT_loss: 0.6645 - val_YP_loss: 1.8216 - val_YT_acc: 0.7976 - val_YP_acc: 0.3622\n",
      "Epoch 70/250\n",
      "3608/3608 [==============================] - 48s 13ms/step - loss: 2.6047 - YT_loss: 0.6888 - YP_loss: 1.9159 - YT_acc: 0.7973 - YP_acc: 0.3303 - val_loss: 2.4719 - val_YT_loss: 0.6606 - val_YP_loss: 1.8114 - val_YT_acc: 0.7981 - val_YP_acc: 0.3666\n",
      "Epoch 71/250\n",
      "3608/3608 [==============================] - 48s 13ms/step - loss: 2.6125 - YT_loss: 0.7008 - YP_loss: 1.9117 - YT_acc: 0.7954 - YP_acc: 0.3333 - val_loss: 2.4816 - val_YT_loss: 0.6652 - val_YP_loss: 1.8165 - val_YT_acc: 0.7960 - val_YP_acc: 0.3668\n",
      "Epoch 72/250\n",
      "3608/3608 [==============================] - 48s 13ms/step - loss: 2.5903 - YT_loss: 0.6821 - YP_loss: 1.9082 - YT_acc: 0.7983 - YP_acc: 0.3343 - val_loss: 2.4705 - val_YT_loss: 0.6552 - val_YP_loss: 1.8153 - val_YT_acc: 0.7987 - val_YP_acc: 0.3650\n",
      "Epoch 73/250\n",
      "3608/3608 [==============================] - 48s 13ms/step - loss: 2.6063 - YT_loss: 0.6934 - YP_loss: 1.9129 - YT_acc: 0.7967 - YP_acc: 0.3331 - val_loss: 2.4724 - val_YT_loss: 0.6620 - val_YP_loss: 1.8104 - val_YT_acc: 0.7966 - val_YP_acc: 0.3659\n",
      "Epoch 74/250\n",
      "3608/3608 [==============================] - 48s 13ms/step - loss: 2.5988 - YT_loss: 0.6898 - YP_loss: 1.9091 - YT_acc: 0.7970 - YP_acc: 0.3338 - val_loss: 2.4804 - val_YT_loss: 0.6688 - val_YP_loss: 1.8116 - val_YT_acc: 0.7972 - val_YP_acc: 0.3651\n",
      "Epoch 75/250\n",
      "3608/3608 [==============================] - 48s 13ms/step - loss: 2.5905 - YT_loss: 0.6804 - YP_loss: 1.9102 - YT_acc: 0.8005 - YP_acc: 0.3330 - val_loss: 2.4713 - val_YT_loss: 0.6599 - val_YP_loss: 1.8114 - val_YT_acc: 0.7991 - val_YP_acc: 0.3670\n",
      "Epoch 76/250\n",
      "3608/3608 [==============================] - 48s 13ms/step - loss: 2.5975 - YT_loss: 0.6895 - YP_loss: 1.9080 - YT_acc: 0.7970 - YP_acc: 0.3349 - val_loss: 2.4706 - val_YT_loss: 0.6603 - val_YP_loss: 1.8103 - val_YT_acc: 0.7975 - val_YP_acc: 0.3667\n",
      "Epoch 77/250\n",
      "3608/3608 [==============================] - 48s 13ms/step - loss: 2.5945 - YT_loss: 0.6902 - YP_loss: 1.9043 - YT_acc: 0.7976 - YP_acc: 0.3359 - val_loss: 2.4755 - val_YT_loss: 0.6612 - val_YP_loss: 1.8143 - val_YT_acc: 0.7997 - val_YP_acc: 0.3649\n",
      "Epoch 78/250\n",
      "3608/3608 [==============================] - 49s 13ms/step - loss: 2.5978 - YT_loss: 0.6889 - YP_loss: 1.9089 - YT_acc: 0.7977 - YP_acc: 0.3338 - val_loss: 2.4640 - val_YT_loss: 0.6559 - val_YP_loss: 1.8081 - val_YT_acc: 0.7964 - val_YP_acc: 0.3667\n",
      "Epoch 79/250\n",
      "3608/3608 [==============================] - 48s 13ms/step - loss: 2.5920 - YT_loss: 0.6859 - YP_loss: 1.9061 - YT_acc: 0.7969 - YP_acc: 0.3343 - val_loss: 2.4867 - val_YT_loss: 0.6716 - val_YP_loss: 1.8151 - val_YT_acc: 0.7965 - val_YP_acc: 0.3644\n",
      "Epoch 80/250\n",
      "3608/3608 [==============================] - 48s 13ms/step - loss: 2.5976 - YT_loss: 0.6827 - YP_loss: 1.9149 - YT_acc: 0.7995 - YP_acc: 0.3333 - val_loss: 2.4677 - val_YT_loss: 0.6560 - val_YP_loss: 1.8117 - val_YT_acc: 0.7998 - val_YP_acc: 0.3644\n",
      "Epoch 81/250\n",
      "3608/3608 [==============================] - 49s 13ms/step - loss: 2.5951 - YT_loss: 0.6868 - YP_loss: 1.9083 - YT_acc: 0.7982 - YP_acc: 0.3339 - val_loss: 2.4628 - val_YT_loss: 0.6540 - val_YP_loss: 1.8088 - val_YT_acc: 0.8008 - val_YP_acc: 0.3664\n",
      "Epoch 82/250\n",
      "3608/3608 [==============================] - 48s 13ms/step - loss: 2.5831 - YT_loss: 0.6813 - YP_loss: 1.9018 - YT_acc: 0.7998 - YP_acc: 0.3367 - val_loss: 2.4554 - val_YT_loss: 0.6556 - val_YP_loss: 1.7998 - val_YT_acc: 0.7999 - val_YP_acc: 0.3683\n",
      "Epoch 83/250\n",
      "3608/3608 [==============================] - 48s 13ms/step - loss: 2.5786 - YT_loss: 0.6811 - YP_loss: 1.8975 - YT_acc: 0.7992 - YP_acc: 0.3378 - val_loss: 2.4493 - val_YT_loss: 0.6478 - val_YP_loss: 1.8015 - val_YT_acc: 0.8004 - val_YP_acc: 0.3707\n",
      "Epoch 84/250\n",
      "3608/3608 [==============================] - 48s 13ms/step - loss: 2.5633 - YT_loss: 0.6660 - YP_loss: 1.8973 - YT_acc: 0.8025 - YP_acc: 0.3381 - val_loss: 2.4481 - val_YT_loss: 0.6488 - val_YP_loss: 1.7993 - val_YT_acc: 0.7996 - val_YP_acc: 0.3719\n",
      "Epoch 85/250\n",
      "3608/3608 [==============================] - 48s 13ms/step - loss: 2.5716 - YT_loss: 0.6766 - YP_loss: 1.8950 - YT_acc: 0.7984 - YP_acc: 0.3389 - val_loss: 2.4492 - val_YT_loss: 0.6498 - val_YP_loss: 1.7994 - val_YT_acc: 0.8001 - val_YP_acc: 0.3677\n",
      "Epoch 86/250\n",
      "3608/3608 [==============================] - 48s 13ms/step - loss: 2.5787 - YT_loss: 0.6774 - YP_loss: 1.9012 - YT_acc: 0.7999 - YP_acc: 0.3365 - val_loss: 2.4494 - val_YT_loss: 0.6479 - val_YP_loss: 1.8016 - val_YT_acc: 0.8001 - val_YP_acc: 0.3710\n",
      "Epoch 87/250\n",
      "3608/3608 [==============================] - 49s 14ms/step - loss: 2.5736 - YT_loss: 0.6769 - YP_loss: 1.8967 - YT_acc: 0.7994 - YP_acc: 0.3391 - val_loss: 2.4518 - val_YT_loss: 0.6492 - val_YP_loss: 1.8026 - val_YT_acc: 0.8012 - val_YP_acc: 0.3683\n",
      "Epoch 88/250\n",
      "3608/3608 [==============================] - 48s 13ms/step - loss: 2.5784 - YT_loss: 0.6770 - YP_loss: 1.9014 - YT_acc: 0.8000 - YP_acc: 0.3372 - val_loss: 2.4547 - val_YT_loss: 0.6596 - val_YP_loss: 1.7951 - val_YT_acc: 0.8002 - val_YP_acc: 0.3716\n",
      "Epoch 89/250\n",
      "3608/3608 [==============================] - 48s 13ms/step - loss: 2.5855 - YT_loss: 0.6888 - YP_loss: 1.8967 - YT_acc: 0.7978 - YP_acc: 0.3390 - val_loss: 2.4491 - val_YT_loss: 0.6517 - val_YP_loss: 1.7974 - val_YT_acc: 0.8008 - val_YP_acc: 0.3703\n",
      "Epoch 90/250\n",
      "3608/3608 [==============================] - 48s 13ms/step - loss: 2.5668 - YT_loss: 0.6744 - YP_loss: 1.8924 - YT_acc: 0.8012 - YP_acc: 0.3396 - val_loss: 2.4424 - val_YT_loss: 0.6459 - val_YP_loss: 1.7965 - val_YT_acc: 0.8013 - val_YP_acc: 0.3699\n",
      "Epoch 91/250\n",
      "3608/3608 [==============================] - 49s 14ms/step - loss: 2.5769 - YT_loss: 0.6870 - YP_loss: 1.8899 - YT_acc: 0.7978 - YP_acc: 0.3417 - val_loss: 2.4360 - val_YT_loss: 0.6453 - val_YP_loss: 1.7907 - val_YT_acc: 0.8021 - val_YP_acc: 0.3729\n",
      "Epoch 92/250\n",
      "3608/3608 [==============================] - 48s 13ms/step - loss: 2.5620 - YT_loss: 0.6763 - YP_loss: 1.8858 - YT_acc: 0.8002 - YP_acc: 0.3421 - val_loss: 2.4430 - val_YT_loss: 0.6442 - val_YP_loss: 1.7988 - val_YT_acc: 0.8010 - val_YP_acc: 0.3695\n",
      "Epoch 93/250\n",
      "3608/3608 [==============================] - 48s 13ms/step - loss: 2.5736 - YT_loss: 0.6792 - YP_loss: 1.8943 - YT_acc: 0.7995 - YP_acc: 0.3397 - val_loss: 2.4565 - val_YT_loss: 0.6489 - val_YP_loss: 1.8076 - val_YT_acc: 0.8010 - val_YP_acc: 0.3666\n",
      "Epoch 94/250\n",
      "3608/3608 [==============================] - 48s 13ms/step - loss: 2.5725 - YT_loss: 0.6783 - YP_loss: 1.8943 - YT_acc: 0.7995 - YP_acc: 0.3390 - val_loss: 2.4482 - val_YT_loss: 0.6477 - val_YP_loss: 1.8006 - val_YT_acc: 0.8004 - val_YP_acc: 0.3703\n",
      "Epoch 95/250\n",
      "3608/3608 [==============================] - 48s 13ms/step - loss: 2.5640 - YT_loss: 0.6745 - YP_loss: 1.8895 - YT_acc: 0.8010 - YP_acc: 0.3410 - val_loss: 2.4431 - val_YT_loss: 0.6507 - val_YP_loss: 1.7924 - val_YT_acc: 0.8018 - val_YP_acc: 0.3708\n",
      "Epoch 96/250\n",
      "3608/3608 [==============================] - 48s 13ms/step - loss: 2.5589 - YT_loss: 0.6700 - YP_loss: 1.8888 - YT_acc: 0.8008 - YP_acc: 0.3404 - val_loss: 2.4352 - val_YT_loss: 0.6421 - val_YP_loss: 1.7932 - val_YT_acc: 0.8023 - val_YP_acc: 0.3721\n",
      "Epoch 97/250\n",
      "3608/3608 [==============================] - 49s 13ms/step - loss: 2.5612 - YT_loss: 0.6705 - YP_loss: 1.8906 - YT_acc: 0.8004 - YP_acc: 0.3407 - val_loss: 2.4307 - val_YT_loss: 0.6416 - val_YP_loss: 1.7891 - val_YT_acc: 0.8026 - val_YP_acc: 0.3753\n",
      "Epoch 98/250\n",
      "3608/3608 [==============================] - 48s 13ms/step - loss: 2.5571 - YT_loss: 0.6732 - YP_loss: 1.8840 - YT_acc: 0.8008 - YP_acc: 0.3432 - val_loss: 2.4364 - val_YT_loss: 0.6434 - val_YP_loss: 1.7929 - val_YT_acc: 0.8017 - val_YP_acc: 0.3709\n",
      "Epoch 99/250\n",
      "3608/3608 [==============================] - 48s 13ms/step - loss: 2.5589 - YT_loss: 0.6724 - YP_loss: 1.8865 - YT_acc: 0.8000 - YP_acc: 0.3419 - val_loss: 2.4245 - val_YT_loss: 0.6397 - val_YP_loss: 1.7849 - val_YT_acc: 0.8022 - val_YP_acc: 0.3745\n",
      "Epoch 100/250\n",
      "3608/3608 [==============================] - 49s 14ms/step - loss: 2.5492 - YT_loss: 0.6652 - YP_loss: 1.8840 - YT_acc: 0.8011 - YP_acc: 0.3443 - val_loss: 2.4378 - val_YT_loss: 0.6491 - val_YP_loss: 1.7887 - val_YT_acc: 0.8024 - val_YP_acc: 0.3748\n",
      "Epoch 101/250\n",
      "3608/3608 [==============================] - 48s 13ms/step - loss: 2.5565 - YT_loss: 0.6718 - YP_loss: 1.8847 - YT_acc: 0.8007 - YP_acc: 0.3420 - val_loss: 2.4228 - val_YT_loss: 0.6394 - val_YP_loss: 1.7834 - val_YT_acc: 0.8037 - val_YP_acc: 0.3779\n",
      "Epoch 102/250\n",
      "3608/3608 [==============================] - 48s 13ms/step - loss: 2.5528 - YT_loss: 0.6694 - YP_loss: 1.8833 - YT_acc: 0.8019 - YP_acc: 0.3431 - val_loss: 2.4224 - val_YT_loss: 0.6377 - val_YP_loss: 1.7846 - val_YT_acc: 0.8016 - val_YP_acc: 0.3737\n",
      "Epoch 103/250\n",
      "3608/3608 [==============================] - 48s 13ms/step - loss: 2.5580 - YT_loss: 0.6737 - YP_loss: 1.8843 - YT_acc: 0.7999 - YP_acc: 0.3433 - val_loss: 2.4304 - val_YT_loss: 0.6418 - val_YP_loss: 1.7886 - val_YT_acc: 0.8028 - val_YP_acc: 0.3750\n",
      "Epoch 104/250\n",
      "3608/3608 [==============================] - 48s 13ms/step - loss: 2.5604 - YT_loss: 0.6754 - YP_loss: 1.8850 - YT_acc: 0.8006 - YP_acc: 0.3429 - val_loss: 2.4251 - val_YT_loss: 0.6393 - val_YP_loss: 1.7857 - val_YT_acc: 0.8032 - val_YP_acc: 0.3754\n",
      "Epoch 105/250\n",
      "3608/3608 [==============================] - 48s 13ms/step - loss: 2.5448 - YT_loss: 0.6644 - YP_loss: 1.8804 - YT_acc: 0.8030 - YP_acc: 0.3443 - val_loss: 2.4189 - val_YT_loss: 0.6351 - val_YP_loss: 1.7838 - val_YT_acc: 0.8026 - val_YP_acc: 0.3754\n",
      "Epoch 106/250\n",
      "3608/3608 [==============================] - 48s 13ms/step - loss: 2.5439 - YT_loss: 0.6629 - YP_loss: 1.8810 - YT_acc: 0.8021 - YP_acc: 0.3438 - val_loss: 2.4201 - val_YT_loss: 0.6371 - val_YP_loss: 1.7831 - val_YT_acc: 0.8030 - val_YP_acc: 0.3759\n",
      "Epoch 107/250\n",
      "3608/3608 [==============================] - 48s 13ms/step - loss: 2.5404 - YT_loss: 0.6609 - YP_loss: 1.8795 - YT_acc: 0.8027 - YP_acc: 0.3435 - val_loss: 2.4126 - val_YT_loss: 0.6369 - val_YP_loss: 1.7757 - val_YT_acc: 0.8023 - val_YP_acc: 0.3782\n",
      "Epoch 108/250\n",
      "3608/3608 [==============================] - 48s 13ms/step - loss: 2.5395 - YT_loss: 0.6670 - YP_loss: 1.8726 - YT_acc: 0.8020 - YP_acc: 0.3462 - val_loss: 2.4124 - val_YT_loss: 0.6357 - val_YP_loss: 1.7767 - val_YT_acc: 0.8033 - val_YP_acc: 0.3772\n",
      "Epoch 109/250\n",
      "3608/3608 [==============================] - 48s 13ms/step - loss: 2.5408 - YT_loss: 0.6642 - YP_loss: 1.8766 - YT_acc: 0.8024 - YP_acc: 0.3451 - val_loss: 2.4114 - val_YT_loss: 0.6337 - val_YP_loss: 1.7777 - val_YT_acc: 0.8043 - val_YP_acc: 0.3758\n",
      "Epoch 110/250\n",
      "3608/3608 [==============================] - 49s 14ms/step - loss: 2.5291 - YT_loss: 0.6547 - YP_loss: 1.8744 - YT_acc: 0.8044 - YP_acc: 0.3455 - val_loss: 2.4042 - val_YT_loss: 0.6283 - val_YP_loss: 1.7760 - val_YT_acc: 0.8032 - val_YP_acc: 0.3769\n",
      "Epoch 111/250\n",
      "3608/3608 [==============================] - 48s 13ms/step - loss: 2.5327 - YT_loss: 0.6604 - YP_loss: 1.8723 - YT_acc: 0.8026 - YP_acc: 0.3465 - val_loss: 2.4075 - val_YT_loss: 0.6314 - val_YP_loss: 1.7761 - val_YT_acc: 0.8042 - val_YP_acc: 0.3767\n",
      "Epoch 112/250\n",
      "3608/3608 [==============================] - 48s 13ms/step - loss: 2.5328 - YT_loss: 0.6605 - YP_loss: 1.8722 - YT_acc: 0.8034 - YP_acc: 0.3461 - val_loss: 2.4042 - val_YT_loss: 0.6322 - val_YP_loss: 1.7720 - val_YT_acc: 0.8031 - val_YP_acc: 0.3794\n",
      "Epoch 113/250\n",
      "3608/3608 [==============================] - 48s 13ms/step - loss: 2.5372 - YT_loss: 0.6650 - YP_loss: 1.8722 - YT_acc: 0.8017 - YP_acc: 0.3464 - val_loss: 2.4104 - val_YT_loss: 0.6319 - val_YP_loss: 1.7785 - val_YT_acc: 0.8052 - val_YP_acc: 0.3779\n",
      "Epoch 114/250\n",
      "3608/3608 [==============================] - 49s 14ms/step - loss: 2.5313 - YT_loss: 0.6589 - YP_loss: 1.8724 - YT_acc: 0.8026 - YP_acc: 0.3469 - val_loss: 2.4021 - val_YT_loss: 0.6268 - val_YP_loss: 1.7752 - val_YT_acc: 0.8050 - val_YP_acc: 0.3799\n",
      "Epoch 115/250\n",
      "3608/3608 [==============================] - 48s 13ms/step - loss: 2.5247 - YT_loss: 0.6553 - YP_loss: 1.8693 - YT_acc: 0.8043 - YP_acc: 0.3469 - val_loss: 2.4041 - val_YT_loss: 0.6318 - val_YP_loss: 1.7722 - val_YT_acc: 0.8064 - val_YP_acc: 0.3822\n",
      "Epoch 116/250\n",
      "3608/3608 [==============================] - 48s 13ms/step - loss: 2.5377 - YT_loss: 0.6671 - YP_loss: 1.8707 - YT_acc: 0.8018 - YP_acc: 0.3470 - val_loss: 2.3959 - val_YT_loss: 0.6244 - val_YP_loss: 1.7715 - val_YT_acc: 0.8049 - val_YP_acc: 0.3787\n",
      "Epoch 117/250\n",
      "3608/3608 [==============================] - 48s 13ms/step - loss: 2.5246 - YT_loss: 0.6544 - YP_loss: 1.8702 - YT_acc: 0.8033 - YP_acc: 0.3472 - val_loss: 2.4020 - val_YT_loss: 0.6262 - val_YP_loss: 1.7758 - val_YT_acc: 0.8049 - val_YP_acc: 0.3794\n",
      "Epoch 118/250\n",
      "3608/3608 [==============================] - 48s 13ms/step - loss: 2.5198 - YT_loss: 0.6500 - YP_loss: 1.8698 - YT_acc: 0.8044 - YP_acc: 0.3480 - val_loss: 2.3961 - val_YT_loss: 0.6283 - val_YP_loss: 1.7678 - val_YT_acc: 0.8035 - val_YP_acc: 0.3818\n",
      "Epoch 119/250\n",
      "3608/3608 [==============================] - 48s 13ms/step - loss: 2.5165 - YT_loss: 0.6496 - YP_loss: 1.8670 - YT_acc: 0.8058 - YP_acc: 0.3476 - val_loss: 2.3869 - val_YT_loss: 0.6215 - val_YP_loss: 1.7654 - val_YT_acc: 0.8052 - val_YP_acc: 0.3809\n",
      "Epoch 120/250\n",
      "3608/3608 [==============================] - 48s 13ms/step - loss: 2.5291 - YT_loss: 0.6644 - YP_loss: 1.8647 - YT_acc: 0.8013 - YP_acc: 0.3484 - val_loss: 2.3940 - val_YT_loss: 0.6236 - val_YP_loss: 1.7704 - val_YT_acc: 0.8064 - val_YP_acc: 0.3797\n",
      "Epoch 121/250\n",
      "3608/3608 [==============================] - 48s 13ms/step - loss: 2.5122 - YT_loss: 0.6466 - YP_loss: 1.8656 - YT_acc: 0.8065 - YP_acc: 0.3484 - val_loss: 2.3865 - val_YT_loss: 0.6229 - val_YP_loss: 1.7637 - val_YT_acc: 0.8064 - val_YP_acc: 0.3808\n",
      "Epoch 122/250\n",
      "3608/3608 [==============================] - 49s 14ms/step - loss: 2.5219 - YT_loss: 0.6576 - YP_loss: 1.8643 - YT_acc: 0.8036 - YP_acc: 0.3491 - val_loss: 2.3866 - val_YT_loss: 0.6213 - val_YP_loss: 1.7653 - val_YT_acc: 0.8042 - val_YP_acc: 0.3824\n",
      "Epoch 123/250\n",
      "3608/3608 [==============================] - 48s 13ms/step - loss: 2.5222 - YT_loss: 0.6579 - YP_loss: 1.8642 - YT_acc: 0.8027 - YP_acc: 0.3490 - val_loss: 2.3991 - val_YT_loss: 0.6274 - val_YP_loss: 1.7717 - val_YT_acc: 0.8047 - val_YP_acc: 0.3785\n",
      "Epoch 124/250\n",
      "3608/3608 [==============================] - 48s 13ms/step - loss: 2.5261 - YT_loss: 0.6617 - YP_loss: 1.8644 - YT_acc: 0.8022 - YP_acc: 0.3495 - val_loss: 2.3891 - val_YT_loss: 0.6270 - val_YP_loss: 1.7621 - val_YT_acc: 0.8043 - val_YP_acc: 0.3826\n",
      "Epoch 125/250\n"
     ]
    },
    {
     "name": "stdout",
     "output_type": "stream",
     "text": [
      "3608/3608 [==============================] - 48s 13ms/step - loss: 2.5159 - YT_loss: 0.6545 - YP_loss: 1.8615 - YT_acc: 0.8044 - YP_acc: 0.3490 - val_loss: 2.3823 - val_YT_loss: 0.6196 - val_YP_loss: 1.7627 - val_YT_acc: 0.8055 - val_YP_acc: 0.3815\n",
      "Epoch 126/250\n",
      "3608/3608 [==============================] - 48s 13ms/step - loss: 2.5070 - YT_loss: 0.6454 - YP_loss: 1.8615 - YT_acc: 0.8054 - YP_acc: 0.3502 - val_loss: 2.3836 - val_YT_loss: 0.6214 - val_YP_loss: 1.7622 - val_YT_acc: 0.8059 - val_YP_acc: 0.3838\n",
      "Epoch 127/250\n",
      "3608/3608 [==============================] - 49s 13ms/step - loss: 2.5048 - YT_loss: 0.6471 - YP_loss: 1.8577 - YT_acc: 0.8055 - YP_acc: 0.3509 - val_loss: 2.3713 - val_YT_loss: 0.6149 - val_YP_loss: 1.7564 - val_YT_acc: 0.8071 - val_YP_acc: 0.3857\n",
      "Epoch 128/250\n",
      "3608/3608 [==============================] - 48s 13ms/step - loss: 2.5006 - YT_loss: 0.6447 - YP_loss: 1.8559 - YT_acc: 0.8053 - YP_acc: 0.3526 - val_loss: 2.3807 - val_YT_loss: 0.6209 - val_YP_loss: 1.7597 - val_YT_acc: 0.8061 - val_YP_acc: 0.3851\n",
      "Epoch 129/250\n",
      "3608/3608 [==============================] - 49s 14ms/step - loss: 2.5068 - YT_loss: 0.6480 - YP_loss: 1.8588 - YT_acc: 0.8057 - YP_acc: 0.3516 - val_loss: 2.3752 - val_YT_loss: 0.6153 - val_YP_loss: 1.7599 - val_YT_acc: 0.8070 - val_YP_acc: 0.3838\n",
      "Epoch 130/250\n",
      "3608/3608 [==============================] - 48s 13ms/step - loss: 2.5103 - YT_loss: 0.6490 - YP_loss: 1.8613 - YT_acc: 0.8044 - YP_acc: 0.3515 - val_loss: 2.3874 - val_YT_loss: 0.6155 - val_YP_loss: 1.7719 - val_YT_acc: 0.8074 - val_YP_acc: 0.3801\n",
      "Epoch 131/250\n",
      "3608/3608 [==============================] - 48s 13ms/step - loss: 2.5107 - YT_loss: 0.6469 - YP_loss: 1.8638 - YT_acc: 0.8055 - YP_acc: 0.3485 - val_loss: 2.3748 - val_YT_loss: 0.6151 - val_YP_loss: 1.7597 - val_YT_acc: 0.8058 - val_YP_acc: 0.3840\n",
      "Epoch 132/250\n",
      "3608/3608 [==============================] - 48s 13ms/step - loss: 2.4928 - YT_loss: 0.6385 - YP_loss: 1.8543 - YT_acc: 0.8067 - YP_acc: 0.3517 - val_loss: 2.3671 - val_YT_loss: 0.6115 - val_YP_loss: 1.7556 - val_YT_acc: 0.8061 - val_YP_acc: 0.3846\n",
      "Epoch 133/250\n",
      "3608/3608 [==============================] - 48s 13ms/step - loss: 2.5039 - YT_loss: 0.6556 - YP_loss: 1.8483 - YT_acc: 0.8026 - YP_acc: 0.3541 - val_loss: 2.3734 - val_YT_loss: 0.6154 - val_YP_loss: 1.7580 - val_YT_acc: 0.8084 - val_YP_acc: 0.3858\n",
      "Epoch 134/250\n",
      "3608/3608 [==============================] - 48s 13ms/step - loss: 2.5008 - YT_loss: 0.6479 - YP_loss: 1.8530 - YT_acc: 0.8036 - YP_acc: 0.3537 - val_loss: 2.3707 - val_YT_loss: 0.6159 - val_YP_loss: 1.7549 - val_YT_acc: 0.8055 - val_YP_acc: 0.3865\n",
      "Epoch 135/250\n",
      "3608/3608 [==============================] - 48s 13ms/step - loss: 2.4941 - YT_loss: 0.6406 - YP_loss: 1.8536 - YT_acc: 0.8056 - YP_acc: 0.3532 - val_loss: 2.3680 - val_YT_loss: 0.6131 - val_YP_loss: 1.7550 - val_YT_acc: 0.8073 - val_YP_acc: 0.3886\n",
      "Epoch 136/250\n",
      "3608/3608 [==============================] - 48s 13ms/step - loss: 2.4853 - YT_loss: 0.6349 - YP_loss: 1.8504 - YT_acc: 0.8078 - YP_acc: 0.3540 - val_loss: 2.3619 - val_YT_loss: 0.6062 - val_YP_loss: 1.7557 - val_YT_acc: 0.8081 - val_YP_acc: 0.3847\n",
      "Epoch 137/250\n",
      "3608/3608 [==============================] - 48s 13ms/step - loss: 2.4872 - YT_loss: 0.6388 - YP_loss: 1.8485 - YT_acc: 0.8069 - YP_acc: 0.3552 - val_loss: 2.3680 - val_YT_loss: 0.6073 - val_YP_loss: 1.7607 - val_YT_acc: 0.8080 - val_YP_acc: 0.3844\n",
      "Epoch 138/250\n",
      "3608/3608 [==============================] - 49s 13ms/step - loss: 2.4958 - YT_loss: 0.6435 - YP_loss: 1.8523 - YT_acc: 0.8050 - YP_acc: 0.3532 - val_loss: 2.3601 - val_YT_loss: 0.6085 - val_YP_loss: 1.7516 - val_YT_acc: 0.8074 - val_YP_acc: 0.3892\n",
      "Epoch 139/250\n",
      "3608/3608 [==============================] - 49s 14ms/step - loss: 2.4992 - YT_loss: 0.6490 - YP_loss: 1.8502 - YT_acc: 0.8042 - YP_acc: 0.3543 - val_loss: 2.3662 - val_YT_loss: 0.6103 - val_YP_loss: 1.7559 - val_YT_acc: 0.8080 - val_YP_acc: 0.3857\n",
      "Epoch 140/250\n",
      "3608/3608 [==============================] - 49s 13ms/step - loss: 2.4907 - YT_loss: 0.6391 - YP_loss: 1.8515 - YT_acc: 0.8071 - YP_acc: 0.3525 - val_loss: 2.3599 - val_YT_loss: 0.6137 - val_YP_loss: 1.7462 - val_YT_acc: 0.8061 - val_YP_acc: 0.3878\n",
      "Epoch 141/250\n",
      "3608/3608 [==============================] - 48s 13ms/step - loss: 2.4927 - YT_loss: 0.6462 - YP_loss: 1.8465 - YT_acc: 0.8045 - YP_acc: 0.3554 - val_loss: 2.3540 - val_YT_loss: 0.6071 - val_YP_loss: 1.7470 - val_YT_acc: 0.8089 - val_YP_acc: 0.3901\n",
      "Epoch 142/250\n",
      "3608/3608 [==============================] - 49s 13ms/step - loss: 2.4896 - YT_loss: 0.6396 - YP_loss: 1.8500 - YT_acc: 0.8060 - YP_acc: 0.3541 - val_loss: 2.3569 - val_YT_loss: 0.6069 - val_YP_loss: 1.7500 - val_YT_acc: 0.8079 - val_YP_acc: 0.3902\n",
      "Epoch 143/250\n",
      "3608/3608 [==============================] - 48s 13ms/step - loss: 2.4861 - YT_loss: 0.6414 - YP_loss: 1.8448 - YT_acc: 0.8058 - YP_acc: 0.3550 - val_loss: 2.3530 - val_YT_loss: 0.6058 - val_YP_loss: 1.7472 - val_YT_acc: 0.8095 - val_YP_acc: 0.3889\n",
      "Epoch 144/250\n",
      "3608/3608 [==============================] - 48s 13ms/step - loss: 2.4800 - YT_loss: 0.6352 - YP_loss: 1.8449 - YT_acc: 0.8078 - YP_acc: 0.3552 - val_loss: 2.3748 - val_YT_loss: 0.6081 - val_YP_loss: 1.7667 - val_YT_acc: 0.8088 - val_YP_acc: 0.3827\n",
      "Epoch 145/250\n",
      "3608/3608 [==============================] - 49s 14ms/step - loss: 2.4964 - YT_loss: 0.6433 - YP_loss: 1.8531 - YT_acc: 0.8050 - YP_acc: 0.3539 - val_loss: 2.3568 - val_YT_loss: 0.6075 - val_YP_loss: 1.7493 - val_YT_acc: 0.8083 - val_YP_acc: 0.3883\n",
      "Epoch 146/250\n",
      "3608/3608 [==============================] - 48s 13ms/step - loss: 2.4834 - YT_loss: 0.6337 - YP_loss: 1.8497 - YT_acc: 0.8086 - YP_acc: 0.3536 - val_loss: 2.3641 - val_YT_loss: 0.6097 - val_YP_loss: 1.7544 - val_YT_acc: 0.8084 - val_YP_acc: 0.3883\n",
      "Epoch 147/250\n",
      "3608/3608 [==============================] - 49s 13ms/step - loss: 2.4941 - YT_loss: 0.6415 - YP_loss: 1.8525 - YT_acc: 0.8059 - YP_acc: 0.3527 - val_loss: 2.3534 - val_YT_loss: 0.6047 - val_YP_loss: 1.7487 - val_YT_acc: 0.8102 - val_YP_acc: 0.3867\n",
      "Epoch 148/250\n",
      "3608/3608 [==============================] - 49s 14ms/step - loss: 2.4884 - YT_loss: 0.6404 - YP_loss: 1.8480 - YT_acc: 0.8063 - YP_acc: 0.3552 - val_loss: 2.3533 - val_YT_loss: 0.6083 - val_YP_loss: 1.7450 - val_YT_acc: 0.8090 - val_YP_acc: 0.3872\n",
      "Epoch 149/250\n",
      "3608/3608 [==============================] - 49s 13ms/step - loss: 2.4848 - YT_loss: 0.6360 - YP_loss: 1.8488 - YT_acc: 0.8075 - YP_acc: 0.3552 - val_loss: 2.3522 - val_YT_loss: 0.6083 - val_YP_loss: 1.7439 - val_YT_acc: 0.8065 - val_YP_acc: 0.3908\n",
      "Epoch 150/250\n",
      "3608/3608 [==============================] - 48s 13ms/step - loss: 2.4849 - YT_loss: 0.6356 - YP_loss: 1.8493 - YT_acc: 0.8064 - YP_acc: 0.3548 - val_loss: 2.3470 - val_YT_loss: 0.6036 - val_YP_loss: 1.7434 - val_YT_acc: 0.8102 - val_YP_acc: 0.3904\n",
      "Epoch 151/250\n",
      "3608/3608 [==============================] - 49s 13ms/step - loss: 2.4917 - YT_loss: 0.6457 - YP_loss: 1.8461 - YT_acc: 0.8048 - YP_acc: 0.3554 - val_loss: 2.3516 - val_YT_loss: 0.6049 - val_YP_loss: 1.7466 - val_YT_acc: 0.8103 - val_YP_acc: 0.3894\n",
      "Epoch 152/250\n",
      "3608/3608 [==============================] - 48s 13ms/step - loss: 2.4757 - YT_loss: 0.6302 - YP_loss: 1.8455 - YT_acc: 0.8085 - YP_acc: 0.3554 - val_loss: 2.3447 - val_YT_loss: 0.5985 - val_YP_loss: 1.7462 - val_YT_acc: 0.8080 - val_YP_acc: 0.3902\n",
      "Epoch 153/250\n",
      "3608/3608 [==============================] - 48s 13ms/step - loss: 2.4835 - YT_loss: 0.6404 - YP_loss: 1.8432 - YT_acc: 0.8050 - YP_acc: 0.3564 - val_loss: 2.3529 - val_YT_loss: 0.6048 - val_YP_loss: 1.7480 - val_YT_acc: 0.8101 - val_YP_acc: 0.3892\n",
      "Epoch 154/250\n",
      "3608/3608 [==============================] - 48s 13ms/step - loss: 2.4849 - YT_loss: 0.6366 - YP_loss: 1.8483 - YT_acc: 0.8064 - YP_acc: 0.3553 - val_loss: 2.3501 - val_YT_loss: 0.6043 - val_YP_loss: 1.7458 - val_YT_acc: 0.8092 - val_YP_acc: 0.3879\n",
      "Epoch 155/250\n",
      "3608/3608 [==============================] - 48s 13ms/step - loss: 2.4776 - YT_loss: 0.6361 - YP_loss: 1.8415 - YT_acc: 0.8063 - YP_acc: 0.3563 - val_loss: 2.3456 - val_YT_loss: 0.6017 - val_YP_loss: 1.7439 - val_YT_acc: 0.8097 - val_YP_acc: 0.3920\n",
      "Epoch 156/250\n",
      "3608/3608 [==============================] - 48s 13ms/step - loss: 2.4830 - YT_loss: 0.6407 - YP_loss: 1.8423 - YT_acc: 0.8059 - YP_acc: 0.3569 - val_loss: 2.3410 - val_YT_loss: 0.6011 - val_YP_loss: 1.7400 - val_YT_acc: 0.8094 - val_YP_acc: 0.3908\n",
      "Epoch 157/250\n",
      "3608/3608 [==============================] - 49s 13ms/step - loss: 2.4801 - YT_loss: 0.6353 - YP_loss: 1.8448 - YT_acc: 0.8068 - YP_acc: 0.3558 - val_loss: 2.3355 - val_YT_loss: 0.6000 - val_YP_loss: 1.7355 - val_YT_acc: 0.8087 - val_YP_acc: 0.3931\n",
      "Epoch 158/250\n",
      "3608/3608 [==============================] - 49s 13ms/step - loss: 2.4679 - YT_loss: 0.6292 - YP_loss: 1.8387 - YT_acc: 0.8082 - YP_acc: 0.3577 - val_loss: 2.3397 - val_YT_loss: 0.5970 - val_YP_loss: 1.7427 - val_YT_acc: 0.8096 - val_YP_acc: 0.3915\n",
      "Epoch 159/250\n",
      "3608/3608 [==============================] - 49s 14ms/step - loss: 2.4634 - YT_loss: 0.6312 - YP_loss: 1.8322 - YT_acc: 0.8082 - YP_acc: 0.3594 - val_loss: 2.3304 - val_YT_loss: 0.5961 - val_YP_loss: 1.7343 - val_YT_acc: 0.8100 - val_YP_acc: 0.3944\n",
      "Epoch 160/250\n",
      "3608/3608 [==============================] - 48s 13ms/step - loss: 2.4614 - YT_loss: 0.6308 - YP_loss: 1.8306 - YT_acc: 0.8075 - YP_acc: 0.3604 - val_loss: 2.3342 - val_YT_loss: 0.5986 - val_YP_loss: 1.7356 - val_YT_acc: 0.8107 - val_YP_acc: 0.3924\n",
      "Epoch 161/250\n",
      "3608/3608 [==============================] - 49s 13ms/step - loss: 2.4666 - YT_loss: 0.6320 - YP_loss: 1.8346 - YT_acc: 0.8075 - YP_acc: 0.3581 - val_loss: 2.3353 - val_YT_loss: 0.5977 - val_YP_loss: 1.7377 - val_YT_acc: 0.8104 - val_YP_acc: 0.3918\n",
      "Epoch 162/250\n",
      "3608/3608 [==============================] - 48s 13ms/step - loss: 2.4798 - YT_loss: 0.6381 - YP_loss: 1.8417 - YT_acc: 0.8059 - YP_acc: 0.3574 - val_loss: 2.3392 - val_YT_loss: 0.6013 - val_YP_loss: 1.7379 - val_YT_acc: 0.8112 - val_YP_acc: 0.3906\n",
      "Epoch 163/250\n",
      "3608/3608 [==============================] - 48s 13ms/step - loss: 2.5054 - YT_loss: 0.6557 - YP_loss: 1.8497 - YT_acc: 0.8032 - YP_acc: 0.3555 - val_loss: 2.3615 - val_YT_loss: 0.6098 - val_YP_loss: 1.7517 - val_YT_acc: 0.8066 - val_YP_acc: 0.3862\n",
      "Epoch 164/250\n",
      "3608/3608 [==============================] - 48s 13ms/step - loss: 2.4952 - YT_loss: 0.6498 - YP_loss: 1.8454 - YT_acc: 0.8035 - YP_acc: 0.3556 - val_loss: 2.3432 - val_YT_loss: 0.6025 - val_YP_loss: 1.7407 - val_YT_acc: 0.8103 - val_YP_acc: 0.3906\n",
      "Epoch 165/250\n",
      "3608/3608 [==============================] - 48s 13ms/step - loss: 2.4798 - YT_loss: 0.6401 - YP_loss: 1.8396 - YT_acc: 0.8065 - YP_acc: 0.3564 - val_loss: 2.3433 - val_YT_loss: 0.6022 - val_YP_loss: 1.7411 - val_YT_acc: 0.8102 - val_YP_acc: 0.3925\n",
      "Epoch 166/250\n",
      "3608/3608 [==============================] - 48s 13ms/step - loss: 2.4792 - YT_loss: 0.6403 - YP_loss: 1.8389 - YT_acc: 0.8055 - YP_acc: 0.3578 - val_loss: 2.3322 - val_YT_loss: 0.5978 - val_YP_loss: 1.7344 - val_YT_acc: 0.8114 - val_YP_acc: 0.3942\n",
      "Epoch 167/250\n",
      "3608/3608 [==============================] - 48s 13ms/step - loss: 2.4714 - YT_loss: 0.6365 - YP_loss: 1.8349 - YT_acc: 0.8055 - YP_acc: 0.3582 - val_loss: 2.3318 - val_YT_loss: 0.5971 - val_YP_loss: 1.7347 - val_YT_acc: 0.8114 - val_YP_acc: 0.3930\n",
      "Epoch 168/250\n",
      "3608/3608 [==============================] - 48s 13ms/step - loss: 2.4689 - YT_loss: 0.6345 - YP_loss: 1.8344 - YT_acc: 0.8073 - YP_acc: 0.3591 - val_loss: 2.3367 - val_YT_loss: 0.6005 - val_YP_loss: 1.7362 - val_YT_acc: 0.8105 - val_YP_acc: 0.3914\n",
      "Epoch 169/250\n",
      "3608/3608 [==============================] - 48s 13ms/step - loss: 2.4595 - YT_loss: 0.6293 - YP_loss: 1.8302 - YT_acc: 0.8083 - YP_acc: 0.3603 - val_loss: 2.3336 - val_YT_loss: 0.5964 - val_YP_loss: 1.7372 - val_YT_acc: 0.8111 - val_YP_acc: 0.3943\n",
      "Epoch 170/250\n",
      "3608/3608 [==============================] - 48s 13ms/step - loss: 2.4762 - YT_loss: 0.6396 - YP_loss: 1.8365 - YT_acc: 0.8056 - YP_acc: 0.3587 - val_loss: 2.3364 - val_YT_loss: 0.5975 - val_YP_loss: 1.7389 - val_YT_acc: 0.8111 - val_YP_acc: 0.3910\n",
      "Epoch 171/250\n",
      "3608/3608 [==============================] - 48s 13ms/step - loss: 2.4782 - YT_loss: 0.6439 - YP_loss: 1.8342 - YT_acc: 0.8052 - YP_acc: 0.3596 - val_loss: 2.3345 - val_YT_loss: 0.5987 - val_YP_loss: 1.7358 - val_YT_acc: 0.8096 - val_YP_acc: 0.3916\n",
      "Epoch 172/250\n",
      "3608/3608 [==============================] - 48s 13ms/step - loss: 2.4598 - YT_loss: 0.6238 - YP_loss: 1.8361 - YT_acc: 0.8079 - YP_acc: 0.3567 - val_loss: 2.3455 - val_YT_loss: 0.6075 - val_YP_loss: 1.7380 - val_YT_acc: 0.8080 - val_YP_acc: 0.3931\n",
      "Epoch 173/250\n",
      "3608/3608 [==============================] - 50s 14ms/step - loss: 2.4672 - YT_loss: 0.6349 - YP_loss: 1.8324 - YT_acc: 0.8069 - YP_acc: 0.3607 - val_loss: 2.3433 - val_YT_loss: 0.6038 - val_YP_loss: 1.7395 - val_YT_acc: 0.8112 - val_YP_acc: 0.3880\n",
      "Epoch 174/250\n",
      "3608/3608 [==============================] - 50s 14ms/step - loss: 2.4797 - YT_loss: 0.6390 - YP_loss: 1.8407 - YT_acc: 0.8071 - YP_acc: 0.3573 - val_loss: 2.3438 - val_YT_loss: 0.5984 - val_YP_loss: 1.7454 - val_YT_acc: 0.8109 - val_YP_acc: 0.3895\n",
      "Epoch 175/250\n",
      "3608/3608 [==============================] - 48s 13ms/step - loss: 2.4773 - YT_loss: 0.6400 - YP_loss: 1.8374 - YT_acc: 0.8058 - YP_acc: 0.3593 - val_loss: 2.3342 - val_YT_loss: 0.5988 - val_YP_loss: 1.7354 - val_YT_acc: 0.8106 - val_YP_acc: 0.3937\n",
      "Epoch 176/250\n",
      "3608/3608 [==============================] - 48s 13ms/step - loss: 2.4587 - YT_loss: 0.6280 - YP_loss: 1.8307 - YT_acc: 0.8086 - YP_acc: 0.3602 - val_loss: 2.3327 - val_YT_loss: 0.5969 - val_YP_loss: 1.7358 - val_YT_acc: 0.8105 - val_YP_acc: 0.3928\n",
      "Epoch 177/250\n",
      "3608/3608 [==============================] - 48s 13ms/step - loss: 2.4685 - YT_loss: 0.6337 - YP_loss: 1.8348 - YT_acc: 0.8071 - YP_acc: 0.3581 - val_loss: 2.3316 - val_YT_loss: 0.5952 - val_YP_loss: 1.7364 - val_YT_acc: 0.8101 - val_YP_acc: 0.3926\n",
      "Epoch 178/250\n",
      "3608/3608 [==============================] - 48s 13ms/step - loss: 2.4658 - YT_loss: 0.6332 - YP_loss: 1.8327 - YT_acc: 0.8069 - YP_acc: 0.3608 - val_loss: 2.3317 - val_YT_loss: 0.5994 - val_YP_loss: 1.7324 - val_YT_acc: 0.8105 - val_YP_acc: 0.3943\n",
      "Epoch 179/250\n",
      "3608/3608 [==============================] - 48s 13ms/step - loss: 2.4714 - YT_loss: 0.6351 - YP_loss: 1.8363 - YT_acc: 0.8071 - YP_acc: 0.3600 - val_loss: 2.3353 - val_YT_loss: 0.5924 - val_YP_loss: 1.7429 - val_YT_acc: 0.8131 - val_YP_acc: 0.3896\n",
      "Epoch 180/250\n",
      "3608/3608 [==============================] - 48s 13ms/step - loss: 2.4688 - YT_loss: 0.6300 - YP_loss: 1.8388 - YT_acc: 0.8073 - YP_acc: 0.3585 - val_loss: 2.3294 - val_YT_loss: 0.5935 - val_YP_loss: 1.7359 - val_YT_acc: 0.8112 - val_YP_acc: 0.3931\n",
      "Epoch 181/250\n",
      "3608/3608 [==============================] - 48s 13ms/step - loss: 2.4576 - YT_loss: 0.6258 - YP_loss: 1.8318 - YT_acc: 0.8085 - YP_acc: 0.3606 - val_loss: 2.3211 - val_YT_loss: 0.5912 - val_YP_loss: 1.7298 - val_YT_acc: 0.8114 - val_YP_acc: 0.3944\n",
      "Epoch 182/250\n",
      "3608/3608 [==============================] - 48s 13ms/step - loss: 2.4492 - YT_loss: 0.6182 - YP_loss: 1.8311 - YT_acc: 0.8100 - YP_acc: 0.3598 - val_loss: 2.3160 - val_YT_loss: 0.5893 - val_YP_loss: 1.7267 - val_YT_acc: 0.8130 - val_YP_acc: 0.3948\n",
      "Epoch 183/250\n",
      "3608/3608 [==============================] - 48s 13ms/step - loss: 2.4532 - YT_loss: 0.6253 - YP_loss: 1.8278 - YT_acc: 0.8081 - YP_acc: 0.3615 - val_loss: 2.3247 - val_YT_loss: 0.6004 - val_YP_loss: 1.7243 - val_YT_acc: 0.8092 - val_YP_acc: 0.3954\n",
      "Epoch 184/250\n",
      "3608/3608 [==============================] - 49s 14ms/step - loss: 2.4621 - YT_loss: 0.6351 - YP_loss: 1.8269 - YT_acc: 0.8070 - YP_acc: 0.3623 - val_loss: 2.3237 - val_YT_loss: 0.5966 - val_YP_loss: 1.7272 - val_YT_acc: 0.8107 - val_YP_acc: 0.3968\n",
      "Epoch 185/250\n",
      "3608/3608 [==============================] - 48s 13ms/step - loss: 2.4527 - YT_loss: 0.6265 - YP_loss: 1.8262 - YT_acc: 0.8082 - YP_acc: 0.3616 - val_loss: 2.3192 - val_YT_loss: 0.5923 - val_YP_loss: 1.7270 - val_YT_acc: 0.8109 - val_YP_acc: 0.3967\n",
      "Epoch 186/250\n",
      "3608/3608 [==============================] - 48s 13ms/step - loss: 2.4627 - YT_loss: 0.6318 - YP_loss: 1.8309 - YT_acc: 0.8053 - YP_acc: 0.3603 - val_loss: 2.3134 - val_YT_loss: 0.5899 - val_YP_loss: 1.7235 - val_YT_acc: 0.8126 - val_YP_acc: 0.3965\n",
      "Epoch 187/250\n"
     ]
    },
    {
     "name": "stdout",
     "output_type": "stream",
     "text": [
      "3608/3608 [==============================] - 49s 14ms/step - loss: 2.4536 - YT_loss: 0.6319 - YP_loss: 1.8217 - YT_acc: 0.8065 - YP_acc: 0.3644 - val_loss: 2.3131 - val_YT_loss: 0.5894 - val_YP_loss: 1.7237 - val_YT_acc: 0.8119 - val_YP_acc: 0.3972\n",
      "Epoch 188/250\n",
      "3608/3608 [==============================] - 48s 13ms/step - loss: 2.4463 - YT_loss: 0.6236 - YP_loss: 1.8228 - YT_acc: 0.8092 - YP_acc: 0.3630 - val_loss: 2.3086 - val_YT_loss: 0.5853 - val_YP_loss: 1.7233 - val_YT_acc: 0.8134 - val_YP_acc: 0.3988\n",
      "Epoch 189/250\n",
      "3608/3608 [==============================] - 48s 13ms/step - loss: 2.4494 - YT_loss: 0.6255 - YP_loss: 1.8239 - YT_acc: 0.8073 - YP_acc: 0.3629 - val_loss: 2.3142 - val_YT_loss: 0.5879 - val_YP_loss: 1.7263 - val_YT_acc: 0.8123 - val_YP_acc: 0.3972\n",
      "Epoch 190/250\n",
      "3608/3608 [==============================] - 48s 13ms/step - loss: 2.4512 - YT_loss: 0.6264 - YP_loss: 1.8248 - YT_acc: 0.8080 - YP_acc: 0.3634 - val_loss: 2.3092 - val_YT_loss: 0.5859 - val_YP_loss: 1.7233 - val_YT_acc: 0.8128 - val_YP_acc: 0.3964\n",
      "Epoch 191/250\n",
      "3608/3608 [==============================] - 49s 14ms/step - loss: 2.4441 - YT_loss: 0.6242 - YP_loss: 1.8199 - YT_acc: 0.8089 - YP_acc: 0.3645 - val_loss: 2.3060 - val_YT_loss: 0.5865 - val_YP_loss: 1.7195 - val_YT_acc: 0.8117 - val_YP_acc: 0.3994\n",
      "Epoch 192/250\n",
      "3608/3608 [==============================] - 48s 13ms/step - loss: 2.4406 - YT_loss: 0.6182 - YP_loss: 1.8224 - YT_acc: 0.8098 - YP_acc: 0.3631 - val_loss: 2.3108 - val_YT_loss: 0.5861 - val_YP_loss: 1.7247 - val_YT_acc: 0.8128 - val_YP_acc: 0.3967\n",
      "Epoch 193/250\n",
      "3608/3608 [==============================] - 48s 13ms/step - loss: 2.4400 - YT_loss: 0.6237 - YP_loss: 1.8163 - YT_acc: 0.8084 - YP_acc: 0.3657 - val_loss: 2.3146 - val_YT_loss: 0.5875 - val_YP_loss: 1.7271 - val_YT_acc: 0.8121 - val_YP_acc: 0.3976\n",
      "Epoch 194/250\n",
      "3608/3608 [==============================] - 48s 13ms/step - loss: 2.4403 - YT_loss: 0.6195 - YP_loss: 1.8208 - YT_acc: 0.8093 - YP_acc: 0.3640 - val_loss: 2.3263 - val_YT_loss: 0.5992 - val_YP_loss: 1.7271 - val_YT_acc: 0.8107 - val_YP_acc: 0.3935\n",
      "Epoch 195/250\n",
      "3608/3608 [==============================] - 48s 13ms/step - loss: 2.4617 - YT_loss: 0.6304 - YP_loss: 1.8313 - YT_acc: 0.8082 - YP_acc: 0.3602 - val_loss: 2.3192 - val_YT_loss: 0.5915 - val_YP_loss: 1.7276 - val_YT_acc: 0.8125 - val_YP_acc: 0.3962\n",
      "Epoch 196/250\n",
      "3608/3608 [==============================] - 48s 13ms/step - loss: 2.4554 - YT_loss: 0.6295 - YP_loss: 1.8259 - YT_acc: 0.8078 - YP_acc: 0.3625 - val_loss: 2.3119 - val_YT_loss: 0.5863 - val_YP_loss: 1.7256 - val_YT_acc: 0.8128 - val_YP_acc: 0.3953\n",
      "Epoch 197/250\n",
      "3608/3608 [==============================] - 48s 13ms/step - loss: 2.4544 - YT_loss: 0.6261 - YP_loss: 1.8282 - YT_acc: 0.8067 - YP_acc: 0.3620 - val_loss: 2.3155 - val_YT_loss: 0.5877 - val_YP_loss: 1.7278 - val_YT_acc: 0.8116 - val_YP_acc: 0.3934\n",
      "Epoch 198/250\n",
      "3608/3608 [==============================] - 48s 13ms/step - loss: 2.4490 - YT_loss: 0.6216 - YP_loss: 1.8274 - YT_acc: 0.8088 - YP_acc: 0.3618 - val_loss: 2.3263 - val_YT_loss: 0.5917 - val_YP_loss: 1.7346 - val_YT_acc: 0.8129 - val_YP_acc: 0.3935\n",
      "Epoch 199/250\n",
      "3608/3608 [==============================] - 48s 13ms/step - loss: 2.4728 - YT_loss: 0.6418 - YP_loss: 1.8310 - YT_acc: 0.8043 - YP_acc: 0.3611 - val_loss: 2.3268 - val_YT_loss: 0.5949 - val_YP_loss: 1.7318 - val_YT_acc: 0.8116 - val_YP_acc: 0.3937\n",
      "Epoch 200/250\n",
      "3608/3608 [==============================] - 48s 13ms/step - loss: 2.4587 - YT_loss: 0.6303 - YP_loss: 1.8284 - YT_acc: 0.8078 - YP_acc: 0.3619 - val_loss: 2.3203 - val_YT_loss: 0.5912 - val_YP_loss: 1.7291 - val_YT_acc: 0.8131 - val_YP_acc: 0.3939\n",
      "Epoch 201/250\n",
      "3608/3608 [==============================] - 49s 14ms/step - loss: 2.4571 - YT_loss: 0.6303 - YP_loss: 1.8268 - YT_acc: 0.8069 - YP_acc: 0.3629 - val_loss: 2.3107 - val_YT_loss: 0.5897 - val_YP_loss: 1.7210 - val_YT_acc: 0.8125 - val_YP_acc: 0.3999\n",
      "Epoch 202/250\n",
      "3608/3608 [==============================] - 48s 13ms/step - loss: 2.4496 - YT_loss: 0.6237 - YP_loss: 1.8259 - YT_acc: 0.8088 - YP_acc: 0.3624 - val_loss: 2.3082 - val_YT_loss: 0.5867 - val_YP_loss: 1.7215 - val_YT_acc: 0.8135 - val_YP_acc: 0.3984\n",
      "Epoch 203/250\n",
      "3608/3608 [==============================] - 48s 13ms/step - loss: 2.4344 - YT_loss: 0.6128 - YP_loss: 1.8216 - YT_acc: 0.8118 - YP_acc: 0.3643 - val_loss: 2.2986 - val_YT_loss: 0.5833 - val_YP_loss: 1.7153 - val_YT_acc: 0.8141 - val_YP_acc: 0.4013\n",
      "Epoch 204/250\n",
      "3608/3608 [==============================] - 49s 13ms/step - loss: 2.4416 - YT_loss: 0.6248 - YP_loss: 1.8168 - YT_acc: 0.8080 - YP_acc: 0.3655 - val_loss: 2.2984 - val_YT_loss: 0.5818 - val_YP_loss: 1.7165 - val_YT_acc: 0.8131 - val_YP_acc: 0.4005\n",
      "Epoch 205/250\n",
      "3608/3608 [==============================] - 48s 13ms/step - loss: 2.4381 - YT_loss: 0.6199 - YP_loss: 1.8182 - YT_acc: 0.8105 - YP_acc: 0.3659 - val_loss: 2.3100 - val_YT_loss: 0.5899 - val_YP_loss: 1.7201 - val_YT_acc: 0.8143 - val_YP_acc: 0.3990\n",
      "Epoch 206/250\n",
      "3608/3608 [==============================] - 48s 13ms/step - loss: 2.4373 - YT_loss: 0.6218 - YP_loss: 1.8155 - YT_acc: 0.8096 - YP_acc: 0.3664 - val_loss: 2.2984 - val_YT_loss: 0.5824 - val_YP_loss: 1.7160 - val_YT_acc: 0.8125 - val_YP_acc: 0.3997\n",
      "Epoch 207/250\n",
      "3608/3608 [==============================] - 48s 13ms/step - loss: 2.5285 - YT_loss: 0.6693 - YP_loss: 1.8592 - YT_acc: 0.7936 - YP_acc: 0.3533 - val_loss: 2.3974 - val_YT_loss: 0.6177 - val_YP_loss: 1.7797 - val_YT_acc: 0.8080 - val_YP_acc: 0.3786\n",
      "Epoch 208/250\n",
      "3608/3608 [==============================] - 48s 13ms/step - loss: 2.5197 - YT_loss: 0.6451 - YP_loss: 1.8746 - YT_acc: 0.8056 - YP_acc: 0.3477 - val_loss: 2.3779 - val_YT_loss: 0.6106 - val_YP_loss: 1.7673 - val_YT_acc: 0.8081 - val_YP_acc: 0.3841\n",
      "Epoch 209/250\n",
      "3608/3608 [==============================] - 48s 13ms/step - loss: 2.5037 - YT_loss: 0.6381 - YP_loss: 1.8656 - YT_acc: 0.8075 - YP_acc: 0.3494 - val_loss: 2.3443 - val_YT_loss: 0.5942 - val_YP_loss: 1.7501 - val_YT_acc: 0.8110 - val_YP_acc: 0.3885\n",
      "Epoch 210/250\n",
      "3608/3608 [==============================] - 49s 14ms/step - loss: 2.4975 - YT_loss: 0.6447 - YP_loss: 1.8528 - YT_acc: 0.8060 - YP_acc: 0.3544 - val_loss: 2.3294 - val_YT_loss: 0.5909 - val_YP_loss: 1.7385 - val_YT_acc: 0.8123 - val_YP_acc: 0.3902\n",
      "Epoch 211/250\n",
      "3608/3608 [==============================] - 49s 14ms/step - loss: 2.4910 - YT_loss: 0.6484 - YP_loss: 1.8426 - YT_acc: 0.8032 - YP_acc: 0.3569 - val_loss: 2.3330 - val_YT_loss: 0.5905 - val_YP_loss: 1.7425 - val_YT_acc: 0.8117 - val_YP_acc: 0.3887\n",
      "Epoch 212/250\n",
      "3608/3608 [==============================] - 49s 14ms/step - loss: 2.4773 - YT_loss: 0.6351 - YP_loss: 1.8422 - YT_acc: 0.8063 - YP_acc: 0.3575 - val_loss: 2.3247 - val_YT_loss: 0.5871 - val_YP_loss: 1.7376 - val_YT_acc: 0.8112 - val_YP_acc: 0.3925\n",
      "Epoch 213/250\n",
      "3608/3608 [==============================] - 48s 13ms/step - loss: 2.4591 - YT_loss: 0.6274 - YP_loss: 1.8317 - YT_acc: 0.8087 - YP_acc: 0.3613 - val_loss: 2.3153 - val_YT_loss: 0.5863 - val_YP_loss: 1.7291 - val_YT_acc: 0.8117 - val_YP_acc: 0.3951\n",
      "Epoch 214/250\n",
      "3608/3608 [==============================] - 49s 13ms/step - loss: 2.4532 - YT_loss: 0.6222 - YP_loss: 1.8310 - YT_acc: 0.8089 - YP_acc: 0.3601 - val_loss: 2.3167 - val_YT_loss: 0.5872 - val_YP_loss: 1.7295 - val_YT_acc: 0.8132 - val_YP_acc: 0.3950\n",
      "Epoch 215/250\n",
      "3608/3608 [==============================] - 49s 14ms/step - loss: 2.4568 - YT_loss: 0.6225 - YP_loss: 1.8344 - YT_acc: 0.8089 - YP_acc: 0.3616 - val_loss: 2.3060 - val_YT_loss: 0.5828 - val_YP_loss: 1.7232 - val_YT_acc: 0.8135 - val_YP_acc: 0.3984\n",
      "Epoch 216/250\n",
      "3608/3608 [==============================] - 48s 13ms/step - loss: 2.4516 - YT_loss: 0.6220 - YP_loss: 1.8296 - YT_acc: 0.8095 - YP_acc: 0.3621 - val_loss: 2.2997 - val_YT_loss: 0.5793 - val_YP_loss: 1.7204 - val_YT_acc: 0.8131 - val_YP_acc: 0.3994\n",
      "Epoch 217/250\n",
      "3608/3608 [==============================] - 48s 13ms/step - loss: 2.4426 - YT_loss: 0.6174 - YP_loss: 1.8253 - YT_acc: 0.8097 - YP_acc: 0.3649 - val_loss: 2.3098 - val_YT_loss: 0.5837 - val_YP_loss: 1.7261 - val_YT_acc: 0.8124 - val_YP_acc: 0.3959\n",
      "Epoch 218/250\n",
      "3608/3608 [==============================] - 48s 13ms/step - loss: 2.4433 - YT_loss: 0.6195 - YP_loss: 1.8238 - YT_acc: 0.8099 - YP_acc: 0.3638 - val_loss: 2.2969 - val_YT_loss: 0.5785 - val_YP_loss: 1.7185 - val_YT_acc: 0.8130 - val_YP_acc: 0.3997\n",
      "Epoch 219/250\n",
      "3608/3608 [==============================] - 48s 13ms/step - loss: 2.4331 - YT_loss: 0.6091 - YP_loss: 1.8240 - YT_acc: 0.8101 - YP_acc: 0.3647 - val_loss: 2.3008 - val_YT_loss: 0.5773 - val_YP_loss: 1.7235 - val_YT_acc: 0.8131 - val_YP_acc: 0.3989\n",
      "Epoch 220/250\n",
      "3608/3608 [==============================] - 48s 13ms/step - loss: 2.4385 - YT_loss: 0.6138 - YP_loss: 1.8247 - YT_acc: 0.8094 - YP_acc: 0.3642 - val_loss: 2.2933 - val_YT_loss: 0.5793 - val_YP_loss: 1.7141 - val_YT_acc: 0.8128 - val_YP_acc: 0.4005\n",
      "Epoch 221/250\n",
      "3608/3608 [==============================] - 48s 13ms/step - loss: 2.4357 - YT_loss: 0.6194 - YP_loss: 1.8164 - YT_acc: 0.8094 - YP_acc: 0.3662 - val_loss: 2.2886 - val_YT_loss: 0.5755 - val_YP_loss: 1.7131 - val_YT_acc: 0.8138 - val_YP_acc: 0.4026\n",
      "Epoch 222/250\n",
      "3608/3608 [==============================] - 48s 13ms/step - loss: 2.4360 - YT_loss: 0.6195 - YP_loss: 1.8165 - YT_acc: 0.8072 - YP_acc: 0.3672 - val_loss: 2.3182 - val_YT_loss: 0.5798 - val_YP_loss: 1.7384 - val_YT_acc: 0.8140 - val_YP_acc: 0.3892\n",
      "Epoch 223/250\n",
      "3608/3608 [==============================] - 48s 13ms/step - loss: 2.4439 - YT_loss: 0.6152 - YP_loss: 1.8287 - YT_acc: 0.8093 - YP_acc: 0.3626 - val_loss: 2.2985 - val_YT_loss: 0.5767 - val_YP_loss: 1.7218 - val_YT_acc: 0.8133 - val_YP_acc: 0.3990\n",
      "Epoch 224/250\n",
      "3608/3608 [==============================] - 49s 13ms/step - loss: 2.4465 - YT_loss: 0.6234 - YP_loss: 1.8231 - YT_acc: 0.8080 - YP_acc: 0.3646 - val_loss: 2.3007 - val_YT_loss: 0.5804 - val_YP_loss: 1.7203 - val_YT_acc: 0.8127 - val_YP_acc: 0.4001\n",
      "Epoch 225/250\n",
      "3608/3608 [==============================] - 48s 13ms/step - loss: 2.4373 - YT_loss: 0.6201 - YP_loss: 1.8172 - YT_acc: 0.8078 - YP_acc: 0.3661 - val_loss: 2.2998 - val_YT_loss: 0.5833 - val_YP_loss: 1.7165 - val_YT_acc: 0.8136 - val_YP_acc: 0.4008\n",
      "Epoch 226/250\n",
      "3608/3608 [==============================] - 48s 13ms/step - loss: 2.4418 - YT_loss: 0.6230 - YP_loss: 1.8188 - YT_acc: 0.8090 - YP_acc: 0.3651 - val_loss: 2.2970 - val_YT_loss: 0.5783 - val_YP_loss: 1.7186 - val_YT_acc: 0.8122 - val_YP_acc: 0.4008\n",
      "Epoch 227/250\n",
      "3608/3608 [==============================] - 48s 13ms/step - loss: 2.4446 - YT_loss: 0.6257 - YP_loss: 1.8189 - YT_acc: 0.8072 - YP_acc: 0.3666 - val_loss: 2.2988 - val_YT_loss: 0.5786 - val_YP_loss: 1.7202 - val_YT_acc: 0.8140 - val_YP_acc: 0.4000\n",
      "Epoch 228/250\n",
      "3608/3608 [==============================] - 48s 13ms/step - loss: 2.4360 - YT_loss: 0.6144 - YP_loss: 1.8215 - YT_acc: 0.8095 - YP_acc: 0.3657 - val_loss: 2.2924 - val_YT_loss: 0.5755 - val_YP_loss: 1.7169 - val_YT_acc: 0.8146 - val_YP_acc: 0.4017\n",
      "Epoch 229/250\n",
      "3608/3608 [==============================] - 48s 13ms/step - loss: 2.4313 - YT_loss: 0.6135 - YP_loss: 1.8178 - YT_acc: 0.8099 - YP_acc: 0.3659 - val_loss: 2.2883 - val_YT_loss: 0.5782 - val_YP_loss: 1.7102 - val_YT_acc: 0.8127 - val_YP_acc: 0.4031\n",
      "Epoch 230/250\n",
      "3608/3608 [==============================] - 48s 13ms/step - loss: 2.4159 - YT_loss: 0.6058 - YP_loss: 1.8100 - YT_acc: 0.8120 - YP_acc: 0.3691 - val_loss: 2.2832 - val_YT_loss: 0.5745 - val_YP_loss: 1.7087 - val_YT_acc: 0.8133 - val_YP_acc: 0.4023\n",
      "Epoch 231/250\n",
      "3608/3608 [==============================] - 48s 13ms/step - loss: 2.4261 - YT_loss: 0.6129 - YP_loss: 1.8133 - YT_acc: 0.8099 - YP_acc: 0.3662 - val_loss: 2.2812 - val_YT_loss: 0.5717 - val_YP_loss: 1.7095 - val_YT_acc: 0.8146 - val_YP_acc: 0.4027\n",
      "Epoch 232/250\n",
      "3608/3608 [==============================] - 48s 13ms/step - loss: 2.4175 - YT_loss: 0.6049 - YP_loss: 1.8126 - YT_acc: 0.8111 - YP_acc: 0.3681 - val_loss: 2.2855 - val_YT_loss: 0.5758 - val_YP_loss: 1.7096 - val_YT_acc: 0.8131 - val_YP_acc: 0.4033\n",
      "Epoch 233/250\n",
      "3608/3608 [==============================] - 49s 13ms/step - loss: 2.4277 - YT_loss: 0.6158 - YP_loss: 1.8118 - YT_acc: 0.8091 - YP_acc: 0.3672 - val_loss: 2.3245 - val_YT_loss: 0.5952 - val_YP_loss: 1.7293 - val_YT_acc: 0.8099 - val_YP_acc: 0.3989\n",
      "Epoch 234/250\n",
      "3608/3608 [==============================] - 48s 13ms/step - loss: 2.4920 - YT_loss: 0.6523 - YP_loss: 1.8397 - YT_acc: 0.8027 - YP_acc: 0.3593 - val_loss: 2.3254 - val_YT_loss: 0.5838 - val_YP_loss: 1.7416 - val_YT_acc: 0.8139 - val_YP_acc: 0.3911\n",
      "Epoch 235/250\n",
      "3608/3608 [==============================] - 48s 13ms/step - loss: 2.4575 - YT_loss: 0.6223 - YP_loss: 1.8351 - YT_acc: 0.8087 - YP_acc: 0.3610 - val_loss: 2.3064 - val_YT_loss: 0.5796 - val_YP_loss: 1.7268 - val_YT_acc: 0.8138 - val_YP_acc: 0.3994\n",
      "Epoch 236/250\n",
      "3608/3608 [==============================] - 49s 13ms/step - loss: 2.4573 - YT_loss: 0.6297 - YP_loss: 1.8275 - YT_acc: 0.8064 - YP_acc: 0.3629 - val_loss: 2.3025 - val_YT_loss: 0.5787 - val_YP_loss: 1.7238 - val_YT_acc: 0.8137 - val_YP_acc: 0.3975\n",
      "Epoch 237/250\n",
      "3608/3608 [==============================] - 48s 13ms/step - loss: 2.4302 - YT_loss: 0.6116 - YP_loss: 1.8186 - YT_acc: 0.8110 - YP_acc: 0.3668 - val_loss: 2.3002 - val_YT_loss: 0.5797 - val_YP_loss: 1.7205 - val_YT_acc: 0.8115 - val_YP_acc: 0.4003\n",
      "Epoch 238/250\n",
      "3608/3608 [==============================] - 49s 14ms/step - loss: 2.4305 - YT_loss: 0.6142 - YP_loss: 1.8162 - YT_acc: 0.8086 - YP_acc: 0.3670 - val_loss: 2.2838 - val_YT_loss: 0.5730 - val_YP_loss: 1.7108 - val_YT_acc: 0.8145 - val_YP_acc: 0.4032\n",
      "Epoch 239/250\n",
      "3608/3608 [==============================] - 48s 13ms/step - loss: 2.4232 - YT_loss: 0.6094 - YP_loss: 1.8138 - YT_acc: 0.8107 - YP_acc: 0.3689 - val_loss: 2.2921 - val_YT_loss: 0.5759 - val_YP_loss: 1.7162 - val_YT_acc: 0.8142 - val_YP_acc: 0.4018\n",
      "Epoch 240/250\n",
      "3608/3608 [==============================] - 48s 13ms/step - loss: 2.4318 - YT_loss: 0.6133 - YP_loss: 1.8185 - YT_acc: 0.8098 - YP_acc: 0.3666 - val_loss: 2.2928 - val_YT_loss: 0.5744 - val_YP_loss: 1.7183 - val_YT_acc: 0.8141 - val_YP_acc: 0.4029\n",
      "Epoch 241/250\n",
      "3608/3608 [==============================] - 48s 13ms/step - loss: 2.4172 - YT_loss: 0.6049 - YP_loss: 1.8123 - YT_acc: 0.8119 - YP_acc: 0.3687 - val_loss: 2.3300 - val_YT_loss: 0.6034 - val_YP_loss: 1.7266 - val_YT_acc: 0.8100 - val_YP_acc: 0.4002\n",
      "Epoch 242/250\n",
      "3608/3608 [==============================] - 49s 14ms/step - loss: 2.4819 - YT_loss: 0.6390 - YP_loss: 1.8429 - YT_acc: 0.8050 - YP_acc: 0.3598 - val_loss: 2.3197 - val_YT_loss: 0.5856 - val_YP_loss: 1.7342 - val_YT_acc: 0.8123 - val_YP_acc: 0.3964\n",
      "Epoch 243/250\n",
      "3608/3608 [==============================] - 49s 14ms/step - loss: 2.4675 - YT_loss: 0.6372 - YP_loss: 1.8303 - YT_acc: 0.8060 - YP_acc: 0.3628 - val_loss: 2.3109 - val_YT_loss: 0.5831 - val_YP_loss: 1.7278 - val_YT_acc: 0.8118 - val_YP_acc: 0.4002\n",
      "Epoch 244/250\n",
      "3608/3608 [==============================] - 48s 13ms/step - loss: 2.4458 - YT_loss: 0.6188 - YP_loss: 1.8269 - YT_acc: 0.8089 - YP_acc: 0.3635 - val_loss: 2.3016 - val_YT_loss: 0.5787 - val_YP_loss: 1.7229 - val_YT_acc: 0.8138 - val_YP_acc: 0.3993\n",
      "Epoch 245/250\n",
      "3608/3608 [==============================] - 48s 13ms/step - loss: 2.4439 - YT_loss: 0.6230 - YP_loss: 1.8208 - YT_acc: 0.8077 - YP_acc: 0.3659 - val_loss: 2.2932 - val_YT_loss: 0.5772 - val_YP_loss: 1.7160 - val_YT_acc: 0.8138 - val_YP_acc: 0.4018\n",
      "Epoch 246/250\n",
      "3608/3608 [==============================] - 48s 13ms/step - loss: 2.4319 - YT_loss: 0.6159 - YP_loss: 1.8161 - YT_acc: 0.8107 - YP_acc: 0.3663 - val_loss: 2.2954 - val_YT_loss: 0.5737 - val_YP_loss: 1.7217 - val_YT_acc: 0.8136 - val_YP_acc: 0.4001\n",
      "Epoch 247/250\n",
      "3608/3608 [==============================] - 48s 13ms/step - loss: 2.4348 - YT_loss: 0.6126 - YP_loss: 1.8222 - YT_acc: 0.8110 - YP_acc: 0.3675 - val_loss: 2.2901 - val_YT_loss: 0.5758 - val_YP_loss: 1.7144 - val_YT_acc: 0.8133 - val_YP_acc: 0.4031\n",
      "Epoch 248/250\n",
      "3608/3608 [==============================] - 48s 13ms/step - loss: 2.4328 - YT_loss: 0.6136 - YP_loss: 1.8191 - YT_acc: 0.8092 - YP_acc: 0.3665 - val_loss: 2.2871 - val_YT_loss: 0.5758 - val_YP_loss: 1.7113 - val_YT_acc: 0.8155 - val_YP_acc: 0.4028\n",
      "Epoch 249/250\n"
     ]
    },
    {
     "name": "stdout",
     "output_type": "stream",
     "text": [
      "3608/3608 [==============================] - 48s 13ms/step - loss: 2.4303 - YT_loss: 0.6153 - YP_loss: 1.8149 - YT_acc: 0.8096 - YP_acc: 0.3672 - val_loss: 2.3072 - val_YT_loss: 0.5794 - val_YP_loss: 1.7278 - val_YT_acc: 0.8143 - val_YP_acc: 0.3986\n",
      "Epoch 250/250\n",
      "3608/3608 [==============================] - 49s 14ms/step - loss: 2.4405 - YT_loss: 0.6179 - YP_loss: 1.8227 - YT_acc: 0.8099 - YP_acc: 0.3652 - val_loss: 2.2888 - val_YT_loss: 0.5752 - val_YP_loss: 1.7136 - val_YT_acc: 0.8158 - val_YP_acc: 0.4023\n"
     ]
    }
   ],
   "source": [
    "history = RNNmodel.fit(x=xs, y=ys, batch_size=ml-1, epochs=250, verbose=1, callbacks=None, validation_split=0.2)"
   ]
  },
  {
   "cell_type": "code",
   "execution_count": 29,
   "metadata": {},
   "outputs": [
    {
     "data": {
      "image/png": "[encoded data removed]",
      "text/plain": [
       "<Figure size 576x288 with 1 Axes>"
      ]
     },
     "metadata": {
      "image/png": {
       "height": 250,
       "width": 485
      }
     },
     "output_type": "display_data"
    },
    {
     "data": {
      "image/png": "[encoded data removed]",
      "text/plain": [
       "<Figure size 576x288 with 1 Axes>"
      ]
     },
     "metadata": {
      "image/png": {
       "height": 250,
       "width": 485
      }
     },
     "output_type": "display_data"
    }
   ],
   "source": [
    "plotLearningCurves(history)"
   ]
  },
  {
   "cell_type": "markdown",
   "metadata": {},
   "source": [
    "**Question**: What are the best prediction accuracies you obtained? With which model?\n",
    "    \n",
    "**Answer**: \n",
    "\n",
    "**Question**: In a few sentences, comment on the plot comparing learning curves for the two activation function.\n",
    "    \n",
    "**Answer**: \n",
    "\n"
   ]
  },
  {
   "cell_type": "markdown",
   "metadata": {
    "collapsed": true
   },
   "source": [
    "## Exercise 6: Visualizing the model\n",
    "### Description\n",
    "\n",
    "1. Using the model.predict and plotMelody functions, show the outputs of your best model when fed with 4 randomly selected melodies. Report the prediction accuracies as well.\n",
    "2. For the same melodies, plot the hidden state evolution accross time steps. Construct a 2 dimensional matrix with the first dimension being time and the second the concatenation of all hidden unit activations and plot it using the provided `plotMelody` function. To get the hidden states of your network, you can modify the `buildModel` function so that you have another computation graph (another model with the same layers, but the output layer) returning you the hidden states. However, other approaches are equally valid.  \n",
    "3. For each hidden unit $i$ and accross the entire dataset, compute the average absolute change in activation $\\Delta A_i$. Be careful not to take masked timesteps into account. Plot the histogram (50 bins) of this average for the RNN and GRU models on the same figure."
   ]
  },
  {
   "cell_type": "markdown",
   "metadata": {},
   "source": [
    "### Solution"
   ]
  },
  {
   "cell_type": "code",
   "execution_count": null,
   "metadata": {},
   "outputs": [],
   "source": [
    "dat = {'XT': [], 'XP': []}\n",
    "\n",
    "for label in np.random.choice(list(dataset.keys()), 4):\n",
    "    dat['XT'].append(dataset[label]['T'][:-1])\n",
    "    dat['XP'].append(dataset[label]['P'][:-1])\n",
    "\n",
    "dat['XT'] = np.asarray(dat['XT'])\n",
    "dat['XP'] = np.asarray(dat['XP'])\n",
    "    \n",
    "pred = RNNmodel.predict(dat, batch_size=ml-1)"
   ]
  },
  {
   "cell_type": "code",
   "execution_count": null,
   "metadata": {},
   "outputs": [],
   "source": [
    "pred[0][0].shape"
   ]
  },
  {
   "cell_type": "code",
   "execution_count": null,
   "metadata": {},
   "outputs": [],
   "source": [
    "for i in range(2):\n",
    "    plotMelody(pred[0][i], pred[1][i], dictionary)"
   ]
  },
  {
   "cell_type": "markdown",
   "metadata": {},
   "source": [
    "**Question**: How does the hidden state dynamics explain the performance of the RNN vs GRU models? Explain in term of temporal dependencies and base your explanation on figures obtained in 6.2 and 6.3.\n",
    "    \n",
    "**Answer**: \n"
   ]
  },
  {
   "cell_type": "markdown",
   "metadata": {
    "collapsed": true
   },
   "source": [
    "## Exercise 7: Generation of new melodies\n",
    "### Description\n",
    "\n",
    "1. Use your trained best model to generate new melodies. You can do that by starting with a random note, feeding it to your network and sample the output predictions in order to select the next note. Then add this note to your iteratively growing melodies. For your convenience, we provided the `sample` and `writeMIDI` functions. You can use the first in order to perform temperature sampling. The `writeMIDI` function allows you to write a MIDI file from the integer representation.\n",
    "2. Try different sampling temperatures (e.g. 0.5, 1., 1.5) and observe the effect on your generated melodies.\n",
    "3. Generate 32 melodies with both the RNN and GRU models\n",
    "4. Listen to 4 randomly chosen melodies (2 from the GRU model and 2 from the RNN model). To play in a notebook, use a similar approach as the one shown below assuming you have the files `GRU_1.mid` and `RNN_1.mid` at the same level as this notebook. For your own curiosity, you can also directly listen to the MIDI files with your favorite MIDI player but make sure that we can listen to the 4 extracts directly from this notebook (without rerunning it). If you have trouble achieving that, upload the MIDI files with your submission.\n",
    "5. (Optional) If you have a big enough computing power, try adding multiple and bigger layers. You could also try to improve your model with different add-ons, e.g. make your model learn when a melody ends, extend it to other datasets, ...\n",
    "6. (Optional) If you are happy with your results submit a 1 hour long generated MIDI file to the [AI-generated music challenge](https://www.crowdai.org/challenges/ai-generated-music-challenge). "
   ]
  },
  {
   "cell_type": "markdown",
   "metadata": {},
   "source": [
    "### Solution"
   ]
  },
  {
   "cell_type": "code",
   "execution_count": null,
   "metadata": {},
   "outputs": [],
   "source": [
    "mf = music21.midi.MidiFile()\n",
    "mf.open('GRU_1.mid')\n",
    "mf.read()\n",
    "mf.close()\n",
    "s = music21.midi.translate.midiFileToStream(mf)\n",
    "print('GRU')\n",
    "s.show('midi')"
   ]
  },
  {
   "cell_type": "code",
   "execution_count": null,
   "metadata": {},
   "outputs": [],
   "source": [
    "mf = music21.midi.MidiFile()\n",
    "mf.open('RNN_1.mid')\n",
    "mf.read()\n",
    "mf.close()\n",
    "s = music21.midi.translate.midiFileToStream(mf)\n",
    "print('RNN')\n",
    "s.show('midi')"
   ]
  },
  {
   "cell_type": "markdown",
   "metadata": {},
   "source": [
    "**Question**: What is the effect of the sampling temperature on the generated melodies?\n",
    "    \n",
    "**Answer**: \n",
    "\n",
    "**Question**: Are the generated melodies from the RNN model different from the one generated by the GRU model? If yes, what are the main differences?\n",
    "\n",
    "**Answer**: \n",
    "\n"
   ]
  }
 ],
 "metadata": {
  "anaconda-cloud": {},
  "kernelspec": {
   "display_name": "Python 3",
   "language": "python",
   "name": "python3"
  },
  "language_info": {
   "codemirror_mode": {
    "name": "ipython",
    "version": 3
   },
   "file_extension": ".py",
   "mimetype": "text/x-python",
   "name": "python",
   "nbconvert_exporter": "python",
   "pygments_lexer": "ipython3",
   "version": "3.5.2"
  }
 },
 "nbformat": 4,
 "nbformat_minor": 1
}
