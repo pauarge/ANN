{
 "cells": [
  {
   "cell_type": "markdown",
   "metadata": {},
   "source": [
    "# Miniproject 2: Melody generation\n",
    "\n",
    "## Introduction\n",
    "\n",
    "### Description\n",
    "\n",
    "To develop a model employing ANN on real-world data requires going through several major steps, each of which with important design choices that directly impact the end results. In this project, we guide you through these choices starting from a large database of [Irish folk melodies](https://github.com/IraKorshunova/folk-rnn/tree/master/data) to your own model of symbolic music composition. \n",
    "\n",
    "\n",
    "### Prerequisites\n",
    "\n",
    "- You should have a running installation of [tensorflow](https://www.tensorflow.org/install/) and [keras](https://keras.io/).\n",
    "- You should know the concepts \"recurrent neural networks\", \"LSTM\", \"training and validation data\", \"overfitting\" and \"early stopping\".\n",
    "\n",
    "### What you will learn\n",
    "\n",
    "- You will be guided through a data processing procedure and understand the importance of design choices in ANN modeling\n",
    "- You will learn how to define recurrent neural networks in keras and fit them to data.\n",
    "- You will be guided through a prototyping procedure for the application of deep learning to a specific domain.\n",
    "- You will get in contact with concepts discussed later in the lecture, like \"overfitting\", \"LSTM network\", and \"Generative model\".\n",
    "- You will learn to be more patient :) Some fits may take your computer quite a bit of time; run them over night.\n",
    "\n",
    "### Evaluation criteria\n",
    "\n",
    "The evaluation is (mostly) based on the figures you submit and your answer sentences. \n",
    "We will only do random tests of your code and not re-run the full notebook. Please ensure that your notebook is fully executed before handing it in. "
   ]
  },
  {
   "cell_type": "markdown",
   "metadata": {},
   "source": [
    "## Functions and imports\n",
    "\n",
    "For your convenience we import some libraries and provide some functions below. Some libraries (midi and music21) should be added. If you work with the docker image, pull it `docker pull zifeo/artificial-neural-networks:cpu` before to get the latest version where these libraries are added. If you work locally, be sure to import them. If you do not find the midi library for python3, install it with `python python3-midi/setup.py install` after cloning https://github.com/louisabraham/python3-midi.git.\n",
    "\n",
    "Finally, fill in your sciper number(s) for the random seed and simply run the following cell."
   ]
  },
  {
   "cell_type": "code",
   "execution_count": 1,
   "metadata": {},
   "outputs": [
    {
     "name": "stderr",
     "output_type": "stream",
     "text": [
      "Using TensorFlow backend.\n"
     ]
    }
   ],
   "source": [
    "import numpy as np\n",
    "import matplotlib.pyplot as plt\n",
    "import os\n",
    "import sys\n",
    "import pickle\n",
    "\n",
    "from functools import reduce\n",
    "\n",
    "from bisect import bisect_left\n",
    "\n",
    "plt.rcParams['font.size'] = 28\n",
    "plt.style.use('ggplot')\n",
    "plt.rcParams[\"axes.grid\"] = False\n",
    "c = plt.rcParams['axes.prop_cycle'].by_key()['color']\n",
    "plt.rcParams['figure.figsize'] = 8, 4\n",
    "\n",
    "import keras\n",
    "from keras.models import Model, load_model\n",
    "from keras.layers import Input, Masking, TimeDistributed, Dense, Concatenate, Dropout, LSTM, GRU, SimpleRNN\n",
    "from keras.optimizers import Adam\n",
    "from keras.utils import np_utils\n",
    "from keras.preprocessing.sequence import pad_sequences\n",
    "from keras.callbacks import ModelCheckpoint\n",
    "\n",
    "import midi\n",
    "import music21\n",
    "\n",
    "from collections import Counter"
   ]
  },
  {
   "cell_type": "code",
   "execution_count": 2,
   "metadata": {},
   "outputs": [],
   "source": [
    "sciper = {'student_1': 284216, \n",
    "          'student_2': 285155}\n",
    "seed = sciper['student_1']+sciper['student_2']\n",
    "\n",
    "%matplotlib inline"
   ]
  },
  {
   "cell_type": "code",
   "execution_count": 3,
   "metadata": {},
   "outputs": [],
   "source": [
    "def plotMelody(P, T, dictionaries, PrP=None, PrT=None, H=None):\n",
    "    \"\"\"\n",
    "    P: The pitch array (integer representation) or matrix (one-hot encoding)\n",
    "    T: The duration array (integer representation) or matrix (one-hot encoding)\n",
    "    dictionaries: The dictionaries relating integer to a pitch or duration\n",
    "    PrP: (Optional) If provided with PrT, plot the transition probabilities\n",
    "    PrT: (Optional) If provided with PrP, plot the transition probabilities\n",
    "    H: (Optional) Add a plot with the hidden state dynamic sorted by frequency\n",
    "    \"\"\"\n",
    "    P = np.asarray(P)\n",
    "    T = np.asarray(T)\n",
    "    if len(P.shape) == 1:#if array\n",
    "        P = np_utils.to_categorical(P, len(dictionaries['P']))\n",
    "    if len(T.shape) == 1:#if array\n",
    "        T = np_utils.to_categorical(T, len(dictionaries['T']))\n",
    "    \n",
    "    xlim = [-1,np.where(P==1)[0][-1]+1]\n",
    "    \n",
    "    activeidxes = np.where(np.sum(P, axis=0)>1.)[0]\n",
    "    plt.figure(figsize=(8,4))\n",
    "    if PrP is not None:\n",
    "        targets = np.where(P[:,activeidxes]==1)\n",
    "        plt.imshow(PrP[:,activeidxes].T, origin='lower', aspect='auto', interpolation='nearest', cmap=plt.cm.gray_r, vmin=0, vmax=1)\n",
    "        plt.scatter(targets[0]-1,targets[1], color='red',s=10, marker='.') \n",
    "    else:\n",
    "        plt.imshow(P[:,activeidxes].T, origin='lower', aspect='auto', interpolation='nearest', cmap=plt.cm.gray_r, vmin=0, vmax=1)\n",
    "    plt.ylim([-0.5,len(activeidxes)-0.5])\n",
    "    plt.yticks(range(len(activeidxes)),[dictionaries[\"P\"][i] for i in activeidxes])\n",
    "    plt.tight_layout()\n",
    "    plt.xlabel(\"$n$\")\n",
    "    plt.ylabel(\"$P[n]$\")\n",
    "    plt.xlim(xlim)\n",
    "    plt.show()\n",
    "    \n",
    "    activeidxes = np.where(np.sum(T, axis=0)>1.)[0]\n",
    "    plt.figure(figsize=(8,4))\n",
    "    if PrT is not None:\n",
    "        targets = np.where(T[:,activeidxes]==1)\n",
    "        plt.imshow(PrT[:,activeidxes].T, origin='lower', aspect='auto', interpolation='nearest', cmap=plt.cm.gray_r, vmin=0, vmax=1)\n",
    "        plt.scatter(targets[0]-1,targets[1], color='red',s=10, marker='.')\n",
    "    else:\n",
    "        plt.imshow(T[:,activeidxes].T, origin='lower', aspect='auto', interpolation='nearest', cmap=plt.cm.gray_r, vmin=0, vmax=1)\n",
    "    plt.ylim([-0.5,len(activeidxes)-0.5])\n",
    "    plt.yticks(range(len(activeidxes)),[dictionaries[\"T\"][i] for i in activeidxes])\n",
    "    plt.tight_layout()\n",
    "    plt.xlabel(\"$n$\")\n",
    "    plt.ylabel(\"$T[n]$\")\n",
    "    plt.xlim(xlim)\n",
    "    plt.show()\n",
    "    \n",
    "    \n",
    "    if H is not None:\n",
    "        diff = np.mean([[abs(j-i) for i,j in zip(H[:xlim[1]-1,k], H[1:xlim[1],k])] for k in range(H.shape[1])], axis=1)\n",
    "        sortidx = np.argsort(-diff)\n",
    "        H = H[:,sortidx]\n",
    "        plt.figure(figsize=(8,4))\n",
    "        plt.imshow(H.T, origin='lower', aspect='auto', interpolation='nearest', cmap=plt.cm.seismic, vmin=-1, vmax=1)\n",
    "        plt.xlim([-1,np.where(T==1)[0][-1]+1])\n",
    "        plt.tight_layout()\n",
    "        plt.xlabel(\"$n$\")\n",
    "        plt.ylabel(\"$H[n]$\")\n",
    "        plt.show()\n",
    "\n",
    "\n",
    "def plotLearningCurves(History):\n",
    "    \n",
    "    log = History.history\n",
    "    \n",
    "    plt.figure(figsize=(8,4))\n",
    "    plt.plot(log['YP_loss'], '--', c=c[0], label='Pitch train loss')\n",
    "    plt.plot(log['val_YP_loss'], c=c[0], label='Pitch val loss')\n",
    "    \n",
    "    plt.plot(log['YT_loss'], '--', c=c[1], label='Dur train loss')\n",
    "    plt.plot(log['val_YT_loss'], c=c[1], label='Dur val loss')\n",
    "    plt.legend(loc='best')\n",
    "    \n",
    "    plt.figure(figsize=(8,4))\n",
    "    plt.plot(log['YP_acc'], '--', c=c[0], label='Pitch train acc')\n",
    "    plt.plot(log['val_YP_acc'], c=c[0], label='Pitch val acc')\n",
    "    \n",
    "    plt.plot(log['YT_acc'], '--', c=c[1], label='Dur train acc')\n",
    "    plt.plot(log['val_YT_acc'], c=c[1], label='Dur val acc')\n",
    "    plt.legend(loc='best')\n",
    "\n",
    "def sample(preds, temperature=1.):\n",
    "    \"\"\"Helper function to sample an index from a probability array\"\"\"\n",
    "    preds = np.asarray(preds).astype('float64')\n",
    "    preds = np.log(preds) / temperature\n",
    "    exp_preds = np.exp(preds)\n",
    "    preds = exp_preds / np.sum(exp_preds)\n",
    "    probas = np.random.multinomial(1, preds, 1)\n",
    "    return np.argmax(probas)\n",
    "\n",
    "def writeMIDI(xP, xT, dictionaries, label):\n",
    "\n",
    "    # Instantiate a MIDI Pattern (contains a list of tracks)\n",
    "    pattern = midi.Pattern(format = 0, resolution=480)\n",
    "    # Instantiate a MIDI Track (contains a list of MIDI events)\n",
    "    track = midi.Track()\n",
    "    # Append the track to the pattern\n",
    "    pattern.append(track)\n",
    "    Events = []\n",
    "    \n",
    "    pseq = [dictionaries['P'][p] for p in xP]\n",
    "    tseq = [dictionaries['T'][t] for t in xT]\n",
    "    for t, p in zip(tseq, pseq):\n",
    "        e = midi.NoteOnEvent(tick=0, velocity=90, pitch=p)\n",
    "        track.append(e)\n",
    "        e = midi.NoteOffEvent(tick=t, velocity=0, pitch=p)\n",
    "        track.append(e)\n",
    "        \n",
    "    eot = midi.EndOfTrackEvent(tick=1)\n",
    "    track.append(eot)\n",
    "    # Save the pattern to disk\n",
    "    midi.write_midifile(label, pattern)"
   ]
  },
  {
   "cell_type": "markdown",
   "metadata": {},
   "source": [
    "## Exercise 1 : Data processing\n",
    "### Description\n",
    "\n",
    "For a real world application of ANNs, the original data should be translated into a representation understandable by an ANN. This step is often neglected but is of outmost importance. In order for you to better understand how ANN are applied to real world problems, the first step of this miniproject will guide you through a possible representation. \n",
    "\n",
    "Note that in general, your representation should be normalized in order to obtain homogeneous data from which a structure can be extracted by your ANN model. Importantly, all processing steps toward your representation should not (or minimally) distort your original data.\n",
    "\n",
    "To represent MIDI files, we provide you with a Python MIDI library. You should then\n",
    "\n",
    "0. Download the MIDI tar file from [this link](https://github.com/IraKorshunova/folk-rnn/tree/master/data) and put it in a folder named \"chorpus\" at the same level of this notebook.\n",
    "1. Parse the chorpus to extract the label of (a random subset of) the data (code is provided)\n",
    "2. Read each MIDI file in the subset with the midi [library](https://github.com/louisabraham/python3-midi)\n",
    "3. For each data sequence extract the sequence of MIDI notes defined by two dimensions (\"P\": the sequence of note pitches (integer between 0 and 127 representing a piano key), \"T\": the sequence of note durations.\n",
    "4. Select two melodies and display them both as sequences of MIDI events and sequence of notes in two dimensions. Control that your representation is correct.\n",
    "\n",
    "For step 3, you should learn how MIDI files are constructed. Below, we give a minimal explanation and some code for this particular project. For a more complete explanation, look for MIDI in your favorite search engine. Given this dataset, you can observe that it is monophonic (one note at a time) and there's a small delay (1 tick) inbetween each note. You could decide to ignore this delay or correct (recommanded) for it.\n",
    "\n",
    "A MIDI files is composed of timed events of many kinds. For this project, we focus on the events related to notes being played or stopped. Those are MIDI events \"Note Off\" and \"Note On\". Each event is timed with respect with the previous one (dt). The duration of a note is therefore given by the cummulated dt inbetween the event associated to a note's onset and the event associated with the same note's offset.\n",
    "        "
   ]
  },
  {
   "cell_type": "markdown",
   "metadata": {},
   "source": [
    "### Minimal code to read MIDI files"
   ]
  },
  {
   "cell_type": "code",
   "execution_count": 4,
   "metadata": {
    "scrolled": false
   },
   "outputs": [
    {
     "name": "stdout",
     "output_type": "stream",
     "text": [
      "chorpus/sessiontune0.mid\n",
      "########################################\n",
      "tick \t pitch \t message \t velocity\n",
      "########################################\n",
      "\n",
      "1 \t 67 \t Note On \t 105\n",
      "240 \t 67 \t Note Off \t 0\n",
      "241 \t 64 \t Note On \t 80\n",
      "480 \t 64 \t Note Off \t 0\n",
      "481 \t 64 \t Note On \t 80\n",
      "720 \t 64 \t Note Off \t 0\n",
      "721 \t 64 \t Note On \t 95\n",
      "1200 \t 64 \t Note Off \t 0\n",
      "1201 \t 62 \t Note On \t 80\n",
      ". \t . \t . \t \t .\n",
      ". \t . \t . \t \t .\n",
      ". \t . \t . \t \t .\n",
      "33601 \t 67 \t Note On \t 80\n",
      "33840 \t 67 \t Note Off \t 0\n",
      "33841 \t 69 \t Note On \t 95\n",
      "34080 \t 69 \t Note Off \t 0\n",
      "34081 \t 71 \t Note On \t 80\n",
      "34320 \t 71 \t Note Off \t 0\n",
      "34321 \t 72 \t Note On \t 80\n",
      "34560 \t 72 \t Note Off \t 0\n",
      "########################################\n",
      "\n",
      "4629/45851 melodies retained\n"
     ]
    }
   ],
   "source": [
    "def display(midi_file=\"chorpus/sessiontune0.mid\"):\n",
    "    #index 0 for first track only\n",
    "    events = midi.read_midifile(midi_file)[0] \n",
    "    tick = 0\n",
    "    print(midi_file)\n",
    "    print(\"#\"*40)\n",
    "    print(\"tick \\t pitch \\t message \\t velocity\")\n",
    "    print(\"#\"*40+'\\n')\n",
    "    for n, event in enumerate(events):\n",
    "        tick += event.tick\n",
    "        if event.name in ['Note On', 'Note Off']:\n",
    "            if n<13 or n>len(events)-10:\n",
    "                print(\"%i \\t %i \\t %s \\t %i\"%(tick, event.data[0], event.name, event.data[1]))\n",
    "            if n in range(20,23):\n",
    "                print(\". \\t . \\t . \\t \\t .\")\n",
    "    print(\"#\"*40+'\\n')\n",
    "\n",
    "display()\n",
    "\n",
    "datapath = \"chorpus/\"\n",
    "dataset = {}\n",
    "np.random.seed(seed)\n",
    "\n",
    "for filename in os.listdir(datapath):\n",
    "    if filename.endswith(\"mid\"):\n",
    "        label = filename[:-4]\n",
    "        #Down sample dataset\n",
    "        if np.random.rand() < 0.1:\n",
    "            dataset[label] = {\"T\":[], \"P\": []}\n",
    "print(\"%i/%i melodies retained\"%(len(list(dataset.keys())), len(os.listdir(datapath))))"
   ]
  },
  {
   "cell_type": "markdown",
   "metadata": {},
   "source": [
    "### Solution"
   ]
  },
  {
   "cell_type": "code",
   "execution_count": 5,
   "metadata": {},
   "outputs": [],
   "source": [
    "def parseMIDI(midi_file):\n",
    "    events = midi.read_midifile(midi_file)[0] #index 0 for first track only  \n",
    "    T = []\n",
    "    P = []\n",
    "    for n, event in enumerate(events):\n",
    "        if event.name == 'Note On':\n",
    "            P.append(event.data[0])\n",
    "        elif event.name == 'Note Off':\n",
    "            T.append(event.tick + 1)\n",
    "    return P, T"
   ]
  },
  {
   "cell_type": "code",
   "execution_count": 6,
   "metadata": {},
   "outputs": [],
   "source": [
    "for label in list(dataset.keys()):\n",
    "    Pseq, Tseq = parseMIDI(datapath+label+\".mid\")\n",
    "    dataset[label]['T']= Tseq\n",
    "    dataset[label]['P']= Pseq"
   ]
  },
  {
   "cell_type": "code",
   "execution_count": 7,
   "metadata": {},
   "outputs": [
    {
     "name": "stdout",
     "output_type": "stream",
     "text": [
      "sessiontune32415\n",
      "MIDI events\n",
      "chorpus/sessiontune32415.mid\n",
      "########################################\n",
      "tick \t pitch \t message \t velocity\n",
      "########################################\n",
      "\n",
      "1 \t 68 \t Note On \t 105\n",
      "240 \t 68 \t Note Off \t 0\n",
      "241 \t 66 \t Note On \t 80\n",
      "480 \t 66 \t Note Off \t 0\n",
      "481 \t 65 \t Note On \t 105\n",
      "720 \t 65 \t Note Off \t 0\n",
      "721 \t 66 \t Note On \t 80\n",
      "960 \t 66 \t Note Off \t 0\n",
      "961 \t 65 \t Note On \t 80\n",
      ". \t . \t . \t \t .\n",
      ". \t . \t . \t \t .\n",
      ". \t . \t . \t \t .\n",
      "33601 \t 75 \t Note On \t 95\n",
      "33840 \t 75 \t Note Off \t 0\n",
      "33841 \t 73 \t Note On \t 80\n",
      "34080 \t 73 \t Note Off \t 0\n",
      "34081 \t 72 \t Note On \t 80\n",
      "34320 \t 72 \t Note Off \t 0\n",
      "34321 \t 73 \t Note On \t 95\n",
      "34560 \t 73 \t Note Off \t 0\n",
      "########################################\n",
      "\n",
      "Note representation\n",
      "{'P': [68, 66, 65, 66, 65, 65, 68, 65, 66, 63, 65, 63, 61, 65, 68, 65, 63, 65, 66, 65, 63, 61, 65, 68, 65, 66, 70, 68, 65, 61, 61, 63, 61, 61, 68, 65, 66, 65, 65, 68, 65, 66, 63, 65, 63, 61, 65, 68, 65, 63, 65, 66, 65, 63, 61, 65, 68, 65, 66, 70, 68, 65, 61, 61, 63, 61, 61, 72, 73, 75, 73, 70, 68, 66, 65, 66, 68, 70, 66, 63, 63, 65, 63, 63, 65, 63, 73, 75, 73, 70, 68, 66, 65, 66, 68, 73, 68, 65, 61, 63, 61, 61, 72, 73, 75, 73, 70, 68, 66, 65, 66, 68, 70, 66, 63, 63, 65, 63, 63, 65, 63, 68, 70, 72, 73, 72, 70, 68, 70, 72, 73, 77, 73, 75, 73, 72, 73], 'T': [240, 240, 240, 240, 240, 240, 240, 240, 480, 240, 240, 240, 240, 240, 240, 240, 240, 240, 240, 240, 240, 240, 240, 240, 240, 480, 240, 240, 240, 240, 240, 240, 240, 480, 240, 240, 240, 240, 240, 240, 240, 480, 240, 240, 240, 240, 240, 240, 240, 240, 240, 240, 240, 240, 240, 240, 240, 240, 480, 240, 240, 240, 240, 240, 240, 240, 480, 240, 240, 240, 240, 240, 240, 240, 240, 240, 240, 240, 240, 240, 240, 240, 240, 240, 240, 240, 240, 240, 240, 240, 240, 240, 240, 240, 240, 240, 240, 240, 240, 240, 240, 480, 240, 240, 240, 240, 240, 240, 240, 240, 240, 240, 240, 240, 240, 240, 240, 240, 240, 240, 240, 240, 240, 240, 240, 240, 240, 240, 240, 240, 240, 240, 240, 240, 240, 240, 240]}\n",
      "/n\n",
      "sessiontune36611\n",
      "MIDI events\n",
      "chorpus/sessiontune36611.mid\n",
      "########################################\n",
      "tick \t pitch \t message \t velocity\n",
      "########################################\n",
      "\n",
      "1 \t 68 \t Note On \t 105\n",
      "120 \t 68 \t Note Off \t 0\n",
      "121 \t 68 \t Note On \t 105\n",
      "131 \t 73 \t Note On \t 105\n",
      "360 \t 73 \t Note Off \t 0\n",
      "360 \t 68 \t Note Off \t 0\n",
      "361 \t 75 \t Note On \t 80\n",
      "420 \t 75 \t Note Off \t 0\n",
      "421 \t 77 \t Note On \t 80\n",
      ". \t . \t . \t \t .\n",
      ". \t . \t . \t \t .\n",
      ". \t . \t . \t \t .\n",
      "14881 \t 65 \t Note On \t 80\n",
      "15000 \t 65 \t Note Off \t 0\n",
      "15001 \t 66 \t Note On \t 105\n",
      "15240 \t 66 \t Note Off \t 0\n",
      "15241 \t 65 \t Note On \t 80\n",
      "15360 \t 65 \t Note Off \t 0\n",
      "15361 \t 66 \t Note On \t 80\n",
      "15480 \t 66 \t Note Off \t 0\n",
      "########################################\n",
      "\n",
      "Note representation\n",
      "{'P': [68, 68, 73, 75, 77, 78, 80, 77, 78, 75, 78, 77, 77, 73, 70, 68, 65, 68, 73, 75, 77, 78, 80, 80, 77, 78, 78, 75, 77, 75, 73, 77, 73, 70, 68, 73, 75, 77, 78, 80, 80, 77, 76, 77, 80, 78, 78, 75, 74, 75, 78, 77, 77, 73, 70, 68, 68, 65, 68, 73, 75, 77, 78, 80, 80, 77, 80, 78, 78, 75, 77, 78, 77, 75, 73, 77, 73, 80, 77, 73, 72, 73, 75, 68, 68, 70, 71, 68, 73, 72, 68, 78, 77, 73, 73, 72, 73, 80, 77, 73, 72, 73, 75, 68, 68, 70, 71, 68, 73, 72, 68, 65, 66, 66, 65, 66, 80, 77, 73, 72, 73, 75, 68, 68, 70, 71, 73, 72, 68, 78, 77, 73, 73, 72, 73, 77, 80, 73, 72, 73, 75, 68, 70, 71, 68, 73, 72, 72, 68, 68, 65, 66, 65, 66], 'T': [120, 230, 1, 60, 60, 120, 240, 240, 240, 160, 80, 120, 120, 160, 80, 120, 60, 60, 60, 60, 60, 60, 120, 120, 240, 120, 60, 60, 160, 80, 120, 120, 160, 80, 240, 60, 60, 60, 60, 120, 120, 60, 60, 60, 60, 120, 120, 60, 60, 60, 60, 120, 120, 160, 80, 60, 60, 60, 60, 60, 60, 60, 60, 120, 120, 160, 80, 120, 60, 60, 60, 60, 60, 60, 120, 120, 240, 120, 120, 120, 60, 60, 120, 120, 60, 60, 60, 60, 120, 120, 160, 80, 120, 120, 60, 60, 120, 120, 120, 120, 60, 60, 120, 120, 60, 60, 60, 60, 120, 120, 120, 120, 240, 60, 60, 120, 120, 120, 120, 60, 60, 120, 120, 60, 60, 120, 120, 120, 160, 80, 120, 120, 60, 60, 60, 60, 240, 120, 60, 60, 120, 180, 60, 60, 60, 120, 60, 60, 60, 60, 120, 240, 120, 120]}\n",
      "/n\n"
     ]
    }
   ],
   "source": [
    "for label in np.random.choice(list(dataset.keys()), 2):\n",
    "    print(label)\n",
    "    print(\"MIDI events\")\n",
    "    display(datapath+label+\".mid\")\n",
    "    print(\"Note representation\")\n",
    "    print(dataset[label])\n",
    "    print('/n')"
   ]
  },
  {
   "cell_type": "markdown",
   "metadata": {},
   "source": [
    "## Exercise 2: Tokenzation and translation to integer\n",
    "### Description\n",
    "\n",
    "Now you should have a \"dataset\" dictionary where each entry corresponds to one melody example from a subset of the full dataset. In turn, every melody example is represented by a dictionary with two sequences: the \"P\" entry being the sequence of pitches and the \"T\" entry, the sequence of durations. Here, you will implement the first steps to translate this dataset in a language that can be read by your ANN models. To achieve that, we will later use the [one-hot encoding scheme](https://machinelearningmastery.com/why-one-hot-encode-data-in-machine-learning/), which will associate each input (and output) unit of your network to a unique pitch or duration. In your network, these units will then be sequentially activated in the same order as their corresponding pitch/duration in your dataset. And at each note, the model will be trained to approximate the probability distributions of the upcoming pitch and duration.\n",
    "\n",
    "1. Gather in a list of all possible pitches and durations in your dataset. These two lists will be your \"dictionaries\" translating a pitch/duration to a unique integer between 0 and the number of entries (-1) in the pitch/duration dictionary.\n",
    "2. Translate the pitch/duration sequence of each melody to the integer representation.\n",
    "3. Select randomly two melodies and display them in the note representation and translated to integer. Check that the translation is correct."
   ]
  },
  {
   "cell_type": "markdown",
   "metadata": {},
   "source": [
    "### Solution"
   ]
  },
  {
   "cell_type": "code",
   "execution_count": 8,
   "metadata": {},
   "outputs": [],
   "source": [
    "reduce_union = lambda x, y: x.union(y)\n",
    "\n",
    "def index(a, x):\n",
    "    'Locate the leftmost value exactly equal to x'\n",
    "    i = bisect_left(a, x)\n",
    "    if i != len(a) and a[i] == x:\n",
    "        return i\n",
    "    raise ValueError"
   ]
  },
  {
   "cell_type": "code",
   "execution_count": 9,
   "metadata": {},
   "outputs": [],
   "source": [
    "def translation(dataset):\n",
    "    durations = sorted(reduce(reduce_union, [set(dataset[x]['T']) for x in dataset]))\n",
    "    pitches = sorted(reduce(reduce_union, [set(dataset[x]['P']) for x in dataset]))\n",
    "\n",
    "    dur2Id = lambda x: index(durations, x)\n",
    "    pit2Id = lambda x: index(pitches, x)\n",
    "    dictionary = {'T': durations, 'P': pitches}\n",
    "\n",
    "    for label in list(dataset.keys()):\n",
    "        dataset[label]['T'] = list(map(dur2Id, dataset[label]['T']))\n",
    "        dataset[label]['P'] = list(map(pit2Id, dataset[label]['P']))\n",
    "    \n",
    "    return dataset, dictionary\n",
    "        \n",
    "dataset, dictionary = translation(dataset)"
   ]
  },
  {
   "cell_type": "code",
   "execution_count": 10,
   "metadata": {},
   "outputs": [
    {
     "name": "stdout",
     "output_type": "stream",
     "text": [
      "sessiontune38867\n",
      "MIDI events\n",
      "chorpus/sessiontune38867.mid\n",
      "########################################\n",
      "tick \t pitch \t message \t velocity\n",
      "########################################\n",
      "\n",
      "1 \t 68 \t Note On \t 105\n",
      "240 \t 68 \t Note Off \t 0\n",
      "241 \t 65 \t Note On \t 80\n",
      "480 \t 65 \t Note Off \t 0\n",
      "481 \t 61 \t Note On \t 105\n",
      "720 \t 61 \t Note Off \t 0\n",
      "721 \t 65 \t Note On \t 80\n",
      "960 \t 65 \t Note Off \t 0\n",
      "961 \t 68 \t Note On \t 80\n",
      ". \t . \t . \t \t .\n",
      ". \t . \t . \t \t .\n",
      ". \t . \t . \t \t .\n",
      "60241 \t 73 \t Note On \t 80\n",
      "60480 \t 73 \t Note Off \t 0\n",
      "60481 \t 73 \t Note On \t 80\n",
      "60720 \t 73 \t Note Off \t 0\n",
      "60721 \t 72 \t Note On \t 80\n",
      "60960 \t 72 \t Note Off \t 0\n",
      "60961 \t 73 \t Note On \t 95\n",
      "61440 \t 73 \t Note Off \t 0\n",
      "########################################\n",
      "\n",
      "Note representation\n",
      "{'P': [20, 17, 13, 17, 20, 17, 13, 18, 22, 18, 17, 20, 25, 27, 29, 25, 20, 17, 30, 27, 29, 30, 29, 30, 29, 27, 29, 27, 25, 24, 22, 20, 22, 20, 18, 17, 15, 13, 17, 20, 17, 13, 18, 22, 18, 17, 20, 25, 27, 29, 25, 20, 17, 30, 27, 29, 30, 27, 24, 25, 27, 25, 25, 24, 25, 20, 17, 13, 17, 20, 17, 13, 18, 22, 18, 17, 20, 25, 27, 29, 25, 20, 17, 30, 27, 29, 30, 29, 30, 29, 27, 29, 27, 25, 24, 22, 20, 22, 20, 18, 17, 15, 13, 17, 20, 17, 13, 18, 22, 18, 17, 20, 25, 27, 29, 25, 20, 17, 30, 27, 29, 30, 27, 24, 25, 27, 25, 25, 24, 25, 24, 25, 27, 20, 24, 22, 20, 27, 20, 24, 22, 20, 30, 29, 30, 27, 20, 24, 22, 20, 27, 27, 29, 30, 29, 30, 29, 27, 29, 27, 25, 24, 22, 20, 22, 20, 18, 17, 15, 13, 17, 20, 17, 13, 18, 22, 18, 17, 20, 25, 27, 29, 25, 20, 17, 30, 27, 29, 30, 27, 24, 25, 27, 25, 25, 24, 25, 24, 25, 27, 20, 24, 22, 20, 27, 20, 24, 22, 20, 30, 29, 30, 27, 20, 24, 22, 20, 27, 27, 29, 30, 29, 30, 29, 27, 29, 27, 25, 24, 22, 20, 22, 20, 18, 17, 15, 13, 17, 20, 17, 13, 18, 22, 18, 17, 20, 25, 27, 29, 25, 20, 17, 30, 27, 29, 30, 27, 24, 25, 27, 25, 25, 24, 25], 'T': [23, 23, 23, 23, 23, 23, 23, 23, 23, 23, 23, 23, 23, 23, 23, 23, 23, 23, 35, 23, 23, 23, 23, 23, 23, 16, 16, 16, 16, 16, 16, 16, 16, 16, 16, 16, 16, 23, 23, 23, 23, 23, 23, 23, 23, 23, 23, 23, 23, 23, 23, 23, 23, 35, 23, 23, 23, 23, 23, 23, 23, 23, 23, 23, 35, 23, 23, 23, 23, 23, 23, 23, 23, 23, 23, 23, 23, 23, 23, 23, 23, 23, 23, 35, 23, 23, 23, 23, 23, 23, 16, 16, 16, 16, 16, 16, 16, 16, 16, 16, 16, 16, 23, 23, 23, 23, 23, 23, 23, 23, 23, 23, 23, 23, 23, 23, 23, 23, 35, 23, 23, 23, 23, 23, 23, 23, 23, 23, 23, 35, 23, 23, 23, 23, 16, 16, 16, 23, 23, 16, 16, 16, 35, 23, 23, 23, 23, 16, 16, 16, 35, 23, 23, 23, 23, 23, 23, 16, 16, 16, 16, 16, 16, 16, 16, 16, 16, 16, 16, 23, 23, 23, 23, 23, 23, 23, 23, 23, 23, 23, 23, 23, 23, 23, 23, 35, 23, 23, 23, 23, 23, 23, 23, 23, 23, 23, 35, 23, 23, 23, 23, 16, 16, 16, 23, 23, 16, 16, 16, 35, 23, 23, 23, 23, 16, 16, 16, 35, 23, 23, 23, 23, 23, 23, 16, 16, 16, 16, 16, 16, 16, 16, 16, 16, 16, 16, 23, 23, 23, 23, 23, 23, 23, 23, 23, 23, 23, 23, 23, 23, 23, 23, 35, 23, 23, 23, 23, 23, 23, 23, 23, 23, 23, 35]}\n",
      "/n\n",
      "sessiontune16265\n",
      "MIDI events\n",
      "chorpus/sessiontune16265.mid\n",
      "########################################\n",
      "tick \t pitch \t message \t velocity\n",
      "########################################\n",
      "\n",
      "1 \t 55 \t Note On \t 105\n",
      "120 \t 55 \t Note Off \t 0\n",
      "121 \t 60 \t Note On \t 80\n",
      "480 \t 60 \t Note Off \t 0\n",
      "481 \t 60 \t Note On \t 80\n",
      "840 \t 60 \t Note Off \t 0\n",
      "841 \t 62 \t Note On \t 80\n",
      "960 \t 62 \t Note Off \t 0\n",
      "961 \t 60 \t Note On \t 95\n",
      ". \t . \t . \t \t .\n",
      ". \t . \t . \t \t .\n",
      ". \t . \t . \t \t .\n",
      "60721 \t 65 \t Note On \t 80\n",
      "60840 \t 65 \t Note Off \t 0\n",
      "60841 \t 64 \t Note On \t 80\n",
      "60960 \t 64 \t Note Off \t 0\n",
      "60961 \t 62 \t Note On \t 80\n",
      "61200 \t 62 \t Note Off \t 0\n",
      "61201 \t 60 \t Note On \t 80\n",
      "61440 \t 60 \t Note Off \t 0\n",
      "########################################\n",
      "\n",
      "Note representation\n",
      "{'P': [7, 12, 12, 14, 12, 14, 12, 7, 9, 14, 14, 16, 17, 16, 14, 12, 16, 19, 19, 21, 24, 26, 28, 26, 24, 21, 19, 21, 24, 16, 14, 16, 14, 12, 7, 12, 12, 14, 12, 14, 12, 7, 9, 14, 14, 16, 17, 16, 14, 12, 16, 19, 19, 21, 24, 26, 28, 26, 24, 21, 19, 21, 24, 16, 14, 16, 14, 12, 19, 24, 24, 26, 24, 26, 24, 19, 21, 26, 26, 28, 29, 28, 26, 24, 28, 26, 24, 21, 19, 29, 28, 26, 24, 21, 19, 21, 24, 16, 14, 16, 14, 12, 19, 24, 24, 26, 24, 26, 24, 19, 21, 26, 26, 28, 29, 28, 26, 24, 28, 26, 24, 21, 19, 29, 28, 26, 24, 21, 19, 21, 24, 16, 14, 16, 14, 12, 7, 9, 12, 14, 12, 7, 12, 14, 16, 19, 14, 16, 12, 14, 12, 7, 9, 12, 14, 16, 14, 9, 14, 16, 17, 19, 16, 17, 14, 12, 12, 14, 16, 17, 19, 21, 19, 12, 16, 19, 24, 26, 28, 24, 26, 21, 24, 19, 21, 16, 14, 16, 17, 16, 14, 12, 7, 9, 12, 14, 12, 7, 12, 14, 16, 19, 14, 16, 12, 14, 12, 7, 9, 12, 14, 16, 14, 9, 14, 16, 17, 19, 16, 17, 14, 12, 12, 14, 16, 17, 19, 21, 19, 12, 16, 19, 24, 26, 28, 24, 26, 21, 24, 19, 21, 16, 14, 16, 17, 16, 14, 12, 19, 24, 24, 23, 24, 28, 24, 24, 23, 24, 19, 24, 28, 26, 24, 19, 14, 17, 21, 24, 26, 24, 26, 28, 29, 31, 28, 29, 26, 24, 28, 24, 26, 28, 24, 19, 21, 24, 16, 19, 14, 16, 19, 21, 24, 26, 28, 24, 26, 21, 24, 19, 21, 16, 14, 16, 17, 16, 14, 12, 19, 24, 24, 23, 24, 28, 24, 24, 23, 24, 19, 24, 28, 26, 24, 19, 14, 17, 21, 24, 26, 24, 26, 28, 29, 31, 28, 29, 26, 24, 28, 24, 26, 28, 24, 19, 21, 24, 16, 19, 14, 16, 19, 21, 24, 26, 28, 24, 26, 21, 24, 19, 21, 16, 14, 16, 17, 16, 14, 12], 'T': [13, 29, 29, 13, 29, 13, 23, 23, 23, 23, 29, 13, 29, 13, 23, 23, 23, 23, 29, 13, 29, 13, 29, 13, 29, 13, 13, 13, 13, 13, 29, 13, 23, 23, 13, 29, 29, 13, 29, 13, 23, 23, 23, 23, 29, 13, 29, 13, 23, 23, 23, 23, 29, 13, 29, 13, 29, 13, 29, 13, 13, 13, 13, 13, 29, 13, 23, 23, 13, 29, 29, 13, 29, 13, 23, 23, 29, 13, 29, 13, 29, 13, 23, 23, 29, 13, 23, 23, 13, 29, 29, 13, 29, 13, 13, 13, 13, 13, 29, 13, 23, 23, 13, 29, 29, 13, 29, 13, 23, 23, 29, 13, 29, 13, 29, 13, 23, 23, 29, 13, 23, 23, 13, 29, 29, 13, 29, 13, 13, 13, 13, 13, 29, 13, 23, 23, 13, 13, 13, 13, 13, 13, 13, 13, 13, 13, 13, 13, 13, 13, 13, 13, 13, 13, 13, 13, 13, 13, 13, 13, 13, 13, 13, 13, 29, 13, 13, 13, 13, 13, 29, 13, 13, 13, 13, 13, 29, 13, 13, 13, 13, 13, 13, 13, 13, 13, 13, 13, 13, 13, 23, 23, 13, 13, 13, 13, 13, 13, 13, 13, 13, 13, 13, 13, 13, 13, 13, 13, 13, 13, 13, 13, 13, 13, 13, 13, 13, 13, 13, 13, 29, 13, 13, 13, 13, 13, 29, 13, 13, 13, 13, 13, 29, 13, 13, 13, 13, 13, 13, 13, 13, 13, 13, 13, 13, 13, 23, 23, 13, 8, 8, 8, 13, 13, 8, 8, 8, 13, 13, 13, 13, 13, 23, 23, 13, 13, 13, 13, 13, 13, 13, 13, 13, 13, 13, 13, 23, 23, 13, 13, 13, 13, 13, 13, 13, 13, 13, 13, 13, 13, 13, 13, 13, 13, 13, 13, 13, 13, 13, 13, 13, 13, 13, 13, 13, 13, 23, 23, 13, 8, 8, 8, 13, 13, 8, 8, 8, 13, 13, 13, 13, 13, 23, 23, 13, 13, 13, 13, 13, 13, 13, 13, 13, 13, 13, 13, 23, 23, 13, 13, 13, 13, 13, 13, 13, 13, 13, 13, 13, 13, 13, 13, 13, 13, 13, 13, 13, 13, 13, 13, 13, 13, 13, 13, 13, 13, 23, 23]}\n",
      "/n\n"
     ]
    }
   ],
   "source": [
    "for label in np.random.choice(list(dataset.keys()), 2):\n",
    "    print(label)\n",
    "    print(\"MIDI events\")\n",
    "    display(datapath+label+\".mid\")\n",
    "    print(\"Note representation\")\n",
    "    print(dataset[label])\n",
    "    print('/n')"
   ]
  },
  {
   "cell_type": "markdown",
   "metadata": {},
   "source": [
    "## Exercise 3: Data reprocessing\n",
    "### Description\n",
    "\n",
    "Before moving to the implementation of your RNN generative model of note transition, you will perform data exploration and modification. This step will allow your model to get the most out of your original data as well as ensuring some features such as transposition invariance. \n",
    "\n",
    "To further improve your model, you might want to reconsider your original data. Many different approaches can be undertaken. Here you are asked to implement the a rare event suppression method and transposition invariance.\n",
    "\n",
    "**Rare event suppression** If a unit in your network is associated to a duration that happens very rarely in your data, a possible simplification consists in removing the melodies conaining these rare events from your dataset. \n",
    "1. Plot and comment the histogram of durations in your entire dataset. Use the labels from the original duration values (rather than the integer representation). \n",
    "2. Based on your observations, remove from your dataset melodies containing very rare durations. Adjust the rejection threshold such that at most 5% of the melodies are dicarded with this step. \n",
    "3. Recompute the duration dictionary based on your filtered dataset and plot the new histogram of durations. \n",
    "\n",
    "**Transposition invariance** A melody is perceived similarly by the human ear if it's shifted up or down by a constant offset (see [transposition](https://en.wikipedia.org/wiki/Transposition_(music))). Here, you will force your model to be transposition invariant. For this you can choose to use one of two orthogonal methods. The first consists in transposing every melody into a common tonality (C Major/A minor). On the other hand, the second consists in transposing each melody in all possible keys. The second method will increase your dataset size by a factor bigger than 11! As the training time is directly related with the dataset size, to save computing time, we recomand that you implement the first option.\n",
    "\n",
    "***Pitch normalization*** \n",
    "1. Use the provided function to create a new dataset where all melodies are transposed to C Major/A minor. \n",
    "2. Plot the histograms of the pitches before and after transposition.\n",
    "\n",
    "Finally, you shoud recompute the tokenization step for your brand new filtered and normalized dataset."
   ]
  },
  {
   "cell_type": "code",
   "execution_count": 11,
   "metadata": {},
   "outputs": [
    {
     "data": {
      "image/png": "[encoded data removed]",
      "text/plain": [
       "<Figure size 432x288 with 1 Axes>"
      ]
     },
     "metadata": {
      "image/png": {
       "height": 250,
       "width": 375
      }
     },
     "output_type": "display_data"
    }
   ],
   "source": [
    "merged_durations = reduce(lambda x, y: x + y, [dataset[x]['T'] for x in dataset])\n",
    "\n",
    "plt.hist(merged_durations, bins=40, log=True)\n",
    "plt.show()"
   ]
  },
  {
   "cell_type": "code",
   "execution_count": 12,
   "metadata": {},
   "outputs": [
    {
     "name": "stdout",
     "output_type": "stream",
     "text": [
      "Deleted 2.3763231799524736% of elements\n"
     ]
    }
   ],
   "source": [
    "counts = Counter(x for x in merged_durations)\n",
    "counts = Counter(dict(filter(lambda x: x[1] < 50, counts.items())))\n",
    "\n",
    "cleaned_ds = {k: v for k, v in dataset.items() if len([i for i in counts.keys() if i in v['T']]) == 0}\n",
    "print(\"Deleted {}% of elements\".format((len(dataset) - len(cleaned_ds))/len(dataset) * 100))"
   ]
  },
  {
   "cell_type": "code",
   "execution_count": 13,
   "metadata": {},
   "outputs": [
    {
     "data": {
      "image/png": "[encoded data removed]",
      "text/plain": [
       "<Figure size 432x288 with 1 Axes>"
      ]
     },
     "metadata": {
      "image/png": {
       "height": 250,
       "width": 375
      }
     },
     "output_type": "display_data"
    }
   ],
   "source": [
    "plt.hist(reduce(lambda x, y: x + y, [cleaned_ds[x]['T'] for x in cleaned_ds]), bins=40, log=True)\n",
    "plt.show()"
   ]
  },
  {
   "cell_type": "code",
   "execution_count": 14,
   "metadata": {},
   "outputs": [
    {
     "name": "stdout",
     "output_type": "stream",
     "text": [
      "sessiontune30297\n",
      "MIDI events\n",
      "chorpus/sessiontune30297.mid\n",
      "########################################\n",
      "tick \t pitch \t message \t velocity\n",
      "########################################\n",
      "\n",
      "1 \t 72 \t Note On \t 105\n",
      "240 \t 72 \t Note Off \t 0\n",
      "241 \t 68 \t Note On \t 80\n",
      "480 \t 68 \t Note Off \t 0\n",
      "481 \t 68 \t Note On \t 80\n",
      "720 \t 68 \t Note Off \t 0\n",
      "721 \t 68 \t Note On \t 80\n",
      "960 \t 68 \t Note Off \t 0\n",
      "961 \t 73 \t Note On \t 95\n",
      ". \t . \t . \t \t .\n",
      ". \t . \t . \t \t .\n",
      ". \t . \t . \t \t .\n",
      "60241 \t 72 \t Note On \t 80\n",
      "60480 \t 72 \t Note Off \t 0\n",
      "60481 \t 73 \t Note On \t 95\n",
      "60960 \t 73 \t Note Off \t 0\n",
      "60961 \t 72 \t Note On \t 80\n",
      "61200 \t 72 \t Note Off \t 0\n",
      "61201 \t 73 \t Note On \t 80\n",
      "61440 \t 73 \t Note Off \t 0\n",
      "########################################\n",
      "\n",
      "Note representation\n",
      "{'P': [24, 20, 20, 20, 25, 29, 27, 25, 24, 20, 20, 20, 30, 27, 29, 31, 32, 36, 34, 32, 30, 27, 27, 25, 24, 25, 27, 20, 25, 27, 25, 24, 20, 20, 20, 25, 29, 27, 25, 24, 20, 20, 20, 30, 27, 29, 31, 32, 36, 34, 32, 30, 27, 27, 25, 24, 25, 27, 20, 25, 24, 25, 27, 32, 36, 32, 34, 32, 31, 34, 32, 36, 39, 36, 37, 36, 34, 32, 27, 32, 36, 32, 34, 32, 31, 34, 32, 30, 27, 24, 25, 24, 25, 27, 32, 36, 32, 34, 32, 31, 34, 32, 36, 39, 36, 37, 36, 37, 39, 36, 37, 34, 32, 36, 34, 32, 32, 30, 27, 24, 25, 24, 25, 27, 24, 24, 24, 32, 24, 24, 24, 27, 32, 36, 32, 34, 32, 31, 34, 32, 30, 27, 24, 25, 24, 25, 27, 29, 30, 27, 25, 24, 25, 27, 24, 24, 24, 32, 24, 24, 24, 27, 32, 36, 39, 37, 36, 37, 39, 36, 37, 34, 32, 36, 34, 32, 32, 30, 27, 24, 25, 27, 25, 27, 32, 36, 32, 34, 32, 31, 34, 32, 36, 39, 36, 37, 36, 34, 32, 27, 32, 36, 32, 34, 32, 31, 34, 32, 30, 27, 24, 25, 24, 25, 27, 32, 36, 32, 34, 32, 31, 34, 32, 36, 39, 36, 37, 36, 37, 39, 36, 37, 34, 32, 36, 34, 32, 32, 30, 27, 24, 25, 24, 25], 'T': [23, 23, 23, 23, 23, 23, 23, 23, 23, 23, 23, 23, 23, 23, 23, 23, 23, 23, 23, 23, 23, 23, 23, 23, 23, 23, 23, 23, 35, 23, 23, 23, 23, 23, 23, 23, 23, 23, 23, 23, 23, 23, 23, 23, 23, 23, 23, 23, 23, 23, 23, 23, 23, 23, 23, 23, 23, 23, 23, 35, 23, 23, 23, 23, 23, 23, 23, 23, 23, 23, 23, 23, 23, 23, 23, 23, 23, 23, 23, 23, 23, 23, 23, 23, 23, 23, 23, 23, 23, 23, 35, 23, 23, 23, 23, 23, 23, 23, 23, 23, 23, 23, 23, 23, 23, 35, 23, 23, 23, 23, 23, 23, 23, 23, 23, 23, 23, 23, 23, 23, 35, 23, 23, 23, 23, 23, 23, 23, 23, 23, 23, 23, 23, 23, 23, 23, 23, 23, 23, 23, 23, 23, 23, 35, 23, 23, 23, 23, 23, 23, 35, 23, 23, 23, 23, 23, 23, 23, 23, 23, 23, 23, 23, 23, 23, 35, 23, 23, 23, 23, 23, 23, 23, 23, 23, 23, 23, 23, 23, 23, 35, 23, 23, 23, 23, 23, 23, 23, 23, 23, 23, 23, 23, 23, 23, 23, 23, 23, 23, 23, 23, 23, 23, 23, 23, 23, 23, 23, 23, 23, 23, 35, 23, 23, 23, 23, 23, 23, 23, 23, 23, 23, 23, 23, 23, 23, 35, 23, 23, 23, 23, 23, 23, 23, 23, 23, 23, 23, 23, 23, 23, 35, 23, 23]}\n",
      "/n\n",
      "sessiontune6143\n",
      "MIDI events\n",
      "chorpus/sessiontune6143.mid\n",
      "########################################\n",
      "tick \t pitch \t message \t velocity\n",
      "########################################\n",
      "\n",
      "1 \t 69 \t Note On \t 105\n",
      "720 \t 69 \t Note Off \t 0\n",
      "721 \t 69 \t Note On \t 80\n",
      "960 \t 69 \t Note Off \t 0\n",
      "961 \t 69 \t Note On \t 95\n",
      "1200 \t 69 \t Note Off \t 0\n",
      "1201 \t 62 \t Note On \t 80\n",
      "1440 \t 62 \t Note Off \t 0\n",
      "1441 \t 67 \t Note On \t 80\n",
      ". \t . \t . \t \t .\n",
      ". \t . \t . \t \t .\n",
      ". \t . \t . \t \t .\n",
      "73921 \t 62 \t Note On \t 95\n",
      "74160 \t 62 \t Note Off \t 0\n",
      "74161 \t 60 \t Note On \t 80\n",
      "74400 \t 60 \t Note Off \t 0\n",
      "74401 \t 57 \t Note On \t 80\n",
      "74640 \t 57 \t Note Off \t 0\n",
      "74641 \t 55 \t Note On \t 80\n",
      "74880 \t 55 \t Note Off \t 0\n",
      "########################################\n",
      "\n",
      "Note representation\n",
      "{'P': [21, 21, 21, 14, 19, 14, 17, 19, 17, 14, 12, 9, 24, 26, 26, 26, 24, 21, 23, 24, 23, 24, 26, 24, 21, 17, 14, 21, 21, 21, 14, 19, 14, 17, 19, 17, 14, 12, 9, 14, 16, 14, 12, 9, 7, 9, 12, 14, 16, 14, 21, 21, 21, 14, 19, 14, 17, 19, 17, 14, 12, 9, 24, 26, 26, 26, 24, 21, 23, 24, 23, 24, 26, 24, 21, 17, 14, 21, 21, 21, 14, 19, 14, 17, 19, 17, 14, 12, 9, 14, 16, 14, 12, 9, 7, 9, 12, 14, 16, 14, 14, 16, 14, 12, 9, 12, 14, 16, 17, 19, 21, 24, 21, 19, 17, 19, 14, 17, 14, 12, 7, 9, 12, 14, 16, 14, 14, 16, 14, 12, 9, 12, 14, 16, 17, 19, 21, 24, 21, 19, 17, 19, 14, 17, 14, 12, 7, 9, 12, 14, 16, 14, 14, 12, 14, 12, 14, 17, 19, 19, 20, 17, 14, 17, 19, 19, 14, 17, 19, 19, 20, 19, 17, 19, 17, 14, 21, 12, 14, 14, 12, 14, 12, 14, 17, 19, 19, 19, 17, 14, 17, 19, 19, 14, 17, 19, 19, 20, 19, 17, 14, 21, 21, 21, 14, 19, 14, 17, 19, 17, 14, 12, 9, 24, 26, 26, 26, 24, 21, 23, 24, 23, 24, 26, 24, 21, 17, 14, 21, 21, 21, 14, 19, 14, 17, 19, 17, 14, 12, 9, 14, 16, 14, 12, 9, 7], 'T': [42, 23, 23, 23, 23, 23, 42, 23, 23, 23, 23, 23, 23, 35, 23, 23, 23, 23, 23, 23, 23, 23, 23, 23, 23, 23, 23, 42, 23, 23, 23, 23, 23, 42, 23, 23, 23, 23, 23, 42, 23, 23, 23, 23, 23, 23, 23, 23, 23, 35, 42, 23, 23, 23, 23, 23, 42, 23, 23, 23, 23, 23, 23, 35, 23, 23, 23, 23, 23, 23, 23, 23, 23, 23, 23, 23, 23, 42, 23, 23, 23, 23, 23, 42, 23, 23, 23, 23, 23, 42, 23, 23, 23, 23, 23, 23, 23, 23, 23, 35, 42, 23, 23, 23, 23, 23, 23, 23, 42, 23, 23, 23, 23, 23, 35, 23, 23, 23, 23, 23, 23, 23, 23, 23, 23, 35, 42, 23, 23, 23, 23, 23, 23, 23, 42, 23, 23, 23, 23, 23, 35, 23, 23, 23, 23, 23, 23, 23, 23, 23, 23, 35, 42, 23, 35, 23, 23, 23, 35, 35, 23, 23, 23, 23, 35, 35, 23, 23, 23, 23, 23, 23, 23, 23, 23, 23, 23, 23, 23, 23, 23, 35, 23, 23, 23, 35, 35, 23, 23, 23, 23, 35, 35, 23, 23, 23, 23, 23, 23, 23, 35, 42, 23, 23, 23, 23, 23, 42, 23, 23, 23, 23, 23, 23, 35, 23, 23, 23, 23, 23, 23, 23, 23, 23, 23, 23, 23, 23, 42, 23, 23, 23, 23, 23, 42, 23, 23, 23, 23, 23, 42, 23, 23, 23, 23, 23]}\n",
      "/n\n"
     ]
    }
   ],
   "source": [
    "for label in np.random.choice(list(cleaned_ds.keys()), 2):\n",
    "    print(label)\n",
    "    print(\"MIDI events\")\n",
    "    display(datapath+label+\".mid\")\n",
    "    print(\"Note representation\")\n",
    "    print(dataset[label])\n",
    "    print('/n')"
   ]
  },
  {
   "cell_type": "code",
   "execution_count": 15,
   "metadata": {
    "scrolled": true
   },
   "outputs": [],
   "source": [
    "def transposeDataset(dataset):\n",
    "    transposed_dataset = {}\n",
    "\n",
    "    for label in list(dataset.keys()):\n",
    "        transposed_dataset[label] = {}\n",
    "        score = music21.converter.parse(datapath+label+\".mid\")\n",
    "        key = score.analyze('key')\n",
    "        if key.mode == \"major\":\n",
    "            i = music21.interval.Interval(key.tonic, music21.pitch.Pitch('C'))\n",
    "        elif key.mode == \"minor\":\n",
    "            i = music21.interval.Interval(key.tonic, music21.pitch.Pitch('A'))\n",
    "        i = i.semitones\n",
    "        transposed_dataset[label]['P'] = [p+i for p in dataset[label]['P']]\n",
    "        transposed_dataset[label]['T'] = dataset[label]['T']\n",
    "        \n",
    "    return transposed_dataset"
   ]
  },
  {
   "cell_type": "code",
   "execution_count": 16,
   "metadata": {},
   "outputs": [],
   "source": [
    "transposed_dataset = transposeDataset(cleaned_ds)"
   ]
  },
  {
   "cell_type": "code",
   "execution_count": 17,
   "metadata": {},
   "outputs": [],
   "source": [
    "pitches = reduce(lambda x, y: x + y, [cleaned_ds[x]['P'] for x in cleaned_ds])\n",
    "transposed_pitches = reduce(lambda x, y: x + y, [transposed_dataset[x]['P'] for x in transposed_dataset])"
   ]
  },
  {
   "cell_type": "code",
   "execution_count": 18,
   "metadata": {},
   "outputs": [
    {
     "data": {
      "image/png": "[encoded data removed]",
      "text/plain": [
       "<Figure size 432x288 with 1 Axes>"
      ]
     },
     "metadata": {
      "image/png": {
       "height": 250,
       "width": 390
      }
     },
     "output_type": "display_data"
    },
    {
     "data": {
      "image/png": "[encoded data removed]",
      "text/plain": [
       "<Figure size 432x288 with 1 Axes>"
      ]
     },
     "metadata": {
      "image/png": {
       "height": 250,
       "width": 397
      }
     },
     "output_type": "display_data"
    }
   ],
   "source": [
    "plt.hist(pitches, bins=50)\n",
    "plt.show()\n",
    "\n",
    "plt.hist(transposed_pitches, bins=50)\n",
    "plt.show()"
   ]
  },
  {
   "cell_type": "code",
   "execution_count": 19,
   "metadata": {},
   "outputs": [],
   "source": [
    "translated, dictionary = translation(transposed_dataset)"
   ]
  },
  {
   "cell_type": "markdown",
   "metadata": {},
   "source": [
    "**Question**: How much did you reduce the space of possible durations with your rare event suppression procedure? What is the impact in term of training time?\n",
    "    \n",
    "**Answer**: \n",
    "\n",
    "**Question**: Explain why and how both transposition to a single tonality and to all possible tonalities can yield transposition invariance in your model. \n",
    "\n",
    "**Answer**:\n",
    "\n",
    "**Question**: In terms of number of dimensions, what would have been the impact of keeping the joint represenation of a note duration and pitch (vs separating the two features)? \n",
    "\n",
    "**Answer**: \n",
    "\n",
    "**Question**: How would the distribution of notes in the joint representation differ from the distributions in the pitch and duration only representations (as shown by your histograms above)?\n",
    "\n",
    "**Answer**: "
   ]
  },
  {
   "cell_type": "markdown",
   "metadata": {},
   "source": [
    "## Exercise 4: One-hot and zero-padding\n",
    "### Description\n",
    "\n",
    "The last few steps to be able to feed (note by note) your music scores to a RNN model are\n",
    "1. Transform the sequence of integers into a sequence of vectors in the one-hot encoding scheme.\n",
    "2. Homegenize the length of each sequence\n",
    "\n",
    "**One-hot encode** You can implement your own integer to one-hot code. For this use the numpy library and the suitable datatype. Alternatively, Keras provides a [built in one-hot encoding scheme](https://keras.io/utils/#to_categorical). After this step, for each melody, you should have two similar length matrices with one representing the sequence of note pitches and the other the sequence of note durations.\n",
    "1. Code the integer representation into matrices of one-hot vectors\n",
    "\n",
    "**Zero-padding** Most deep learning libraries, including Keras, require that you specify the shape of the input data. As such, you cannot have variable length inputs per-se. The trick to handle them is [zero-padding](https://keras.io/preprocessing/sequence/#pad_sequences). Provided with the [Masking Layer](https://keras.io/layers/core/#masking) Keras will then ignore time steps where all inputs are 0.\n",
    "1. Extend the end of each melody matrices with vectors containing only zeros until all melodies have the same size. For simplicity, use the Keras pad_sequences function. There might be some rare very long melodies in your dataset, a possible choice is to set the 'maxlen' argument of pad_sequences to the mean+2std of the melody lengths. This ensure that 95% of your melodies would end before being truncated.\n",
    "2. Check and display the dimension of the resulting tensors. Typically, the tensor representing the sequence of pitches should be of shape [number of melodies x number of notes x number of entries in the pitch dictionary] and the tensor representing the sequence of durations [number of melodies x number of notes x number of entries in the duration dictionary]\n",
    "\n",
    "To check if this step was done correctly use the provided plotMelody function. For two randomly selected melodies, call the plotMelody function before and after one-hot/zero-pad. You should obtain the same plots (or slightly truncated if you randomly selected one belonging to 5% longest).\n",
    "\n",
    "Finally, we strongly suggest that you save your preprocessed data now."
   ]
  },
  {
   "cell_type": "markdown",
   "metadata": {},
   "source": [
    "### Solution"
   ]
  },
  {
   "cell_type": "code",
   "execution_count": 20,
   "metadata": {},
   "outputs": [],
   "source": [
    "one_hot = {}\n",
    "for label in list(translated.keys()):\n",
    "    one_hot[label] = {}\n",
    "    one_hot[label]['P'] = np_utils.to_categorical(translated[label]['P'], len(dictionary['P']))\n",
    "    one_hot[label]['T'] = np_utils.to_categorical(translated[label]['T'], len(dictionary['T']))"
   ]
  },
  {
   "cell_type": "code",
   "execution_count": 21,
   "metadata": {},
   "outputs": [],
   "source": [
    "lengths = np.array([x['P'].shape[0] for k, x in one_hot.items()])\n",
    "ml = int(lengths.mean() + 2 * lengths.std())\n",
    "\n",
    "ps = pad_sequences([x['P'] for k, x in one_hot.items()], maxlen=ml, padding='post', truncating='post')\n",
    "ts = pad_sequences([x['T'] for k, x in one_hot.items()], maxlen=ml, padding='post', truncating='post')\n",
    "\n",
    "dataset = {}\n",
    "for i, label in enumerate(list(one_hot.keys())):\n",
    "    dataset[label] = {}\n",
    "    dataset[label]['P'] = ps[i]\n",
    "    dataset[label]['T'] = ts[i]"
   ]
  },
  {
   "cell_type": "code",
   "execution_count": 22,
   "metadata": {},
   "outputs": [
    {
     "name": "stdout",
     "output_type": "stream",
     "text": [
      "sessiontune43994\n",
      "(382, 26)\n",
      "(382, 52)\n"
     ]
    },
    {
     "data": {
      "image/png": "[encoded data removed]",
      "text/plain": [
       "<Figure size 576x288 with 1 Axes>"
      ]
     },
     "metadata": {
      "image/png": {
       "height": 294,
       "width": 584
      }
     },
     "output_type": "display_data"
    },
    {
     "data": {
      "image/png": "[encoded data removed]",
      "text/plain": [
       "<Figure size 576x288 with 1 Axes>"
      ]
     },
     "metadata": {
      "image/png": {
       "height": 294,
       "width": 584
      }
     },
     "output_type": "display_data"
    },
    {
     "data": {
      "image/png": "[encoded data removed]",
      "text/plain": [
       "<Figure size 576x288 with 1 Axes>"
      ]
     },
     "metadata": {
      "image/png": {
       "height": 294,
       "width": 584
      }
     },
     "output_type": "display_data"
    },
    {
     "data": {
      "image/png": "[encoded data removed]",
      "text/plain": [
       "<Figure size 576x288 with 1 Axes>"
      ]
     },
     "metadata": {
      "image/png": {
       "height": 294,
       "width": 584
      }
     },
     "output_type": "display_data"
    }
   ],
   "source": [
    "for label in np.random.choice(list(dataset.keys()), 1):\n",
    "    print(label)\n",
    "    print(dataset[label]['T'].shape)\n",
    "    print(dataset[label]['P'].shape)\n",
    "    plotMelody(dataset[label]['P'], dataset[label]['T'], dictionary)\n",
    "    plotMelody(translated[label]['P'], translated[label]['T'], dictionary)"
   ]
  },
  {
   "cell_type": "code",
   "execution_count": 23,
   "metadata": {},
   "outputs": [],
   "source": [
    "dataset_path = \"tmp/\""
   ]
  },
  {
   "cell_type": "code",
   "execution_count": 24,
   "metadata": {},
   "outputs": [],
   "source": [
    "# Execute this for saving data to pickle\n",
    "if not os.path.exists(os.path.dirname(dataset_path)):\n",
    "    try:\n",
    "        os.makedirs(os.path.dirname(dataset_path))\n",
    "    except OSError as exc: # Guard against race condition\n",
    "        if exc.errno != errno.EEXIST:\n",
    "            raise\n",
    "\n",
    "f = open(os.path.join(dataset_path, \"dataset.pckl\"), 'wb')\n",
    "pickle.dump(dataset, f)\n",
    "f.close()\n",
    "\n",
    "f = open(os.path.join(dataset_path, \"dictionary.pckl\"), 'wb')\n",
    "pickle.dump(dictionary, f)\n",
    "f.close()\n",
    "\n",
    "f = open(os.path.join(dataset_path, \"ml.pckl\"), 'wb')\n",
    "pickle.dump(ml, f)\n",
    "f.close()"
   ]
  },
  {
   "cell_type": "code",
   "execution_count": 25,
   "metadata": {},
   "outputs": [],
   "source": [
    "# Execute this for loading data from pickle\n",
    "if os.path.exists(dataset_path):\n",
    "    f = open(os.path.join(dataset_path, \"dataset.pckl\"), 'rb')\n",
    "    dataset = pickle.load(f)\n",
    "    f.close()\n",
    "    \n",
    "    f = open(os.path.join(dataset_path, \"dictionary.pckl\"), 'rb')\n",
    "    dictionary = pickle.load(f)\n",
    "    f.close()\n",
    "    \n",
    "    f = open(os.path.join(dataset_path, \"ml.pckl\"), 'rb')\n",
    "    ml = pickle.load(f)\n",
    "    f.close()\n",
    "else:\n",
    "    dataset = None\n",
    "    print(\"Could not load dataset\")"
   ]
  },
  {
   "cell_type": "markdown",
   "metadata": {},
   "source": [
    "## Exercise 5: Building and training a generative model of  note transition with the Keras functional API\n",
    "### Description\n",
    "\n",
    "The Keras Sequential model is very efficient for fast prototyping, however suffers from a lack of design liberty. The Keras Functional API is only slightly more complex but allows for more control on the different parts of your model. You will be using the Functional API for the rest of this project. Please read carefully the [documentation](https://keras.io/getting-started/sequential-model-guide/). \n",
    "\n",
    "Here, you will be constructing your RNN model of note transition. To achieve that, your model should be trained to approximate the probability distribution of the upcoming note (observed as two output softmax layers - one for pitch and one for duration) given the current note (given as input) and the model internal representation of the history of notes (its hidden state). To achieve that, set the Keras RNN layer argument \"return_sequences\" to True when building your model. Doing this will give you an output for each note, rather than a single output at the end of the sequence. During training, the target at each time step is the next note pitch and duration.\n",
    "\n",
    "You are free to use your own architecture but make sure to use at least 128 hidden units, Masking, and dropout to prevent overfitting. Your model should have two output (softmax) layers, one related to the pitch predictions that you should name `YP`, and the other related to the duration predictions `YT`. You should monitor both the loss (categorical_crossentropy) and the accuracy. For your best model, you should reach 40%/75% accuracy on the pitch/duration predictions.\n",
    "\n",
    "1. Train your first model composed of SimpleRNN cells for min 250 epochs and save the model/parameters that lead to the higher accuracy on the validating set. Use a validation split of 0.2. Try  If you correctly named the output layers (`YP` and `YT`) use the provided `plotLearningCurves(History)` function to plot the learning curves by giving the History object returned by the Keras fit function as argument.  \n",
    "2. Train a second model where you replaced the SimpleRNN units with GRUs (LSTM unit equivalent that requires less parameters). Make sure you use the same hyperparameters as before. Plot the learning curves.\n",
    "3. On a single plot, adapt the `plotLearningCurves(History)` function to compare the validation learning curves of the simpleRNN and GRU models. In other words, plot the validation loss vs epoch for pitch/duration for the simpleRNN and GRU models. Do the same for accuracies.\n"
   ]
  },
  {
   "cell_type": "markdown",
   "metadata": {},
   "source": [
    "### Solution"
   ]
  },
  {
   "cell_type": "code",
   "execution_count": 29,
   "metadata": {},
   "outputs": [],
   "source": [
    "def buildModel(dictionaries, batch_length, dropout=0.2, activation='GRU', Hsize=128):\n",
    "    X = dict()\n",
    "    H = dict()\n",
    "    M = dict()\n",
    "    Y = dict()\n",
    "    \n",
    "    X['T'] = Input(shape=(batch_length, len(dictionaries['T'])), name=\"XT\")\n",
    "    X['P'] = Input(shape=(batch_length, len(dictionaries['P'])), name=\"XP\")\n",
    "    \n",
    "    M['T'] = Masking(mask_value=0., name=\"MT\")(X['T'])\n",
    "    M['P'] = Masking(mask_value=0., name=\"MP\")(X['P'])\n",
    "    \n",
    "    H['1'] = Concatenate(name=\"MergeX\")([M['T'], M['P']])\n",
    "    if activation == 'GRU':\n",
    "        H['2'] = GRU(units=128, return_sequences=True, dropout=dropout)(H['1'])\n",
    "        H['3'] = GRU(units=256, return_sequences=True, dropout=dropout)(H['2'])\n",
    "        H['4T'] = GRU(units=64, return_sequences=True, dropout=dropout)(H['3'])\n",
    "        H['4P'] = GRU(units=128, return_sequences=True, dropout=dropout)(H['3'])\n",
    "    elif activation == 'LSTM':\n",
    "        pass\n",
    "    elif activation == 'RNN':\n",
    "        H['2'] = SimpleRNN(units=128, return_sequences=True, dropout=dropout)(H['1'])\n",
    "        H['3'] = SimpleRNN(units=256, return_sequences=True, dropout=dropout)(H['2'])\n",
    "        H['4T'] = SimpleRNN(units=64, return_sequences=True, dropout=dropout)(H['3'])\n",
    "        H['4P'] = SimpleRNN(units=128, return_sequences=True, dropout=dropout)(H['3'])\n",
    "        \n",
    "    Y['T'] = TimeDistributed(Dense(len(dictionaries['T']), activation='softmax'), name='YT')(H['4T'])\n",
    "    Y['P'] = TimeDistributed(Dense(len(dictionaries['P']), activation='softmax'), name='YP')(H['4P'])\n",
    "    \n",
    "    model = Model(inputs = [X['T'], X['P']], outputs = [Y['T'], Y['P']])\n",
    "    opt = Adam() \n",
    "    model.compile(\n",
    "        loss='categorical_crossentropy', \n",
    "        optimizer=opt,\n",
    "        metrics=['acc'])\n",
    "    \n",
    "    return model"
   ]
  },
  {
   "cell_type": "code",
   "execution_count": 30,
   "metadata": {},
   "outputs": [
    {
     "name": "stdout",
     "output_type": "stream",
     "text": [
      "__________________________________________________________________________________________________\n",
      "Layer (type)                    Output Shape         Param #     Connected to                     \n",
      "==================================================================================================\n",
      "XT (InputLayer)                 (None, 381, 26)      0                                            \n",
      "__________________________________________________________________________________________________\n",
      "XP (InputLayer)                 (None, 381, 52)      0                                            \n",
      "__________________________________________________________________________________________________\n",
      "MT (Masking)                    (None, 381, 26)      0           XT[0][0]                         \n",
      "__________________________________________________________________________________________________\n",
      "MP (Masking)                    (None, 381, 52)      0           XP[0][0]                         \n",
      "__________________________________________________________________________________________________\n",
      "MergeX (Concatenate)            (None, 381, 78)      0           MT[0][0]                         \n",
      "                                                                 MP[0][0]                         \n",
      "__________________________________________________________________________________________________\n",
      "gru_5 (GRU)                     (None, 381, 128)     79488       MergeX[0][0]                     \n",
      "__________________________________________________________________________________________________\n",
      "gru_6 (GRU)                     (None, 381, 256)     295680      gru_5[0][0]                      \n",
      "__________________________________________________________________________________________________\n",
      "gru_7 (GRU)                     (None, 381, 64)      61632       gru_6[0][0]                      \n",
      "__________________________________________________________________________________________________\n",
      "gru_8 (GRU)                     (None, 381, 128)     147840      gru_6[0][0]                      \n",
      "__________________________________________________________________________________________________\n",
      "YT (TimeDistributed)            (None, 381, 26)      1690        gru_7[0][0]                      \n",
      "__________________________________________________________________________________________________\n",
      "YP (TimeDistributed)            (None, 381, 52)      6708        gru_8[0][0]                      \n",
      "==================================================================================================\n",
      "Total params: 593,038\n",
      "Trainable params: 593,038\n",
      "Non-trainable params: 0\n",
      "__________________________________________________________________________________________________\n"
     ]
    }
   ],
   "source": [
    "GRUModel = buildModel(dictionary, \n",
    "                      batch_length=ml-1,#Put here the number of notes (timesteps) you have in your Zero-padded matrices\n",
    "                      activation='GRU')\n",
    "GRUModel.summary()"
   ]
  },
  {
   "cell_type": "code",
   "execution_count": 31,
   "metadata": {},
   "outputs": [
    {
     "name": "stdout",
     "output_type": "stream",
     "text": [
      "__________________________________________________________________________________________________\n",
      "Layer (type)                    Output Shape         Param #     Connected to                     \n",
      "==================================================================================================\n",
      "XT (InputLayer)                 (None, 381, 26)      0                                            \n",
      "__________________________________________________________________________________________________\n",
      "XP (InputLayer)                 (None, 381, 52)      0                                            \n",
      "__________________________________________________________________________________________________\n",
      "MT (Masking)                    (None, 381, 26)      0           XT[0][0]                         \n",
      "__________________________________________________________________________________________________\n",
      "MP (Masking)                    (None, 381, 52)      0           XP[0][0]                         \n",
      "__________________________________________________________________________________________________\n",
      "MergeX (Concatenate)            (None, 381, 78)      0           MT[0][0]                         \n",
      "                                                                 MP[0][0]                         \n",
      "__________________________________________________________________________________________________\n",
      "simple_rnn_5 (SimpleRNN)        (None, 381, 128)     26496       MergeX[0][0]                     \n",
      "__________________________________________________________________________________________________\n",
      "simple_rnn_6 (SimpleRNN)        (None, 381, 256)     98560       simple_rnn_5[0][0]               \n",
      "__________________________________________________________________________________________________\n",
      "simple_rnn_7 (SimpleRNN)        (None, 381, 64)      20544       simple_rnn_6[0][0]               \n",
      "__________________________________________________________________________________________________\n",
      "simple_rnn_8 (SimpleRNN)        (None, 381, 128)     49280       simple_rnn_6[0][0]               \n",
      "__________________________________________________________________________________________________\n",
      "YT (TimeDistributed)            (None, 381, 26)      1690        simple_rnn_7[0][0]               \n",
      "__________________________________________________________________________________________________\n",
      "YP (TimeDistributed)            (None, 381, 52)      6708        simple_rnn_8[0][0]               \n",
      "==================================================================================================\n",
      "Total params: 203,278\n",
      "Trainable params: 203,278\n",
      "Non-trainable params: 0\n",
      "__________________________________________________________________________________________________\n"
     ]
    }
   ],
   "source": [
    "RNNmodel = buildModel(dictionary, \n",
    "                      batch_length=ml-1,#Put here the number of notes (timesteps) you have in your Zero-padded matrices\n",
    "                      activation='RNN')\n",
    "RNNmodel.summary()"
   ]
  },
  {
   "cell_type": "code",
   "execution_count": 32,
   "metadata": {},
   "outputs": [],
   "source": [
    "xs = {'XT': [], 'XP': []}\n",
    "ys = {'YT': [], 'YP': []}\n",
    "for k, v in dataset.items():\n",
    "    xs['XT'].append(v['T'][:-1])\n",
    "    xs['XP'].append(v['P'][:-1])\n",
    "    ys['YT'].append(v['T'][1:])\n",
    "    ys['YP'].append(v['P'][1:])\n",
    "    \n",
    "xs['XT'] = np.asarray(xs['XT'])\n",
    "xs['XP'] = np.asarray(xs['XP'])\n",
    "ys['YT'] = np.asarray(ys['YT'])\n",
    "ys['YP'] = np.asarray(ys['YP'])"
   ]
  },
  {
   "cell_type": "code",
   "execution_count": 33,
   "metadata": {},
   "outputs": [
    {
     "name": "stdout",
     "output_type": "stream",
     "text": [
      "Train on 3615 samples, validate on 904 samples\n",
      "Epoch 1/250\n",
      "3615/3615 [==============================] - 111s 31ms/step - loss: 5.8103 - YT_loss: 2.2470 - YP_loss: 3.5633 - YT_acc: 0.6045 - YP_acc: 0.1019 - val_loss: 4.5959 - val_YT_loss: 1.6044 - val_YP_loss: 2.9915 - val_YT_acc: 0.6886 - val_YP_acc: 0.1395\n",
      "Epoch 2/250\n",
      "3615/3615 [==============================] - 108s 30ms/step - loss: 4.2031 - YT_loss: 1.2931 - YP_loss: 2.9101 - YT_acc: 0.6969 - YP_acc: 0.1044 - val_loss: 3.9422 - val_YT_loss: 1.1032 - val_YP_loss: 2.8389 - val_YT_acc: 0.7073 - val_YP_acc: 0.1192\n",
      "Epoch 3/250\n",
      "3615/3615 [==============================] - 111s 31ms/step - loss: 3.9181 - YT_loss: 1.1000 - YP_loss: 2.8182 - YT_acc: 0.7026 - YP_acc: 0.1264 - val_loss: 3.8326 - val_YT_loss: 1.0409 - val_YP_loss: 2.7917 - val_YT_acc: 0.6973 - val_YP_acc: 0.1227\n",
      "Epoch 4/250\n",
      "3615/3615 [==============================] - 111s 31ms/step - loss: 3.7952 - YT_loss: 1.0267 - YP_loss: 2.7684 - YT_acc: 0.7200 - YP_acc: 0.1365 - val_loss: 3.6760 - val_YT_loss: 0.9674 - val_YP_loss: 2.7086 - val_YT_acc: 0.7228 - val_YP_acc: 0.1555\n",
      "Epoch 5/250\n",
      "3615/3615 [==============================] - 112s 31ms/step - loss: 3.6143 - YT_loss: 0.9707 - YP_loss: 2.6436 - YT_acc: 0.7309 - YP_acc: 0.1576 - val_loss: 3.4466 - val_YT_loss: 0.9057 - val_YP_loss: 2.5408 - val_YT_acc: 0.7448 - val_YP_acc: 0.1795\n",
      "Epoch 6/250\n",
      "3615/3615 [==============================] - 112s 31ms/step - loss: 3.4430 - YT_loss: 0.9190 - YP_loss: 2.5240 - YT_acc: 0.7406 - YP_acc: 0.1687 - val_loss: 3.3109 - val_YT_loss: 0.8570 - val_YP_loss: 2.4539 - val_YT_acc: 0.7516 - val_YP_acc: 0.1801\n",
      "Epoch 7/250\n",
      "3615/3615 [==============================] - 112s 31ms/step - loss: 3.3291 - YT_loss: 0.8856 - YP_loss: 2.4435 - YT_acc: 0.7427 - YP_acc: 0.1781 - val_loss: 3.2063 - val_YT_loss: 0.8270 - val_YP_loss: 2.3793 - val_YT_acc: 0.7524 - val_YP_acc: 0.1970\n",
      "Epoch 8/250\n",
      "3615/3615 [==============================] - 112s 31ms/step - loss: 3.2343 - YT_loss: 0.8592 - YP_loss: 2.3751 - YT_acc: 0.7467 - YP_acc: 0.1894 - val_loss: 3.1173 - val_YT_loss: 0.8140 - val_YP_loss: 2.3032 - val_YT_acc: 0.7542 - val_YP_acc: 0.2011\n",
      "Epoch 9/250\n",
      "3615/3615 [==============================] - 111s 31ms/step - loss: 3.1596 - YT_loss: 0.8483 - YP_loss: 2.3113 - YT_acc: 0.7480 - YP_acc: 0.1957 - val_loss: 3.0279 - val_YT_loss: 0.7979 - val_YP_loss: 2.2300 - val_YT_acc: 0.7555 - val_YP_acc: 0.2132\n",
      "Epoch 10/250\n",
      "3615/3615 [==============================] - 111s 31ms/step - loss: 3.0908 - YT_loss: 0.8381 - YP_loss: 2.2527 - YT_acc: 0.7504 - YP_acc: 0.2060 - val_loss: 2.9540 - val_YT_loss: 0.7823 - val_YP_loss: 2.1717 - val_YT_acc: 0.7614 - val_YP_acc: 0.2212\n",
      "Epoch 11/250\n",
      "3615/3615 [==============================] - 110s 30ms/step - loss: 3.0330 - YT_loss: 0.8270 - YP_loss: 2.2060 - YT_acc: 0.7524 - YP_acc: 0.2148 - val_loss: 2.8962 - val_YT_loss: 0.7736 - val_YP_loss: 2.1226 - val_YT_acc: 0.7613 - val_YP_acc: 0.2301\n",
      "Epoch 12/250\n",
      "3615/3615 [==============================] - 113s 31ms/step - loss: 2.9805 - YT_loss: 0.8154 - YP_loss: 2.1651 - YT_acc: 0.7570 - YP_acc: 0.2234 - val_loss: 2.8445 - val_YT_loss: 0.7614 - val_YP_loss: 2.0831 - val_YT_acc: 0.7663 - val_YP_acc: 0.2447\n",
      "Epoch 13/250\n",
      "3615/3615 [==============================] - 111s 31ms/step - loss: 2.9349 - YT_loss: 0.7966 - YP_loss: 2.1383 - YT_acc: 0.7625 - YP_acc: 0.2345 - val_loss: 2.8030 - val_YT_loss: 0.7502 - val_YP_loss: 2.0529 - val_YT_acc: 0.7700 - val_YP_acc: 0.2628\n",
      "Epoch 14/250\n",
      "3615/3615 [==============================] - 110s 30ms/step - loss: 2.8998 - YT_loss: 0.7897 - YP_loss: 2.1100 - YT_acc: 0.7642 - YP_acc: 0.2471 - val_loss: 2.7683 - val_YT_loss: 0.7388 - val_YP_loss: 2.0295 - val_YT_acc: 0.7741 - val_YP_acc: 0.2745\n",
      "Epoch 15/250\n",
      "3615/3615 [==============================] - 110s 30ms/step - loss: 2.8680 - YT_loss: 0.7793 - YP_loss: 2.0887 - YT_acc: 0.7669 - YP_acc: 0.2580 - val_loss: 2.7376 - val_YT_loss: 0.7287 - val_YP_loss: 2.0089 - val_YT_acc: 0.7813 - val_YP_acc: 0.2927\n",
      "Epoch 16/250\n",
      "3615/3615 [==============================] - 110s 31ms/step - loss: 2.8497 - YT_loss: 0.7752 - YP_loss: 2.0745 - YT_acc: 0.7691 - YP_acc: 0.2674 - val_loss: 2.7139 - val_YT_loss: 0.7231 - val_YP_loss: 1.9907 - val_YT_acc: 0.7849 - val_YP_acc: 0.2981\n",
      "Epoch 17/250\n",
      "3615/3615 [==============================] - 106s 29ms/step - loss: 2.8166 - YT_loss: 0.7598 - YP_loss: 2.0568 - YT_acc: 0.7760 - YP_acc: 0.2737 - val_loss: 2.6858 - val_YT_loss: 0.7130 - val_YP_loss: 1.9728 - val_YT_acc: 0.7883 - val_YP_acc: 0.3045\n",
      "Epoch 18/250\n",
      "3615/3615 [==============================] - 104s 29ms/step - loss: 2.8023 - YT_loss: 0.7608 - YP_loss: 2.0416 - YT_acc: 0.7744 - YP_acc: 0.2807 - val_loss: 2.6660 - val_YT_loss: 0.7055 - val_YP_loss: 1.9605 - val_YT_acc: 0.7913 - val_YP_acc: 0.3081\n",
      "Epoch 19/250\n",
      "3615/3615 [==============================] - 104s 29ms/step - loss: 2.7717 - YT_loss: 0.7429 - YP_loss: 2.0288 - YT_acc: 0.7790 - YP_acc: 0.2861 - val_loss: 2.6472 - val_YT_loss: 0.6997 - val_YP_loss: 1.9476 - val_YT_acc: 0.7937 - val_YP_acc: 0.3112\n",
      "Epoch 20/250\n",
      "3615/3615 [==============================] - 106s 29ms/step - loss: 2.7645 - YT_loss: 0.7472 - YP_loss: 2.0173 - YT_acc: 0.7770 - YP_acc: 0.2871 - val_loss: 2.6323 - val_YT_loss: 0.6930 - val_YP_loss: 1.9393 - val_YT_acc: 0.7943 - val_YP_acc: 0.3143\n",
      "Epoch 21/250\n",
      "3615/3615 [==============================] - 105s 29ms/step - loss: 2.7414 - YT_loss: 0.7356 - YP_loss: 2.0058 - YT_acc: 0.7813 - YP_acc: 0.2923 - val_loss: 2.6211 - val_YT_loss: 0.6922 - val_YP_loss: 1.9290 - val_YT_acc: 0.7940 - val_YP_acc: 0.3224\n",
      "Epoch 22/250\n",
      "3615/3615 [==============================] - 103s 28ms/step - loss: 2.7307 - YT_loss: 0.7302 - YP_loss: 2.0005 - YT_acc: 0.7827 - YP_acc: 0.2956 - val_loss: 2.6061 - val_YT_loss: 0.6850 - val_YP_loss: 1.9211 - val_YT_acc: 0.7979 - val_YP_acc: 0.3234\n",
      "Epoch 23/250\n",
      "3615/3615 [==============================] - 103s 29ms/step - loss: 2.7174 - YT_loss: 0.7256 - YP_loss: 1.9918 - YT_acc: 0.7832 - YP_acc: 0.2991 - val_loss: 2.5916 - val_YT_loss: 0.6786 - val_YP_loss: 1.9130 - val_YT_acc: 0.8002 - val_YP_acc: 0.3284\n",
      "Epoch 24/250\n",
      "3615/3615 [==============================] - 104s 29ms/step - loss: 2.6996 - YT_loss: 0.7170 - YP_loss: 1.9826 - YT_acc: 0.7864 - YP_acc: 0.3016 - val_loss: 2.5761 - val_YT_loss: 0.6714 - val_YP_loss: 1.9047 - val_YT_acc: 0.8023 - val_YP_acc: 0.3312\n",
      "Epoch 25/250\n",
      "3615/3615 [==============================] - 104s 29ms/step - loss: 2.6939 - YT_loss: 0.7192 - YP_loss: 1.9747 - YT_acc: 0.7861 - YP_acc: 0.3044 - val_loss: 2.5661 - val_YT_loss: 0.6682 - val_YP_loss: 1.8980 - val_YT_acc: 0.8035 - val_YP_acc: 0.3373\n",
      "Epoch 26/250\n",
      "3615/3615 [==============================] - 104s 29ms/step - loss: 2.6749 - YT_loss: 0.7110 - YP_loss: 1.9639 - YT_acc: 0.7887 - YP_acc: 0.3099 - val_loss: 2.5593 - val_YT_loss: 0.6677 - val_YP_loss: 1.8916 - val_YT_acc: 0.8035 - val_YP_acc: 0.3375\n",
      "Epoch 27/250\n",
      "3615/3615 [==============================] - 104s 29ms/step - loss: 2.6725 - YT_loss: 0.7104 - YP_loss: 1.9621 - YT_acc: 0.7893 - YP_acc: 0.3091 - val_loss: 2.5490 - val_YT_loss: 0.6639 - val_YP_loss: 1.8851 - val_YT_acc: 0.8051 - val_YP_acc: 0.3400\n",
      "Epoch 28/250\n",
      "3615/3615 [==============================] - 104s 29ms/step - loss: 2.6572 - YT_loss: 0.7013 - YP_loss: 1.9559 - YT_acc: 0.7913 - YP_acc: 0.3122 - val_loss: 2.5382 - val_YT_loss: 0.6592 - val_YP_loss: 1.8790 - val_YT_acc: 0.8053 - val_YP_acc: 0.3430\n",
      "Epoch 29/250\n",
      "3615/3615 [==============================] - 104s 29ms/step - loss: 2.6466 - YT_loss: 0.6981 - YP_loss: 1.9485 - YT_acc: 0.7919 - YP_acc: 0.3151 - val_loss: 2.5302 - val_YT_loss: 0.6563 - val_YP_loss: 1.8739 - val_YT_acc: 0.8066 - val_YP_acc: 0.3458\n",
      "Epoch 30/250\n",
      "3615/3615 [==============================] - 104s 29ms/step - loss: 2.6334 - YT_loss: 0.6926 - YP_loss: 1.9408 - YT_acc: 0.7936 - YP_acc: 0.3174 - val_loss: 2.5194 - val_YT_loss: 0.6532 - val_YP_loss: 1.8661 - val_YT_acc: 0.8068 - val_YP_acc: 0.3474\n",
      "Epoch 31/250\n",
      "3615/3615 [==============================] - 105s 29ms/step - loss: 2.6263 - YT_loss: 0.6888 - YP_loss: 1.9375 - YT_acc: 0.7937 - YP_acc: 0.3186 - val_loss: 2.5078 - val_YT_loss: 0.6484 - val_YP_loss: 1.8594 - val_YT_acc: 0.8072 - val_YP_acc: 0.3508\n",
      "Epoch 32/250\n"
     ]
    },
    {
     "name": "stdout",
     "output_type": "stream",
     "text": [
      "3615/3615 [==============================] - 104s 29ms/step - loss: 2.6182 - YT_loss: 0.6890 - YP_loss: 1.9291 - YT_acc: 0.7944 - YP_acc: 0.3211 - val_loss: 2.5008 - val_YT_loss: 0.6468 - val_YP_loss: 1.8540 - val_YT_acc: 0.8080 - val_YP_acc: 0.3539\n",
      "Epoch 33/250\n",
      "3615/3615 [==============================] - 104s 29ms/step - loss: 2.6050 - YT_loss: 0.6814 - YP_loss: 1.9236 - YT_acc: 0.7962 - YP_acc: 0.3235 - val_loss: 2.4952 - val_YT_loss: 0.6464 - val_YP_loss: 1.8488 - val_YT_acc: 0.8085 - val_YP_acc: 0.3551\n",
      "Epoch 34/250\n",
      "3615/3615 [==============================] - 105s 29ms/step - loss: 2.5981 - YT_loss: 0.6822 - YP_loss: 1.9159 - YT_acc: 0.7976 - YP_acc: 0.3260 - val_loss: 2.4894 - val_YT_loss: 0.6457 - val_YP_loss: 1.8437 - val_YT_acc: 0.8084 - val_YP_acc: 0.3572\n",
      "Epoch 35/250\n",
      "3615/3615 [==============================] - 104s 29ms/step - loss: 2.5927 - YT_loss: 0.6797 - YP_loss: 1.9130 - YT_acc: 0.7984 - YP_acc: 0.3263 - val_loss: 2.4785 - val_YT_loss: 0.6406 - val_YP_loss: 1.8379 - val_YT_acc: 0.8098 - val_YP_acc: 0.3597\n",
      "Epoch 36/250\n",
      "3615/3615 [==============================] - 104s 29ms/step - loss: 2.5849 - YT_loss: 0.6751 - YP_loss: 1.9098 - YT_acc: 0.7976 - YP_acc: 0.3289 - val_loss: 2.4725 - val_YT_loss: 0.6393 - val_YP_loss: 1.8332 - val_YT_acc: 0.8099 - val_YP_acc: 0.3607\n",
      "Epoch 37/250\n",
      "3615/3615 [==============================] - 104s 29ms/step - loss: 2.5792 - YT_loss: 0.6770 - YP_loss: 1.9023 - YT_acc: 0.7985 - YP_acc: 0.3310 - val_loss: 2.4682 - val_YT_loss: 0.6387 - val_YP_loss: 1.8296 - val_YT_acc: 0.8108 - val_YP_acc: 0.3613\n",
      "Epoch 38/250\n",
      "3615/3615 [==============================] - 104s 29ms/step - loss: 2.5683 - YT_loss: 0.6706 - YP_loss: 1.8977 - YT_acc: 0.8002 - YP_acc: 0.3330 - val_loss: 2.4625 - val_YT_loss: 0.6380 - val_YP_loss: 1.8245 - val_YT_acc: 0.8114 - val_YP_acc: 0.3648\n",
      "Epoch 39/250\n",
      "3615/3615 [==============================] - 106s 29ms/step - loss: 2.5635 - YT_loss: 0.6725 - YP_loss: 1.8911 - YT_acc: 0.7986 - YP_acc: 0.3361 - val_loss: 2.4523 - val_YT_loss: 0.6326 - val_YP_loss: 1.8197 - val_YT_acc: 0.8120 - val_YP_acc: 0.3676\n",
      "Epoch 40/250\n",
      "3615/3615 [==============================] - 104s 29ms/step - loss: 2.5507 - YT_loss: 0.6655 - YP_loss: 1.8852 - YT_acc: 0.8005 - YP_acc: 0.3374 - val_loss: 2.4428 - val_YT_loss: 0.6295 - val_YP_loss: 1.8133 - val_YT_acc: 0.8127 - val_YP_acc: 0.3691\n",
      "Epoch 41/250\n",
      "3615/3615 [==============================] - 104s 29ms/step - loss: 2.5413 - YT_loss: 0.6601 - YP_loss: 1.8812 - YT_acc: 0.8028 - YP_acc: 0.3382 - val_loss: 2.4451 - val_YT_loss: 0.6329 - val_YP_loss: 1.8122 - val_YT_acc: 0.8123 - val_YP_acc: 0.3659\n",
      "Epoch 42/250\n",
      "3615/3615 [==============================] - 104s 29ms/step - loss: 2.5399 - YT_loss: 0.6640 - YP_loss: 1.8759 - YT_acc: 0.8002 - YP_acc: 0.3389 - val_loss: 2.4296 - val_YT_loss: 0.6262 - val_YP_loss: 1.8034 - val_YT_acc: 0.8131 - val_YP_acc: 0.3713\n",
      "Epoch 43/250\n",
      "3615/3615 [==============================] - 104s 29ms/step - loss: 2.5316 - YT_loss: 0.6593 - YP_loss: 1.8723 - YT_acc: 0.8028 - YP_acc: 0.3406 - val_loss: 2.4224 - val_YT_loss: 0.6242 - val_YP_loss: 1.7982 - val_YT_acc: 0.8135 - val_YP_acc: 0.3733\n",
      "Epoch 44/250\n",
      "3615/3615 [==============================] - 104s 29ms/step - loss: 2.5230 - YT_loss: 0.6593 - YP_loss: 1.8637 - YT_acc: 0.8024 - YP_acc: 0.3442 - val_loss: 2.4198 - val_YT_loss: 0.6250 - val_YP_loss: 1.7948 - val_YT_acc: 0.8132 - val_YP_acc: 0.3733\n",
      "Epoch 45/250\n",
      "3615/3615 [==============================] - 104s 29ms/step - loss: 2.5245 - YT_loss: 0.6600 - YP_loss: 1.8646 - YT_acc: 0.8019 - YP_acc: 0.3431 - val_loss: 2.4102 - val_YT_loss: 0.6195 - val_YP_loss: 1.7906 - val_YT_acc: 0.8142 - val_YP_acc: 0.3777\n",
      "Epoch 46/250\n",
      "3615/3615 [==============================] - 104s 29ms/step - loss: 2.5124 - YT_loss: 0.6547 - YP_loss: 1.8576 - YT_acc: 0.8029 - YP_acc: 0.3459 - val_loss: 2.4054 - val_YT_loss: 0.6198 - val_YP_loss: 1.7856 - val_YT_acc: 0.8137 - val_YP_acc: 0.3774\n",
      "Epoch 47/250\n",
      "3615/3615 [==============================] - 103s 29ms/step - loss: 2.5023 - YT_loss: 0.6490 - YP_loss: 1.8534 - YT_acc: 0.8042 - YP_acc: 0.3472 - val_loss: 2.3999 - val_YT_loss: 0.6157 - val_YP_loss: 1.7841 - val_YT_acc: 0.8149 - val_YP_acc: 0.3796\n",
      "Epoch 48/250\n",
      "3615/3615 [==============================] - 104s 29ms/step - loss: 2.4934 - YT_loss: 0.6459 - YP_loss: 1.8475 - YT_acc: 0.8053 - YP_acc: 0.3497 - val_loss: 2.3965 - val_YT_loss: 0.6188 - val_YP_loss: 1.7778 - val_YT_acc: 0.8145 - val_YP_acc: 0.3806\n",
      "Epoch 49/250\n",
      "3615/3615 [==============================] - 103s 29ms/step - loss: 2.4896 - YT_loss: 0.6450 - YP_loss: 1.8446 - YT_acc: 0.8054 - YP_acc: 0.3506 - val_loss: 2.3867 - val_YT_loss: 0.6125 - val_YP_loss: 1.7742 - val_YT_acc: 0.8153 - val_YP_acc: 0.3819\n",
      "Epoch 50/250\n",
      "3615/3615 [==============================] - 103s 28ms/step - loss: 2.4792 - YT_loss: 0.6407 - YP_loss: 1.8386 - YT_acc: 0.8054 - YP_acc: 0.3532 - val_loss: 2.3840 - val_YT_loss: 0.6124 - val_YP_loss: 1.7716 - val_YT_acc: 0.8147 - val_YP_acc: 0.3824\n",
      "Epoch 51/250\n",
      "3615/3615 [==============================] - 105s 29ms/step - loss: 2.4701 - YT_loss: 0.6356 - YP_loss: 1.8345 - YT_acc: 0.8065 - YP_acc: 0.3551 - val_loss: 2.3750 - val_YT_loss: 0.6087 - val_YP_loss: 1.7663 - val_YT_acc: 0.8153 - val_YP_acc: 0.3836\n",
      "Epoch 52/250\n",
      "3615/3615 [==============================] - 105s 29ms/step - loss: 2.4717 - YT_loss: 0.6420 - YP_loss: 1.8297 - YT_acc: 0.8051 - YP_acc: 0.3570 - val_loss: 2.3719 - val_YT_loss: 0.6083 - val_YP_loss: 1.7636 - val_YT_acc: 0.8162 - val_YP_acc: 0.3839\n",
      "Epoch 53/250\n",
      "3615/3615 [==============================] - 104s 29ms/step - loss: 2.4657 - YT_loss: 0.6383 - YP_loss: 1.8274 - YT_acc: 0.8068 - YP_acc: 0.3574 - val_loss: 2.3681 - val_YT_loss: 0.6070 - val_YP_loss: 1.7611 - val_YT_acc: 0.8156 - val_YP_acc: 0.3847\n",
      "Epoch 54/250\n",
      "3615/3615 [==============================] - 103s 28ms/step - loss: 2.4592 - YT_loss: 0.6340 - YP_loss: 1.8252 - YT_acc: 0.8069 - YP_acc: 0.3575 - val_loss: 2.3613 - val_YT_loss: 0.6038 - val_YP_loss: 1.7576 - val_YT_acc: 0.8162 - val_YP_acc: 0.3875\n",
      "Epoch 55/250\n",
      "3615/3615 [==============================] - 103s 29ms/step - loss: 2.4540 - YT_loss: 0.6332 - YP_loss: 1.8208 - YT_acc: 0.8076 - YP_acc: 0.3604 - val_loss: 2.3560 - val_YT_loss: 0.6026 - val_YP_loss: 1.7534 - val_YT_acc: 0.8167 - val_YP_acc: 0.3889\n",
      "Epoch 56/250\n",
      "3615/3615 [==============================] - 104s 29ms/step - loss: 2.4503 - YT_loss: 0.6312 - YP_loss: 1.8191 - YT_acc: 0.8079 - YP_acc: 0.3609 - val_loss: 2.3509 - val_YT_loss: 0.6010 - val_YP_loss: 1.7498 - val_YT_acc: 0.8172 - val_YP_acc: 0.3893\n",
      "Epoch 57/250\n",
      "3615/3615 [==============================] - 104s 29ms/step - loss: 2.4406 - YT_loss: 0.6278 - YP_loss: 1.8128 - YT_acc: 0.8091 - YP_acc: 0.3633 - val_loss: 2.3474 - val_YT_loss: 0.5996 - val_YP_loss: 1.7478 - val_YT_acc: 0.8171 - val_YP_acc: 0.3902\n",
      "Epoch 58/250\n",
      "3615/3615 [==============================] - 106s 29ms/step - loss: 2.4373 - YT_loss: 0.6264 - YP_loss: 1.8109 - YT_acc: 0.8076 - YP_acc: 0.3629 - val_loss: 2.3408 - val_YT_loss: 0.5978 - val_YP_loss: 1.7430 - val_YT_acc: 0.8172 - val_YP_acc: 0.3926\n",
      "Epoch 59/250\n",
      "3615/3615 [==============================] - 104s 29ms/step - loss: 2.4402 - YT_loss: 0.6297 - YP_loss: 1.8105 - YT_acc: 0.8081 - YP_acc: 0.3623 - val_loss: 2.3386 - val_YT_loss: 0.5969 - val_YP_loss: 1.7417 - val_YT_acc: 0.8173 - val_YP_acc: 0.3926\n",
      "Epoch 60/250\n",
      "3615/3615 [==============================] - 103s 29ms/step - loss: 2.4303 - YT_loss: 0.6257 - YP_loss: 1.8046 - YT_acc: 0.8083 - YP_acc: 0.3650 - val_loss: 2.3326 - val_YT_loss: 0.5949 - val_YP_loss: 1.7378 - val_YT_acc: 0.8171 - val_YP_acc: 0.3931\n",
      "Epoch 61/250\n",
      "3615/3615 [==============================] - 103s 29ms/step - loss: 2.4242 - YT_loss: 0.6236 - YP_loss: 1.8006 - YT_acc: 0.8090 - YP_acc: 0.3668 - val_loss: 2.3310 - val_YT_loss: 0.5952 - val_YP_loss: 1.7358 - val_YT_acc: 0.8178 - val_YP_acc: 0.3949\n",
      "Epoch 62/250\n",
      "3615/3615 [==============================] - 104s 29ms/step - loss: 2.4166 - YT_loss: 0.6194 - YP_loss: 1.7972 - YT_acc: 0.8101 - YP_acc: 0.3677 - val_loss: 2.3277 - val_YT_loss: 0.5931 - val_YP_loss: 1.7347 - val_YT_acc: 0.8176 - val_YP_acc: 0.3942\n",
      "Epoch 63/250\n"
     ]
    },
    {
     "name": "stdout",
     "output_type": "stream",
     "text": [
      "3615/3615 [==============================] - 105s 29ms/step - loss: 2.4155 - YT_loss: 0.6205 - YP_loss: 1.7950 - YT_acc: 0.8096 - YP_acc: 0.3697 - val_loss: 2.3197 - val_YT_loss: 0.5901 - val_YP_loss: 1.7297 - val_YT_acc: 0.8186 - val_YP_acc: 0.3965\n",
      "Epoch 64/250\n",
      "3615/3615 [==============================] - 105s 29ms/step - loss: 2.4086 - YT_loss: 0.6186 - YP_loss: 1.7899 - YT_acc: 0.8098 - YP_acc: 0.3704 - val_loss: 2.3165 - val_YT_loss: 0.5881 - val_YP_loss: 1.7284 - val_YT_acc: 0.8193 - val_YP_acc: 0.3968\n",
      "Epoch 65/250\n",
      "3615/3615 [==============================] - 103s 28ms/step - loss: 2.4066 - YT_loss: 0.6180 - YP_loss: 1.7885 - YT_acc: 0.8098 - YP_acc: 0.3700 - val_loss: 2.3133 - val_YT_loss: 0.5879 - val_YP_loss: 1.7255 - val_YT_acc: 0.8189 - val_YP_acc: 0.3986\n",
      "Epoch 66/250\n",
      "3615/3615 [==============================] - 104s 29ms/step - loss: 2.4025 - YT_loss: 0.6156 - YP_loss: 1.7869 - YT_acc: 0.8100 - YP_acc: 0.3717 - val_loss: 2.3074 - val_YT_loss: 0.5835 - val_YP_loss: 1.7239 - val_YT_acc: 0.8197 - val_YP_acc: 0.3969\n",
      "Epoch 67/250\n",
      "3615/3615 [==============================] - 102s 28ms/step - loss: 2.3974 - YT_loss: 0.6138 - YP_loss: 1.7836 - YT_acc: 0.8111 - YP_acc: 0.3732 - val_loss: 2.3020 - val_YT_loss: 0.5808 - val_YP_loss: 1.7211 - val_YT_acc: 0.8197 - val_YP_acc: 0.4002\n",
      "Epoch 68/250\n",
      "3615/3615 [==============================] - 103s 28ms/step - loss: 2.3878 - YT_loss: 0.6076 - YP_loss: 1.7802 - YT_acc: 0.8116 - YP_acc: 0.3747 - val_loss: 2.2963 - val_YT_loss: 0.5784 - val_YP_loss: 1.7180 - val_YT_acc: 0.8199 - val_YP_acc: 0.4010\n",
      "Epoch 69/250\n",
      "3615/3615 [==============================] - 104s 29ms/step - loss: 2.3825 - YT_loss: 0.6046 - YP_loss: 1.7779 - YT_acc: 0.8124 - YP_acc: 0.3749 - val_loss: 2.2884 - val_YT_loss: 0.5742 - val_YP_loss: 1.7142 - val_YT_acc: 0.8203 - val_YP_acc: 0.4019\n",
      "Epoch 70/250\n",
      "3615/3615 [==============================] - 105s 29ms/step - loss: 2.3798 - YT_loss: 0.6057 - YP_loss: 1.7742 - YT_acc: 0.8122 - YP_acc: 0.3772 - val_loss: 2.2827 - val_YT_loss: 0.5707 - val_YP_loss: 1.7121 - val_YT_acc: 0.8203 - val_YP_acc: 0.4019\n",
      "Epoch 71/250\n",
      "3615/3615 [==============================] - 105s 29ms/step - loss: 2.3702 - YT_loss: 0.5992 - YP_loss: 1.7710 - YT_acc: 0.8136 - YP_acc: 0.3781 - val_loss: 2.2755 - val_YT_loss: 0.5668 - val_YP_loss: 1.7088 - val_YT_acc: 0.8210 - val_YP_acc: 0.4041\n",
      "Epoch 72/250\n",
      "3615/3615 [==============================] - 104s 29ms/step - loss: 2.3679 - YT_loss: 0.5996 - YP_loss: 1.7684 - YT_acc: 0.8135 - YP_acc: 0.3792 - val_loss: 2.2715 - val_YT_loss: 0.5639 - val_YP_loss: 1.7075 - val_YT_acc: 0.8212 - val_YP_acc: 0.4034\n",
      "Epoch 73/250\n",
      "3615/3615 [==============================] - 105s 29ms/step - loss: 2.3597 - YT_loss: 0.5957 - YP_loss: 1.7639 - YT_acc: 0.8141 - YP_acc: 0.3818 - val_loss: 2.2654 - val_YT_loss: 0.5622 - val_YP_loss: 1.7032 - val_YT_acc: 0.8214 - val_YP_acc: 0.4057\n",
      "Epoch 74/250\n",
      "3615/3615 [==============================] - 104s 29ms/step - loss: 2.3539 - YT_loss: 0.5920 - YP_loss: 1.7619 - YT_acc: 0.8143 - YP_acc: 0.3810 - val_loss: 2.2634 - val_YT_loss: 0.5610 - val_YP_loss: 1.7024 - val_YT_acc: 0.8211 - val_YP_acc: 0.4056\n",
      "Epoch 75/250\n",
      "3615/3615 [==============================] - 104s 29ms/step - loss: 2.3469 - YT_loss: 0.5890 - YP_loss: 1.7578 - YT_acc: 0.8147 - YP_acc: 0.3831 - val_loss: 2.2550 - val_YT_loss: 0.5573 - val_YP_loss: 1.6977 - val_YT_acc: 0.8234 - val_YP_acc: 0.4088\n",
      "Epoch 76/250\n",
      "3615/3615 [==============================] - 104s 29ms/step - loss: 2.3450 - YT_loss: 0.5875 - YP_loss: 1.7574 - YT_acc: 0.8148 - YP_acc: 0.3830 - val_loss: 2.2543 - val_YT_loss: 0.5550 - val_YP_loss: 1.6993 - val_YT_acc: 0.8229 - val_YP_acc: 0.4069\n",
      "Epoch 77/250\n",
      "3615/3615 [==============================] - 104s 29ms/step - loss: 2.3414 - YT_loss: 0.5881 - YP_loss: 1.7533 - YT_acc: 0.8145 - YP_acc: 0.3851 - val_loss: 2.2492 - val_YT_loss: 0.5570 - val_YP_loss: 1.6922 - val_YT_acc: 0.8217 - val_YP_acc: 0.4104\n",
      "Epoch 78/250\n",
      "3615/3615 [==============================] - 103s 29ms/step - loss: 2.3371 - YT_loss: 0.5860 - YP_loss: 1.7511 - YT_acc: 0.8138 - YP_acc: 0.3853 - val_loss: 2.2455 - val_YT_loss: 0.5544 - val_YP_loss: 1.6911 - val_YT_acc: 0.8220 - val_YP_acc: 0.4108\n",
      "Epoch 79/250\n",
      "3615/3615 [==============================] - 103s 28ms/step - loss: 2.3389 - YT_loss: 0.5902 - YP_loss: 1.7487 - YT_acc: 0.8142 - YP_acc: 0.3857 - val_loss: 2.2420 - val_YT_loss: 0.5519 - val_YP_loss: 1.6900 - val_YT_acc: 0.8233 - val_YP_acc: 0.4117\n",
      "Epoch 80/250\n",
      "3615/3615 [==============================] - 103s 29ms/step - loss: 2.3281 - YT_loss: 0.5846 - YP_loss: 1.7434 - YT_acc: 0.8148 - YP_acc: 0.3887 - val_loss: 2.2388 - val_YT_loss: 0.5501 - val_YP_loss: 1.6888 - val_YT_acc: 0.8231 - val_YP_acc: 0.4119\n",
      "Epoch 81/250\n",
      "3615/3615 [==============================] - 103s 29ms/step - loss: 2.3244 - YT_loss: 0.5828 - YP_loss: 1.7417 - YT_acc: 0.8159 - YP_acc: 0.3889 - val_loss: 2.2300 - val_YT_loss: 0.5458 - val_YP_loss: 1.6842 - val_YT_acc: 0.8236 - val_YP_acc: 0.4130\n",
      "Epoch 82/250\n",
      "3615/3615 [==============================] - 103s 28ms/step - loss: 2.3167 - YT_loss: 0.5797 - YP_loss: 1.7371 - YT_acc: 0.8156 - YP_acc: 0.3905 - val_loss: 2.2266 - val_YT_loss: 0.5441 - val_YP_loss: 1.6825 - val_YT_acc: 0.8244 - val_YP_acc: 0.4133\n",
      "Epoch 83/250\n",
      "3615/3615 [==============================] - 103s 29ms/step - loss: 2.3065 - YT_loss: 0.5725 - YP_loss: 1.7340 - YT_acc: 0.8177 - YP_acc: 0.3921 - val_loss: 2.2220 - val_YT_loss: 0.5419 - val_YP_loss: 1.6801 - val_YT_acc: 0.8239 - val_YP_acc: 0.4140\n",
      "Epoch 84/250\n",
      "3615/3615 [==============================] - 103s 28ms/step - loss: 2.3051 - YT_loss: 0.5732 - YP_loss: 1.7318 - YT_acc: 0.8175 - YP_acc: 0.3925 - val_loss: 2.2172 - val_YT_loss: 0.5398 - val_YP_loss: 1.6774 - val_YT_acc: 0.8244 - val_YP_acc: 0.4155\n",
      "Epoch 85/250\n",
      "3615/3615 [==============================] - 104s 29ms/step - loss: 2.2999 - YT_loss: 0.5695 - YP_loss: 1.7304 - YT_acc: 0.8179 - YP_acc: 0.3936 - val_loss: 2.2144 - val_YT_loss: 0.5392 - val_YP_loss: 1.6752 - val_YT_acc: 0.8243 - val_YP_acc: 0.4168\n",
      "Epoch 86/250\n",
      "3615/3615 [==============================] - 103s 28ms/step - loss: 2.2959 - YT_loss: 0.5681 - YP_loss: 1.7278 - YT_acc: 0.8180 - YP_acc: 0.3937 - val_loss: 2.2093 - val_YT_loss: 0.5360 - val_YP_loss: 1.6733 - val_YT_acc: 0.8250 - val_YP_acc: 0.4174\n",
      "Epoch 87/250\n",
      "3615/3615 [==============================] - 103s 28ms/step - loss: 2.2914 - YT_loss: 0.5665 - YP_loss: 1.7249 - YT_acc: 0.8181 - YP_acc: 0.3962 - val_loss: 2.2049 - val_YT_loss: 0.5341 - val_YP_loss: 1.6708 - val_YT_acc: 0.8249 - val_YP_acc: 0.4182\n",
      "Epoch 88/250\n",
      "3615/3615 [==============================] - 103s 29ms/step - loss: 2.2819 - YT_loss: 0.5619 - YP_loss: 1.7200 - YT_acc: 0.8190 - YP_acc: 0.3975 - val_loss: 2.2014 - val_YT_loss: 0.5312 - val_YP_loss: 1.6701 - val_YT_acc: 0.8257 - val_YP_acc: 0.4184\n",
      "Epoch 89/250\n",
      "3615/3615 [==============================] - 104s 29ms/step - loss: 2.2800 - YT_loss: 0.5611 - YP_loss: 1.7189 - YT_acc: 0.8197 - YP_acc: 0.3973 - val_loss: 2.1939 - val_YT_loss: 0.5278 - val_YP_loss: 1.6661 - val_YT_acc: 0.8261 - val_YP_acc: 0.4196\n",
      "Epoch 90/250\n",
      "3615/3615 [==============================] - 105s 29ms/step - loss: 2.2733 - YT_loss: 0.5590 - YP_loss: 1.7142 - YT_acc: 0.8196 - YP_acc: 0.3999 - val_loss: 2.1878 - val_YT_loss: 0.5247 - val_YP_loss: 1.6631 - val_YT_acc: 0.8267 - val_YP_acc: 0.4198\n",
      "Epoch 91/250\n",
      "3615/3615 [==============================] - 104s 29ms/step - loss: 2.2656 - YT_loss: 0.5537 - YP_loss: 1.7119 - YT_acc: 0.8207 - YP_acc: 0.3997 - val_loss: 2.1872 - val_YT_loss: 0.5232 - val_YP_loss: 1.6639 - val_YT_acc: 0.8262 - val_YP_acc: 0.4201\n",
      "Epoch 92/250\n",
      "3615/3615 [==============================] - 103s 29ms/step - loss: 2.2648 - YT_loss: 0.5552 - YP_loss: 1.7097 - YT_acc: 0.8193 - YP_acc: 0.4009 - val_loss: 2.1820 - val_YT_loss: 0.5213 - val_YP_loss: 1.6607 - val_YT_acc: 0.8269 - val_YP_acc: 0.4216\n",
      "Epoch 93/250\n",
      "3615/3615 [==============================] - 104s 29ms/step - loss: 2.2592 - YT_loss: 0.5522 - YP_loss: 1.7071 - YT_acc: 0.8206 - YP_acc: 0.4017 - val_loss: 2.1791 - val_YT_loss: 0.5210 - val_YP_loss: 1.6581 - val_YT_acc: 0.8269 - val_YP_acc: 0.4233\n",
      "Epoch 94/250\n"
     ]
    },
    {
     "name": "stdout",
     "output_type": "stream",
     "text": [
      "3615/3615 [==============================] - 104s 29ms/step - loss: 2.2538 - YT_loss: 0.5505 - YP_loss: 1.7033 - YT_acc: 0.8212 - YP_acc: 0.4036 - val_loss: 2.1724 - val_YT_loss: 0.5184 - val_YP_loss: 1.6540 - val_YT_acc: 0.8273 - val_YP_acc: 0.4242\n",
      "Epoch 95/250\n",
      "3615/3615 [==============================] - 103s 29ms/step - loss: 2.2531 - YT_loss: 0.5530 - YP_loss: 1.7000 - YT_acc: 0.8205 - YP_acc: 0.4049 - val_loss: 2.1718 - val_YT_loss: 0.5180 - val_YP_loss: 1.6538 - val_YT_acc: 0.8278 - val_YP_acc: 0.4244\n",
      "Epoch 96/250\n",
      "3615/3615 [==============================] - 104s 29ms/step - loss: 2.2464 - YT_loss: 0.5504 - YP_loss: 1.6960 - YT_acc: 0.8202 - YP_acc: 0.4057 - val_loss: 2.1636 - val_YT_loss: 0.5151 - val_YP_loss: 1.6485 - val_YT_acc: 0.8277 - val_YP_acc: 0.4258\n",
      "Epoch 97/250\n",
      "3615/3615 [==============================] - 103s 29ms/step - loss: 2.2383 - YT_loss: 0.5464 - YP_loss: 1.6919 - YT_acc: 0.8215 - YP_acc: 0.4072 - val_loss: 2.1601 - val_YT_loss: 0.5140 - val_YP_loss: 1.6462 - val_YT_acc: 0.8279 - val_YP_acc: 0.4269\n",
      "Epoch 98/250\n",
      "3615/3615 [==============================] - 104s 29ms/step - loss: 2.2352 - YT_loss: 0.5442 - YP_loss: 1.6910 - YT_acc: 0.8211 - YP_acc: 0.4080 - val_loss: 2.1589 - val_YT_loss: 0.5125 - val_YP_loss: 1.6464 - val_YT_acc: 0.8282 - val_YP_acc: 0.4268\n",
      "Epoch 99/250\n",
      "3615/3615 [==============================] - 104s 29ms/step - loss: 2.2230 - YT_loss: 0.5374 - YP_loss: 1.6857 - YT_acc: 0.8232 - YP_acc: 0.4101 - val_loss: 2.1533 - val_YT_loss: 0.5107 - val_YP_loss: 1.6426 - val_YT_acc: 0.8281 - val_YP_acc: 0.4275\n",
      "Epoch 100/250\n",
      "3615/3615 [==============================] - 105s 29ms/step - loss: 2.2262 - YT_loss: 0.5413 - YP_loss: 1.6849 - YT_acc: 0.8222 - YP_acc: 0.4109 - val_loss: 2.1526 - val_YT_loss: 0.5115 - val_YP_loss: 1.6411 - val_YT_acc: 0.8277 - val_YP_acc: 0.4294\n",
      "Epoch 101/250\n",
      "3615/3615 [==============================] - 106s 29ms/step - loss: 2.2204 - YT_loss: 0.5367 - YP_loss: 1.6838 - YT_acc: 0.8229 - YP_acc: 0.4108 - val_loss: 2.1492 - val_YT_loss: 0.5099 - val_YP_loss: 1.6393 - val_YT_acc: 0.8279 - val_YP_acc: 0.4286\n",
      "Epoch 102/250\n",
      "3615/3615 [==============================] - 105s 29ms/step - loss: 2.2185 - YT_loss: 0.5389 - YP_loss: 1.6796 - YT_acc: 0.8227 - YP_acc: 0.4122 - val_loss: 2.1419 - val_YT_loss: 0.5074 - val_YP_loss: 1.6345 - val_YT_acc: 0.8286 - val_YP_acc: 0.4311\n",
      "Epoch 103/250\n",
      "3615/3615 [==============================] - 105s 29ms/step - loss: 2.2131 - YT_loss: 0.5355 - YP_loss: 1.6776 - YT_acc: 0.8236 - YP_acc: 0.4129 - val_loss: 2.1449 - val_YT_loss: 0.5071 - val_YP_loss: 1.6378 - val_YT_acc: 0.8287 - val_YP_acc: 0.4302\n",
      "Epoch 104/250\n",
      "3615/3615 [==============================] - 104s 29ms/step - loss: 2.2076 - YT_loss: 0.5342 - YP_loss: 1.6734 - YT_acc: 0.8238 - YP_acc: 0.4136 - val_loss: 2.1354 - val_YT_loss: 0.5049 - val_YP_loss: 1.6305 - val_YT_acc: 0.8288 - val_YP_acc: 0.4334\n",
      "Epoch 105/250\n",
      "3615/3615 [==============================] - 104s 29ms/step - loss: 2.2000 - YT_loss: 0.5299 - YP_loss: 1.6701 - YT_acc: 0.8237 - YP_acc: 0.4163 - val_loss: 2.1341 - val_YT_loss: 0.5050 - val_YP_loss: 1.6291 - val_YT_acc: 0.8291 - val_YP_acc: 0.4336\n",
      "Epoch 106/250\n",
      "3615/3615 [==============================] - 104s 29ms/step - loss: 2.1977 - YT_loss: 0.5313 - YP_loss: 1.6664 - YT_acc: 0.8234 - YP_acc: 0.4171 - val_loss: 2.1302 - val_YT_loss: 0.5029 - val_YP_loss: 1.6273 - val_YT_acc: 0.8296 - val_YP_acc: 0.4339\n",
      "Epoch 107/250\n",
      "3615/3615 [==============================] - 106s 29ms/step - loss: 2.1961 - YT_loss: 0.5303 - YP_loss: 1.6659 - YT_acc: 0.8240 - YP_acc: 0.4173 - val_loss: 2.1353 - val_YT_loss: 0.5070 - val_YP_loss: 1.6283 - val_YT_acc: 0.8292 - val_YP_acc: 0.4339\n",
      "Epoch 108/250\n",
      "3615/3615 [==============================] - 107s 30ms/step - loss: 2.1972 - YT_loss: 0.5319 - YP_loss: 1.6652 - YT_acc: 0.8239 - YP_acc: 0.4182 - val_loss: 2.1269 - val_YT_loss: 0.5023 - val_YP_loss: 1.6246 - val_YT_acc: 0.8297 - val_YP_acc: 0.4347\n",
      "Epoch 109/250\n",
      "3615/3615 [==============================] - 105s 29ms/step - loss: 2.1920 - YT_loss: 0.5296 - YP_loss: 1.6624 - YT_acc: 0.8247 - YP_acc: 0.4184 - val_loss: 2.1264 - val_YT_loss: 0.5015 - val_YP_loss: 1.6249 - val_YT_acc: 0.8297 - val_YP_acc: 0.4347\n",
      "Epoch 110/250\n",
      "3615/3615 [==============================] - 105s 29ms/step - loss: 2.1889 - YT_loss: 0.5264 - YP_loss: 1.6626 - YT_acc: 0.8242 - YP_acc: 0.4189 - val_loss: 2.1212 - val_YT_loss: 0.5006 - val_YP_loss: 1.6206 - val_YT_acc: 0.8303 - val_YP_acc: 0.4369\n",
      "Epoch 111/250\n",
      "3615/3615 [==============================] - 105s 29ms/step - loss: 2.1791 - YT_loss: 0.5222 - YP_loss: 1.6569 - YT_acc: 0.8254 - YP_acc: 0.4203 - val_loss: 2.1187 - val_YT_loss: 0.4995 - val_YP_loss: 1.6191 - val_YT_acc: 0.8305 - val_YP_acc: 0.4368\n",
      "Epoch 112/250\n",
      "3615/3615 [==============================] - 105s 29ms/step - loss: 2.1787 - YT_loss: 0.5238 - YP_loss: 1.6549 - YT_acc: 0.8253 - YP_acc: 0.4224 - val_loss: 2.1189 - val_YT_loss: 0.4990 - val_YP_loss: 1.6199 - val_YT_acc: 0.8304 - val_YP_acc: 0.4360\n",
      "Epoch 113/250\n",
      "3615/3615 [==============================] - 106s 29ms/step - loss: 2.1703 - YT_loss: 0.5219 - YP_loss: 1.6484 - YT_acc: 0.8254 - YP_acc: 0.4236 - val_loss: 2.1120 - val_YT_loss: 0.4971 - val_YP_loss: 1.6148 - val_YT_acc: 0.8312 - val_YP_acc: 0.4386\n",
      "Epoch 114/250\n",
      "3615/3615 [==============================] - 105s 29ms/step - loss: 2.1696 - YT_loss: 0.5212 - YP_loss: 1.6484 - YT_acc: 0.8249 - YP_acc: 0.4243 - val_loss: 2.1072 - val_YT_loss: 0.4958 - val_YP_loss: 1.6114 - val_YT_acc: 0.8308 - val_YP_acc: 0.4404\n",
      "Epoch 115/250\n",
      "3615/3615 [==============================] - 105s 29ms/step - loss: 2.1688 - YT_loss: 0.5232 - YP_loss: 1.6456 - YT_acc: 0.8256 - YP_acc: 0.4247 - val_loss: 2.1064 - val_YT_loss: 0.4960 - val_YP_loss: 1.6105 - val_YT_acc: 0.8307 - val_YP_acc: 0.4416\n",
      "Epoch 116/250\n",
      "3615/3615 [==============================] - 105s 29ms/step - loss: 2.1693 - YT_loss: 0.5247 - YP_loss: 1.6446 - YT_acc: 0.8247 - YP_acc: 0.4253 - val_loss: 2.1057 - val_YT_loss: 0.4954 - val_YP_loss: 1.6103 - val_YT_acc: 0.8303 - val_YP_acc: 0.4403\n",
      "Epoch 117/250\n",
      "3615/3615 [==============================] - 107s 29ms/step - loss: 2.1673 - YT_loss: 0.5244 - YP_loss: 1.6428 - YT_acc: 0.8246 - YP_acc: 0.4261 - val_loss: 2.1033 - val_YT_loss: 0.4956 - val_YP_loss: 1.6077 - val_YT_acc: 0.8305 - val_YP_acc: 0.4410\n",
      "Epoch 118/250\n",
      "3615/3615 [==============================] - 106s 29ms/step - loss: 2.1535 - YT_loss: 0.5149 - YP_loss: 1.6386 - YT_acc: 0.8270 - YP_acc: 0.4271 - val_loss: 2.1005 - val_YT_loss: 0.4945 - val_YP_loss: 1.6060 - val_YT_acc: 0.8308 - val_YP_acc: 0.4424\n",
      "Epoch 119/250\n",
      "3615/3615 [==============================] - 105s 29ms/step - loss: 2.1556 - YT_loss: 0.5165 - YP_loss: 1.6390 - YT_acc: 0.8264 - YP_acc: 0.4275 - val_loss: 2.0972 - val_YT_loss: 0.4928 - val_YP_loss: 1.6044 - val_YT_acc: 0.8314 - val_YP_acc: 0.4422\n",
      "Epoch 120/250\n",
      "3615/3615 [==============================] - 106s 29ms/step - loss: 2.1465 - YT_loss: 0.5136 - YP_loss: 1.6329 - YT_acc: 0.8267 - YP_acc: 0.4298 - val_loss: 2.0946 - val_YT_loss: 0.4925 - val_YP_loss: 1.6021 - val_YT_acc: 0.8310 - val_YP_acc: 0.4445\n",
      "Epoch 121/250\n",
      "3615/3615 [==============================] - 105s 29ms/step - loss: 2.1406 - YT_loss: 0.5125 - YP_loss: 1.6281 - YT_acc: 0.8269 - YP_acc: 0.4314 - val_loss: 2.0928 - val_YT_loss: 0.4918 - val_YP_loss: 1.6010 - val_YT_acc: 0.8315 - val_YP_acc: 0.4441\n",
      "Epoch 122/250\n",
      "3615/3615 [==============================] - 105s 29ms/step - loss: 2.1415 - YT_loss: 0.5120 - YP_loss: 1.6295 - YT_acc: 0.8272 - YP_acc: 0.4316 - val_loss: 2.0908 - val_YT_loss: 0.4914 - val_YP_loss: 1.5994 - val_YT_acc: 0.8313 - val_YP_acc: 0.4451\n",
      "Epoch 123/250\n",
      "3615/3615 [==============================] - 106s 29ms/step - loss: 2.1408 - YT_loss: 0.5148 - YP_loss: 1.6260 - YT_acc: 0.8266 - YP_acc: 0.4317 - val_loss: 2.0900 - val_YT_loss: 0.4920 - val_YP_loss: 1.5980 - val_YT_acc: 0.8313 - val_YP_acc: 0.4462\n",
      "Epoch 124/250\n",
      "3615/3615 [==============================] - 105s 29ms/step - loss: 2.1365 - YT_loss: 0.5107 - YP_loss: 1.6258 - YT_acc: 0.8281 - YP_acc: 0.4327 - val_loss: 2.0888 - val_YT_loss: 0.4915 - val_YP_loss: 1.5973 - val_YT_acc: 0.8311 - val_YP_acc: 0.4458\n",
      "Epoch 125/250\n"
     ]
    },
    {
     "name": "stdout",
     "output_type": "stream",
     "text": [
      "3615/3615 [==============================] - 104s 29ms/step - loss: 2.1339 - YT_loss: 0.5115 - YP_loss: 1.6224 - YT_acc: 0.8275 - YP_acc: 0.4333 - val_loss: 2.0849 - val_YT_loss: 0.4898 - val_YP_loss: 1.5951 - val_YT_acc: 0.8317 - val_YP_acc: 0.4458\n",
      "Epoch 126/250\n",
      "3615/3615 [==============================] - 105s 29ms/step - loss: 2.1306 - YT_loss: 0.5109 - YP_loss: 1.6197 - YT_acc: 0.8277 - YP_acc: 0.4347 - val_loss: 2.0829 - val_YT_loss: 0.4887 - val_YP_loss: 1.5942 - val_YT_acc: 0.8317 - val_YP_acc: 0.4477\n",
      "Epoch 127/250\n",
      "3615/3615 [==============================] - 106s 29ms/step - loss: 2.1270 - YT_loss: 0.5086 - YP_loss: 1.6184 - YT_acc: 0.8278 - YP_acc: 0.4350 - val_loss: 2.0812 - val_YT_loss: 0.4885 - val_YP_loss: 1.5927 - val_YT_acc: 0.8324 - val_YP_acc: 0.4478\n",
      "Epoch 128/250\n",
      "3615/3615 [==============================] - 105s 29ms/step - loss: 2.1253 - YT_loss: 0.5088 - YP_loss: 1.6165 - YT_acc: 0.8275 - YP_acc: 0.4361 - val_loss: 2.0818 - val_YT_loss: 0.4892 - val_YP_loss: 1.5926 - val_YT_acc: 0.8318 - val_YP_acc: 0.4475\n",
      "Epoch 129/250\n",
      "3615/3615 [==============================] - 106s 29ms/step - loss: 2.1181 - YT_loss: 0.5051 - YP_loss: 1.6130 - YT_acc: 0.8290 - YP_acc: 0.4369 - val_loss: 2.0767 - val_YT_loss: 0.4876 - val_YP_loss: 1.5891 - val_YT_acc: 0.8320 - val_YP_acc: 0.4492\n",
      "Epoch 130/250\n",
      "3615/3615 [==============================] - 104s 29ms/step - loss: 2.1172 - YT_loss: 0.5036 - YP_loss: 1.6136 - YT_acc: 0.8291 - YP_acc: 0.4365 - val_loss: 2.0788 - val_YT_loss: 0.4890 - val_YP_loss: 1.5898 - val_YT_acc: 0.8325 - val_YP_acc: 0.4485\n",
      "Epoch 131/250\n",
      "3615/3615 [==============================] - 105s 29ms/step - loss: 2.1190 - YT_loss: 0.5081 - YP_loss: 1.6109 - YT_acc: 0.8287 - YP_acc: 0.4385 - val_loss: 2.0891 - val_YT_loss: 0.4943 - val_YP_loss: 1.5949 - val_YT_acc: 0.8319 - val_YP_acc: 0.4460\n",
      "Epoch 132/250\n",
      "3615/3615 [==============================] - 105s 29ms/step - loss: 2.1237 - YT_loss: 0.5097 - YP_loss: 1.6140 - YT_acc: 0.8287 - YP_acc: 0.4362 - val_loss: 2.0760 - val_YT_loss: 0.4889 - val_YP_loss: 1.5870 - val_YT_acc: 0.8321 - val_YP_acc: 0.4494\n",
      "Epoch 133/250\n",
      "3615/3615 [==============================] - 105s 29ms/step - loss: 2.1150 - YT_loss: 0.5056 - YP_loss: 1.6094 - YT_acc: 0.8292 - YP_acc: 0.4385 - val_loss: 2.0712 - val_YT_loss: 0.4871 - val_YP_loss: 1.5841 - val_YT_acc: 0.8326 - val_YP_acc: 0.4515\n",
      "Epoch 134/250\n",
      "3615/3615 [==============================] - 105s 29ms/step - loss: 2.1175 - YT_loss: 0.5088 - YP_loss: 1.6087 - YT_acc: 0.8279 - YP_acc: 0.4392 - val_loss: 2.0712 - val_YT_loss: 0.4874 - val_YP_loss: 1.5838 - val_YT_acc: 0.8322 - val_YP_acc: 0.4501\n",
      "Epoch 135/250\n",
      "3615/3615 [==============================] - 105s 29ms/step - loss: 2.1106 - YT_loss: 0.5054 - YP_loss: 1.6052 - YT_acc: 0.8284 - YP_acc: 0.4396 - val_loss: 2.0674 - val_YT_loss: 0.4860 - val_YP_loss: 1.5813 - val_YT_acc: 0.8324 - val_YP_acc: 0.4514\n",
      "Epoch 136/250\n",
      "3615/3615 [==============================] - 106s 29ms/step - loss: 2.1016 - YT_loss: 0.5025 - YP_loss: 1.5991 - YT_acc: 0.8288 - YP_acc: 0.4419 - val_loss: 2.0659 - val_YT_loss: 0.4858 - val_YP_loss: 1.5801 - val_YT_acc: 0.8327 - val_YP_acc: 0.4527\n",
      "Epoch 137/250\n",
      "3615/3615 [==============================] - 104s 29ms/step - loss: 2.1013 - YT_loss: 0.5036 - YP_loss: 1.5977 - YT_acc: 0.8295 - YP_acc: 0.4427 - val_loss: 2.0674 - val_YT_loss: 0.4864 - val_YP_loss: 1.5811 - val_YT_acc: 0.8322 - val_YP_acc: 0.4512\n",
      "Epoch 138/250\n",
      "3615/3615 [==============================] - 103s 29ms/step - loss: 2.1557 - YT_loss: 0.5048 - YP_loss: 1.6510 - YT_acc: 0.8285 - YP_acc: 0.4275 - val_loss: 2.0994 - val_YT_loss: 0.4881 - val_YP_loss: 1.6113 - val_YT_acc: 0.8326 - val_YP_acc: 0.4407\n",
      "Epoch 139/250\n",
      "3615/3615 [==============================] - 104s 29ms/step - loss: 2.1412 - YT_loss: 0.5061 - YP_loss: 1.6351 - YT_acc: 0.8282 - YP_acc: 0.4315 - val_loss: 2.0825 - val_YT_loss: 0.4879 - val_YP_loss: 1.5946 - val_YT_acc: 0.8319 - val_YP_acc: 0.4464\n",
      "Epoch 140/250\n",
      "3615/3615 [==============================] - 104s 29ms/step - loss: 2.1106 - YT_loss: 0.5023 - YP_loss: 1.6083 - YT_acc: 0.8282 - YP_acc: 0.4400 - val_loss: 2.0676 - val_YT_loss: 0.4841 - val_YP_loss: 1.5835 - val_YT_acc: 0.8331 - val_YP_acc: 0.4503\n",
      "Epoch 141/250\n",
      "3615/3615 [==============================] - 103s 29ms/step - loss: 2.1014 - YT_loss: 0.5006 - YP_loss: 1.6008 - YT_acc: 0.8291 - YP_acc: 0.4425 - val_loss: 2.0626 - val_YT_loss: 0.4838 - val_YP_loss: 1.5788 - val_YT_acc: 0.8332 - val_YP_acc: 0.4532\n",
      "Epoch 142/250\n",
      "3615/3615 [==============================] - 105s 29ms/step - loss: 2.0999 - YT_loss: 0.5022 - YP_loss: 1.5977 - YT_acc: 0.8296 - YP_acc: 0.4437 - val_loss: 2.0608 - val_YT_loss: 0.4845 - val_YP_loss: 1.5763 - val_YT_acc: 0.8329 - val_YP_acc: 0.4523\n",
      "Epoch 143/250\n",
      "3615/3615 [==============================] - 103s 28ms/step - loss: 2.0918 - YT_loss: 0.4983 - YP_loss: 1.5935 - YT_acc: 0.8300 - YP_acc: 0.4447 - val_loss: 2.0573 - val_YT_loss: 0.4836 - val_YP_loss: 1.5737 - val_YT_acc: 0.8329 - val_YP_acc: 0.4546\n",
      "Epoch 144/250\n",
      "3615/3615 [==============================] - 103s 29ms/step - loss: 2.0876 - YT_loss: 0.4988 - YP_loss: 1.5888 - YT_acc: 0.8299 - YP_acc: 0.4472 - val_loss: 2.0529 - val_YT_loss: 0.4820 - val_YP_loss: 1.5709 - val_YT_acc: 0.8333 - val_YP_acc: 0.4563\n",
      "Epoch 145/250\n",
      "3615/3615 [==============================] - 104s 29ms/step - loss: 2.0872 - YT_loss: 0.4999 - YP_loss: 1.5873 - YT_acc: 0.8290 - YP_acc: 0.4469 - val_loss: 2.0534 - val_YT_loss: 0.4824 - val_YP_loss: 1.5710 - val_YT_acc: 0.8336 - val_YP_acc: 0.4550\n",
      "Epoch 146/250\n",
      "3615/3615 [==============================] - 104s 29ms/step - loss: 2.0820 - YT_loss: 0.4977 - YP_loss: 1.5844 - YT_acc: 0.8296 - YP_acc: 0.4479 - val_loss: 2.0513 - val_YT_loss: 0.4821 - val_YP_loss: 1.5692 - val_YT_acc: 0.8331 - val_YP_acc: 0.4560\n",
      "Epoch 147/250\n",
      "3615/3615 [==============================] - 103s 29ms/step - loss: 2.0842 - YT_loss: 0.5004 - YP_loss: 1.5838 - YT_acc: 0.8293 - YP_acc: 0.4475 - val_loss: 2.0496 - val_YT_loss: 0.4818 - val_YP_loss: 1.5678 - val_YT_acc: 0.8328 - val_YP_acc: 0.4564\n",
      "Epoch 148/250\n",
      "3615/3615 [==============================] - 104s 29ms/step - loss: 2.0761 - YT_loss: 0.4994 - YP_loss: 1.5768 - YT_acc: 0.8291 - YP_acc: 0.4509 - val_loss: 2.0473 - val_YT_loss: 0.4810 - val_YP_loss: 1.5663 - val_YT_acc: 0.8334 - val_YP_acc: 0.4565\n",
      "Epoch 149/250\n",
      "3615/3615 [==============================] - 103s 28ms/step - loss: 2.0732 - YT_loss: 0.4976 - YP_loss: 1.5756 - YT_acc: 0.8296 - YP_acc: 0.4514 - val_loss: 2.0474 - val_YT_loss: 0.4809 - val_YP_loss: 1.5666 - val_YT_acc: 0.8338 - val_YP_acc: 0.4569\n",
      "Epoch 150/250\n",
      "3615/3615 [==============================] - 104s 29ms/step - loss: 2.0742 - YT_loss: 0.4983 - YP_loss: 1.5759 - YT_acc: 0.8299 - YP_acc: 0.4507 - val_loss: 2.0443 - val_YT_loss: 0.4807 - val_YP_loss: 1.5636 - val_YT_acc: 0.8338 - val_YP_acc: 0.4580\n",
      "Epoch 151/250\n",
      "3615/3615 [==============================] - 103s 29ms/step - loss: 2.0682 - YT_loss: 0.4931 - YP_loss: 1.5750 - YT_acc: 0.8312 - YP_acc: 0.4507 - val_loss: 2.0422 - val_YT_loss: 0.4800 - val_YP_loss: 1.5621 - val_YT_acc: 0.8339 - val_YP_acc: 0.4583\n",
      "Epoch 152/250\n",
      "3615/3615 [==============================] - 103s 28ms/step - loss: 2.0639 - YT_loss: 0.4924 - YP_loss: 1.5714 - YT_acc: 0.8309 - YP_acc: 0.4524 - val_loss: 2.0423 - val_YT_loss: 0.4803 - val_YP_loss: 1.5620 - val_YT_acc: 0.8334 - val_YP_acc: 0.4585\n",
      "Epoch 153/250\n",
      "3615/3615 [==============================] - 103s 28ms/step - loss: 2.0596 - YT_loss: 0.4911 - YP_loss: 1.5685 - YT_acc: 0.8314 - YP_acc: 0.4537 - val_loss: 2.0398 - val_YT_loss: 0.4801 - val_YP_loss: 1.5597 - val_YT_acc: 0.8335 - val_YP_acc: 0.4593\n",
      "Epoch 154/250\n",
      "3615/3615 [==============================] - 102s 28ms/step - loss: 2.0607 - YT_loss: 0.4944 - YP_loss: 1.5664 - YT_acc: 0.8313 - YP_acc: 0.4539 - val_loss: 2.0421 - val_YT_loss: 0.4807 - val_YP_loss: 1.5615 - val_YT_acc: 0.8335 - val_YP_acc: 0.4584\n",
      "Epoch 155/250\n",
      "3615/3615 [==============================] - 104s 29ms/step - loss: 2.0614 - YT_loss: 0.4943 - YP_loss: 1.5672 - YT_acc: 0.8301 - YP_acc: 0.4543 - val_loss: 2.0376 - val_YT_loss: 0.4789 - val_YP_loss: 1.5587 - val_YT_acc: 0.8341 - val_YP_acc: 0.4593\n",
      "Epoch 156/250\n"
     ]
    },
    {
     "name": "stdout",
     "output_type": "stream",
     "text": [
      "3615/3615 [==============================] - 104s 29ms/step - loss: 2.0580 - YT_loss: 0.4939 - YP_loss: 1.5640 - YT_acc: 0.8307 - YP_acc: 0.4569 - val_loss: 2.0353 - val_YT_loss: 0.4786 - val_YP_loss: 1.5567 - val_YT_acc: 0.8341 - val_YP_acc: 0.4606\n",
      "Epoch 157/250\n",
      "3615/3615 [==============================] - 104s 29ms/step - loss: 2.0581 - YT_loss: 0.4913 - YP_loss: 1.5668 - YT_acc: 0.8311 - YP_acc: 0.4537 - val_loss: 2.0464 - val_YT_loss: 0.4828 - val_YP_loss: 1.5635 - val_YT_acc: 0.8337 - val_YP_acc: 0.4589\n",
      "Epoch 158/250\n",
      "3615/3615 [==============================] - 103s 28ms/step - loss: 2.0589 - YT_loss: 0.4936 - YP_loss: 1.5653 - YT_acc: 0.8311 - YP_acc: 0.4547 - val_loss: 2.0356 - val_YT_loss: 0.4794 - val_YP_loss: 1.5561 - val_YT_acc: 0.8337 - val_YP_acc: 0.4612\n",
      "Epoch 159/250\n",
      "3615/3615 [==============================] - 105s 29ms/step - loss: 2.0514 - YT_loss: 0.4922 - YP_loss: 1.5593 - YT_acc: 0.8314 - YP_acc: 0.4577 - val_loss: 2.0326 - val_YT_loss: 0.4788 - val_YP_loss: 1.5538 - val_YT_acc: 0.8339 - val_YP_acc: 0.4620\n",
      "Epoch 160/250\n",
      "3615/3615 [==============================] - 103s 28ms/step - loss: 2.0462 - YT_loss: 0.4890 - YP_loss: 1.5572 - YT_acc: 0.8316 - YP_acc: 0.4584 - val_loss: 2.0314 - val_YT_loss: 0.4782 - val_YP_loss: 1.5532 - val_YT_acc: 0.8340 - val_YP_acc: 0.4617\n",
      "Epoch 161/250\n",
      "3615/3615 [==============================] - 103s 29ms/step - loss: 2.0454 - YT_loss: 0.4887 - YP_loss: 1.5568 - YT_acc: 0.8315 - YP_acc: 0.4572 - val_loss: 2.0319 - val_YT_loss: 0.4783 - val_YP_loss: 1.5535 - val_YT_acc: 0.8341 - val_YP_acc: 0.4627\n",
      "Epoch 162/250\n",
      "3615/3615 [==============================] - 104s 29ms/step - loss: 2.0405 - YT_loss: 0.4856 - YP_loss: 1.5549 - YT_acc: 0.8326 - YP_acc: 0.4590 - val_loss: 2.0294 - val_YT_loss: 0.4776 - val_YP_loss: 1.5519 - val_YT_acc: 0.8343 - val_YP_acc: 0.4628\n",
      "Epoch 163/250\n",
      "3615/3615 [==============================] - 103s 29ms/step - loss: 2.0360 - YT_loss: 0.4850 - YP_loss: 1.5510 - YT_acc: 0.8324 - YP_acc: 0.4605 - val_loss: 2.0252 - val_YT_loss: 0.4763 - val_YP_loss: 1.5489 - val_YT_acc: 0.8342 - val_YP_acc: 0.4634\n",
      "Epoch 164/250\n",
      "3615/3615 [==============================] - 103s 28ms/step - loss: 2.0362 - YT_loss: 0.4853 - YP_loss: 1.5509 - YT_acc: 0.8330 - YP_acc: 0.4597 - val_loss: 2.0266 - val_YT_loss: 0.4770 - val_YP_loss: 1.5496 - val_YT_acc: 0.8342 - val_YP_acc: 0.4630\n",
      "Epoch 165/250\n",
      "3615/3615 [==============================] - 103s 28ms/step - loss: 2.0375 - YT_loss: 0.4870 - YP_loss: 1.5504 - YT_acc: 0.8317 - YP_acc: 0.4603 - val_loss: 2.0259 - val_YT_loss: 0.4763 - val_YP_loss: 1.5496 - val_YT_acc: 0.8343 - val_YP_acc: 0.4644\n",
      "Epoch 166/250\n",
      "3615/3615 [==============================] - 103s 29ms/step - loss: 2.0408 - YT_loss: 0.4909 - YP_loss: 1.5498 - YT_acc: 0.8312 - YP_acc: 0.4604 - val_loss: 2.0277 - val_YT_loss: 0.4783 - val_YP_loss: 1.5494 - val_YT_acc: 0.8336 - val_YP_acc: 0.4636\n",
      "Epoch 167/250\n",
      "3615/3615 [==============================] - 103s 28ms/step - loss: 2.0360 - YT_loss: 0.4900 - YP_loss: 1.5460 - YT_acc: 0.8312 - YP_acc: 0.4630 - val_loss: 2.0210 - val_YT_loss: 0.4760 - val_YP_loss: 1.5450 - val_YT_acc: 0.8339 - val_YP_acc: 0.4652\n",
      "Epoch 168/250\n",
      "3615/3615 [==============================] - 103s 29ms/step - loss: 2.0311 - YT_loss: 0.4879 - YP_loss: 1.5432 - YT_acc: 0.8317 - YP_acc: 0.4617 - val_loss: 2.0273 - val_YT_loss: 0.4784 - val_YP_loss: 1.5489 - val_YT_acc: 0.8341 - val_YP_acc: 0.4628\n",
      "Epoch 169/250\n",
      "3615/3615 [==============================] - 105s 29ms/step - loss: 2.0317 - YT_loss: 0.4876 - YP_loss: 1.5441 - YT_acc: 0.8320 - YP_acc: 0.4627 - val_loss: 2.0257 - val_YT_loss: 0.4769 - val_YP_loss: 1.5488 - val_YT_acc: 0.8342 - val_YP_acc: 0.4645\n",
      "Epoch 170/250\n",
      "3615/3615 [==============================] - 104s 29ms/step - loss: 2.0297 - YT_loss: 0.4875 - YP_loss: 1.5422 - YT_acc: 0.8320 - YP_acc: 0.4642 - val_loss: 2.0236 - val_YT_loss: 0.4757 - val_YP_loss: 1.5479 - val_YT_acc: 0.8345 - val_YP_acc: 0.4650\n",
      "Epoch 171/250\n",
      "3615/3615 [==============================] - 103s 29ms/step - loss: 2.0288 - YT_loss: 0.4857 - YP_loss: 1.5430 - YT_acc: 0.8321 - YP_acc: 0.4630 - val_loss: 2.0215 - val_YT_loss: 0.4761 - val_YP_loss: 1.5453 - val_YT_acc: 0.8344 - val_YP_acc: 0.4656\n",
      "Epoch 172/250\n",
      "3615/3615 [==============================] - 104s 29ms/step - loss: 2.0257 - YT_loss: 0.4865 - YP_loss: 1.5392 - YT_acc: 0.8325 - YP_acc: 0.4655 - val_loss: 2.0205 - val_YT_loss: 0.4759 - val_YP_loss: 1.5447 - val_YT_acc: 0.8343 - val_YP_acc: 0.4663\n",
      "Epoch 173/250\n",
      "3615/3615 [==============================] - 104s 29ms/step - loss: 2.0193 - YT_loss: 0.4830 - YP_loss: 1.5363 - YT_acc: 0.8333 - YP_acc: 0.4651 - val_loss: 2.0170 - val_YT_loss: 0.4761 - val_YP_loss: 1.5410 - val_YT_acc: 0.8344 - val_YP_acc: 0.4676\n",
      "Epoch 174/250\n",
      "3615/3615 [==============================] - 103s 28ms/step - loss: 2.0167 - YT_loss: 0.4815 - YP_loss: 1.5352 - YT_acc: 0.8335 - YP_acc: 0.4655 - val_loss: 2.0147 - val_YT_loss: 0.4742 - val_YP_loss: 1.5404 - val_YT_acc: 0.8349 - val_YP_acc: 0.4667\n",
      "Epoch 175/250\n",
      "3615/3615 [==============================] - 104s 29ms/step - loss: 2.0145 - YT_loss: 0.4842 - YP_loss: 1.5303 - YT_acc: 0.8327 - YP_acc: 0.4678 - val_loss: 2.0127 - val_YT_loss: 0.4744 - val_YP_loss: 1.5383 - val_YT_acc: 0.8348 - val_YP_acc: 0.4667\n",
      "Epoch 176/250\n",
      "3615/3615 [==============================] - 104s 29ms/step - loss: 2.0167 - YT_loss: 0.4840 - YP_loss: 1.5328 - YT_acc: 0.8323 - YP_acc: 0.4670 - val_loss: 2.0166 - val_YT_loss: 0.4759 - val_YP_loss: 1.5407 - val_YT_acc: 0.8347 - val_YP_acc: 0.4675\n",
      "Epoch 177/250\n",
      "3615/3615 [==============================] - 103s 28ms/step - loss: 2.0203 - YT_loss: 0.4860 - YP_loss: 1.5343 - YT_acc: 0.8325 - YP_acc: 0.4658 - val_loss: 2.0117 - val_YT_loss: 0.4746 - val_YP_loss: 1.5371 - val_YT_acc: 0.8345 - val_YP_acc: 0.4692\n",
      "Epoch 178/250\n",
      "3615/3615 [==============================] - 103s 28ms/step - loss: 2.0125 - YT_loss: 0.4842 - YP_loss: 1.5283 - YT_acc: 0.8329 - YP_acc: 0.4679 - val_loss: 2.0125 - val_YT_loss: 0.4739 - val_YP_loss: 1.5387 - val_YT_acc: 0.8347 - val_YP_acc: 0.4673\n",
      "Epoch 179/250\n",
      "3615/3615 [==============================] - 103s 29ms/step - loss: 2.0081 - YT_loss: 0.4814 - YP_loss: 1.5267 - YT_acc: 0.8336 - YP_acc: 0.4695 - val_loss: 2.0111 - val_YT_loss: 0.4744 - val_YP_loss: 1.5366 - val_YT_acc: 0.8345 - val_YP_acc: 0.4682\n",
      "Epoch 180/250\n",
      "3615/3615 [==============================] - 103s 29ms/step - loss: 2.0057 - YT_loss: 0.4816 - YP_loss: 1.5240 - YT_acc: 0.8327 - YP_acc: 0.4700 - val_loss: 2.0200 - val_YT_loss: 0.4767 - val_YP_loss: 1.5433 - val_YT_acc: 0.8343 - val_YP_acc: 0.4677\n",
      "Epoch 181/250\n",
      "3615/3615 [==============================] - 102s 28ms/step - loss: 2.0106 - YT_loss: 0.4827 - YP_loss: 1.5278 - YT_acc: 0.8329 - YP_acc: 0.4691 - val_loss: 2.0130 - val_YT_loss: 0.4747 - val_YP_loss: 1.5383 - val_YT_acc: 0.8345 - val_YP_acc: 0.4685\n",
      "Epoch 182/250\n",
      "3615/3615 [==============================] - 104s 29ms/step - loss: 2.0026 - YT_loss: 0.4796 - YP_loss: 1.5230 - YT_acc: 0.8338 - YP_acc: 0.4706 - val_loss: 2.0078 - val_YT_loss: 0.4729 - val_YP_loss: 1.5350 - val_YT_acc: 0.8351 - val_YP_acc: 0.4689\n",
      "Epoch 183/250\n",
      "3615/3615 [==============================] - 103s 28ms/step - loss: 2.0053 - YT_loss: 0.4820 - YP_loss: 1.5233 - YT_acc: 0.8325 - YP_acc: 0.4707 - val_loss: 2.0059 - val_YT_loss: 0.4735 - val_YP_loss: 1.5324 - val_YT_acc: 0.8348 - val_YP_acc: 0.4700\n",
      "Epoch 184/250\n",
      "3615/3615 [==============================] - 103s 28ms/step - loss: 2.0007 - YT_loss: 0.4833 - YP_loss: 1.5174 - YT_acc: 0.8331 - YP_acc: 0.4743 - val_loss: 2.0044 - val_YT_loss: 0.4729 - val_YP_loss: 1.5315 - val_YT_acc: 0.8345 - val_YP_acc: 0.4700\n",
      "Epoch 185/250\n",
      "3615/3615 [==============================] - 103s 29ms/step - loss: 1.9944 - YT_loss: 0.4793 - YP_loss: 1.5151 - YT_acc: 0.8334 - YP_acc: 0.4734 - val_loss: 2.0047 - val_YT_loss: 0.4730 - val_YP_loss: 1.5316 - val_YT_acc: 0.8347 - val_YP_acc: 0.4709\n",
      "Epoch 186/250\n",
      "3615/3615 [==============================] - 103s 29ms/step - loss: 1.9946 - YT_loss: 0.4802 - YP_loss: 1.5144 - YT_acc: 0.8337 - YP_acc: 0.4739 - val_loss: 2.0036 - val_YT_loss: 0.4732 - val_YP_loss: 1.5304 - val_YT_acc: 0.8351 - val_YP_acc: 0.4705\n",
      "Epoch 187/250\n"
     ]
    },
    {
     "name": "stdout",
     "output_type": "stream",
     "text": [
      "3615/3615 [==============================] - 103s 28ms/step - loss: 1.9886 - YT_loss: 0.4769 - YP_loss: 1.5117 - YT_acc: 0.8343 - YP_acc: 0.4745 - val_loss: 2.0008 - val_YT_loss: 0.4716 - val_YP_loss: 1.5292 - val_YT_acc: 0.8350 - val_YP_acc: 0.4715\n",
      "Epoch 188/250\n",
      "3615/3615 [==============================] - 103s 29ms/step - loss: 1.9855 - YT_loss: 0.4752 - YP_loss: 1.5103 - YT_acc: 0.8346 - YP_acc: 0.4759 - val_loss: 2.0005 - val_YT_loss: 0.4719 - val_YP_loss: 1.5286 - val_YT_acc: 0.8351 - val_YP_acc: 0.4713\n",
      "Epoch 189/250\n",
      "3615/3615 [==============================] - 103s 28ms/step - loss: 1.9848 - YT_loss: 0.4754 - YP_loss: 1.5094 - YT_acc: 0.8347 - YP_acc: 0.4760 - val_loss: 2.0005 - val_YT_loss: 0.4720 - val_YP_loss: 1.5285 - val_YT_acc: 0.8349 - val_YP_acc: 0.4721\n",
      "Epoch 190/250\n",
      "3615/3615 [==============================] - 104s 29ms/step - loss: 1.9876 - YT_loss: 0.4768 - YP_loss: 1.5109 - YT_acc: 0.8345 - YP_acc: 0.4741 - val_loss: 1.9976 - val_YT_loss: 0.4706 - val_YP_loss: 1.5270 - val_YT_acc: 0.8353 - val_YP_acc: 0.4726\n",
      "Epoch 191/250\n",
      "3615/3615 [==============================] - 104s 29ms/step - loss: 1.9840 - YT_loss: 0.4747 - YP_loss: 1.5092 - YT_acc: 0.8347 - YP_acc: 0.4758 - val_loss: 1.9959 - val_YT_loss: 0.4706 - val_YP_loss: 1.5253 - val_YT_acc: 0.8352 - val_YP_acc: 0.4727\n",
      "Epoch 192/250\n",
      "3615/3615 [==============================] - 103s 28ms/step - loss: 1.9818 - YT_loss: 0.4754 - YP_loss: 1.5064 - YT_acc: 0.8340 - YP_acc: 0.4776 - val_loss: 1.9959 - val_YT_loss: 0.4702 - val_YP_loss: 1.5256 - val_YT_acc: 0.8352 - val_YP_acc: 0.4729\n",
      "Epoch 193/250\n",
      "3615/3615 [==============================] - 103s 29ms/step - loss: 1.9805 - YT_loss: 0.4777 - YP_loss: 1.5029 - YT_acc: 0.8337 - YP_acc: 0.4778 - val_loss: 1.9959 - val_YT_loss: 0.4714 - val_YP_loss: 1.5245 - val_YT_acc: 0.8352 - val_YP_acc: 0.4739\n",
      "Epoch 194/250\n",
      "3615/3615 [==============================] - 103s 28ms/step - loss: 1.9827 - YT_loss: 0.4748 - YP_loss: 1.5078 - YT_acc: 0.8346 - YP_acc: 0.4765 - val_loss: 1.9965 - val_YT_loss: 0.4701 - val_YP_loss: 1.5264 - val_YT_acc: 0.8355 - val_YP_acc: 0.4726\n",
      "Epoch 195/250\n",
      "3615/3615 [==============================] - 103s 28ms/step - loss: 1.9733 - YT_loss: 0.4728 - YP_loss: 1.5005 - YT_acc: 0.8350 - YP_acc: 0.4784 - val_loss: 1.9951 - val_YT_loss: 0.4705 - val_YP_loss: 1.5246 - val_YT_acc: 0.8351 - val_YP_acc: 0.4740\n",
      "Epoch 196/250\n",
      "3615/3615 [==============================] - 102s 28ms/step - loss: 1.9731 - YT_loss: 0.4746 - YP_loss: 1.4985 - YT_acc: 0.8347 - YP_acc: 0.4795 - val_loss: 1.9945 - val_YT_loss: 0.4700 - val_YP_loss: 1.5245 - val_YT_acc: 0.8352 - val_YP_acc: 0.4744\n",
      "Epoch 197/250\n",
      "3615/3615 [==============================] - 102s 28ms/step - loss: 1.9739 - YT_loss: 0.4739 - YP_loss: 1.5001 - YT_acc: 0.8346 - YP_acc: 0.4794 - val_loss: 1.9914 - val_YT_loss: 0.4700 - val_YP_loss: 1.5214 - val_YT_acc: 0.8356 - val_YP_acc: 0.4744\n",
      "Epoch 198/250\n",
      "3615/3615 [==============================] - 103s 29ms/step - loss: 1.9731 - YT_loss: 0.4746 - YP_loss: 1.4985 - YT_acc: 0.8340 - YP_acc: 0.4794 - val_loss: 1.9905 - val_YT_loss: 0.4692 - val_YP_loss: 1.5213 - val_YT_acc: 0.8360 - val_YP_acc: 0.4744\n",
      "Epoch 199/250\n",
      "3615/3615 [==============================] - 103s 28ms/step - loss: 1.9709 - YT_loss: 0.4737 - YP_loss: 1.4972 - YT_acc: 0.8345 - YP_acc: 0.4806 - val_loss: 1.9938 - val_YT_loss: 0.4706 - val_YP_loss: 1.5232 - val_YT_acc: 0.8349 - val_YP_acc: 0.4746\n",
      "Epoch 200/250\n",
      "3615/3615 [==============================] - 103s 29ms/step - loss: 1.9662 - YT_loss: 0.4710 - YP_loss: 1.4951 - YT_acc: 0.8350 - YP_acc: 0.4815 - val_loss: 1.9905 - val_YT_loss: 0.4685 - val_YP_loss: 1.5220 - val_YT_acc: 0.8359 - val_YP_acc: 0.4752\n",
      "Epoch 201/250\n",
      "3615/3615 [==============================] - 102s 28ms/step - loss: 1.9654 - YT_loss: 0.4725 - YP_loss: 1.4929 - YT_acc: 0.8350 - YP_acc: 0.4815 - val_loss: 1.9902 - val_YT_loss: 0.4687 - val_YP_loss: 1.5215 - val_YT_acc: 0.8355 - val_YP_acc: 0.4744\n",
      "Epoch 202/250\n",
      "3615/3615 [==============================] - 104s 29ms/step - loss: 1.9673 - YT_loss: 0.4739 - YP_loss: 1.4934 - YT_acc: 0.8348 - YP_acc: 0.4815 - val_loss: 1.9865 - val_YT_loss: 0.4682 - val_YP_loss: 1.5183 - val_YT_acc: 0.8356 - val_YP_acc: 0.4765\n",
      "Epoch 203/250\n",
      "3615/3615 [==============================] - 104s 29ms/step - loss: 1.9662 - YT_loss: 0.4728 - YP_loss: 1.4935 - YT_acc: 0.8344 - YP_acc: 0.4808 - val_loss: 1.9890 - val_YT_loss: 0.4694 - val_YP_loss: 1.5195 - val_YT_acc: 0.8358 - val_YP_acc: 0.4753\n",
      "Epoch 204/250\n",
      "3615/3615 [==============================] - 103s 29ms/step - loss: 1.9669 - YT_loss: 0.4742 - YP_loss: 1.4927 - YT_acc: 0.8345 - YP_acc: 0.4815 - val_loss: 1.9890 - val_YT_loss: 0.4692 - val_YP_loss: 1.5199 - val_YT_acc: 0.8353 - val_YP_acc: 0.4759\n",
      "Epoch 205/250\n",
      "3615/3615 [==============================] - 104s 29ms/step - loss: 1.9606 - YT_loss: 0.4721 - YP_loss: 1.4885 - YT_acc: 0.8353 - YP_acc: 0.4831 - val_loss: 1.9848 - val_YT_loss: 0.4680 - val_YP_loss: 1.5168 - val_YT_acc: 0.8354 - val_YP_acc: 0.4767\n",
      "Epoch 206/250\n",
      "3615/3615 [==============================] - 103s 29ms/step - loss: 1.9539 - YT_loss: 0.4677 - YP_loss: 1.4861 - YT_acc: 0.8358 - YP_acc: 0.4842 - val_loss: 1.9825 - val_YT_loss: 0.4679 - val_YP_loss: 1.5146 - val_YT_acc: 0.8359 - val_YP_acc: 0.4776\n",
      "Epoch 207/250\n",
      "3615/3615 [==============================] - 102s 28ms/step - loss: 1.9485 - YT_loss: 0.4682 - YP_loss: 1.4803 - YT_acc: 0.8354 - YP_acc: 0.4862 - val_loss: 1.9850 - val_YT_loss: 0.4687 - val_YP_loss: 1.5163 - val_YT_acc: 0.8354 - val_YP_acc: 0.4774\n",
      "Epoch 208/250\n",
      "3615/3615 [==============================] - 104s 29ms/step - loss: 1.9544 - YT_loss: 0.4714 - YP_loss: 1.4831 - YT_acc: 0.8351 - YP_acc: 0.4863 - val_loss: 1.9819 - val_YT_loss: 0.4675 - val_YP_loss: 1.5144 - val_YT_acc: 0.8357 - val_YP_acc: 0.4782\n",
      "Epoch 209/250\n",
      "3615/3615 [==============================] - 103s 28ms/step - loss: 1.9518 - YT_loss: 0.4680 - YP_loss: 1.4837 - YT_acc: 0.8359 - YP_acc: 0.4854 - val_loss: 1.9820 - val_YT_loss: 0.4666 - val_YP_loss: 1.5154 - val_YT_acc: 0.8362 - val_YP_acc: 0.4781\n",
      "Epoch 210/250\n",
      "3615/3615 [==============================] - 103s 28ms/step - loss: 1.9495 - YT_loss: 0.4681 - YP_loss: 1.4814 - YT_acc: 0.8360 - YP_acc: 0.4860 - val_loss: 1.9802 - val_YT_loss: 0.4669 - val_YP_loss: 1.5133 - val_YT_acc: 0.8359 - val_YP_acc: 0.4788\n",
      "Epoch 211/250\n",
      "3615/3615 [==============================] - 103s 29ms/step - loss: 1.9466 - YT_loss: 0.4681 - YP_loss: 1.4785 - YT_acc: 0.8356 - YP_acc: 0.4875 - val_loss: 1.9797 - val_YT_loss: 0.4662 - val_YP_loss: 1.5135 - val_YT_acc: 0.8360 - val_YP_acc: 0.4789\n",
      "Epoch 212/250\n",
      "3615/3615 [==============================] - 103s 28ms/step - loss: 1.9451 - YT_loss: 0.4678 - YP_loss: 1.4773 - YT_acc: 0.8362 - YP_acc: 0.4864 - val_loss: 1.9824 - val_YT_loss: 0.4679 - val_YP_loss: 1.5145 - val_YT_acc: 0.8360 - val_YP_acc: 0.4790\n",
      "Epoch 213/250\n",
      "3615/3615 [==============================] - 103s 29ms/step - loss: 1.9482 - YT_loss: 0.4690 - YP_loss: 1.4792 - YT_acc: 0.8356 - YP_acc: 0.4877 - val_loss: 1.9820 - val_YT_loss: 0.4673 - val_YP_loss: 1.5147 - val_YT_acc: 0.8355 - val_YP_acc: 0.4780\n",
      "Epoch 214/250\n",
      "3615/3615 [==============================] - 104s 29ms/step - loss: 1.9454 - YT_loss: 0.4673 - YP_loss: 1.4780 - YT_acc: 0.8362 - YP_acc: 0.4867 - val_loss: 1.9797 - val_YT_loss: 0.4667 - val_YP_loss: 1.5130 - val_YT_acc: 0.8360 - val_YP_acc: 0.4779\n",
      "Epoch 215/250\n",
      "3615/3615 [==============================] - 103s 28ms/step - loss: 1.9444 - YT_loss: 0.4692 - YP_loss: 1.4752 - YT_acc: 0.8354 - YP_acc: 0.4888 - val_loss: 1.9780 - val_YT_loss: 0.4664 - val_YP_loss: 1.5116 - val_YT_acc: 0.8356 - val_YP_acc: 0.4786\n",
      "Epoch 216/250\n",
      "3615/3615 [==============================] - 103s 28ms/step - loss: 1.9413 - YT_loss: 0.4697 - YP_loss: 1.4717 - YT_acc: 0.8354 - YP_acc: 0.4892 - val_loss: 1.9785 - val_YT_loss: 0.4670 - val_YP_loss: 1.5115 - val_YT_acc: 0.8363 - val_YP_acc: 0.4797\n",
      "Epoch 217/250\n",
      "3615/3615 [==============================] - 104s 29ms/step - loss: 1.9386 - YT_loss: 0.4669 - YP_loss: 1.4718 - YT_acc: 0.8355 - YP_acc: 0.4897 - val_loss: 1.9785 - val_YT_loss: 0.4668 - val_YP_loss: 1.5117 - val_YT_acc: 0.8361 - val_YP_acc: 0.4796\n",
      "Epoch 218/250\n"
     ]
    },
    {
     "name": "stdout",
     "output_type": "stream",
     "text": [
      "3615/3615 [==============================] - 103s 29ms/step - loss: 1.9376 - YT_loss: 0.4660 - YP_loss: 1.4716 - YT_acc: 0.8363 - YP_acc: 0.4902 - val_loss: 1.9757 - val_YT_loss: 0.4663 - val_YP_loss: 1.5094 - val_YT_acc: 0.8360 - val_YP_acc: 0.4800\n",
      "Epoch 219/250\n",
      "3615/3615 [==============================] - 103s 29ms/step - loss: 1.9326 - YT_loss: 0.4660 - YP_loss: 1.4665 - YT_acc: 0.8365 - YP_acc: 0.4915 - val_loss: 1.9737 - val_YT_loss: 0.4656 - val_YP_loss: 1.5081 - val_YT_acc: 0.8361 - val_YP_acc: 0.4806\n",
      "Epoch 220/250\n",
      "3615/3615 [==============================] - 103s 28ms/step - loss: 1.9310 - YT_loss: 0.4644 - YP_loss: 1.4667 - YT_acc: 0.8361 - YP_acc: 0.4917 - val_loss: 1.9762 - val_YT_loss: 0.4667 - val_YP_loss: 1.5095 - val_YT_acc: 0.8359 - val_YP_acc: 0.4806\n",
      "Epoch 221/250\n",
      "3615/3615 [==============================] - 104s 29ms/step - loss: 1.9284 - YT_loss: 0.4624 - YP_loss: 1.4660 - YT_acc: 0.8375 - YP_acc: 0.4915 - val_loss: 1.9740 - val_YT_loss: 0.4653 - val_YP_loss: 1.5087 - val_YT_acc: 0.8364 - val_YP_acc: 0.4806\n",
      "Epoch 222/250\n",
      "3615/3615 [==============================] - 105s 29ms/step - loss: 1.9222 - YT_loss: 0.4627 - YP_loss: 1.4595 - YT_acc: 0.8366 - YP_acc: 0.4946 - val_loss: 1.9721 - val_YT_loss: 0.4658 - val_YP_loss: 1.5063 - val_YT_acc: 0.8359 - val_YP_acc: 0.4812\n",
      "Epoch 223/250\n",
      "3615/3615 [==============================] - 105s 29ms/step - loss: 1.9245 - YT_loss: 0.4634 - YP_loss: 1.4612 - YT_acc: 0.8369 - YP_acc: 0.4938 - val_loss: 1.9731 - val_YT_loss: 0.4649 - val_YP_loss: 1.5082 - val_YT_acc: 0.8359 - val_YP_acc: 0.4804\n",
      "Epoch 224/250\n",
      "3615/3615 [==============================] - 105s 29ms/step - loss: 1.9241 - YT_loss: 0.4616 - YP_loss: 1.4625 - YT_acc: 0.8371 - YP_acc: 0.4923 - val_loss: 1.9785 - val_YT_loss: 0.4675 - val_YP_loss: 1.5110 - val_YT_acc: 0.8364 - val_YP_acc: 0.4802\n",
      "Epoch 225/250\n",
      "3615/3615 [==============================] - 103s 29ms/step - loss: 1.9282 - YT_loss: 0.4635 - YP_loss: 1.4647 - YT_acc: 0.8369 - YP_acc: 0.4921 - val_loss: 1.9740 - val_YT_loss: 0.4661 - val_YP_loss: 1.5080 - val_YT_acc: 0.8361 - val_YP_acc: 0.4812\n",
      "Epoch 226/250\n",
      "3615/3615 [==============================] - 105s 29ms/step - loss: 1.9222 - YT_loss: 0.4619 - YP_loss: 1.4603 - YT_acc: 0.8374 - YP_acc: 0.4939 - val_loss: 1.9749 - val_YT_loss: 0.4657 - val_YP_loss: 1.5092 - val_YT_acc: 0.8357 - val_YP_acc: 0.4799\n",
      "Epoch 227/250\n",
      "3615/3615 [==============================] - 103s 29ms/step - loss: 1.9186 - YT_loss: 0.4616 - YP_loss: 1.4570 - YT_acc: 0.8374 - YP_acc: 0.4961 - val_loss: 1.9701 - val_YT_loss: 0.4657 - val_YP_loss: 1.5044 - val_YT_acc: 0.8364 - val_YP_acc: 0.4814\n",
      "Epoch 228/250\n",
      "3615/3615 [==============================] - 104s 29ms/step - loss: 1.9206 - YT_loss: 0.4638 - YP_loss: 1.4568 - YT_acc: 0.8362 - YP_acc: 0.4940 - val_loss: 1.9706 - val_YT_loss: 0.4650 - val_YP_loss: 1.5056 - val_YT_acc: 0.8364 - val_YP_acc: 0.4820\n",
      "Epoch 229/250\n",
      "3615/3615 [==============================] - 104s 29ms/step - loss: 1.9123 - YT_loss: 0.4605 - YP_loss: 1.4519 - YT_acc: 0.8375 - YP_acc: 0.4969 - val_loss: 1.9689 - val_YT_loss: 0.4647 - val_YP_loss: 1.5042 - val_YT_acc: 0.8361 - val_YP_acc: 0.4826\n",
      "Epoch 230/250\n",
      "3615/3615 [==============================] - 103s 29ms/step - loss: 1.9120 - YT_loss: 0.4612 - YP_loss: 1.4508 - YT_acc: 0.8372 - YP_acc: 0.4977 - val_loss: 1.9674 - val_YT_loss: 0.4644 - val_YP_loss: 1.5030 - val_YT_acc: 0.8362 - val_YP_acc: 0.4821\n",
      "Epoch 231/250\n",
      "3615/3615 [==============================] - 103s 29ms/step - loss: 1.9092 - YT_loss: 0.4590 - YP_loss: 1.4501 - YT_acc: 0.8376 - YP_acc: 0.4981 - val_loss: 1.9669 - val_YT_loss: 0.4641 - val_YP_loss: 1.5027 - val_YT_acc: 0.8359 - val_YP_acc: 0.4830\n",
      "Epoch 232/250\n",
      "3615/3615 [==============================] - 103s 29ms/step - loss: 1.9081 - YT_loss: 0.4590 - YP_loss: 1.4490 - YT_acc: 0.8376 - YP_acc: 0.4982 - val_loss: 1.9682 - val_YT_loss: 0.4636 - val_YP_loss: 1.5046 - val_YT_acc: 0.8366 - val_YP_acc: 0.4820\n",
      "Epoch 233/250\n",
      "3615/3615 [==============================] - 104s 29ms/step - loss: 1.9055 - YT_loss: 0.4578 - YP_loss: 1.4477 - YT_acc: 0.8377 - YP_acc: 0.4988 - val_loss: 1.9643 - val_YT_loss: 0.4626 - val_YP_loss: 1.5017 - val_YT_acc: 0.8363 - val_YP_acc: 0.4833\n",
      "Epoch 234/250\n",
      "3615/3615 [==============================] - 103s 29ms/step - loss: 1.9030 - YT_loss: 0.4589 - YP_loss: 1.4441 - YT_acc: 0.8378 - YP_acc: 0.5003 - val_loss: 1.9640 - val_YT_loss: 0.4624 - val_YP_loss: 1.5016 - val_YT_acc: 0.8366 - val_YP_acc: 0.4834\n",
      "Epoch 235/250\n",
      "3615/3615 [==============================] - 103s 29ms/step - loss: 1.9012 - YT_loss: 0.4580 - YP_loss: 1.4433 - YT_acc: 0.8381 - YP_acc: 0.5004 - val_loss: 1.9645 - val_YT_loss: 0.4633 - val_YP_loss: 1.5012 - val_YT_acc: 0.8365 - val_YP_acc: 0.4841\n",
      "Epoch 236/250\n",
      "3615/3615 [==============================] - 103s 29ms/step - loss: 1.9034 - YT_loss: 0.4594 - YP_loss: 1.4440 - YT_acc: 0.8375 - YP_acc: 0.4990 - val_loss: 1.9655 - val_YT_loss: 0.4632 - val_YP_loss: 1.5023 - val_YT_acc: 0.8362 - val_YP_acc: 0.4835\n",
      "Epoch 237/250\n",
      "3615/3615 [==============================] - 103s 29ms/step - loss: 1.9122 - YT_loss: 0.4625 - YP_loss: 1.4496 - YT_acc: 0.8374 - YP_acc: 0.4974 - val_loss: 1.9664 - val_YT_loss: 0.4629 - val_YP_loss: 1.5035 - val_YT_acc: 0.8371 - val_YP_acc: 0.4823\n",
      "Epoch 238/250\n",
      "3615/3615 [==============================] - 104s 29ms/step - loss: 1.9035 - YT_loss: 0.4584 - YP_loss: 1.4450 - YT_acc: 0.8376 - YP_acc: 0.4990 - val_loss: 1.9631 - val_YT_loss: 0.4634 - val_YP_loss: 1.4997 - val_YT_acc: 0.8367 - val_YP_acc: 0.4847\n",
      "Epoch 239/250\n",
      "3615/3615 [==============================] - 104s 29ms/step - loss: 1.8993 - YT_loss: 0.4558 - YP_loss: 1.4435 - YT_acc: 0.8386 - YP_acc: 0.5001 - val_loss: 1.9661 - val_YT_loss: 0.4622 - val_YP_loss: 1.5039 - val_YT_acc: 0.8371 - val_YP_acc: 0.4828\n",
      "Epoch 240/250\n",
      "3615/3615 [==============================] - 104s 29ms/step - loss: 1.9004 - YT_loss: 0.4589 - YP_loss: 1.4415 - YT_acc: 0.8384 - YP_acc: 0.5010 - val_loss: 1.9650 - val_YT_loss: 0.4630 - val_YP_loss: 1.5020 - val_YT_acc: 0.8366 - val_YP_acc: 0.4822\n",
      "Epoch 241/250\n",
      "3615/3615 [==============================] - 103s 28ms/step - loss: 1.8926 - YT_loss: 0.4583 - YP_loss: 1.4343 - YT_acc: 0.8374 - YP_acc: 0.5035 - val_loss: 1.9670 - val_YT_loss: 0.4640 - val_YP_loss: 1.5030 - val_YT_acc: 0.8368 - val_YP_acc: 0.4833\n",
      "Epoch 242/250\n",
      "3615/3615 [==============================] - 103s 29ms/step - loss: 1.8991 - YT_loss: 0.4575 - YP_loss: 1.4416 - YT_acc: 0.8384 - YP_acc: 0.5011 - val_loss: 1.9653 - val_YT_loss: 0.4629 - val_YP_loss: 1.5024 - val_YT_acc: 0.8365 - val_YP_acc: 0.4839\n",
      "Epoch 243/250\n",
      "3615/3615 [==============================] - 103s 29ms/step - loss: 1.8944 - YT_loss: 0.4555 - YP_loss: 1.4389 - YT_acc: 0.8384 - YP_acc: 0.5025 - val_loss: 1.9622 - val_YT_loss: 0.4622 - val_YP_loss: 1.5000 - val_YT_acc: 0.8369 - val_YP_acc: 0.4840\n",
      "Epoch 244/250\n",
      "3615/3615 [==============================] - 105s 29ms/step - loss: 1.8915 - YT_loss: 0.4552 - YP_loss: 1.4362 - YT_acc: 0.8385 - YP_acc: 0.5023 - val_loss: 1.9618 - val_YT_loss: 0.4620 - val_YP_loss: 1.4998 - val_YT_acc: 0.8369 - val_YP_acc: 0.4848\n",
      "Epoch 245/250\n",
      "3615/3615 [==============================] - 104s 29ms/step - loss: 1.8877 - YT_loss: 0.4556 - YP_loss: 1.4322 - YT_acc: 0.8383 - YP_acc: 0.5039 - val_loss: 1.9611 - val_YT_loss: 0.4630 - val_YP_loss: 1.4981 - val_YT_acc: 0.8370 - val_YP_acc: 0.4853\n",
      "Epoch 246/250\n",
      "3615/3615 [==============================] - 104s 29ms/step - loss: 1.8835 - YT_loss: 0.4542 - YP_loss: 1.4293 - YT_acc: 0.8382 - YP_acc: 0.5060 - val_loss: 1.9586 - val_YT_loss: 0.4620 - val_YP_loss: 1.4966 - val_YT_acc: 0.8366 - val_YP_acc: 0.4849\n",
      "Epoch 247/250\n",
      "3615/3615 [==============================] - 103s 29ms/step - loss: 1.8832 - YT_loss: 0.4541 - YP_loss: 1.4292 - YT_acc: 0.8387 - YP_acc: 0.5055 - val_loss: 1.9601 - val_YT_loss: 0.4626 - val_YP_loss: 1.4975 - val_YT_acc: 0.8366 - val_YP_acc: 0.4845\n",
      "Epoch 248/250\n",
      "3615/3615 [==============================] - 104s 29ms/step - loss: 1.8833 - YT_loss: 0.4558 - YP_loss: 1.4276 - YT_acc: 0.8389 - YP_acc: 0.5063 - val_loss: 1.9601 - val_YT_loss: 0.4620 - val_YP_loss: 1.4981 - val_YT_acc: 0.8369 - val_YP_acc: 0.4849\n",
      "Epoch 249/250\n"
     ]
    },
    {
     "name": "stdout",
     "output_type": "stream",
     "text": [
      "3615/3615 [==============================] - 106s 29ms/step - loss: 1.8813 - YT_loss: 0.4520 - YP_loss: 1.4293 - YT_acc: 0.8388 - YP_acc: 0.5067 - val_loss: 1.9576 - val_YT_loss: 0.4613 - val_YP_loss: 1.4962 - val_YT_acc: 0.8369 - val_YP_acc: 0.4851\n",
      "Epoch 250/250\n",
      "3615/3615 [==============================] - 104s 29ms/step - loss: 1.8796 - YT_loss: 0.4549 - YP_loss: 1.4247 - YT_acc: 0.8389 - YP_acc: 0.5074 - val_loss: 1.9595 - val_YT_loss: 0.4615 - val_YP_loss: 1.4981 - val_YT_acc: 0.8369 - val_YP_acc: 0.4854\n"
     ]
    }
   ],
   "source": [
    "history = GRUModel.fit(x=xs, y=ys, batch_size=ml-1, epochs=250, verbose=1, callbacks=None, validation_split=0.2)"
   ]
  },
  {
   "cell_type": "code",
   "execution_count": 34,
   "metadata": {},
   "outputs": [
    {
     "data": {
      "image/png": "[encoded data removed]",
      "text/plain": [
       "<Figure size 576x288 with 1 Axes>"
      ]
     },
     "metadata": {
      "image/png": {
       "height": 250,
       "width": 485
      }
     },
     "output_type": "display_data"
    },
    {
     "data": {
      "image/png": "[encoded data removed]",
      "text/plain": [
       "<Figure size 576x288 with 1 Axes>"
      ]
     },
     "metadata": {
      "image/png": {
       "height": 250,
       "width": 485
      }
     },
     "output_type": "display_data"
    }
   ],
   "source": [
    "plotLearningCurves(history)"
   ]
  },
  {
   "cell_type": "markdown",
   "metadata": {},
   "source": [
    "**Question**: What are the best prediction accuracies you obtained? With which model?\n",
    "    \n",
    "**Answer**: \n",
    "\n",
    "**Question**: In a few sentences, comment on the plot comparing learning curves for the two activation function.\n",
    "    \n",
    "**Answer**: \n",
    "\n"
   ]
  },
  {
   "cell_type": "code",
   "execution_count": 41,
   "metadata": {},
   "outputs": [
    {
     "ename": "PicklingError",
     "evalue": "Can't pickle <class 'module'>: attribute lookup module on builtins failed",
     "output_type": "error",
     "traceback": [
      "\u001b[0;31m---------------------------------------------------------------------------\u001b[0m",
      "\u001b[0;31mPicklingError\u001b[0m                             Traceback (most recent call last)",
      "\u001b[0;32m<ipython-input-41-2aec4be8187f>\u001b[0m in \u001b[0;36m<module>\u001b[0;34m()\u001b[0m\n\u001b[1;32m      1\u001b[0m \u001b[0mf\u001b[0m \u001b[0;34m=\u001b[0m \u001b[0mopen\u001b[0m\u001b[0;34m(\u001b[0m\u001b[0mos\u001b[0m\u001b[0;34m.\u001b[0m\u001b[0mpath\u001b[0m\u001b[0;34m.\u001b[0m\u001b[0mjoin\u001b[0m\u001b[0;34m(\u001b[0m\u001b[0mdataset_path\u001b[0m\u001b[0;34m,\u001b[0m \u001b[0;34m\"RNNmodel.pckl\"\u001b[0m\u001b[0;34m)\u001b[0m\u001b[0;34m,\u001b[0m \u001b[0;34m'wb'\u001b[0m\u001b[0;34m)\u001b[0m\u001b[0;34m\u001b[0m\u001b[0m\n\u001b[0;32m----> 2\u001b[0;31m \u001b[0mpickle\u001b[0m\u001b[0;34m.\u001b[0m\u001b[0mdump\u001b[0m\u001b[0;34m(\u001b[0m\u001b[0mRNNmodel\u001b[0m\u001b[0;34m,\u001b[0m \u001b[0mf\u001b[0m\u001b[0;34m)\u001b[0m\u001b[0;34m\u001b[0m\u001b[0m\n\u001b[0m\u001b[1;32m      3\u001b[0m \u001b[0mf\u001b[0m\u001b[0;34m.\u001b[0m\u001b[0mclose\u001b[0m\u001b[0;34m(\u001b[0m\u001b[0;34m)\u001b[0m\u001b[0;34m\u001b[0m\u001b[0m\n\u001b[1;32m      4\u001b[0m \u001b[0;34m\u001b[0m\u001b[0m\n\u001b[1;32m      5\u001b[0m \u001b[0mf\u001b[0m \u001b[0;34m=\u001b[0m \u001b[0mopen\u001b[0m\u001b[0;34m(\u001b[0m\u001b[0mos\u001b[0m\u001b[0;34m.\u001b[0m\u001b[0mpath\u001b[0m\u001b[0;34m.\u001b[0m\u001b[0mjoin\u001b[0m\u001b[0;34m(\u001b[0m\u001b[0mdataset_path\u001b[0m\u001b[0;34m,\u001b[0m \u001b[0;34m\"history.pckl\"\u001b[0m\u001b[0;34m)\u001b[0m\u001b[0;34m,\u001b[0m \u001b[0;34m'wb'\u001b[0m\u001b[0;34m)\u001b[0m\u001b[0;34m\u001b[0m\u001b[0m\n",
      "\u001b[0;31mPicklingError\u001b[0m: Can't pickle <class 'module'>: attribute lookup module on builtins failed"
     ]
    }
   ],
   "source": [
    "f = open(os.path.join(dataset_path, \"RNNmodel.pckl\"), 'wb')\n",
    "pickle.dump(RNNmodel, f)\n",
    "f.close()\n",
    "\n",
    "f = open(os.path.join(dataset_path, \"history.pckl\"), 'wb')\n",
    "pickle.dump(history, f)\n",
    "f.close()"
   ]
  },
  {
   "cell_type": "markdown",
   "metadata": {
    "collapsed": true
   },
   "source": [
    "## Exercise 6: Visualizing the model\n",
    "### Description\n",
    "\n",
    "1. Using the model.predict and plotMelody functions, show the outputs of your best model when fed with 4 randomly selected melodies. Report the prediction accuracies as well.\n",
    "2. For the same melodies, plot the hidden state evolution accross time steps. Construct a 2 dimensional matrix with the first dimension being time and the second the concatenation of all hidden unit activations and plot it using the provided `plotMelody` function. To get the hidden states of your network, you can modify the `buildModel` function so that you have another computation graph (another model with the same layers, but the output layer) returning you the hidden states. However, other approaches are equally valid.  \n",
    "3. For each hidden unit $i$ and accross the entire dataset, compute the average absolute change in activation $\\Delta A_i$. Be careful not to take masked timesteps into account. Plot the histogram (50 bins) of this average for the RNN and GRU models on the same figure."
   ]
  },
  {
   "cell_type": "markdown",
   "metadata": {},
   "source": [
    "### Solution"
   ]
  },
  {
   "cell_type": "code",
   "execution_count": 40,
   "metadata": {},
   "outputs": [
    {
     "name": "stdout",
     "output_type": "stream",
     "text": [
      "0.113384\n",
      "(array([], dtype=int64), array([], dtype=int64))\n"
     ]
    }
   ],
   "source": [
    "for label in np.random.choice(list(dataset.keys()), 1):\n",
    "    dat = {\n",
    "        'XT': np.expand_dims(dataset[label]['T'][:-1], axis=0),\n",
    "        'XP': np.expand_dims(dataset[label]['P'][:-1], axis=0)\n",
    "    }\n",
    "    pred = RNNmodel.predict(dat, batch_size=ml-1)\n",
    "    print(np.max(pred[1]))\n",
    "    p = np.round_(pred[1].reshape((381,52)))\n",
    "    t = np.round_(pred[0].reshape((381,26)))\n",
    "    \n",
    "    print(np.where(t == 1))"
   ]
  },
  {
   "cell_type": "markdown",
   "metadata": {},
   "source": [
    "**Question**: How does the hidden state dynamics explain the performance of the RNN vs GRU models? Explain in term of temporal dependencies and base your explanation on figures obtained in 6.2 and 6.3.\n",
    "    \n",
    "**Answer**: \n"
   ]
  },
  {
   "cell_type": "markdown",
   "metadata": {
    "collapsed": true
   },
   "source": [
    "## Exercise 7: Generation of new melodies\n",
    "### Description\n",
    "\n",
    "1. Use your trained best model to generate new melodies. You can do that by starting with a random note, feeding it to your network and sample the output predictions in order to select the next note. Then add this note to your iteratively growing melodies. For your convenience, we provided the `sample` and `writeMIDI` functions. You can use the first in order to perform temperature sampling. The `writeMIDI` function allows you to write a MIDI file from the integer representation.\n",
    "2. Try different sampling temperatures (e.g. 0.5, 1., 1.5) and observe the effect on your generated melodies.\n",
    "3. Generate 32 melodies with both the RNN and GRU models\n",
    "4. Listen to 4 randomly chosen melodies (2 from the GRU model and 2 from the RNN model). To play in a notebook, use a similar approach as the one shown below assuming you have the files `GRU_1.mid` and `RNN_1.mid` at the same level as this notebook. For your own curiosity, you can also directly listen to the MIDI files with your favorite MIDI player but make sure that we can listen to the 4 extracts directly from this notebook (without rerunning it). If you have trouble achieving that, upload the MIDI files with your submission.\n",
    "5. (Optional) If you have a big enough computing power, try adding multiple and bigger layers. You could also try to improve your model with different add-ons, e.g. make your model learn when a melody ends, extend it to other datasets, ...\n",
    "6. (Optional) If you are happy with your results submit a 1 hour long generated MIDI file to the [AI-generated music challenge](https://www.crowdai.org/challenges/ai-generated-music-challenge). "
   ]
  },
  {
   "cell_type": "markdown",
   "metadata": {},
   "source": [
    "### Solution"
   ]
  },
  {
   "cell_type": "code",
   "execution_count": null,
   "metadata": {},
   "outputs": [],
   "source": [
    "mf = music21.midi.MidiFile()\n",
    "mf.open('GRU_1.mid')\n",
    "mf.read()\n",
    "mf.close()\n",
    "s = music21.midi.translate.midiFileToStream(mf)\n",
    "print('GRU')\n",
    "s.show('midi')"
   ]
  },
  {
   "cell_type": "code",
   "execution_count": null,
   "metadata": {},
   "outputs": [],
   "source": [
    "mf = music21.midi.MidiFile()\n",
    "mf.open('RNN_1.mid')\n",
    "mf.read()\n",
    "mf.close()\n",
    "s = music21.midi.translate.midiFileToStream(mf)\n",
    "print('RNN')\n",
    "s.show('midi')"
   ]
  },
  {
   "cell_type": "markdown",
   "metadata": {},
   "source": [
    "**Question**: What is the effect of the sampling temperature on the generated melodies?\n",
    "    \n",
    "**Answer**: \n",
    "\n",
    "**Question**: Are the generated melodies from the RNN model different from the one generated by the GRU model? If yes, what are the main differences?\n",
    "\n",
    "**Answer**: \n",
    "\n"
   ]
  }
 ],
 "metadata": {
  "anaconda-cloud": {},
  "kernelspec": {
   "display_name": "Python 3",
   "language": "python",
   "name": "python3"
  },
  "language_info": {
   "codemirror_mode": {
    "name": "ipython",
    "version": 3
   },
   "file_extension": ".py",
   "mimetype": "text/x-python",
   "name": "python",
   "nbconvert_exporter": "python",
   "pygments_lexer": "ipython3",
   "version": "3.5.2"
  }
 },
 "nbformat": 4,
 "nbformat_minor": 1
}
