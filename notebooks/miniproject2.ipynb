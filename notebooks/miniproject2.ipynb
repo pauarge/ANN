{
 "cells": [
  {
   "cell_type": "markdown",
   "metadata": {},
   "source": [
    "# Miniproject 2: Melody generation\n",
    "\n",
    "## Introduction\n",
    "\n",
    "### Description\n",
    "\n",
    "To develop a model employing ANN on real-world data requires going through several major steps, each of which with important design choices that directly impact the end results. In this project, we guide you through these choices starting from a large database of [Irish folk melodies](https://github.com/IraKorshunova/folk-rnn/tree/master/data) to your own model of symbolic music composition. \n",
    "\n",
    "\n",
    "### Prerequisites\n",
    "\n",
    "- You should have a running installation of [tensorflow](https://www.tensorflow.org/install/) and [keras](https://keras.io/).\n",
    "- You should know the concepts \"recurrent neural networks\", \"LSTM\", \"training and validation data\", \"overfitting\" and \"early stopping\".\n",
    "\n",
    "### What you will learn\n",
    "\n",
    "- You will be guided through a data processing procedure and understand the importance of design choices in ANN modeling\n",
    "- You will learn how to define recurrent neural networks in keras and fit them to data.\n",
    "- You will be guided through a prototyping procedure for the application of deep learning to a specific domain.\n",
    "- You will get in contact with concepts discussed later in the lecture, like \"overfitting\", \"LSTM network\", and \"Generative model\".\n",
    "- You will learn to be more patient :) Some fits may take your computer quite a bit of time; run them over night.\n",
    "\n",
    "### Evaluation criteria\n",
    "\n",
    "The evaluation is (mostly) based on the figures you submit and your answer sentences. \n",
    "We will only do random tests of your code and not re-run the full notebook. Please ensure that your notebook is fully executed before handing it in. "
   ]
  },
  {
   "cell_type": "markdown",
   "metadata": {},
   "source": [
    "## Functions and imports\n",
    "\n",
    "For your convenience we import some libraries and provide some functions below. Some libraries (midi and music21) should be added. If you work with the docker image, pull it `docker pull zifeo/artificial-neural-networks:cpu` before to get the latest version where these libraries are added. If you work locally, be sure to import them. If you do not find the midi library for python3, install it with `python python3-midi/setup.py install` after cloning https://github.com/louisabraham/python3-midi.git.\n",
    "\n",
    "Finally, fill in your sciper number(s) for the random seed and simply run the following cell."
   ]
  },
  {
   "cell_type": "code",
   "execution_count": 1,
   "metadata": {},
   "outputs": [
    {
     "name": "stderr",
     "output_type": "stream",
     "text": [
      "Using TensorFlow backend.\n"
     ]
    }
   ],
   "source": [
    "import numpy as np\n",
    "import matplotlib.pyplot as plt\n",
    "import os\n",
    "import sys\n",
    "import pickle\n",
    "import copy\n",
    "\n",
    "from functools import reduce\n",
    "from random import randint\n",
    "from bisect import bisect_left\n",
    "\n",
    "import keras\n",
    "from keras.models import Model, model_from_json\n",
    "from keras.layers import Input, Masking, TimeDistributed, Dense, Concatenate, Dropout, LSTM, GRU, SimpleRNN\n",
    "from keras.optimizers import Adam\n",
    "from keras.utils import np_utils\n",
    "from keras.preprocessing.sequence import pad_sequences\n",
    "from keras.callbacks import ModelCheckpoint\n",
    "from keras import backend as K\n",
    "\n",
    "import midi\n",
    "import music21\n",
    "\n",
    "from collections import Counter"
   ]
  },
  {
   "cell_type": "code",
   "execution_count": 2,
   "metadata": {},
   "outputs": [],
   "source": [
    "plt.rcParams['font.size'] = 28\n",
    "plt.style.use('ggplot')\n",
    "plt.rcParams[\"axes.grid\"] = False\n",
    "c = plt.rcParams['axes.prop_cycle'].by_key()['color']\n",
    "plt.rcParams['figure.figsize'] = 8, 4"
   ]
  },
  {
   "cell_type": "code",
   "execution_count": 3,
   "metadata": {},
   "outputs": [],
   "source": [
    "sciper = {'student_1': 284216, \n",
    "          'student_2': 285155}\n",
    "seed = sciper['student_1']+sciper['student_2']\n",
    "\n",
    "tmp_path = \"tmp/\"\n",
    "\n",
    "%matplotlib inline"
   ]
  },
  {
   "cell_type": "code",
   "execution_count": 4,
   "metadata": {},
   "outputs": [],
   "source": [
    "def plotMelody(P, T, dictionaries, PrP=None, PrT=None, H=None):\n",
    "    \"\"\"\n",
    "    P: The pitch array (integer representation) or matrix (one-hot encoding)\n",
    "    T: The duration array (integer representation) or matrix (one-hot encoding)\n",
    "    dictionaries: The dictionaries relating integer to a pitch or duration\n",
    "    PrP: (Optional) If provided with PrT, plot the transition probabilities\n",
    "    PrT: (Optional) If provided with PrP, plot the transition probabilities\n",
    "    H: (Optional) Add a plot with the hidden state dynamic sorted by frequency\n",
    "    \"\"\"\n",
    "    P = np.asarray(P)\n",
    "    T = np.asarray(T)\n",
    "    if len(P.shape) == 1:#if array\n",
    "        P = np_utils.to_categorical(P, len(dictionaries['P']))\n",
    "    if len(T.shape) == 1:#if array\n",
    "        T = np_utils.to_categorical(T, len(dictionaries['T']))\n",
    "    \n",
    "    xlim = [-1,np.where(P==1)[0][-1]+1]\n",
    "    \n",
    "    activeidxes = np.where(np.sum(P, axis=0)>1.)[0]\n",
    "    plt.figure(figsize=(8,4))\n",
    "    if PrP is not None:\n",
    "        targets = np.where(P[:,activeidxes]==1)\n",
    "        plt.imshow(PrP[:,activeidxes].T, origin='lower', aspect='auto', interpolation='nearest', cmap=plt.cm.gray_r, vmin=0, vmax=1)\n",
    "        plt.scatter(targets[0]-1,targets[1], color='red',s=10, marker='.') \n",
    "    else:\n",
    "        plt.imshow(P[:,activeidxes].T, origin='lower', aspect='auto', interpolation='nearest', cmap=plt.cm.gray_r, vmin=0, vmax=1)\n",
    "    plt.ylim([-0.5,len(activeidxes)-0.5])\n",
    "    plt.yticks(range(len(activeidxes)),[dictionaries[\"P\"][i] for i in activeidxes])\n",
    "    plt.tight_layout()\n",
    "    plt.xlabel(\"$n$\")\n",
    "    plt.ylabel(\"$P[n]$\")\n",
    "    plt.xlim(xlim)\n",
    "    plt.show()\n",
    "    \n",
    "    activeidxes = np.where(np.sum(T, axis=0)>1.)[0]\n",
    "    plt.figure(figsize=(8,4))\n",
    "    if PrT is not None:\n",
    "        targets = np.where(T[:,activeidxes]==1)\n",
    "        plt.imshow(PrT[:,activeidxes].T, origin='lower', aspect='auto', interpolation='nearest', cmap=plt.cm.gray_r, vmin=0, vmax=1)\n",
    "        plt.scatter(targets[0]-1,targets[1], color='red',s=10, marker='.')\n",
    "    else:\n",
    "        plt.imshow(T[:,activeidxes].T, origin='lower', aspect='auto', interpolation='nearest', cmap=plt.cm.gray_r, vmin=0, vmax=1)\n",
    "    plt.ylim([-0.5,len(activeidxes)-0.5])\n",
    "    plt.yticks(range(len(activeidxes)),[dictionaries[\"T\"][i] for i in activeidxes])\n",
    "    plt.tight_layout()\n",
    "    plt.xlabel(\"$n$\")\n",
    "    plt.ylabel(\"$T[n]$\")\n",
    "    plt.xlim(xlim)\n",
    "    plt.show()\n",
    "    \n",
    "    if H is not None:\n",
    "        diff = np.mean([[abs(j-i) for i,j in zip(H[:xlim[1]-1,k], H[1:xlim[1],k])] for k in range(H.shape[1])], axis=1)\n",
    "        sortidx = np.argsort(-diff)\n",
    "        H = H[:,sortidx]\n",
    "        plt.figure(figsize=(8,4))\n",
    "        plt.imshow(H.T, origin='lower', aspect='auto', interpolation='nearest', cmap=plt.cm.seismic, vmin=-1, vmax=1)\n",
    "        plt.xlim([-1,np.where(T==1)[0][-1]+1])\n",
    "        plt.tight_layout()\n",
    "        plt.xlabel(\"$n$\")\n",
    "        plt.ylabel(\"$H[n]$\")\n",
    "        plt.show()\n",
    "\n",
    "\n",
    "def plotLearningCurves(History):\n",
    "    log = History.history\n",
    "    \n",
    "    plt.figure(figsize=(8,4))\n",
    "    plt.plot(log['YP_loss'], '--', c=c[0], label='Pitch train loss')\n",
    "    plt.plot(log['val_YP_loss'], c=c[0], label='Pitch val loss')\n",
    "    \n",
    "    plt.plot(log['YT_loss'], '--', c=c[1], label='Dur train loss')\n",
    "    plt.plot(log['val_YT_loss'], c=c[1], label='Dur val loss')\n",
    "    plt.legend(loc='best')\n",
    "    \n",
    "    plt.figure(figsize=(8,4))\n",
    "    plt.plot(log['YP_acc'], '--', c=c[0], label='Pitch train acc')\n",
    "    plt.plot(log['val_YP_acc'], c=c[0], label='Pitch val acc')\n",
    "    \n",
    "    plt.plot(log['YT_acc'], '--', c=c[1], label='Dur train acc')\n",
    "    plt.plot(log['val_YT_acc'], c=c[1], label='Dur val acc')\n",
    "    plt.legend(loc='best')\n",
    "\n",
    "def sample(preds, temperature=1.):\n",
    "    \"\"\"Helper function to sample an index from a probability array\"\"\"\n",
    "    preds = np.asarray(preds).astype('float64')\n",
    "    preds = np.log(preds) / temperature\n",
    "    exp_preds = np.exp(preds)\n",
    "    preds = exp_preds / np.sum(exp_preds)\n",
    "    probas = np.random.multinomial(1, preds, 1)\n",
    "    return np.argmax(probas)\n",
    "\n",
    "def writeMIDI(xP, xT, dictionaries, label):\n",
    "    # Instantiate a MIDI Pattern (contains a list of tracks)\n",
    "    pattern = midi.Pattern(format = 0, resolution=480)\n",
    "    # Instantiate a MIDI Track (contains a list of MIDI events)\n",
    "    track = midi.Track()\n",
    "    # Append the track to the pattern\n",
    "    pattern.append(track)\n",
    "    Events = []\n",
    "    \n",
    "    pseq = [dictionaries['P'][p] for p in xP]\n",
    "    tseq = [dictionaries['T'][t] for t in xT]\n",
    "    \n",
    "    # Changed tick values\n",
    "    for t, p in zip(tseq, pseq):\n",
    "        e = midi.NoteOnEvent(tick=0, velocity=90, pitch=p)\n",
    "        track.append(e)\n",
    "        e = midi.NoteOffEvent(tick=t, velocity=0, pitch=p)\n",
    "        track.append(e)\n",
    "        \n",
    "    eot = midi.EndOfTrackEvent(tick=1)\n",
    "    track.append(eot)\n",
    "    # Save the pattern to disk\n",
    "    midi.write_midifile(label, pattern)"
   ]
  },
  {
   "cell_type": "code",
   "execution_count": 5,
   "metadata": {},
   "outputs": [],
   "source": [
    "def save_var(var, name):\n",
    "    if not os.path.exists(os.path.dirname(tmp_path)):\n",
    "        try:\n",
    "            os.makedirs(os.path.dirname(tmp_path))\n",
    "        except OSError as exc: # Guard against race condition\n",
    "            if exc.errno != errno.EEXIST:\n",
    "                raise\n",
    "    with open(os.path.join(tmp_path, '{}.pckl'.format(name)), 'wb') as output_file:\n",
    "        pickle.dump(var, output_file)\n",
    "\n",
    "def load_var(name):\n",
    "    if os.path.exists(tmp_path):\n",
    "        with open(os.path.join(tmp_path, '{}.pckl'.format(name)), 'rb') as input_file:\n",
    "            return pickle.load(input_file)\n",
    "        return var\n",
    "    else:\n",
    "        return None\n",
    "\n",
    "def save_model(model, name):\n",
    "    model_json = model.to_json()\n",
    "    with open(os.path.join(tmp_path, \"{}.json\".format(name)), \"w\") as json_file:\n",
    "        json_file.write(model_json)\n",
    "    model.save_weights(os.path.join(tmp_path, \"{}.h5\".format(name)))\n",
    "    \n",
    "def load_model(name):\n",
    "    json_file = open(os.path.join(tmp_path, \"{}.json\".format(name)), 'r')\n",
    "    loaded_model_json = json_file.read()\n",
    "    json_file.close()\n",
    "    loaded_model = model_from_json(loaded_model_json)\n",
    "    loaded_model.load_weights(os.path.join(tmp_path, \"{}.h5\".format(name)))\n",
    "    return loaded_model"
   ]
  },
  {
   "cell_type": "code",
   "execution_count": 6,
   "metadata": {},
   "outputs": [],
   "source": [
    "def log_progress(sequence, every=None, size=None, name='Items'):\n",
    "    from ipywidgets import IntProgress, HTML, VBox\n",
    "    from IPython.display import display\n",
    "\n",
    "    is_iterator = False\n",
    "    if size is None:\n",
    "        try:\n",
    "            size = len(sequence)\n",
    "        except TypeError:\n",
    "            is_iterator = True\n",
    "    if size is not None:\n",
    "        if every is None:\n",
    "            if size <= 200:\n",
    "                every = 1\n",
    "            else:\n",
    "                every = int(size / 200)     # every 0.5%\n",
    "    else:\n",
    "        assert every is not None, 'sequence is iterator, set every'\n",
    "\n",
    "    if is_iterator:\n",
    "        progress = IntProgress(min=0, max=1, value=1)\n",
    "        progress.bar_style = 'info'\n",
    "    else:\n",
    "        progress = IntProgress(min=0, max=size, value=0)\n",
    "    label = HTML()\n",
    "    box = VBox(children=[label, progress])\n",
    "    display(box)\n",
    "\n",
    "    index = 0\n",
    "    try:\n",
    "        for index, record in enumerate(sequence, 1):\n",
    "            if index == 1 or index % every == 0:\n",
    "                if is_iterator:\n",
    "                    label.value = '{name}: {index} / ?'.format(\n",
    "                        name=name,\n",
    "                        index=index\n",
    "                    )\n",
    "                else:\n",
    "                    progress.value = index\n",
    "                    label.value = u'{name}: {index} / {size}'.format(\n",
    "                        name=name,\n",
    "                        index=index,\n",
    "                        size=size\n",
    "                    )\n",
    "            yield record\n",
    "    except:\n",
    "        progress.bar_style = 'danger'\n",
    "        raise\n",
    "    else:\n",
    "        progress.bar_style = 'success'\n",
    "        progress.value = index\n",
    "        label.value = \"{name}: {index}\".format(\n",
    "            name=name,\n",
    "            index=str(index or '?')\n",
    "        )"
   ]
  },
  {
   "cell_type": "code",
   "execution_count": 7,
   "metadata": {},
   "outputs": [],
   "source": [
    "def plotLearningCurves_separated(History1, History2):\n",
    "    \n",
    "    #SimpleRNN model\n",
    "    log1 = History1.history\n",
    "    #GRU model\n",
    "    log2 = History2.history\n",
    "    \n",
    "    plt.clf()\n",
    "    figure, axarr = plt.subplots(2,2)\n",
    "    figure.set_figheight(15)\n",
    "    figure.set_figwidth(15)\n",
    "    \n",
    "    \n",
    "    plt.sca(axarr[0,0])\n",
    "    axarr[0,0].plot(log1['YP_loss'], '--', c=c[0], label='Pitch train loss SimpleRNN')\n",
    "    axarr[0,0].plot(log1['val_YP_loss'], c=c[0], label='Pitch val loss SimpleRNN')\n",
    " \n",
    "    axarr[0,0].plot(log2['YP_loss'], '--', c=c[1], label='Pitch train loss GRU')\n",
    "    axarr[0,0].plot(log2['val_YP_loss'], c=c[1], label='Pitch val loss GRU')\n",
    "    axarr[0,0].legend(loc='best')\n",
    "    axarr[0,0].set_title('Pitch Loss')\n",
    "    \n",
    "    plt.sca(axarr[0,1])\n",
    "    axarr[0,1].plot(log1['YP_acc'], '--', c=c[0], label='Pitch train accuracy SimpleRNN')\n",
    "    axarr[0,1].plot(log1['val_YP_acc'], c=c[0], label='Pitch val accuracy SimpleRNN')\n",
    "    \n",
    "    axarr[0,1].plot(log2['YP_acc'], '--', c=c[1], label='Pitch train accuracy GRU')\n",
    "    axarr[0,1].plot(log2['val_YP_acc'], c=c[1], label='Pitch val accuracy GRU')\n",
    "    axarr[0,1].legend(loc='best')\n",
    "    axarr[0,1].set_title('Pitch Accuracy')\n",
    "    \n",
    "    #plt.figure(figsize=(14,4))\n",
    "    plt.sca(axarr[1,0])\n",
    "    axarr[1,0].plot(log1['YT_loss'], '--', c=c[0], label='Dur train loss SimpleRNN')\n",
    "    axarr[1,0].plot(log1['val_YT_loss'], c=c[0], label='Dur val loss SimpleRNN')\n",
    "    \n",
    "    axarr[1,0].plot(log2['YT_loss'], '--', c=c[1], label='Dur train loss GRU')\n",
    "    axarr[1,0].plot(log2['val_YT_loss'], c=c[1], label='Dur val loss GRU')\n",
    "    axarr[1,0].legend(loc='best')\n",
    "    axarr[1,0].set_title('Duration Loss')\n",
    "    \n",
    "    plt.sca(axarr[1,1])\n",
    "    axarr[1,1].plot(log1['YT_acc'], '--', c=c[0], label='Dur train acc SimpleRNN')\n",
    "    axarr[1,1].plot(log1['val_YT_acc'], c=c[0], label='Dur val acc SimpleRNN')\n",
    "    \n",
    "    axarr[1,1].plot(log2['YT_acc'], '--', c=c[1], label='Dur train acc GRU')\n",
    "    axarr[1,1].plot(log2['val_YT_acc'], c=c[1], label='Dur val acc GRU')\n",
    "    axarr[1,1].legend(loc='best')\n",
    "    axarr[1,1].set_title('Duration Accuracy')"
   ]
  },
  {
   "cell_type": "markdown",
   "metadata": {},
   "source": [
    "## Exercise 1 : Data processing\n",
    "### Description\n",
    "\n",
    "For a real world application of ANNs, the original data should be translated into a representation understandable by an ANN. This step is often neglected but is of outmost importance. In order for you to better understand how ANN are applied to real world problems, the first step of this miniproject will guide you through a possible representation. \n",
    "\n",
    "Note that in general, your representation should be normalized in order to obtain homogeneous data from which a structure can be extracted by your ANN model. Importantly, all processing steps toward your representation should not (or minimally) distort your original data.\n",
    "\n",
    "To represent MIDI files, we provide you with a Python MIDI library. You should then\n",
    "\n",
    "0. Download the MIDI tar file from [this link](https://github.com/IraKorshunova/folk-rnn/tree/master/data) and put it in a folder named \"chorpus\" at the same level of this notebook.\n",
    "1. Parse the chorpus to extract the label of (a random subset of) the data (code is provided)\n",
    "2. Read each MIDI file in the subset with the midi [library](https://github.com/louisabraham/python3-midi)\n",
    "3. For each data sequence extract the sequence of MIDI notes defined by two dimensions (\"P\": the sequence of note pitches (integer between 0 and 127 representing a piano key), \"T\": the sequence of note durations.\n",
    "4. Select two melodies and display them both as sequences of MIDI events and sequence of notes in two dimensions. Control that your representation is correct.\n",
    "\n",
    "For step 3, you should learn how MIDI files are constructed. Below, we give a minimal explanation and some code for this particular project. For a more complete explanation, look for MIDI in your favorite search engine. Given this dataset, you can observe that it is monophonic (one note at a time) and there's a small delay (1 tick) inbetween each note. You could decide to ignore this delay or correct (recommanded) for it.\n",
    "\n",
    "A MIDI files is composed of timed events of many kinds. For this project, we focus on the events related to notes being played or stopped. Those are MIDI events \"Note Off\" and \"Note On\". Each event is timed with respect with the previous one (dt). The duration of a note is therefore given by the cummulated dt inbetween the event associated to a note's onset and the event associated with the same note's offset.\n",
    "        "
   ]
  },
  {
   "cell_type": "markdown",
   "metadata": {},
   "source": [
    "### Minimal code to read MIDI files"
   ]
  },
  {
   "cell_type": "code",
   "execution_count": 8,
   "metadata": {
    "scrolled": false
   },
   "outputs": [
    {
     "name": "stdout",
     "output_type": "stream",
     "text": [
      "chorpus/sessiontune0.mid\n",
      "########################################\n",
      "tick \t pitch \t message \t velocity\n",
      "########################################\n",
      "\n",
      "1 \t 67 \t Note On \t 105\n",
      "240 \t 67 \t Note Off \t 0\n",
      "241 \t 64 \t Note On \t 80\n",
      "480 \t 64 \t Note Off \t 0\n",
      "481 \t 64 \t Note On \t 80\n",
      "720 \t 64 \t Note Off \t 0\n",
      "721 \t 64 \t Note On \t 95\n",
      "1200 \t 64 \t Note Off \t 0\n",
      "1201 \t 62 \t Note On \t 80\n",
      ". \t . \t . \t \t .\n",
      ". \t . \t . \t \t .\n",
      ". \t . \t . \t \t .\n",
      "33601 \t 67 \t Note On \t 80\n",
      "33840 \t 67 \t Note Off \t 0\n",
      "33841 \t 69 \t Note On \t 95\n",
      "34080 \t 69 \t Note Off \t 0\n",
      "34081 \t 71 \t Note On \t 80\n",
      "34320 \t 71 \t Note Off \t 0\n",
      "34321 \t 72 \t Note On \t 80\n",
      "34560 \t 72 \t Note Off \t 0\n",
      "########################################\n",
      "\n",
      "4629/45847 melodies retained\n"
     ]
    }
   ],
   "source": [
    "def display(midi_file=\"chorpus/sessiontune0.mid\"):\n",
    "    #index 0 for first track only\n",
    "    events = midi.read_midifile(midi_file)[0] \n",
    "    tick = 0\n",
    "    print(midi_file)\n",
    "    print(\"#\"*40)\n",
    "    print(\"tick \\t pitch \\t message \\t velocity\")\n",
    "    print(\"#\"*40+'\\n')\n",
    "    for n, event in enumerate(events):\n",
    "        tick += event.tick\n",
    "        if event.name in ['Note On', 'Note Off']:\n",
    "            if n<13 or n>len(events)-10:\n",
    "                print(\"%i \\t %i \\t %s \\t %i\"%(tick, event.data[0], event.name, event.data[1]))\n",
    "            if n in range(20,23):\n",
    "                print(\". \\t . \\t . \\t \\t .\")\n",
    "    print(\"#\"*40+'\\n')\n",
    "\n",
    "display()\n",
    "\n",
    "datapath = \"chorpus/\"\n",
    "dataset = {}\n",
    "np.random.seed(seed)\n",
    "\n",
    "for filename in os.listdir(datapath):\n",
    "    if filename.endswith(\"mid\"):\n",
    "        label = filename[:-4]\n",
    "        #Down sample dataset\n",
    "        if np.random.rand() < 0.10:\n",
    "            dataset[label] = {\"T\":[], \"P\": []}\n",
    "print(\"%i/%i melodies retained\"%(len(list(dataset.keys())), len(os.listdir(datapath))))"
   ]
  },
  {
   "cell_type": "markdown",
   "metadata": {},
   "source": [
    "### Solution"
   ]
  },
  {
   "cell_type": "code",
   "execution_count": 9,
   "metadata": {},
   "outputs": [],
   "source": [
    "def parseMIDI(midi_file):\n",
    "    events = midi.read_midifile(midi_file)[0] #index 0 for first track only  \n",
    "    T = []\n",
    "    P = []\n",
    "    for n, event in enumerate(events):\n",
    "        if event.name == 'Note On':\n",
    "            P.append(event.data[0])\n",
    "        elif event.name == 'Note Off':\n",
    "            T.append(event.tick + 1)\n",
    "    return P, T"
   ]
  },
  {
   "cell_type": "code",
   "execution_count": 11,
   "metadata": {},
   "outputs": [
    {
     "data": {
      "application/vnd.jupyter.widget-view+json": {
       "model_id": "2baf32be987f4f08aadfac7393ad4d25",
       "version_major": 2,
       "version_minor": 0
      },
      "text/plain": [
       "VBox(children=(HTML(value=''), IntProgress(value=0, max=4629)))"
      ]
     },
     "metadata": {},
     "output_type": "display_data"
    }
   ],
   "source": [
    "for label in log_progress(list(dataset.keys()),every=1):\n",
    "    Pseq, Tseq = parseMIDI(datapath+label+\".mid\")\n",
    "    dataset[label]['T']= Tseq\n",
    "    dataset[label]['P']= Pseq"
   ]
  },
  {
   "cell_type": "code",
   "execution_count": 12,
   "metadata": {},
   "outputs": [
    {
     "name": "stdout",
     "output_type": "stream",
     "text": [
      "sessiontune44404\n",
      "MIDI events\n",
      "chorpus/sessiontune44404.mid\n",
      "########################################\n",
      "tick \t pitch \t message \t velocity\n",
      "########################################\n",
      "\n",
      "1 \t 75 \t Note On \t 105\n",
      "240 \t 75 \t Note Off \t 0\n",
      "241 \t 77 \t Note On \t 105\n",
      "720 \t 77 \t Note Off \t 0\n",
      "721 \t 70 \t Note On \t 80\n",
      "960 \t 70 \t Note Off \t 0\n",
      "961 \t 70 \t Note On \t 95\n",
      "1200 \t 70 \t Note Off \t 0\n",
      "1201 \t 72 \t Note On \t 80\n",
      ". \t . \t . \t \t .\n",
      ". \t . \t . \t \t .\n",
      ". \t . \t . \t \t .\n",
      "44881 \t 73 \t Note On \t 105\n",
      "45120 \t 73 \t Note Off \t 0\n",
      "45121 \t 70 \t Note On \t 80\n",
      "45360 \t 70 \t Note Off \t 0\n",
      "45361 \t 70 \t Note On \t 80\n",
      "45600 \t 70 \t Note Off \t 0\n",
      "45601 \t 70 \t Note On \t 95\n",
      "46080 \t 70 \t Note Off \t 0\n",
      "########################################\n",
      "\n",
      "Note representation\n",
      "{'P': [75, 77, 70, 70, 72, 70, 68, 70, 72, 73, 72, 70, 77, 70, 70, 72, 70, 68, 70, 72, 73, 75, 77, 70, 70, 72, 70, 68, 70, 72, 73, 72, 70, 77, 78, 77, 75, 73, 72, 73, 70, 70, 70, 75, 77, 70, 70, 72, 70, 68, 70, 72, 73, 72, 70, 77, 70, 70, 72, 70, 68, 70, 72, 73, 75, 77, 70, 70, 72, 70, 68, 70, 72, 73, 72, 70, 77, 78, 77, 75, 73, 72, 73, 70, 70, 70, 75, 75, 77, 82, 82, 84, 85, 84, 82, 84, 82, 80, 75, 77, 82, 82, 84, 85, 84, 82, 84, 82, 85, 87, 85, 84, 85, 84, 82, 84, 82, 80, 77, 75, 77, 78, 77, 75, 73, 72, 73, 70, 70, 70, 75, 75, 77, 82, 82, 84, 85, 84, 82, 84, 82, 80, 75, 77, 82, 82, 84, 85, 84, 82, 84, 82, 85, 87, 85, 84, 85, 84, 82, 84, 82, 80, 77, 75, 77, 78, 77, 75, 73, 72, 73, 70, 70, 70], 'T': [240, 480, 240, 240, 240, 240, 240, 240, 240, 240, 240, 240, 480, 240, 240, 240, 240, 240, 240, 240, 480, 240, 480, 240, 240, 240, 240, 240, 240, 240, 240, 240, 240, 240, 240, 240, 240, 240, 240, 240, 240, 240, 480, 240, 480, 240, 240, 240, 240, 240, 240, 240, 240, 240, 240, 480, 240, 240, 240, 240, 240, 240, 240, 480, 240, 480, 240, 240, 240, 240, 240, 240, 240, 240, 240, 240, 240, 240, 240, 240, 240, 240, 240, 240, 240, 480, 240, 240, 240, 240, 480, 240, 240, 240, 240, 240, 240, 240, 240, 240, 240, 480, 240, 240, 240, 240, 480, 240, 240, 240, 240, 240, 240, 240, 240, 240, 240, 240, 240, 240, 240, 240, 240, 240, 240, 240, 240, 240, 240, 480, 240, 240, 240, 240, 480, 240, 240, 240, 240, 240, 240, 240, 240, 240, 240, 480, 240, 240, 240, 240, 480, 240, 240, 240, 240, 240, 240, 240, 240, 240, 240, 240, 240, 240, 240, 240, 240, 240, 240, 240, 240, 240, 240, 480]}\n",
      "\n",
      "\n",
      "sessiontune30960\n",
      "MIDI events\n",
      "chorpus/sessiontune30960.mid\n",
      "########################################\n",
      "tick \t pitch \t message \t velocity\n",
      "########################################\n",
      "\n",
      "1 \t 77 \t Note On \t 105\n",
      "240 \t 77 \t Note Off \t 0\n",
      "241 \t 70 \t Note On \t 80\n",
      "480 \t 70 \t Note Off \t 0\n",
      "481 \t 70 \t Note On \t 80\n",
      "640 \t 70 \t Note Off \t 0\n",
      "641 \t 70 \t Note On \t 80\n",
      "800 \t 70 \t Note Off \t 0\n",
      "801 \t 70 \t Note On \t 80\n",
      ". \t . \t . \t \t .\n",
      ". \t . \t . \t \t .\n",
      ". \t . \t . \t \t .\n",
      "44401 \t 77 \t Note On \t 80\n",
      "44640 \t 77 \t Note Off \t 0\n",
      "44641 \t 80 \t Note On \t 80\n",
      "44880 \t 80 \t Note Off \t 0\n",
      "44881 \t 77 \t Note On \t 80\n",
      "45120 \t 77 \t Note Off \t 0\n",
      "45121 \t 75 \t Note On \t 95\n",
      "46080 \t 75 \t Note Off \t 0\n",
      "########################################\n",
      "\n",
      "Note representation\n",
      "{'P': [77, 70, 70, 70, 70, 77, 70, 80, 70, 77, 70, 70, 70, 70, 75, 73, 72, 75, 77, 70, 70, 70, 70, 77, 75, 73, 77, 80, 77, 75, 73, 75, 77, 70, 70, 70, 70, 77, 70, 80, 70, 77, 70, 70, 70, 70, 75, 73, 72, 75, 77, 70, 70, 70, 70, 77, 75, 73, 77, 80, 77, 75, 72, 73, 72, 73, 75, 77, 75, 73, 75, 77, 73, 75, 73, 70, 68, 73, 72, 73, 75, 77, 75, 73, 77, 80, 77, 75, 72, 73, 72, 73, 75, 77, 75, 73, 75, 77, 73, 75, 73, 70, 68, 73, 72, 73, 75, 77, 75, 73, 77, 80, 77, 75, 73, 82, 80, 77, 70, 70, 70, 70, 77, 70, 80, 70, 77, 82, 70, 70, 70, 75, 73, 75, 77, 70, 70, 70, 70, 77, 75, 73, 77, 80, 77, 75, 73, 75, 77, 70, 70, 70, 70, 82, 70, 80, 70, 77, 70, 75, 70, 77, 75, 73, 75, 77, 70, 70, 70, 70, 77, 75, 73, 77, 80, 77, 75], 'T': [240, 240, 160, 160, 160, 240, 240, 240, 240, 240, 240, 160, 160, 160, 240, 240, 240, 240, 240, 240, 160, 160, 160, 720, 240, 240, 240, 240, 240, 480, 240, 240, 240, 240, 160, 160, 160, 240, 240, 240, 240, 240, 240, 160, 160, 160, 240, 240, 240, 240, 240, 240, 160, 160, 160, 720, 240, 240, 240, 240, 240, 720, 240, 240, 240, 240, 240, 720, 240, 240, 240, 240, 240, 240, 240, 240, 240, 240, 240, 240, 240, 720, 240, 240, 240, 240, 240, 720, 240, 240, 240, 240, 240, 720, 240, 240, 240, 240, 240, 240, 240, 240, 240, 240, 240, 240, 240, 720, 240, 240, 240, 240, 240, 240, 240, 240, 240, 240, 240, 160, 160, 160, 240, 240, 240, 240, 240, 240, 160, 160, 160, 480, 240, 240, 240, 240, 160, 160, 160, 720, 240, 240, 240, 240, 240, 480, 240, 240, 240, 240, 160, 160, 160, 240, 240, 240, 240, 240, 240, 240, 240, 240, 240, 240, 240, 240, 240, 160, 160, 160, 720, 240, 240, 240, 240, 240, 960]}\n",
      "\n",
      "\n"
     ]
    }
   ],
   "source": [
    "for label in np.random.choice(list(dataset.keys()), 2):\n",
    "    print(label)\n",
    "    print(\"MIDI events\")\n",
    "    display(datapath+label+\".mid\")\n",
    "    print(\"Note representation\")\n",
    "    print(dataset[label])\n",
    "    print('\\n')"
   ]
  },
  {
   "cell_type": "markdown",
   "metadata": {},
   "source": [
    "## Exercise 2: Tokenzation and translation to integer\n",
    "### Description\n",
    "\n",
    "Now you should have a \"dataset\" dictionary where each entry corresponds to one melody example from a subset of the full dataset. In turn, every melody example is represented by a dictionary with two sequences: the \"P\" entry being the sequence of pitches and the \"T\" entry, the sequence of durations. Here, you will implement the first steps to translate this dataset in a language that can be read by your ANN models. To achieve that, we will later use the [one-hot encoding scheme](https://machinelearningmastery.com/why-one-hot-encode-data-in-machine-learning/), which will associate each input (and output) unit of your network to a unique pitch or duration. In your network, these units will then be sequentially activated in the same order as their corresponding pitch/duration in your dataset. And at each note, the model will be trained to approximate the probability distributions of the upcoming pitch and duration.\n",
    "\n",
    "1. Gather in a list of all possible pitches and durations in your dataset. These two lists will be your \"dictionaries\" translating a pitch/duration to a unique integer between 0 and the number of entries (-1) in the pitch/duration dictionary.\n",
    "2. Translate the pitch/duration sequence of each melody to the integer representation.\n",
    "3. Select randomly two melodies and display them in the note representation and translated to integer. Check that the translation is correct."
   ]
  },
  {
   "cell_type": "markdown",
   "metadata": {},
   "source": [
    "### Solution"
   ]
  },
  {
   "cell_type": "code",
   "execution_count": 13,
   "metadata": {},
   "outputs": [],
   "source": [
    "reduce_union = lambda x, y: x.union(y)\n",
    "\n",
    "def index(a, x):\n",
    "    'Locate the leftmost value exactly equal to x'\n",
    "    i = bisect_left(a, x)\n",
    "    if i != len(a) and a[i] == x:\n",
    "        return i\n",
    "    raise ValueError"
   ]
  },
  {
   "cell_type": "code",
   "execution_count": 14,
   "metadata": {},
   "outputs": [],
   "source": [
    "def translation(ds):\n",
    "    durations = sorted(reduce(reduce_union, [set(ds[x]['T']) for x in ds]))\n",
    "    pitches = sorted(reduce(reduce_union, [set(ds[x]['P']) for x in ds]))\n",
    "    dictionary = {'T': durations, 'P': pitches}\n",
    "\n",
    "    dur2Id = lambda x: index(durations, x)\n",
    "    pit2Id = lambda x: index(pitches, x)\n",
    "    \n",
    "    dataset = {\n",
    "        k: {\n",
    "            'T': list(map(dur2Id, ds[k]['T'])),\n",
    "            'P': list(map(pit2Id, ds[k]['P']))\n",
    "        } for k in ds.keys()\n",
    "    }\n",
    "    return dataset, dictionary"
   ]
  },
  {
   "cell_type": "code",
   "execution_count": 15,
   "metadata": {},
   "outputs": [],
   "source": [
    "translated_ds, dictionary = translation(dataset)"
   ]
  },
  {
   "cell_type": "code",
   "execution_count": 28,
   "metadata": {},
   "outputs": [
    {
     "name": "stdout",
     "output_type": "stream",
     "text": [
      "sessiontune29683\n",
      "MIDI events\n",
      "chorpus/sessiontune29683.mid\n",
      "########################################\n",
      "tick \t pitch \t message \t velocity\n",
      "########################################\n",
      "\n",
      "1 \t 65 \t Note On \t 105\n",
      "240 \t 65 \t Note Off \t 0\n",
      "241 \t 66 \t Note On \t 80\n",
      "480 \t 66 \t Note Off \t 0\n",
      "481 \t 68 \t Note On \t 80\n",
      "720 \t 68 \t Note Off \t 0\n",
      "721 \t 71 \t Note On \t 95\n",
      "960 \t 71 \t Note Off \t 0\n",
      "961 \t 68 \t Note On \t 80\n",
      ". \t . \t . \t \t .\n",
      ". \t . \t . \t \t .\n",
      ". \t . \t . \t \t .\n",
      "68161 \t 61 \t Note On \t 80\n",
      "68400 \t 61 \t Note Off \t 0\n",
      "68401 \t 61 \t Note On \t 95\n",
      "68640 \t 61 \t Note Off \t 0\n",
      "68641 \t 68 \t Note On \t 80\n",
      "68880 \t 68 \t Note Off \t 0\n",
      "68881 \t 66 \t Note On \t 80\n",
      "69120 \t 66 \t Note Off \t 0\n",
      "########################################\n",
      "\n",
      "Note representation\n",
      "{'P': [17, 18, 20, 23, 20, 20, 22, 20, 18, 23, 20, 18, 17, 20, 23, 20, 18, 20, 25, 25, 25, 13, 17, 18, 20, 24, 20, 18, 20, 25, 27, 29, 30, 27, 25, 24, 20, 18, 15, 20, 13, 15, 13, 13, 20, 17, 18, 20, 23, 20, 22, 20, 18, 23, 20, 18, 17, 20, 23, 20, 18, 20, 25, 25, 25, 20, 17, 18, 20, 24, 20, 18, 29, 30, 27, 25, 24, 20, 18, 15, 20, 13, 15, 13, 13, 22, 20, 25, 25, 24, 25, 29, 32, 30, 27, 29, 27, 25, 24, 20, 18, 22, 20, 22, 23, 20, 18, 20, 25, 25, 25, 24, 25, 29, 32, 30, 27, 25, 24, 20, 18, 15, 20, 13, 15, 13, 13, 22, 20, 25, 25, 24, 25, 29, 32, 30, 27, 29, 27, 25, 24, 20, 18, 22, 20, 22, 23, 20, 18, 20, 25, 25, 25, 24, 25, 29, 32, 30, 27, 25, 24, 20, 18, 15, 20, 13, 15, 13, 13, 24, 25, 27, 25, 24, 20, 20, 29, 30, 27, 25, 24, 20, 22, 23, 22, 20, 25, 27, 25, 24, 20, 20, 29, 30, 27, 25, 24, 20, 18, 15, 20, 13, 15, 13, 13, 24, 25, 27, 25, 24, 20, 20, 29, 30, 27, 25, 24, 20, 22, 23, 22, 20, 25, 27, 25, 24, 20, 20, 29, 30, 27, 25, 24, 20, 18, 15, 20, 13, 15, 13, 13, 20, 18], 'T': [23, 23, 23, 23, 23, 23, 23, 23, 23, 23, 23, 23, 35, 23, 23, 23, 23, 23, 23, 23, 35, 23, 23, 23, 23, 23, 23, 23, 23, 23, 23, 23, 23, 23, 23, 23, 23, 23, 23, 23, 23, 23, 23, 35, 23, 23, 23, 23, 35, 23, 23, 23, 23, 23, 23, 23, 35, 23, 23, 23, 23, 23, 23, 23, 35, 23, 23, 23, 23, 23, 23, 23, 42, 35, 23, 23, 23, 23, 23, 23, 23, 23, 23, 23, 35, 23, 35, 23, 23, 23, 23, 23, 23, 23, 23, 23, 23, 23, 23, 23, 35, 23, 35, 23, 23, 23, 23, 23, 23, 23, 23, 23, 23, 23, 23, 23, 42, 23, 23, 23, 23, 23, 23, 23, 23, 23, 35, 23, 35, 23, 23, 23, 23, 23, 23, 23, 23, 23, 23, 23, 23, 23, 35, 23, 35, 23, 23, 23, 23, 23, 23, 23, 23, 23, 23, 23, 23, 23, 42, 23, 23, 23, 23, 23, 23, 23, 23, 23, 35, 23, 23, 23, 23, 23, 23, 23, 42, 35, 23, 42, 23, 23, 23, 35, 23, 42, 23, 23, 23, 23, 23, 23, 42, 35, 23, 23, 23, 23, 23, 23, 23, 23, 23, 23, 35, 23, 23, 23, 23, 23, 23, 23, 42, 35, 23, 42, 23, 23, 23, 35, 23, 42, 23, 23, 23, 23, 23, 23, 42, 35, 23, 23, 23, 23, 23, 23, 23, 23, 23, 23, 23, 23, 23]}\n",
      "vs\n",
      "\n",
      "{'P': [20, 21, 23, 26, 23, 23, 25, 23, 21, 26, 23, 21, 20, 23, 26, 23, 21, 23, 28, 28, 28, 16, 20, 21, 23, 27, 23, 21, 23, 28, 30, 32, 33, 30, 28, 27, 23, 21, 18, 23, 16, 18, 16, 16, 23, 20, 21, 23, 26, 23, 25, 23, 21, 26, 23, 21, 20, 23, 26, 23, 21, 23, 28, 28, 28, 23, 20, 21, 23, 27, 23, 21, 32, 33, 30, 28, 27, 23, 21, 18, 23, 16, 18, 16, 16, 25, 23, 28, 28, 27, 28, 32, 35, 33, 30, 32, 30, 28, 27, 23, 21, 25, 23, 25, 26, 23, 21, 23, 28, 28, 28, 27, 28, 32, 35, 33, 30, 28, 27, 23, 21, 18, 23, 16, 18, 16, 16, 25, 23, 28, 28, 27, 28, 32, 35, 33, 30, 32, 30, 28, 27, 23, 21, 25, 23, 25, 26, 23, 21, 23, 28, 28, 28, 27, 28, 32, 35, 33, 30, 28, 27, 23, 21, 18, 23, 16, 18, 16, 16, 27, 28, 30, 28, 27, 23, 23, 32, 33, 30, 28, 27, 23, 25, 26, 25, 23, 28, 30, 28, 27, 23, 23, 32, 33, 30, 28, 27, 23, 21, 18, 23, 16, 18, 16, 16, 27, 28, 30, 28, 27, 23, 23, 32, 33, 30, 28, 27, 23, 25, 26, 25, 23, 28, 30, 28, 27, 23, 23, 32, 33, 30, 28, 27, 23, 21, 18, 23, 16, 18, 16, 16, 23, 21], 'T': [10, 10, 10, 10, 10, 10, 10, 10, 10, 10, 10, 10, 14, 10, 10, 10, 10, 10, 10, 10, 14, 10, 10, 10, 10, 10, 10, 10, 10, 10, 10, 10, 10, 10, 10, 10, 10, 10, 10, 10, 10, 10, 10, 14, 10, 10, 10, 10, 14, 10, 10, 10, 10, 10, 10, 10, 14, 10, 10, 10, 10, 10, 10, 10, 14, 10, 10, 10, 10, 10, 10, 10, 17, 14, 10, 10, 10, 10, 10, 10, 10, 10, 10, 10, 14, 10, 14, 10, 10, 10, 10, 10, 10, 10, 10, 10, 10, 10, 10, 10, 14, 10, 14, 10, 10, 10, 10, 10, 10, 10, 10, 10, 10, 10, 10, 10, 17, 10, 10, 10, 10, 10, 10, 10, 10, 10, 14, 10, 14, 10, 10, 10, 10, 10, 10, 10, 10, 10, 10, 10, 10, 10, 14, 10, 14, 10, 10, 10, 10, 10, 10, 10, 10, 10, 10, 10, 10, 10, 17, 10, 10, 10, 10, 10, 10, 10, 10, 10, 14, 10, 10, 10, 10, 10, 10, 10, 17, 14, 10, 17, 10, 10, 10, 14, 10, 17, 10, 10, 10, 10, 10, 10, 17, 14, 10, 10, 10, 10, 10, 10, 10, 10, 10, 10, 14, 10, 10, 10, 10, 10, 10, 10, 17, 14, 10, 17, 10, 10, 10, 14, 10, 17, 10, 10, 10, 10, 10, 10, 17, 14, 10, 10, 10, 10, 10, 10, 10, 10, 10, 10, 10, 10, 10]}\n",
      "\n",
      "\n",
      "sessiontune15682\n",
      "MIDI events\n",
      "chorpus/sessiontune15682.mid\n",
      "########################################\n",
      "tick \t pitch \t message \t velocity\n",
      "########################################\n",
      "\n",
      "1 \t 62 \t Note On \t 105\n",
      "480 \t 62 \t Note Off \t 0\n",
      "481 \t 65 \t Note On \t 105\n",
      "960 \t 65 \t Note Off \t 0\n",
      "961 \t 69 \t Note On \t 80\n",
      "1440 \t 69 \t Note Off \t 0\n",
      "1441 \t 65 \t Note On \t 80\n",
      "1920 \t 65 \t Note Off \t 0\n",
      "1921 \t 64 \t Note On \t 105\n",
      ". \t . \t . \t \t .\n",
      ". \t . \t . \t \t .\n",
      ". \t . \t . \t \t .\n",
      "14881 \t 57 \t Note On \t 105\n",
      "15360 \t 57 \t Note Off \t 0\n",
      "15361 \t 62 \t Note On \t 80\n",
      "15840 \t 62 \t Note Off \t 0\n",
      "15841 \t 60 \t Note On \t 80\n",
      "16320 \t 60 \t Note Off \t 0\n",
      "16321 \t 62 \t Note On \t 105\n",
      "17280 \t 62 \t Note Off \t 0\n",
      "########################################\n",
      "\n",
      "Note representation\n",
      "{'P': [14, 17, 21, 17, 16, 19, 16, 14, 12, 14, 14, 16, 17, 19, 21, 21, 23, 24, 26, 24, 23, 24, 23, 21, 19, 21, 16, 14, 12, 14, 21, 19, 17, 16, 14, 9, 14, 12, 14], 'T': [35, 35, 35, 35, 35, 35, 23, 23, 35, 35, 23, 23, 35, 35, 35, 35, 35, 35, 47, 23, 23, 35, 35, 35, 35, 35, 23, 23, 35, 35, 23, 23, 35, 35, 35, 35, 35, 35, 47]}\n",
      "vs\n",
      "\n",
      "{'P': [25, 28, 32, 28, 27, 30, 27, 25, 23, 25, 25, 27, 28, 30, 32, 32, 34, 35, 37, 35, 34, 35, 34, 32, 30, 32, 27, 25, 23, 25, 32, 30, 28, 27, 25, 20, 25, 23, 25], 'T': [14, 14, 14, 14, 14, 14, 10, 10, 14, 14, 10, 10, 14, 14, 14, 14, 14, 14, 20, 10, 10, 14, 14, 14, 14, 14, 10, 10, 14, 14, 10, 10, 14, 14, 14, 14, 14, 14, 20]}\n",
      "\n",
      "\n"
     ]
    }
   ],
   "source": [
    "for label in np.random.choice(list(dataset.keys()), 2):\n",
    "    print(label)\n",
    "    print(\"MIDI events\")\n",
    "    display(datapath+label+\".mid\")\n",
    "    print(\"Note representation\")\n",
    "    print(translated_ds[label])\n",
    "    print(\"vs\\n\")\n",
    "    print(dataset[label])\n",
    "    print('\\n')"
   ]
  },
  {
   "cell_type": "markdown",
   "metadata": {},
   "source": [
    "## Exercise 3: Data reprocessing\n",
    "### Description\n",
    "\n",
    "Before moving to the implementation of your RNN generative model of note transition, you will perform data exploration and modification. This step will allow your model to get the most out of your original data as well as ensuring some features such as transposition invariance. \n",
    "\n",
    "To further improve your model, you might want to reconsider your original data. Many different approaches can be undertaken. Here you are asked to implement the a rare event suppression method and transposition invariance.\n",
    "\n",
    "**Rare event suppression** If a unit in your network is associated to a duration that happens very rarely in your data, a possible simplification consists in removing the melodies conaining these rare events from your dataset. \n",
    "1. Plot and comment the histogram of durations in your entire dataset. Use the labels from the original duration values (rather than the integer representation). \n",
    "2. Based on your observations, remove from your dataset melodies containing very rare durations. Adjust the rejection threshold such that at most 5% of the melodies are dicarded with this step. \n",
    "3. Recompute the duration dictionary based on your filtered dataset and plot the new histogram of durations. \n",
    "\n",
    "**Transposition invariance** A melody is perceived similarly by the human ear if it's shifted up or down by a constant offset (see [transposition](https://en.wikipedia.org/wiki/Transposition_(music))). Here, you will force your model to be transposition invariant. For this you can choose to use one of two orthogonal methods. The first consists in transposing every melody into a common tonality (C Major/A minor). On the other hand, the second consists in transposing each melody in all possible keys. The second method will increase your dataset size by a factor bigger than 11! As the training time is directly related with the dataset size, to save computing time, we recomand that you implement the first option.\n",
    "\n",
    "***Pitch normalization*** \n",
    "1. Use the provided function to create a new dataset where all melodies are transposed to C Major/A minor. \n",
    "2. Plot the histograms of the pitches before and after transposition.\n",
    "\n",
    "Finally, you shoud recompute the tokenization step for your brand new filtered and normalized dataset."
   ]
  },
  {
   "cell_type": "code",
   "execution_count": 17,
   "metadata": {},
   "outputs": [],
   "source": [
    "merged_durations = reduce(lambda x, y: x + y, [dataset[x]['T'] for x in dataset])\n"
   ]
  },
  {
   "cell_type": "code",
   "execution_count": 18,
   "metadata": {},
   "outputs": [
    {
     "name": "stdout",
     "output_type": "stream",
     "text": [
      "Deleted 2.3800000000000003% of elements\n"
     ]
    }
   ],
   "source": [
    "counts = Counter(x for x in merged_durations)\n",
    "counts = Counter(dict(filter(lambda x: x[1] < 50, counts.items())))\n",
    "\n",
    "cleaned_ds = {k: v for k, v in dataset.items() if len([i for i in counts.keys() if i in v['T']]) == 0}\n",
    "print(\"Deleted {}% of elements\".format(round((len(dataset) - len(cleaned_ds))/len(dataset),4) * 100))"
   ]
  },
  {
   "cell_type": "code",
   "execution_count": 30,
   "metadata": {},
   "outputs": [
    {
     "data": {
      "image/png": "[encoded data removed]",
      "text/plain": [
       "<Figure size 432x288 with 1 Axes>"
      ]
     },
     "metadata": {
      "image/png": {
       "height": 250,
       "width": 384
      }
     },
     "output_type": "display_data"
    }
   ],
   "source": [
    "fig_durations = plt.figure()\n",
    "plt.hist(merged_durations, bins=40, log=True, color='g', label='Initial durations')\n",
    "plt.hist(reduce(lambda x, y: x + y, [cleaned_ds[x]['T'] for x in cleaned_ds]), \n",
    "         bins=40, log=True, color='r', alpha=0.6, label='Reduced space of durations')\n",
    "plt.legend()\n",
    "plt.show()"
   ]
  },
  {
   "cell_type": "code",
   "execution_count": 21,
   "metadata": {},
   "outputs": [
    {
     "name": "stdout",
     "output_type": "stream",
     "text": [
      "sessiontune29934\n",
      "MIDI events\n",
      "chorpus/sessiontune29934.mid\n",
      "########################################\n",
      "tick \t pitch \t message \t velocity\n",
      "########################################\n",
      "\n",
      "1 \t 56 \t Note On \t 105\n",
      "720 \t 56 \t Note Off \t 0\n",
      "721 \t 58 \t Note On \t 80\n",
      "960 \t 58 \t Note Off \t 0\n",
      "961 \t 61 \t Note On \t 95\n",
      "1680 \t 61 \t Note Off \t 0\n",
      "1681 \t 63 \t Note On \t 80\n",
      "1920 \t 63 \t Note Off \t 0\n",
      "1921 \t 65 \t Note On \t 105\n",
      ". \t . \t . \t \t .\n",
      ". \t . \t . \t \t .\n",
      ". \t . \t . \t \t .\n",
      "60001 \t 61 \t Note On \t 95\n",
      "60240 \t 61 \t Note Off \t 0\n",
      "60241 \t 63 \t Note On \t 80\n",
      "60480 \t 63 \t Note Off \t 0\n",
      "60481 \t 61 \t Note On \t 80\n",
      "60720 \t 61 \t Note Off \t 0\n",
      "60721 \t 58 \t Note On \t 80\n",
      "60960 \t 58 \t Note Off \t 0\n",
      "########################################\n",
      "\n",
      "Note representation\n",
      "{'P': [56, 58, 61, 63, 65, 61, 65, 68, 66, 65, 63, 61, 60, 61, 60, 58, 60, 56, 58, 60, 61, 63, 60, 68, 60, 58, 61, 58, 56, 58, 61, 63, 65, 61, 65, 68, 70, 72, 73, 70, 68, 66, 65, 63, 61, 60, 61, 63, 65, 61, 61, 60, 61, 63, 61, 58, 56, 58, 61, 63, 65, 61, 65, 68, 66, 65, 63, 61, 60, 61, 60, 58, 60, 56, 58, 60, 61, 63, 60, 68, 60, 58, 61, 58, 56, 58, 61, 63, 65, 61, 65, 68, 70, 72, 73, 70, 68, 66, 65, 63, 61, 60, 61, 63, 65, 61, 61, 60, 61, 63, 65, 68, 73, 73, 72, 73, 77, 75, 73, 72, 72, 70, 72, 75, 73, 72, 70, 68, 70, 72, 73, 72, 70, 68, 65, 70, 70, 68, 70, 72, 73, 70, 68, 65, 61, 65, 68, 65, 68, 70, 68, 70, 72, 73, 72, 70, 68, 66, 65, 63, 61, 60, 61, 63, 65, 61, 61, 60, 61, 63, 65, 68, 73, 73, 72, 73, 77, 75, 73, 72, 72, 70, 72, 75, 73, 72, 70, 68, 70, 72, 73, 72, 70, 68, 65, 70, 70, 68, 70, 72, 73, 70, 68, 65, 61, 65, 68, 65, 68, 70, 68, 70, 72, 73, 72, 70, 68, 66, 65, 63, 61, 60, 61, 63, 65, 61, 61, 60, 61, 63, 61, 58], 'T': [720, 240, 720, 240, 240, 240, 240, 240, 240, 240, 240, 240, 160, 160, 160, 240, 240, 240, 240, 240, 240, 240, 240, 240, 240, 480, 240, 240, 720, 240, 480, 240, 240, 240, 240, 240, 240, 240, 240, 240, 240, 240, 240, 240, 240, 240, 240, 240, 240, 240, 240, 240, 240, 240, 240, 240, 720, 240, 720, 240, 240, 240, 240, 240, 240, 240, 240, 240, 160, 160, 160, 240, 240, 240, 240, 240, 240, 240, 240, 240, 240, 480, 240, 240, 720, 240, 480, 240, 240, 240, 240, 240, 240, 240, 240, 240, 240, 240, 240, 240, 240, 240, 240, 240, 240, 240, 240, 240, 240, 240, 240, 240, 480, 240, 240, 240, 240, 240, 240, 480, 240, 240, 240, 240, 240, 240, 240, 240, 240, 240, 240, 240, 240, 240, 240, 240, 240, 240, 240, 240, 240, 240, 240, 240, 240, 240, 480, 240, 240, 240, 240, 240, 240, 480, 240, 240, 240, 240, 240, 240, 240, 240, 240, 240, 240, 240, 240, 240, 240, 240, 240, 240, 480, 240, 240, 240, 240, 240, 240, 480, 240, 240, 240, 240, 240, 240, 240, 240, 240, 240, 240, 240, 240, 240, 240, 240, 240, 240, 240, 240, 240, 240, 240, 240, 240, 240, 480, 240, 240, 240, 240, 240, 240, 480, 240, 240, 240, 240, 240, 240, 240, 240, 240, 240, 240, 240, 240, 240, 240, 240, 240, 240]}\n",
      "\n",
      "\n",
      "sessiontune17318\n",
      "MIDI events\n",
      "chorpus/sessiontune17318.mid\n",
      "########################################\n",
      "tick \t pitch \t message \t velocity\n",
      "########################################\n",
      "\n",
      "1 \t 64 \t Note On \t 105\n",
      "60 \t 64 \t Note Off \t 0\n",
      "61 \t 65 \t Note On \t 80\n",
      "120 \t 65 \t Note Off \t 0\n",
      "121 \t 67 \t Note On \t 105\n",
      "240 \t 67 \t Note Off \t 0\n",
      "241 \t 69 \t Note On \t 80\n",
      "300 \t 69 \t Note Off \t 0\n",
      "301 \t 67 \t Note On \t 80\n",
      ". \t . \t . \t \t .\n",
      ". \t . \t . \t \t .\n",
      ". \t . \t . \t \t .\n",
      "14761 \t 65 \t Note On \t 80\n",
      "14880 \t 65 \t Note Off \t 0\n",
      "14881 \t 62 \t Note On \t 80\n",
      "15000 \t 62 \t Note Off \t 0\n",
      "15001 \t 60 \t Note On \t 105\n",
      "15240 \t 60 \t Note Off \t 0\n",
      "15241 \t 60 \t Note On \t 80\n",
      "15360 \t 60 \t Note Off \t 0\n",
      "########################################\n",
      "\n",
      "Note representation\n",
      "{'P': [64, 65, 67, 69, 67, 65, 62, 60, 64, 64, 62, 60, 59, 62, 62, 59, 60, 62, 64, 65, 67, 69, 67, 65, 64, 62, 60, 64, 64, 62, 60, 59, 62, 65, 62, 60, 60, 64, 65, 67, 69, 67, 65, 62, 60, 64, 64, 62, 60, 59, 62, 62, 59, 60, 62, 64, 65, 67, 69, 67, 65, 64, 62, 60, 64, 64, 62, 60, 59, 62, 65, 62, 60, 60, 62, 60, 59, 60, 62, 64, 65, 67, 65, 64, 62, 64, 65, 64, 64, 65, 64, 62, 60, 65, 64, 62, 60, 59, 60, 62, 64, 65, 67, 65, 64, 62, 64, 67, 65, 62, 60, 60, 62, 60, 59, 60, 62, 64, 65, 67, 65, 64, 62, 64, 65, 64, 64, 65, 64, 62, 60, 65, 64, 62, 60, 59, 60, 62, 64, 65, 67, 65, 64, 62, 64, 67, 65, 62, 60, 60], 'T': [60, 60, 120, 60, 60, 120, 120, 120, 120, 120, 60, 60, 120, 120, 120, 120, 120, 120, 120, 120, 120, 60, 60, 60, 60, 120, 120, 120, 120, 60, 60, 120, 120, 120, 120, 240, 120, 60, 60, 120, 60, 60, 120, 120, 120, 120, 120, 60, 60, 120, 120, 120, 120, 120, 120, 120, 120, 120, 60, 60, 60, 60, 120, 120, 120, 120, 60, 60, 120, 120, 120, 120, 240, 120, 60, 60, 120, 120, 120, 120, 120, 60, 60, 120, 120, 120, 60, 60, 120, 60, 60, 120, 120, 60, 60, 60, 60, 160, 80, 120, 120, 120, 60, 60, 120, 120, 120, 120, 120, 120, 240, 120, 60, 60, 120, 120, 120, 120, 120, 60, 60, 120, 120, 120, 60, 60, 120, 60, 60, 120, 120, 60, 60, 60, 60, 160, 80, 120, 120, 120, 60, 60, 120, 120, 120, 120, 120, 120, 240, 120]}\n",
      "\n",
      "\n"
     ]
    }
   ],
   "source": [
    "for label in np.random.choice(list(cleaned_ds.keys()), 2):\n",
    "    print(label)\n",
    "    print(\"MIDI events\")\n",
    "    display(datapath+label+\".mid\")\n",
    "    print(\"Note representation\")\n",
    "    print(dataset[label])\n",
    "    print('\\n')"
   ]
  },
  {
   "cell_type": "code",
   "execution_count": 22,
   "metadata": {
    "scrolled": true
   },
   "outputs": [],
   "source": [
    "def transposeDataset(dataset):\n",
    "    transposed_dataset = {}\n",
    "\n",
    "    for label in log_progress(list(dataset.keys()), every=1):\n",
    "        transposed_dataset[label] = {}\n",
    "        score = music21.converter.parse(datapath+label+\".mid\")\n",
    "        key = score.analyze('key')\n",
    "        if key.mode == \"major\":\n",
    "            i = music21.interval.Interval(key.tonic, music21.pitch.Pitch('C'))\n",
    "        elif key.mode == \"minor\":\n",
    "            i = music21.interval.Interval(key.tonic, music21.pitch.Pitch('A'))\n",
    "        i = i.semitones\n",
    "        transposed_dataset[label]['P'] = [p+i for p in dataset[label]['P']]\n",
    "        transposed_dataset[label]['T'] = dataset[label]['T']\n",
    "        \n",
    "    return transposed_dataset"
   ]
  },
  {
   "cell_type": "code",
   "execution_count": 23,
   "metadata": {},
   "outputs": [
    {
     "data": {
      "application/vnd.jupyter.widget-view+json": {
       "model_id": "6bc8febb138e4cc39392127e94755e5f",
       "version_major": 2,
       "version_minor": 0
      },
      "text/plain": [
       "VBox(children=(HTML(value=''), IntProgress(value=0, max=4519)))"
      ]
     },
     "metadata": {},
     "output_type": "display_data"
    }
   ],
   "source": [
    "transposed_dataset = transposeDataset(cleaned_ds)"
   ]
  },
  {
   "cell_type": "code",
   "execution_count": 24,
   "metadata": {},
   "outputs": [],
   "source": [
    "dataset, dictionary = translation(transposed_dataset)"
   ]
  },
  {
   "cell_type": "code",
   "execution_count": 25,
   "metadata": {},
   "outputs": [],
   "source": [
    "pitches = reduce(lambda x, y: x + y, [cleaned_ds[x]['P'] for x in cleaned_ds])\n",
    "transposed_pitches = reduce(lambda x, y: x + y, [dataset[x]['P'] for x in dataset])"
   ]
  },
  {
   "cell_type": "markdown",
   "metadata": {},
   "source": [
    "** Reduction of Durations space**"
   ]
  },
  {
   "cell_type": "code",
   "execution_count": 37,
   "metadata": {},
   "outputs": [
    {
     "name": "stdout",
     "output_type": "stream",
     "text": [
      "Initial dimension of space of possible durations:  71\n",
      "Dimension of space of possible durations after rare event supression:  26\n",
      "Durations reduced by 45 elements\n",
      "Durations reduced by 63.38%\n"
     ]
    }
   ],
   "source": [
    "print('Initial dimension of space of possible durations: ', len(set(merged_durations)))\n",
    "print('Dimension of space of possible durations after rare event supression: ', len(dictionary['T']))\n",
    "print('Durations reduced by {} elements'.format(len(set(merged_durations)) - len(dictionary['T'])))\n",
    "print('Durations reduced by {}%'.format(round((len(set(merged_durations)) - len(dictionary['T']))*100/len(set(merged_durations)),2)))"
   ]
  },
  {
   "cell_type": "code",
   "execution_count": 32,
   "metadata": {},
   "outputs": [
    {
     "data": {
      "image/png": "[encoded data removed]",
      "text/plain": [
       "<Figure size 432x288 with 1 Axes>"
      ]
     },
     "execution_count": 32,
     "metadata": {
      "image/png": {
       "height": 250,
       "width": 384
      }
     },
     "output_type": "execute_result"
    }
   ],
   "source": [
    "fig_durations"
   ]
  },
  {
   "cell_type": "markdown",
   "metadata": {},
   "source": [
    "** Transposition of Pitches**"
   ]
  },
  {
   "cell_type": "code",
   "execution_count": 43,
   "metadata": {},
   "outputs": [
    {
     "data": {
      "image/png": "[encoded data removed]",
      "text/plain": [
       "<Figure size 432x288 with 1 Axes>"
      ]
     },
     "metadata": {
      "image/png": {
       "height": 250,
       "width": 396
      }
     },
     "output_type": "display_data"
    }
   ],
   "source": [
    "fig_transposed = plt.figure()\n",
    "plt.hist(pitches, bins=50, color='r', label='Original Pitches')\n",
    "plt.hist(transposed_pitches, bins=50, color='g', alpha=0.6, label='Transposed Pitches')\n",
    "plt.legend()\n",
    "plt.show()"
   ]
  },
  {
   "cell_type": "markdown",
   "metadata": {},
   "source": [
    "**Question**: How much did you reduce the space of possible durations with your rare event suppression procedure? What is the impact in term of training time?\n",
    "    \n",
    "**Answer**: The space of possible durations has been reduced from 71 dimensions to 26. It means, a **63% reduction of the space dimension**. This reduction is proportionally translated to the training time.  \n",
    "\n",
    "**Question**: Explain why and how both transposition to a single tonality and to all possible tonalities can yield transposition invariance in your model. \n",
    "\n",
    "**Answer**:\n",
    "\n",
    "**Question**: In terms of number of dimensions, what would have been the impact of keeping the joint representation of a note duration and pitch (vs separating the two features)? \n",
    "\n",
    "**Answer**: \n",
    "\n",
    "**Question**: How would the distribution of notes in the joint representation differ from the distributions in the pitch and duration only representations (as shown by your histograms above)?\n",
    "\n",
    "**Answer**: "
   ]
  },
  {
   "cell_type": "markdown",
   "metadata": {},
   "source": [
    "## Exercise 4: One-hot and zero-padding\n",
    "### Description\n",
    "\n",
    "The last few steps to be able to feed (note by note) your music scores to a RNN model are\n",
    "1. Transform the sequence of integers into a sequence of vectors in the one-hot encoding scheme.\n",
    "2. Homegenize the length of each sequence\n",
    "\n",
    "**One-hot encode** You can implement your own integer to one-hot code. For this use the numpy library and the suitable datatype. Alternatively, Keras provides a [built in one-hot encoding scheme](https://keras.io/utils/#to_categorical). After this step, for each melody, you should have two similar length matrices with one representing the sequence of note pitches and the other the sequence of note durations.\n",
    "1. Code the integer representation into matrices of one-hot vectors\n",
    "\n",
    "**Zero-padding** Most deep learning libraries, including Keras, require that you specify the shape of the input data. As such, you cannot have variable length inputs per-se. The trick to handle them is [zero-padding](https://keras.io/preprocessing/sequence/#pad_sequences). Provided with the [Masking Layer](https://keras.io/layers/core/#masking) Keras will then ignore time steps where all inputs are 0.\n",
    "1. Extend the end of each melody matrices with vectors containing only zeros until all melodies have the same size. For simplicity, use the Keras pad_sequences function. There might be some rare very long melodies in your dataset, a possible choice is to set the 'maxlen' argument of pad_sequences to the mean+2std of the melody lengths. This ensure that 95% of your melodies would end before being truncated.\n",
    "2. Check and display the dimension of the resulting tensors. Typically, the tensor representing the sequence of pitches should be of shape [number of melodies x number of notes x number of entries in the pitch dictionary] and the tensor representing the sequence of durations [number of melodies x number of notes x number of entries in the duration dictionary]\n",
    "\n",
    "To check if this step was done correctly use the provided plotMelody function. For two randomly selected melodies, call the plotMelody function before and after one-hot/zero-pad. You should obtain the same plots (or slightly truncated if you randomly selected one belonging to 5% longest).\n",
    "\n",
    "Finally, we strongly suggest that you save your preprocessed data now."
   ]
  },
  {
   "cell_type": "markdown",
   "metadata": {},
   "source": [
    "### Solution"
   ]
  },
  {
   "cell_type": "code",
   "execution_count": 38,
   "metadata": {},
   "outputs": [],
   "source": [
    "one_hot = {\n",
    "    k: {\n",
    "        'P': np_utils.to_categorical(dataset[k]['P'], len(dictionary['P'])),\n",
    "        'T': np_utils.to_categorical(dataset[k]['T'], len(dictionary['T']))\n",
    "    } for k in dataset.keys()\n",
    "}"
   ]
  },
  {
   "cell_type": "code",
   "execution_count": 39,
   "metadata": {},
   "outputs": [],
   "source": [
    "lengths = np.array([x['P'].shape[0] for k, x in one_hot.items()])\n",
    "\n",
    "# max length\n",
    "ml = int(lengths.mean() + 2 * lengths.std())\n",
    "\n",
    "ps = pad_sequences([x['P'] for k, x in one_hot.items()], maxlen=ml, padding='post', truncating='post')\n",
    "ts = pad_sequences([x['T'] for k, x in one_hot.items()], maxlen=ml, padding='post', truncating='post')\n",
    "\n",
    "dataset_old = copy.deepcopy(dataset)\n",
    "\n",
    "dataset = {}\n",
    "for i, label in enumerate(list(one_hot.keys())):\n",
    "    dataset[label] = {}\n",
    "    dataset[label]['P'] = ps[i]\n",
    "    dataset[label]['T'] = ts[i]"
   ]
  },
  {
   "cell_type": "code",
   "execution_count": 40,
   "metadata": {},
   "outputs": [
    {
     "name": "stdout",
     "output_type": "stream",
     "text": [
      "sessiontune28250\n"
     ]
    },
    {
     "data": {
      "image/png": "[encoded data removed]",
      "text/plain": [
       "<Figure size 576x288 with 1 Axes>"
      ]
     },
     "metadata": {
      "image/png": {
       "height": 294,
       "width": 584
      }
     },
     "output_type": "display_data"
    },
    {
     "data": {
      "image/png": "[encoded data removed]",
      "text/plain": [
       "<Figure size 576x288 with 1 Axes>"
      ]
     },
     "metadata": {
      "image/png": {
       "height": 294,
       "width": 584
      }
     },
     "output_type": "display_data"
    },
    {
     "data": {
      "image/png": "[encoded data removed]",
      "text/plain": [
       "<Figure size 576x288 with 1 Axes>"
      ]
     },
     "metadata": {
      "image/png": {
       "height": 294,
       "width": 584
      }
     },
     "output_type": "display_data"
    },
    {
     "data": {
      "image/png": "[encoded data removed]",
      "text/plain": [
       "<Figure size 576x288 with 1 Axes>"
      ]
     },
     "metadata": {
      "image/png": {
       "height": 294,
       "width": 584
      }
     },
     "output_type": "display_data"
    }
   ],
   "source": [
    "for label in np.random.choice(list(dataset.keys()), 1):\n",
    "    print(label)\n",
    "    plotMelody(dataset[label]['P'], dataset[label]['T'], dictionary)\n",
    "    plotMelody(dataset_old[label]['P'], dataset_old[label]['T'], dictionary)"
   ]
  },
  {
   "cell_type": "code",
   "execution_count": 41,
   "metadata": {},
   "outputs": [],
   "source": [
    "# Saving variables to disk\n",
    "save_var(dataset, \"dataset\")\n",
    "save_var(dictionary, \"dictionary\")\n",
    "save_var(ml, \"ml\")"
   ]
  },
  {
   "cell_type": "code",
   "execution_count": 42,
   "metadata": {},
   "outputs": [],
   "source": [
    "# Loading variables from disk\n",
    "dataset = load_var(\"dataset\")\n",
    "dictionary = load_var(\"dictionary\")\n",
    "ml = load_var(\"ml\")"
   ]
  },
  {
   "cell_type": "markdown",
   "metadata": {},
   "source": [
    "## Exercise 5: Building and training a generative model of  note transition with the Keras functional API\n",
    "### Description\n",
    "\n",
    "The Keras Sequential model is very efficient for fast prototyping, however suffers from a lack of design liberty. The Keras Functional API is only slightly more complex but allows for more control on the different parts of your model. You will be using the Functional API for the rest of this project. Please read carefully the [documentation](https://keras.io/getting-started/sequential-model-guide/). \n",
    "\n",
    "Here, you will be constructing your RNN model of note transition. To achieve that, your model should be trained to approximate the probability distribution of the upcoming note (observed as two output softmax layers - one for pitch and one for duration) given the current note (given as input) and the model internal representation of the history of notes (its hidden state). To achieve that, set the Keras RNN layer argument \"return_sequences\" to True when building your model. Doing this will give you an output for each note, rather than a single output at the end of the sequence. During training, the target at each time step is the next note pitch and duration.\n",
    "\n",
    "You are free to use your own architecture but make sure to use at least 128 hidden units, Masking, and dropout to prevent overfitting. Your model should have two output (softmax) layers, one related to the pitch predictions that you should name `YP`, and the other related to the duration predictions `YT`. You should monitor both the loss (categorical_crossentropy) and the accuracy. For your best model, you should reach 40%/75% accuracy on the pitch/duration predictions.\n",
    "\n",
    "1. Train your first model composed of SimpleRNN cells for min 250 epochs and save the model/parameters that lead to the higher accuracy on the validating set. Use a validation split of 0.2. Try  If you correctly named the output layers (`YP` and `YT`) use the provided `plotLearningCurves(History)` function to plot the learning curves by giving the History object returned by the Keras fit function as argument.  \n",
    "2. Train a second model where you replaced the SimpleRNN units with GRUs (LSTM unit equivalent that requires less parameters). Make sure you use the same hyperparameters as before. Plot the learning curves.\n",
    "3. On a single plot, adapt the `plotLearningCurves(History)` function to compare the validation learning curves of the simpleRNN and GRU models. In other words, plot the validation loss vs epoch for pitch/duration for the simpleRNN and GRU models. Do the same for accuracies.\n"
   ]
  },
  {
   "cell_type": "markdown",
   "metadata": {},
   "source": [
    "### Solution"
   ]
  },
  {
   "cell_type": "code",
   "execution_count": 48,
   "metadata": {},
   "outputs": [],
   "source": [
    "def buildModel(dictionaries, batch_length, dropout=0.2, activation='GRU', Hsize=128, improved=False):\n",
    "    X = dict()\n",
    "    H = dict()\n",
    "    M = dict()\n",
    "    Y = dict()\n",
    "    \n",
    "    X['T'] = Input(shape=(batch_length, len(dictionaries['T'])), name=\"XT\")\n",
    "    X['P'] = Input(shape=(batch_length, len(dictionaries['P'])), name=\"XP\")\n",
    "    \n",
    "    M['T'] = Masking(mask_value=0., name=\"MT\")(X['T'])\n",
    "    M['P'] = Masking(mask_value=0., name=\"MP\")(X['P'])\n",
    "    \n",
    "    H['1'] = Concatenate(name=\"MergeX\")([M['T'], M['P']])\n",
    "    \n",
    "    # If flag is true, using a more complex model\n",
    "    if improved:\n",
    "        if activation == 'GRU':\n",
    "            H['2'] = GRU(units=Hsize*2, return_sequences=True, dropout=dropout)(H['1'])\n",
    "            H['3'] = GRU(units=Hsize, return_sequences=True, dropout=dropout)(H['2'])\n",
    "        elif activation == 'LSTM':\n",
    "            pass\n",
    "        elif activation == 'RNN':\n",
    "            H['2'] = SimpleRNN(units=Hsize*2, return_sequences=True, dropout=dropout)(H['1'])\n",
    "            H['3'] = SimpleRNN(units=Hsize, return_sequences=True, dropout=dropout)(H['2'])\n",
    "        Y['T'] = TimeDistributed(Dense(len(dictionaries['T']), activation='softmax'), name='YT')(H['3'])\n",
    "        Y['P'] = TimeDistributed(Dense(len(dictionaries['P']), activation='softmax'), name='YP')(H['3'])\n",
    "        \n",
    "    else:\n",
    "        if activation == 'GRU':\n",
    "            H['2'] = GRU(units=Hsize, return_sequences=True, dropout=dropout)(H['1'])\n",
    "        else:\n",
    "            H['2'] = SimpleRNN(units=Hsize, return_sequences=True, dropout=dropout)(H['1'])\n",
    "        Y['T'] = TimeDistributed(Dense(len(dictionaries['T']), activation='softmax'), name='YT')(H['2'])\n",
    "        Y['P'] = TimeDistributed(Dense(len(dictionaries['P']), activation='softmax'), name='YP')(H['2'])\n",
    "    \n",
    "    model = Model(inputs = [X['T'], X['P']], outputs = [Y['T'], Y['P']])\n",
    "    opt = Adam() \n",
    "    model.compile(\n",
    "        loss='categorical_crossentropy', \n",
    "        optimizer=opt,\n",
    "        metrics=['acc'])\n",
    "    \n",
    "    return model"
   ]
  },
  {
   "cell_type": "code",
   "execution_count": 49,
   "metadata": {},
   "outputs": [
    {
     "name": "stdout",
     "output_type": "stream",
     "text": [
      "__________________________________________________________________________________________________\n",
      "Layer (type)                    Output Shape         Param #     Connected to                     \n",
      "==================================================================================================\n",
      "XT (InputLayer)                 (None, 381, 26)      0                                            \n",
      "__________________________________________________________________________________________________\n",
      "XP (InputLayer)                 (None, 381, 52)      0                                            \n",
      "__________________________________________________________________________________________________\n",
      "MT (Masking)                    (None, 381, 26)      0           XT[0][0]                         \n",
      "__________________________________________________________________________________________________\n",
      "MP (Masking)                    (None, 381, 52)      0           XP[0][0]                         \n",
      "__________________________________________________________________________________________________\n",
      "MergeX (Concatenate)            (None, 381, 78)      0           MT[0][0]                         \n",
      "                                                                 MP[0][0]                         \n",
      "__________________________________________________________________________________________________\n",
      "gru_1 (GRU)                     (None, 381, 128)     79488       MergeX[0][0]                     \n",
      "__________________________________________________________________________________________________\n",
      "YT (TimeDistributed)            (None, 381, 26)      3354        gru_1[0][0]                      \n",
      "__________________________________________________________________________________________________\n",
      "YP (TimeDistributed)            (None, 381, 52)      6708        gru_1[0][0]                      \n",
      "==================================================================================================\n",
      "Total params: 89,550\n",
      "Trainable params: 89,550\n",
      "Non-trainable params: 0\n",
      "__________________________________________________________________________________________________\n"
     ]
    }
   ],
   "source": [
    "GRUmodel = buildModel(dictionary, batch_length=ml-1, activation='GRU')\n",
    "GRUmodel.summary()"
   ]
  },
  {
   "cell_type": "code",
   "execution_count": 50,
   "metadata": {},
   "outputs": [
    {
     "name": "stdout",
     "output_type": "stream",
     "text": [
      "__________________________________________________________________________________________________\n",
      "Layer (type)                    Output Shape         Param #     Connected to                     \n",
      "==================================================================================================\n",
      "XT (InputLayer)                 (None, 381, 26)      0                                            \n",
      "__________________________________________________________________________________________________\n",
      "XP (InputLayer)                 (None, 381, 52)      0                                            \n",
      "__________________________________________________________________________________________________\n",
      "MT (Masking)                    (None, 381, 26)      0           XT[0][0]                         \n",
      "__________________________________________________________________________________________________\n",
      "MP (Masking)                    (None, 381, 52)      0           XP[0][0]                         \n",
      "__________________________________________________________________________________________________\n",
      "MergeX (Concatenate)            (None, 381, 78)      0           MT[0][0]                         \n",
      "                                                                 MP[0][0]                         \n",
      "__________________________________________________________________________________________________\n",
      "simple_rnn_1 (SimpleRNN)        (None, 381, 128)     26496       MergeX[0][0]                     \n",
      "__________________________________________________________________________________________________\n",
      "YT (TimeDistributed)            (None, 381, 26)      3354        simple_rnn_1[0][0]               \n",
      "__________________________________________________________________________________________________\n",
      "YP (TimeDistributed)            (None, 381, 52)      6708        simple_rnn_1[0][0]               \n",
      "==================================================================================================\n",
      "Total params: 36,558\n",
      "Trainable params: 36,558\n",
      "Non-trainable params: 0\n",
      "__________________________________________________________________________________________________\n"
     ]
    }
   ],
   "source": [
    "RNNmodel = buildModel(dictionary, batch_length=ml-1, activation='RNN')\n",
    "RNNmodel.summary()"
   ]
  },
  {
   "cell_type": "code",
   "execution_count": 51,
   "metadata": {},
   "outputs": [],
   "source": [
    "xs = {\n",
    "    'XT': np.asarray([v['T'][:-1] for k, v in dataset.items()]), \n",
    "    'XP': np.asarray([v['P'][:-1] for k, v in dataset.items()])\n",
    "}\n",
    "\n",
    "ys = {\n",
    "    'YT': np.asarray([v['T'][1:] for k, v in dataset.items()]), \n",
    "    'YP': np.asarray([v['P'][1:] for k, v in dataset.items()])\n",
    "}"
   ]
  },
  {
   "cell_type": "code",
   "execution_count": null,
   "metadata": {},
   "outputs": [
    {
     "name": "stdout",
     "output_type": "stream",
     "text": [
      "Train on 3615 samples, validate on 904 samples\n",
      "Epoch 1/250\n",
      "3615/3615 [==============================] - 112s 31ms/step - loss: 6.9648 - YT_loss: 3.0723 - YP_loss: 3.8925 - YT_acc: 0.3488 - YP_acc: 0.0582 - val_loss: 6.4879 - val_YT_loss: 2.6850 - val_YP_loss: 3.8029 - val_YT_acc: 0.6956 - val_YP_acc: 0.0942\n",
      "Epoch 2/250\n",
      "3615/3615 [==============================] - 85s 23ms/step - loss: 5.7634 - YT_loss: 2.1277 - YP_loss: 3.6357 - YT_acc: 0.6884 - YP_acc: 0.0903 - val_loss: 4.8491 - val_YT_loss: 1.5597 - val_YP_loss: 3.2894 - val_YT_acc: 0.6958 - val_YP_acc: 0.0927\n",
      "Epoch 3/250\n",
      "3615/3615 [==============================] - 77s 21ms/step - loss: 4.5351 - YT_loss: 1.4285 - YP_loss: 3.1066 - YT_acc: 0.6889 - YP_acc: 0.0960 - val_loss: 4.0612 - val_YT_loss: 1.1489 - val_YP_loss: 2.9123 - val_YT_acc: 0.6958 - val_YP_acc: 0.1245\n",
      "Epoch 4/250\n",
      "3615/3615 [==============================] - 80s 22ms/step - loss: 4.0467 - YT_loss: 1.1822 - YP_loss: 2.8645 - YT_acc: 0.6890 - YP_acc: 0.1343 - val_loss: 3.9045 - val_YT_loss: 1.1110 - val_YP_loss: 2.7935 - val_YT_acc: 0.6961 - val_YP_acc: 0.1251\n",
      "Epoch 5/250\n",
      "3615/3615 [==============================] - 73s 20ms/step - loss: 3.9075 - YT_loss: 1.1177 - YP_loss: 2.7897 - YT_acc: 0.6898 - YP_acc: 0.1329 - val_loss: 3.8123 - val_YT_loss: 1.0596 - val_YP_loss: 2.7526 - val_YT_acc: 0.6966 - val_YP_acc: 0.1650\n",
      "Epoch 6/250\n",
      "3615/3615 [==============================] - 75s 21ms/step - loss: 3.8245 - YT_loss: 1.0792 - YP_loss: 2.7453 - YT_acc: 0.6903 - YP_acc: 0.1742 - val_loss: 3.7439 - val_YT_loss: 1.0307 - val_YP_loss: 2.7131 - val_YT_acc: 0.6970 - val_YP_acc: 0.1836\n",
      "Epoch 7/250\n",
      "3615/3615 [==============================] - 75s 21ms/step - loss: 3.7539 - YT_loss: 1.0453 - YP_loss: 2.7087 - YT_acc: 0.6915 - YP_acc: 0.1881 - val_loss: 3.6611 - val_YT_loss: 0.9939 - val_YP_loss: 2.6672 - val_YT_acc: 0.6978 - val_YP_acc: 0.1917\n",
      "Epoch 8/250\n",
      "3615/3615 [==============================] - 75s 21ms/step - loss: 3.6649 - YT_loss: 1.0091 - YP_loss: 2.6557 - YT_acc: 0.6986 - YP_acc: 0.1935 - val_loss: 3.5511 - val_YT_loss: 0.9642 - val_YP_loss: 2.5868 - val_YT_acc: 0.7058 - val_YP_acc: 0.2057\n",
      "Epoch 9/250\n",
      "3615/3615 [==============================] - 72s 20ms/step - loss: 3.5461 - YT_loss: 0.9930 - YP_loss: 2.5531 - YT_acc: 0.7154 - YP_acc: 0.1894 - val_loss: 3.4212 - val_YT_loss: 0.9554 - val_YP_loss: 2.4658 - val_YT_acc: 0.7199 - val_YP_acc: 0.1903\n",
      "Epoch 10/250\n",
      "3615/3615 [==============================] - 72s 20ms/step - loss: 3.4372 - YT_loss: 0.9674 - YP_loss: 2.4698 - YT_acc: 0.7278 - YP_acc: 0.2054 - val_loss: 3.3252 - val_YT_loss: 0.9192 - val_YP_loss: 2.4060 - val_YT_acc: 0.7279 - val_YP_acc: 0.2328\n",
      "Epoch 11/250\n",
      "3615/3615 [==============================] - 71s 20ms/step - loss: 3.3467 - YT_loss: 0.9448 - YP_loss: 2.4019 - YT_acc: 0.7349 - YP_acc: 0.2257 - val_loss: 3.2444 - val_YT_loss: 0.9005 - val_YP_loss: 2.3440 - val_YT_acc: 0.7343 - val_YP_acc: 0.2286\n",
      "Epoch 12/250\n",
      "3615/3615 [==============================] - 71s 20ms/step - loss: 3.2646 - YT_loss: 0.9153 - YP_loss: 2.3493 - YT_acc: 0.7414 - YP_acc: 0.2290 - val_loss: 3.1683 - val_YT_loss: 0.8729 - val_YP_loss: 2.2954 - val_YT_acc: 0.7465 - val_YP_acc: 0.2524\n",
      "Epoch 13/250\n",
      "3615/3615 [==============================] - 72s 20ms/step - loss: 3.1955 - YT_loss: 0.8964 - YP_loss: 2.2991 - YT_acc: 0.7435 - YP_acc: 0.2459 - val_loss: 3.0903 - val_YT_loss: 0.8394 - val_YP_loss: 2.2509 - val_YT_acc: 0.7567 - val_YP_acc: 0.2601\n",
      "Epoch 14/250\n",
      "3615/3615 [==============================] - 72s 20ms/step - loss: 3.1270 - YT_loss: 0.8712 - YP_loss: 2.2558 - YT_acc: 0.7480 - YP_acc: 0.2498 - val_loss: 3.0298 - val_YT_loss: 0.8150 - val_YP_loss: 2.2148 - val_YT_acc: 0.7606 - val_YP_acc: 0.2631\n",
      "Epoch 15/250\n",
      "3615/3615 [==============================] - 72s 20ms/step - loss: 3.0813 - YT_loss: 0.8564 - YP_loss: 2.2249 - YT_acc: 0.7513 - YP_acc: 0.2552 - val_loss: 2.9852 - val_YT_loss: 0.8007 - val_YP_loss: 2.1845 - val_YT_acc: 0.7628 - val_YP_acc: 0.2681\n",
      "Epoch 16/250\n",
      "3615/3615 [==============================] - 73s 20ms/step - loss: 3.0351 - YT_loss: 0.8393 - YP_loss: 2.1957 - YT_acc: 0.7548 - YP_acc: 0.2613 - val_loss: 2.9480 - val_YT_loss: 0.7913 - val_YP_loss: 2.1567 - val_YT_acc: 0.7646 - val_YP_acc: 0.2730\n",
      "Epoch 17/250\n",
      "3615/3615 [==============================] - 72s 20ms/step - loss: 3.0079 - YT_loss: 0.8361 - YP_loss: 2.1718 - YT_acc: 0.7553 - YP_acc: 0.2642 - val_loss: 2.9146 - val_YT_loss: 0.7818 - val_YP_loss: 2.1328 - val_YT_acc: 0.7657 - val_YP_acc: 0.2806\n",
      "Epoch 18/250\n",
      "3615/3615 [==============================] - 71s 20ms/step - loss: 2.9760 - YT_loss: 0.8247 - YP_loss: 2.1513 - YT_acc: 0.7586 - YP_acc: 0.2692 - val_loss: 2.8857 - val_YT_loss: 0.7748 - val_YP_loss: 2.1109 - val_YT_acc: 0.7696 - val_YP_acc: 0.2866\n",
      "Epoch 19/250\n",
      "3615/3615 [==============================] - 71s 20ms/step - loss: 2.9481 - YT_loss: 0.8168 - YP_loss: 2.1313 - YT_acc: 0.7611 - YP_acc: 0.2731 - val_loss: 2.8593 - val_YT_loss: 0.7674 - val_YP_loss: 2.0920 - val_YT_acc: 0.7714 - val_YP_acc: 0.2911\n",
      "Epoch 20/250\n",
      "3615/3615 [==============================] - 71s 20ms/step - loss: 2.9262 - YT_loss: 0.8103 - YP_loss: 2.1159 - YT_acc: 0.7622 - YP_acc: 0.2754 - val_loss: 2.8366 - val_YT_loss: 0.7616 - val_YP_loss: 2.0750 - val_YT_acc: 0.7731 - val_YP_acc: 0.2933\n",
      "Epoch 21/250\n",
      "3615/3615 [==============================] - 71s 20ms/step - loss: 2.8994 - YT_loss: 0.7991 - YP_loss: 2.1004 - YT_acc: 0.7673 - YP_acc: 0.2779 - val_loss: 2.8140 - val_YT_loss: 0.7561 - val_YP_loss: 2.0580 - val_YT_acc: 0.7759 - val_YP_acc: 0.2963\n",
      "Epoch 22/250\n",
      "3615/3615 [==============================] - 70s 19ms/step - loss: 2.8826 - YT_loss: 0.7987 - YP_loss: 2.0839 - YT_acc: 0.7660 - YP_acc: 0.2808 - val_loss: 2.7941 - val_YT_loss: 0.7497 - val_YP_loss: 2.0443 - val_YT_acc: 0.7783 - val_YP_acc: 0.2975\n",
      "Epoch 23/250\n",
      "3615/3615 [==============================] - 70s 19ms/step - loss: 2.8637 - YT_loss: 0.7889 - YP_loss: 2.0748 - YT_acc: 0.7688 - YP_acc: 0.2824 - val_loss: 2.7788 - val_YT_loss: 0.7475 - val_YP_loss: 2.0313 - val_YT_acc: 0.7798 - val_YP_acc: 0.2999\n",
      "Epoch 24/250\n",
      "3615/3615 [==============================] - 70s 19ms/step - loss: 2.8475 - YT_loss: 0.7840 - YP_loss: 2.0635 - YT_acc: 0.7697 - YP_acc: 0.2821 - val_loss: 2.7603 - val_YT_loss: 0.7408 - val_YP_loss: 2.0194 - val_YT_acc: 0.7823 - val_YP_acc: 0.3011\n",
      "Epoch 25/250\n",
      "3615/3615 [==============================] - 70s 19ms/step - loss: 2.8337 - YT_loss: 0.7803 - YP_loss: 2.0534 - YT_acc: 0.7710 - YP_acc: 0.2858 - val_loss: 2.7492 - val_YT_loss: 0.7392 - val_YP_loss: 2.0101 - val_YT_acc: 0.7836 - val_YP_acc: 0.3020\n",
      "Epoch 26/250\n",
      "3615/3615 [==============================] - 70s 19ms/step - loss: 2.8181 - YT_loss: 0.7733 - YP_loss: 2.0448 - YT_acc: 0.7742 - YP_acc: 0.2862 - val_loss: 2.7367 - val_YT_loss: 0.7382 - val_YP_loss: 1.9985 - val_YT_acc: 0.7816 - val_YP_acc: 0.3045\n",
      "Epoch 27/250\n",
      "3615/3615 [==============================] - 70s 19ms/step - loss: 2.8042 - YT_loss: 0.7687 - YP_loss: 2.0355 - YT_acc: 0.7742 - YP_acc: 0.2890 - val_loss: 2.7212 - val_YT_loss: 0.7324 - val_YP_loss: 1.9889 - val_YT_acc: 0.7833 - val_YP_acc: 0.3061\n",
      "Epoch 28/250\n",
      "3615/3615 [==============================] - 70s 19ms/step - loss: 2.7929 - YT_loss: 0.7664 - YP_loss: 2.0265 - YT_acc: 0.7741 - YP_acc: 0.2902 - val_loss: 2.7081 - val_YT_loss: 0.7274 - val_YP_loss: 1.9807 - val_YT_acc: 0.7843 - val_YP_acc: 0.3079\n",
      "Epoch 29/250\n",
      "3615/3615 [==============================] - 70s 19ms/step - loss: 2.7738 - YT_loss: 0.7556 - YP_loss: 2.0182 - YT_acc: 0.7758 - YP_acc: 0.2922 - val_loss: 2.6955 - val_YT_loss: 0.7216 - val_YP_loss: 1.9739 - val_YT_acc: 0.7853 - val_YP_acc: 0.3083\n",
      "Epoch 30/250\n",
      "3615/3615 [==============================] - 70s 19ms/step - loss: 2.7692 - YT_loss: 0.7552 - YP_loss: 2.0141 - YT_acc: 0.7742 - YP_acc: 0.2929 - val_loss: 2.6858 - val_YT_loss: 0.7182 - val_YP_loss: 1.9676 - val_YT_acc: 0.7858 - val_YP_acc: 0.3108\n",
      "Epoch 31/250\n",
      "3615/3615 [==============================] - 70s 19ms/step - loss: 2.7593 - YT_loss: 0.7507 - YP_loss: 2.0086 - YT_acc: 0.7762 - YP_acc: 0.2945 - val_loss: 2.6773 - val_YT_loss: 0.7154 - val_YP_loss: 1.9619 - val_YT_acc: 0.7863 - val_YP_acc: 0.3126\n",
      "Epoch 32/250\n"
     ]
    },
    {
     "name": "stdout",
     "output_type": "stream",
     "text": [
      "3615/3615 [==============================] - 70s 19ms/step - loss: 2.7527 - YT_loss: 0.7488 - YP_loss: 2.0039 - YT_acc: 0.7750 - YP_acc: 0.2959 - val_loss: 2.6676 - val_YT_loss: 0.7124 - val_YP_loss: 1.9552 - val_YT_acc: 0.7863 - val_YP_acc: 0.3138\n",
      "Epoch 33/250\n",
      "3615/3615 [==============================] - 71s 20ms/step - loss: 2.7431 - YT_loss: 0.7456 - YP_loss: 1.9975 - YT_acc: 0.7770 - YP_acc: 0.2974 - val_loss: 2.6613 - val_YT_loss: 0.7115 - val_YP_loss: 1.9498 - val_YT_acc: 0.7877 - val_YP_acc: 0.3163\n",
      "Epoch 34/250\n",
      "3615/3615 [==============================] - 70s 19ms/step - loss: 2.7374 - YT_loss: 0.7444 - YP_loss: 1.9930 - YT_acc: 0.7758 - YP_acc: 0.2990 - val_loss: 2.6566 - val_YT_loss: 0.7116 - val_YP_loss: 1.9450 - val_YT_acc: 0.7880 - val_YP_acc: 0.3183\n",
      "Epoch 35/250\n",
      "3615/3615 [==============================] - 70s 19ms/step - loss: 2.7326 - YT_loss: 0.7454 - YP_loss: 1.9872 - YT_acc: 0.7772 - YP_acc: 0.3013 - val_loss: 2.6493 - val_YT_loss: 0.7097 - val_YP_loss: 1.9396 - val_YT_acc: 0.7860 - val_YP_acc: 0.3202\n",
      "Epoch 36/250\n",
      "3615/3615 [==============================] - 70s 19ms/step - loss: 2.7217 - YT_loss: 0.7392 - YP_loss: 1.9825 - YT_acc: 0.7784 - YP_acc: 0.3031 - val_loss: 2.6385 - val_YT_loss: 0.7030 - val_YP_loss: 1.9355 - val_YT_acc: 0.7875 - val_YP_acc: 0.3212\n",
      "Epoch 37/250\n",
      "3615/3615 [==============================] - 70s 19ms/step - loss: 2.7157 - YT_loss: 0.7358 - YP_loss: 1.9799 - YT_acc: 0.7776 - YP_acc: 0.3044 - val_loss: 2.6322 - val_YT_loss: 0.7007 - val_YP_loss: 1.9315 - val_YT_acc: 0.7893 - val_YP_acc: 0.3222\n",
      "Epoch 38/250\n",
      "3615/3615 [==============================] - 70s 19ms/step - loss: 2.7092 - YT_loss: 0.7332 - YP_loss: 1.9760 - YT_acc: 0.7787 - YP_acc: 0.3052 - val_loss: 2.6244 - val_YT_loss: 0.6973 - val_YP_loss: 1.9271 - val_YT_acc: 0.7894 - val_YP_acc: 0.3248\n",
      "Epoch 39/250\n",
      "3615/3615 [==============================] - 70s 19ms/step - loss: 2.7029 - YT_loss: 0.7298 - YP_loss: 1.9731 - YT_acc: 0.7807 - YP_acc: 0.3075 - val_loss: 2.6204 - val_YT_loss: 0.6963 - val_YP_loss: 1.9241 - val_YT_acc: 0.7898 - val_YP_acc: 0.3262\n",
      "Epoch 40/250\n",
      "3615/3615 [==============================] - 70s 19ms/step - loss: 2.6950 - YT_loss: 0.7259 - YP_loss: 1.9691 - YT_acc: 0.7800 - YP_acc: 0.3092 - val_loss: 2.6138 - val_YT_loss: 0.6937 - val_YP_loss: 1.9201 - val_YT_acc: 0.7906 - val_YP_acc: 0.3282\n",
      "Epoch 41/250\n",
      "3615/3615 [==============================] - 70s 19ms/step - loss: 2.6913 - YT_loss: 0.7263 - YP_loss: 1.9650 - YT_acc: 0.7814 - YP_acc: 0.3113 - val_loss: 2.6093 - val_YT_loss: 0.6926 - val_YP_loss: 1.9167 - val_YT_acc: 0.7897 - val_YP_acc: 0.3285\n",
      "Epoch 42/250\n",
      "3615/3615 [==============================] - 71s 20ms/step - loss: 2.6865 - YT_loss: 0.7240 - YP_loss: 1.9626 - YT_acc: 0.7810 - YP_acc: 0.3115 - val_loss: 2.6039 - val_YT_loss: 0.6899 - val_YP_loss: 1.9140 - val_YT_acc: 0.7910 - val_YP_acc: 0.3301\n",
      "Epoch 43/250\n",
      "3615/3615 [==============================] - 70s 19ms/step - loss: 2.6792 - YT_loss: 0.7197 - YP_loss: 1.9595 - YT_acc: 0.7818 - YP_acc: 0.3122 - val_loss: 2.5990 - val_YT_loss: 0.6877 - val_YP_loss: 1.9113 - val_YT_acc: 0.7918 - val_YP_acc: 0.3300\n",
      "Epoch 44/250\n",
      "3615/3615 [==============================] - 71s 20ms/step - loss: 2.6766 - YT_loss: 0.7195 - YP_loss: 1.9571 - YT_acc: 0.7827 - YP_acc: 0.3131 - val_loss: 2.5977 - val_YT_loss: 0.6896 - val_YP_loss: 1.9081 - val_YT_acc: 0.7926 - val_YP_acc: 0.3318\n",
      "Epoch 45/250\n",
      "3615/3615 [==============================] - 71s 20ms/step - loss: 2.6702 - YT_loss: 0.7173 - YP_loss: 1.9528 - YT_acc: 0.7821 - YP_acc: 0.3155 - val_loss: 2.5901 - val_YT_loss: 0.6843 - val_YP_loss: 1.9058 - val_YT_acc: 0.7921 - val_YP_acc: 0.3331\n",
      "Epoch 46/250\n",
      "3615/3615 [==============================] - 72s 20ms/step - loss: 2.6660 - YT_loss: 0.7119 - YP_loss: 1.9541 - YT_acc: 0.7850 - YP_acc: 0.3149 - val_loss: 2.5858 - val_YT_loss: 0.6827 - val_YP_loss: 1.9031 - val_YT_acc: 0.7944 - val_YP_acc: 0.3336\n",
      "Epoch 47/250\n",
      "3615/3615 [==============================] - 71s 20ms/step - loss: 2.6624 - YT_loss: 0.7129 - YP_loss: 1.9495 - YT_acc: 0.7850 - YP_acc: 0.3164 - val_loss: 2.5813 - val_YT_loss: 0.6804 - val_YP_loss: 1.9010 - val_YT_acc: 0.7939 - val_YP_acc: 0.3347\n",
      "Epoch 48/250\n",
      "3615/3615 [==============================] - 70s 19ms/step - loss: 2.6598 - YT_loss: 0.7124 - YP_loss: 1.9475 - YT_acc: 0.7846 - YP_acc: 0.3178 - val_loss: 2.5766 - val_YT_loss: 0.6783 - val_YP_loss: 1.8983 - val_YT_acc: 0.7947 - val_YP_acc: 0.3352\n",
      "Epoch 49/250\n",
      "3615/3615 [==============================] - 70s 19ms/step - loss: 2.6524 - YT_loss: 0.7087 - YP_loss: 1.9437 - YT_acc: 0.7855 - YP_acc: 0.3193 - val_loss: 2.5739 - val_YT_loss: 0.6776 - val_YP_loss: 1.8963 - val_YT_acc: 0.7967 - val_YP_acc: 0.3356\n",
      "Epoch 50/250\n",
      "3615/3615 [==============================] - 71s 20ms/step - loss: 2.6491 - YT_loss: 0.7054 - YP_loss: 1.9437 - YT_acc: 0.7875 - YP_acc: 0.3202 - val_loss: 2.5690 - val_YT_loss: 0.6752 - val_YP_loss: 1.8939 - val_YT_acc: 0.7956 - val_YP_acc: 0.3367\n",
      "Epoch 51/250\n",
      "3615/3615 [==============================] - 71s 20ms/step - loss: 2.6434 - YT_loss: 0.7032 - YP_loss: 1.9402 - YT_acc: 0.7884 - YP_acc: 0.3204 - val_loss: 2.5663 - val_YT_loss: 0.6750 - val_YP_loss: 1.8913 - val_YT_acc: 0.7972 - val_YP_acc: 0.3386\n",
      "Epoch 52/250\n",
      "3615/3615 [==============================] - 71s 20ms/step - loss: 2.6383 - YT_loss: 0.7027 - YP_loss: 1.9356 - YT_acc: 0.7874 - YP_acc: 0.3222 - val_loss: 2.5613 - val_YT_loss: 0.6721 - val_YP_loss: 1.8892 - val_YT_acc: 0.7975 - val_YP_acc: 0.3386\n",
      "Epoch 53/250\n",
      "3615/3615 [==============================] - 71s 20ms/step - loss: 2.6368 - YT_loss: 0.7027 - YP_loss: 1.9341 - YT_acc: 0.7878 - YP_acc: 0.3234 - val_loss: 2.5581 - val_YT_loss: 0.6707 - val_YP_loss: 1.8874 - val_YT_acc: 0.7978 - val_YP_acc: 0.3388\n",
      "Epoch 54/250\n",
      "3615/3615 [==============================] - 71s 20ms/step - loss: 2.6344 - YT_loss: 0.7000 - YP_loss: 1.9344 - YT_acc: 0.7881 - YP_acc: 0.3230 - val_loss: 2.5542 - val_YT_loss: 0.6688 - val_YP_loss: 1.8855 - val_YT_acc: 0.7994 - val_YP_acc: 0.3387\n",
      "Epoch 55/250\n",
      "3615/3615 [==============================] - 72s 20ms/step - loss: 2.6318 - YT_loss: 0.6997 - YP_loss: 1.9321 - YT_acc: 0.7888 - YP_acc: 0.3238 - val_loss: 2.5533 - val_YT_loss: 0.6684 - val_YP_loss: 1.8849 - val_YT_acc: 0.7996 - val_YP_acc: 0.3416\n",
      "Epoch 56/250\n",
      "3615/3615 [==============================] - 71s 20ms/step - loss: 2.6279 - YT_loss: 0.6984 - YP_loss: 1.9295 - YT_acc: 0.7891 - YP_acc: 0.3250 - val_loss: 2.5490 - val_YT_loss: 0.6668 - val_YP_loss: 1.8823 - val_YT_acc: 0.8004 - val_YP_acc: 0.3412\n",
      "Epoch 57/250\n",
      "3615/3615 [==============================] - 71s 20ms/step - loss: 2.6245 - YT_loss: 0.6962 - YP_loss: 1.9282 - YT_acc: 0.7904 - YP_acc: 0.3241 - val_loss: 2.5459 - val_YT_loss: 0.6662 - val_YP_loss: 1.8797 - val_YT_acc: 0.8003 - val_YP_acc: 0.3406\n",
      "Epoch 58/250\n",
      "3615/3615 [==============================] - 75s 21ms/step - loss: 2.6185 - YT_loss: 0.6944 - YP_loss: 1.9241 - YT_acc: 0.7905 - YP_acc: 0.3260 - val_loss: 2.5418 - val_YT_loss: 0.6635 - val_YP_loss: 1.8783 - val_YT_acc: 0.8016 - val_YP_acc: 0.3418\n",
      "Epoch 59/250\n",
      "3615/3615 [==============================] - 73s 20ms/step - loss: 2.6178 - YT_loss: 0.6945 - YP_loss: 1.9233 - YT_acc: 0.7909 - YP_acc: 0.3275 - val_loss: 2.5386 - val_YT_loss: 0.6623 - val_YP_loss: 1.8763 - val_YT_acc: 0.8030 - val_YP_acc: 0.3416\n",
      "Epoch 60/250\n",
      "3615/3615 [==============================] - 73s 20ms/step - loss: 2.6104 - YT_loss: 0.6899 - YP_loss: 1.9205 - YT_acc: 0.7922 - YP_acc: 0.3277 - val_loss: 2.5358 - val_YT_loss: 0.6605 - val_YP_loss: 1.8753 - val_YT_acc: 0.8031 - val_YP_acc: 0.3437\n",
      "Epoch 61/250\n",
      "3615/3615 [==============================] - 73s 20ms/step - loss: 2.6078 - YT_loss: 0.6898 - YP_loss: 1.9180 - YT_acc: 0.7920 - YP_acc: 0.3290 - val_loss: 2.5327 - val_YT_loss: 0.6599 - val_YP_loss: 1.8728 - val_YT_acc: 0.8030 - val_YP_acc: 0.3431\n",
      "Epoch 62/250\n",
      "3615/3615 [==============================] - 73s 20ms/step - loss: 2.6023 - YT_loss: 0.6854 - YP_loss: 1.9169 - YT_acc: 0.7935 - YP_acc: 0.3284 - val_loss: 2.5318 - val_YT_loss: 0.6602 - val_YP_loss: 1.8716 - val_YT_acc: 0.8034 - val_YP_acc: 0.3432\n",
      "Epoch 63/250\n"
     ]
    },
    {
     "name": "stdout",
     "output_type": "stream",
     "text": [
      "3615/3615 [==============================] - 75s 21ms/step - loss: 2.6016 - YT_loss: 0.6849 - YP_loss: 1.9167 - YT_acc: 0.7937 - YP_acc: 0.3298 - val_loss: 2.5270 - val_YT_loss: 0.6573 - val_YP_loss: 1.8697 - val_YT_acc: 0.8047 - val_YP_acc: 0.3435\n",
      "Epoch 64/250\n",
      "3615/3615 [==============================] - 73s 20ms/step - loss: 2.5999 - YT_loss: 0.6858 - YP_loss: 1.9141 - YT_acc: 0.7938 - YP_acc: 0.3308 - val_loss: 2.5242 - val_YT_loss: 0.6567 - val_YP_loss: 1.8675 - val_YT_acc: 0.8044 - val_YP_acc: 0.3454\n",
      "Epoch 65/250\n",
      "3615/3615 [==============================] - 73s 20ms/step - loss: 2.5962 - YT_loss: 0.6844 - YP_loss: 1.9118 - YT_acc: 0.7943 - YP_acc: 0.3308 - val_loss: 2.5221 - val_YT_loss: 0.6559 - val_YP_loss: 1.8662 - val_YT_acc: 0.8060 - val_YP_acc: 0.3460\n",
      "Epoch 66/250\n",
      "3615/3615 [==============================] - 73s 20ms/step - loss: 2.5958 - YT_loss: 0.6844 - YP_loss: 1.9114 - YT_acc: 0.7946 - YP_acc: 0.3314 - val_loss: 2.5189 - val_YT_loss: 0.6541 - val_YP_loss: 1.8647 - val_YT_acc: 0.8056 - val_YP_acc: 0.3460\n",
      "Epoch 67/250\n",
      "3615/3615 [==============================] - 73s 20ms/step - loss: 2.5889 - YT_loss: 0.6808 - YP_loss: 1.9081 - YT_acc: 0.7950 - YP_acc: 0.3325 - val_loss: 2.5153 - val_YT_loss: 0.6524 - val_YP_loss: 1.8629 - val_YT_acc: 0.8064 - val_YP_acc: 0.3474\n",
      "Epoch 68/250\n",
      "3615/3615 [==============================] - 73s 20ms/step - loss: 2.5846 - YT_loss: 0.6791 - YP_loss: 1.9055 - YT_acc: 0.7962 - YP_acc: 0.3336 - val_loss: 2.5121 - val_YT_loss: 0.6507 - val_YP_loss: 1.8614 - val_YT_acc: 0.8068 - val_YP_acc: 0.3462\n",
      "Epoch 69/250\n",
      "3615/3615 [==============================] - 72s 20ms/step - loss: 2.5824 - YT_loss: 0.6794 - YP_loss: 1.9030 - YT_acc: 0.7969 - YP_acc: 0.3346 - val_loss: 2.5098 - val_YT_loss: 0.6500 - val_YP_loss: 1.8598 - val_YT_acc: 0.8073 - val_YP_acc: 0.3478\n",
      "Epoch 70/250\n",
      "3615/3615 [==============================] - 72s 20ms/step - loss: 2.5773 - YT_loss: 0.6746 - YP_loss: 1.9027 - YT_acc: 0.7974 - YP_acc: 0.3343 - val_loss: 2.5067 - val_YT_loss: 0.6488 - val_YP_loss: 1.8580 - val_YT_acc: 0.8079 - val_YP_acc: 0.3478\n",
      "Epoch 71/250\n",
      "3615/3615 [==============================] - 72s 20ms/step - loss: 2.5812 - YT_loss: 0.6782 - YP_loss: 1.9030 - YT_acc: 0.7964 - YP_acc: 0.3335 - val_loss: 2.5067 - val_YT_loss: 0.6501 - val_YP_loss: 1.8567 - val_YT_acc: 0.8076 - val_YP_acc: 0.3488\n",
      "Epoch 72/250\n",
      "3615/3615 [==============================] - 73s 20ms/step - loss: 2.5769 - YT_loss: 0.6764 - YP_loss: 1.9006 - YT_acc: 0.7961 - YP_acc: 0.3347 - val_loss: 2.5027 - val_YT_loss: 0.6474 - val_YP_loss: 1.8553 - val_YT_acc: 0.8082 - val_YP_acc: 0.3487\n",
      "Epoch 73/250\n",
      "3615/3615 [==============================] - 71s 20ms/step - loss: 2.5717 - YT_loss: 0.6724 - YP_loss: 1.8993 - YT_acc: 0.7979 - YP_acc: 0.3358 - val_loss: 2.4986 - val_YT_loss: 0.6455 - val_YP_loss: 1.8531 - val_YT_acc: 0.8088 - val_YP_acc: 0.3498\n",
      "Epoch 74/250\n",
      "3615/3615 [==============================] - 71s 20ms/step - loss: 2.5699 - YT_loss: 0.6733 - YP_loss: 1.8966 - YT_acc: 0.7977 - YP_acc: 0.3372 - val_loss: 2.4972 - val_YT_loss: 0.6451 - val_YP_loss: 1.8521 - val_YT_acc: 0.8093 - val_YP_acc: 0.3492\n",
      "Epoch 75/250\n",
      "3615/3615 [==============================] - 72s 20ms/step - loss: 2.5666 - YT_loss: 0.6712 - YP_loss: 1.8953 - YT_acc: 0.7975 - YP_acc: 0.3363 - val_loss: 2.4954 - val_YT_loss: 0.6451 - val_YP_loss: 1.8503 - val_YT_acc: 0.8086 - val_YP_acc: 0.3513\n",
      "Epoch 76/250\n",
      "3615/3615 [==============================] - 76s 21ms/step - loss: 2.5647 - YT_loss: 0.6720 - YP_loss: 1.8927 - YT_acc: 0.7980 - YP_acc: 0.3376 - val_loss: 2.4906 - val_YT_loss: 0.6418 - val_YP_loss: 1.8488 - val_YT_acc: 0.8100 - val_YP_acc: 0.3496\n",
      "Epoch 77/250\n",
      "3615/3615 [==============================] - 78s 22ms/step - loss: 2.5594 - YT_loss: 0.6680 - YP_loss: 1.8914 - YT_acc: 0.7996 - YP_acc: 0.3384 - val_loss: 2.4884 - val_YT_loss: 0.6421 - val_YP_loss: 1.8463 - val_YT_acc: 0.8100 - val_YP_acc: 0.3521\n",
      "Epoch 78/250\n",
      "3615/3615 [==============================] - 71s 20ms/step - loss: 2.5581 - YT_loss: 0.6686 - YP_loss: 1.8895 - YT_acc: 0.7994 - YP_acc: 0.3383 - val_loss: 2.4847 - val_YT_loss: 0.6399 - val_YP_loss: 1.8448 - val_YT_acc: 0.8104 - val_YP_acc: 0.3528\n",
      "Epoch 79/250\n",
      "3615/3615 [==============================] - 70s 19ms/step - loss: 2.5523 - YT_loss: 0.6640 - YP_loss: 1.8883 - YT_acc: 0.8005 - YP_acc: 0.3394 - val_loss: 2.4818 - val_YT_loss: 0.6386 - val_YP_loss: 1.8432 - val_YT_acc: 0.8104 - val_YP_acc: 0.3535\n",
      "Epoch 80/250\n",
      "3615/3615 [==============================] - 71s 20ms/step - loss: 2.5518 - YT_loss: 0.6666 - YP_loss: 1.8852 - YT_acc: 0.8004 - YP_acc: 0.3413 - val_loss: 2.4806 - val_YT_loss: 0.6377 - val_YP_loss: 1.8428 - val_YT_acc: 0.8108 - val_YP_acc: 0.3534\n",
      "Epoch 81/250\n",
      "3615/3615 [==============================] - 71s 20ms/step - loss: 2.5470 - YT_loss: 0.6639 - YP_loss: 1.8831 - YT_acc: 0.7997 - YP_acc: 0.3417 - val_loss: 2.4765 - val_YT_loss: 0.6362 - val_YP_loss: 1.8403 - val_YT_acc: 0.8114 - val_YP_acc: 0.3540\n",
      "Epoch 82/250\n",
      "3615/3615 [==============================] - 70s 19ms/step - loss: 2.5431 - YT_loss: 0.6611 - YP_loss: 1.8819 - YT_acc: 0.8005 - YP_acc: 0.3413 - val_loss: 2.4740 - val_YT_loss: 0.6354 - val_YP_loss: 1.8386 - val_YT_acc: 0.8116 - val_YP_acc: 0.3555\n",
      "Epoch 83/250\n",
      "3615/3615 [==============================] - 71s 20ms/step - loss: 2.5424 - YT_loss: 0.6627 - YP_loss: 1.8797 - YT_acc: 0.8010 - YP_acc: 0.3431 - val_loss: 2.4743 - val_YT_loss: 0.6368 - val_YP_loss: 1.8375 - val_YT_acc: 0.8109 - val_YP_acc: 0.3552\n",
      "Epoch 84/250\n",
      "3615/3615 [==============================] - 71s 20ms/step - loss: 2.5411 - YT_loss: 0.6617 - YP_loss: 1.8794 - YT_acc: 0.8011 - YP_acc: 0.3427 - val_loss: 2.4690 - val_YT_loss: 0.6335 - val_YP_loss: 1.8355 - val_YT_acc: 0.8116 - val_YP_acc: 0.3555\n",
      "Epoch 85/250\n",
      "3615/3615 [==============================] - 70s 19ms/step - loss: 2.5407 - YT_loss: 0.6628 - YP_loss: 1.8779 - YT_acc: 0.8002 - YP_acc: 0.3422 - val_loss: 2.4690 - val_YT_loss: 0.6336 - val_YP_loss: 1.8354 - val_YT_acc: 0.8117 - val_YP_acc: 0.3562\n",
      "Epoch 86/250\n",
      "3615/3615 [==============================] - 74s 21ms/step - loss: 2.5355 - YT_loss: 0.6610 - YP_loss: 1.8745 - YT_acc: 0.8006 - YP_acc: 0.3439 - val_loss: 2.4650 - val_YT_loss: 0.6321 - val_YP_loss: 1.8329 - val_YT_acc: 0.8120 - val_YP_acc: 0.3570\n",
      "Epoch 87/250\n",
      "3615/3615 [==============================] - 79s 22ms/step - loss: 2.5340 - YT_loss: 0.6609 - YP_loss: 1.8731 - YT_acc: 0.8009 - YP_acc: 0.3448 - val_loss: 2.4635 - val_YT_loss: 0.6319 - val_YP_loss: 1.8316 - val_YT_acc: 0.8119 - val_YP_acc: 0.3559\n",
      "Epoch 88/250\n",
      "3615/3615 [==============================] - 72s 20ms/step - loss: 2.5278 - YT_loss: 0.6577 - YP_loss: 1.8701 - YT_acc: 0.8012 - YP_acc: 0.3448 - val_loss: 2.4592 - val_YT_loss: 0.6304 - val_YP_loss: 1.8288 - val_YT_acc: 0.8123 - val_YP_acc: 0.3581\n",
      "Epoch 89/250\n",
      "3615/3615 [==============================] - 73s 20ms/step - loss: 2.5272 - YT_loss: 0.6577 - YP_loss: 1.8694 - YT_acc: 0.8023 - YP_acc: 0.3447 - val_loss: 2.4577 - val_YT_loss: 0.6290 - val_YP_loss: 1.8287 - val_YT_acc: 0.8121 - val_YP_acc: 0.3584\n",
      "Epoch 90/250\n",
      "3615/3615 [==============================] - 76s 21ms/step - loss: 2.5239 - YT_loss: 0.6552 - YP_loss: 1.8687 - YT_acc: 0.8020 - YP_acc: 0.3466 - val_loss: 2.4548 - val_YT_loss: 0.6284 - val_YP_loss: 1.8264 - val_YT_acc: 0.8124 - val_YP_acc: 0.3588\n",
      "Epoch 91/250\n",
      "3615/3615 [==============================] - 78s 21ms/step - loss: 2.5208 - YT_loss: 0.6546 - YP_loss: 1.8662 - YT_acc: 0.8021 - YP_acc: 0.3464 - val_loss: 2.4533 - val_YT_loss: 0.6270 - val_YP_loss: 1.8264 - val_YT_acc: 0.8127 - val_YP_acc: 0.3592\n",
      "Epoch 92/250\n",
      "3615/3615 [==============================] - 78s 22ms/step - loss: 2.5190 - YT_loss: 0.6524 - YP_loss: 1.8665 - YT_acc: 0.8030 - YP_acc: 0.3463 - val_loss: 2.4498 - val_YT_loss: 0.6265 - val_YP_loss: 1.8232 - val_YT_acc: 0.8129 - val_YP_acc: 0.3608\n",
      "Epoch 93/250\n",
      "3615/3615 [==============================] - 82s 23ms/step - loss: 2.5139 - YT_loss: 0.6515 - YP_loss: 1.8625 - YT_acc: 0.8027 - YP_acc: 0.3478 - val_loss: 2.4489 - val_YT_loss: 0.6262 - val_YP_loss: 1.8227 - val_YT_acc: 0.8129 - val_YP_acc: 0.3611\n",
      "Epoch 94/250\n"
     ]
    },
    {
     "name": "stdout",
     "output_type": "stream",
     "text": [
      "3615/3615 [==============================] - 80s 22ms/step - loss: 2.5149 - YT_loss: 0.6531 - YP_loss: 1.8618 - YT_acc: 0.8026 - YP_acc: 0.3481 - val_loss: 2.4463 - val_YT_loss: 0.6257 - val_YP_loss: 1.8206 - val_YT_acc: 0.8136 - val_YP_acc: 0.3620\n",
      "Epoch 95/250\n",
      "3615/3615 [==============================] - 84s 23ms/step - loss: 2.5118 - YT_loss: 0.6524 - YP_loss: 1.8594 - YT_acc: 0.8031 - YP_acc: 0.3486 - val_loss: 2.4438 - val_YT_loss: 0.6247 - val_YP_loss: 1.8191 - val_YT_acc: 0.8131 - val_YP_acc: 0.3614\n",
      "Epoch 96/250\n",
      "3615/3615 [==============================] - 85s 24ms/step - loss: 2.5116 - YT_loss: 0.6513 - YP_loss: 1.8604 - YT_acc: 0.8027 - YP_acc: 0.3483 - val_loss: 2.4409 - val_YT_loss: 0.6233 - val_YP_loss: 1.8176 - val_YT_acc: 0.8136 - val_YP_acc: 0.3628\n",
      "Epoch 97/250\n",
      "3615/3615 [==============================] - 78s 21ms/step - loss: 2.5068 - YT_loss: 0.6496 - YP_loss: 1.8572 - YT_acc: 0.8041 - YP_acc: 0.3503 - val_loss: 2.4376 - val_YT_loss: 0.6227 - val_YP_loss: 1.8149 - val_YT_acc: 0.8131 - val_YP_acc: 0.3640\n",
      "Epoch 98/250\n",
      "3615/3615 [==============================] - 81s 22ms/step - loss: 2.5022 - YT_loss: 0.6478 - YP_loss: 1.8543 - YT_acc: 0.8037 - YP_acc: 0.3510 - val_loss: 2.4365 - val_YT_loss: 0.6227 - val_YP_loss: 1.8139 - val_YT_acc: 0.8125 - val_YP_acc: 0.3634\n",
      "Epoch 99/250\n",
      "3615/3615 [==============================] - 88s 24ms/step - loss: 2.5013 - YT_loss: 0.6471 - YP_loss: 1.8542 - YT_acc: 0.8042 - YP_acc: 0.3516 - val_loss: 2.4340 - val_YT_loss: 0.6216 - val_YP_loss: 1.8124 - val_YT_acc: 0.8131 - val_YP_acc: 0.3646\n",
      "Epoch 100/250\n",
      "3615/3615 [==============================] - 78s 22ms/step - loss: 2.4981 - YT_loss: 0.6483 - YP_loss: 1.8498 - YT_acc: 0.8032 - YP_acc: 0.3520 - val_loss: 2.4307 - val_YT_loss: 0.6203 - val_YP_loss: 1.8105 - val_YT_acc: 0.8136 - val_YP_acc: 0.3647\n",
      "Epoch 101/250\n",
      "3615/3615 [==============================] - 77s 21ms/step - loss: 2.4960 - YT_loss: 0.6461 - YP_loss: 1.8499 - YT_acc: 0.8045 - YP_acc: 0.3536 - val_loss: 2.4281 - val_YT_loss: 0.6193 - val_YP_loss: 1.8088 - val_YT_acc: 0.8140 - val_YP_acc: 0.3662\n",
      "Epoch 102/250\n",
      "3615/3615 [==============================] - 78s 21ms/step - loss: 2.4919 - YT_loss: 0.6459 - YP_loss: 1.8460 - YT_acc: 0.8034 - YP_acc: 0.3545 - val_loss: 2.4248 - val_YT_loss: 0.6186 - val_YP_loss: 1.8062 - val_YT_acc: 0.8135 - val_YP_acc: 0.3671\n",
      "Epoch 103/250\n",
      "3615/3615 [==============================] - 77s 21ms/step - loss: 2.4930 - YT_loss: 0.6462 - YP_loss: 1.8467 - YT_acc: 0.8039 - YP_acc: 0.3543 - val_loss: 2.4241 - val_YT_loss: 0.6185 - val_YP_loss: 1.8056 - val_YT_acc: 0.8140 - val_YP_acc: 0.3677\n",
      "Epoch 104/250\n",
      "3615/3615 [==============================] - 76s 21ms/step - loss: 2.4920 - YT_loss: 0.6475 - YP_loss: 1.8445 - YT_acc: 0.8039 - YP_acc: 0.3546 - val_loss: 2.4210 - val_YT_loss: 0.6179 - val_YP_loss: 1.8031 - val_YT_acc: 0.8137 - val_YP_acc: 0.3673\n",
      "Epoch 105/250\n",
      "3615/3615 [==============================] - 78s 21ms/step - loss: 2.4851 - YT_loss: 0.6411 - YP_loss: 1.8440 - YT_acc: 0.8054 - YP_acc: 0.3543 - val_loss: 2.4196 - val_YT_loss: 0.6174 - val_YP_loss: 1.8022 - val_YT_acc: 0.8135 - val_YP_acc: 0.3683\n",
      "Epoch 106/250\n",
      "3615/3615 [==============================] - 80s 22ms/step - loss: 2.4833 - YT_loss: 0.6426 - YP_loss: 1.8408 - YT_acc: 0.8040 - YP_acc: 0.3556 - val_loss: 2.4157 - val_YT_loss: 0.6158 - val_YP_loss: 1.8000 - val_YT_acc: 0.8142 - val_YP_acc: 0.3690\n",
      "Epoch 107/250\n",
      "3615/3615 [==============================] - 78s 21ms/step - loss: 2.4821 - YT_loss: 0.6409 - YP_loss: 1.8413 - YT_acc: 0.8049 - YP_acc: 0.3555 - val_loss: 2.4134 - val_YT_loss: 0.6144 - val_YP_loss: 1.7990 - val_YT_acc: 0.8144 - val_YP_acc: 0.3682\n",
      "Epoch 108/250\n",
      "3615/3615 [==============================] - 76s 21ms/step - loss: 2.4777 - YT_loss: 0.6386 - YP_loss: 1.8392 - YT_acc: 0.8046 - YP_acc: 0.3562 - val_loss: 2.4123 - val_YT_loss: 0.6144 - val_YP_loss: 1.7978 - val_YT_acc: 0.8138 - val_YP_acc: 0.3702\n",
      "Epoch 109/250\n",
      "3615/3615 [==============================] - 71s 20ms/step - loss: 2.4768 - YT_loss: 0.6384 - YP_loss: 1.8384 - YT_acc: 0.8061 - YP_acc: 0.3571 - val_loss: 2.4108 - val_YT_loss: 0.6133 - val_YP_loss: 1.7975 - val_YT_acc: 0.8144 - val_YP_acc: 0.3698\n",
      "Epoch 110/250\n",
      "3615/3615 [==============================] - 71s 20ms/step - loss: 2.4730 - YT_loss: 0.6381 - YP_loss: 1.8349 - YT_acc: 0.8051 - YP_acc: 0.3587 - val_loss: 2.4072 - val_YT_loss: 0.6129 - val_YP_loss: 1.7943 - val_YT_acc: 0.8142 - val_YP_acc: 0.3708\n",
      "Epoch 111/250\n",
      "3615/3615 [==============================] - 72s 20ms/step - loss: 2.4729 - YT_loss: 0.6399 - YP_loss: 1.8331 - YT_acc: 0.8045 - YP_acc: 0.3597 - val_loss: 2.4077 - val_YT_loss: 0.6139 - val_YP_loss: 1.7938 - val_YT_acc: 0.8139 - val_YP_acc: 0.3712\n",
      "Epoch 112/250\n",
      "3615/3615 [==============================] - 75s 21ms/step - loss: 2.4672 - YT_loss: 0.6355 - YP_loss: 1.8317 - YT_acc: 0.8063 - YP_acc: 0.3606 - val_loss: 2.4060 - val_YT_loss: 0.6141 - val_YP_loss: 1.7919 - val_YT_acc: 0.8141 - val_YP_acc: 0.3717\n",
      "Epoch 113/250\n",
      "3615/3615 [==============================] - 76s 21ms/step - loss: 2.4660 - YT_loss: 0.6379 - YP_loss: 1.8281 - YT_acc: 0.8056 - YP_acc: 0.3612 - val_loss: 2.4021 - val_YT_loss: 0.6112 - val_YP_loss: 1.7909 - val_YT_acc: 0.8147 - val_YP_acc: 0.3724\n",
      "Epoch 114/250\n",
      "3615/3615 [==============================] - 78s 22ms/step - loss: 2.4668 - YT_loss: 0.6352 - YP_loss: 1.8316 - YT_acc: 0.8061 - YP_acc: 0.3605 - val_loss: 2.3980 - val_YT_loss: 0.6099 - val_YP_loss: 1.7881 - val_YT_acc: 0.8146 - val_YP_acc: 0.3730\n",
      "Epoch 115/250\n",
      "3615/3615 [==============================] - 76s 21ms/step - loss: 2.4628 - YT_loss: 0.6352 - YP_loss: 1.8276 - YT_acc: 0.8060 - YP_acc: 0.3608 - val_loss: 2.3959 - val_YT_loss: 0.6087 - val_YP_loss: 1.7872 - val_YT_acc: 0.8151 - val_YP_acc: 0.3734\n",
      "Epoch 116/250\n",
      "3615/3615 [==============================] - 75s 21ms/step - loss: 2.4616 - YT_loss: 0.6356 - YP_loss: 1.8260 - YT_acc: 0.8055 - YP_acc: 0.3623 - val_loss: 2.3951 - val_YT_loss: 0.6086 - val_YP_loss: 1.7865 - val_YT_acc: 0.8149 - val_YP_acc: 0.3744\n",
      "Epoch 117/250\n",
      "3615/3615 [==============================] - 75s 21ms/step - loss: 2.4547 - YT_loss: 0.6300 - YP_loss: 1.8246 - YT_acc: 0.8068 - YP_acc: 0.3623 - val_loss: 2.3932 - val_YT_loss: 0.6083 - val_YP_loss: 1.7849 - val_YT_acc: 0.8147 - val_YP_acc: 0.3737\n",
      "Epoch 118/250\n",
      "3615/3615 [==============================] - 77s 21ms/step - loss: 2.4589 - YT_loss: 0.6331 - YP_loss: 1.8258 - YT_acc: 0.8058 - YP_acc: 0.3618 - val_loss: 2.3903 - val_YT_loss: 0.6066 - val_YP_loss: 1.7837 - val_YT_acc: 0.8155 - val_YP_acc: 0.3750\n",
      "Epoch 119/250\n",
      "3615/3615 [==============================] - 75s 21ms/step - loss: 2.4541 - YT_loss: 0.6329 - YP_loss: 1.8212 - YT_acc: 0.8060 - YP_acc: 0.3640 - val_loss: 2.3897 - val_YT_loss: 0.6059 - val_YP_loss: 1.7838 - val_YT_acc: 0.8153 - val_YP_acc: 0.3746\n",
      "Epoch 120/250\n",
      "3615/3615 [==============================] - 72s 20ms/step - loss: 2.4522 - YT_loss: 0.6307 - YP_loss: 1.8215 - YT_acc: 0.8070 - YP_acc: 0.3631 - val_loss: 2.3885 - val_YT_loss: 0.6072 - val_YP_loss: 1.7813 - val_YT_acc: 0.8149 - val_YP_acc: 0.3759\n",
      "Epoch 121/250\n",
      "3615/3615 [==============================] - 71s 20ms/step - loss: 2.4495 - YT_loss: 0.6299 - YP_loss: 1.8197 - YT_acc: 0.8063 - YP_acc: 0.3645 - val_loss: 2.3861 - val_YT_loss: 0.6055 - val_YP_loss: 1.7806 - val_YT_acc: 0.8155 - val_YP_acc: 0.3762\n",
      "Epoch 122/250\n",
      "3615/3615 [==============================] - 70s 19ms/step - loss: 2.4476 - YT_loss: 0.6297 - YP_loss: 1.8179 - YT_acc: 0.8068 - YP_acc: 0.3637 - val_loss: 2.3830 - val_YT_loss: 0.6038 - val_YP_loss: 1.7792 - val_YT_acc: 0.8159 - val_YP_acc: 0.3756\n",
      "Epoch 123/250\n",
      "3615/3615 [==============================] - 70s 19ms/step - loss: 2.4438 - YT_loss: 0.6286 - YP_loss: 1.8152 - YT_acc: 0.8071 - YP_acc: 0.3659 - val_loss: 2.3820 - val_YT_loss: 0.6049 - val_YP_loss: 1.7771 - val_YT_acc: 0.8153 - val_YP_acc: 0.3776\n",
      "Epoch 124/250\n",
      "3615/3615 [==============================] - 71s 20ms/step - loss: 2.4433 - YT_loss: 0.6275 - YP_loss: 1.8158 - YT_acc: 0.8080 - YP_acc: 0.3661 - val_loss: 2.3805 - val_YT_loss: 0.6046 - val_YP_loss: 1.7759 - val_YT_acc: 0.8151 - val_YP_acc: 0.3776\n",
      "Epoch 125/250\n"
     ]
    },
    {
     "name": "stdout",
     "output_type": "stream",
     "text": [
      "3615/3615 [==============================] - 71s 20ms/step - loss: 2.4446 - YT_loss: 0.6281 - YP_loss: 1.8164 - YT_acc: 0.8069 - YP_acc: 0.3655 - val_loss: 2.3780 - val_YT_loss: 0.6017 - val_YP_loss: 1.7763 - val_YT_acc: 0.8157 - val_YP_acc: 0.3769\n",
      "Epoch 126/250\n",
      "3615/3615 [==============================] - 73s 20ms/step - loss: 2.4401 - YT_loss: 0.6271 - YP_loss: 1.8131 - YT_acc: 0.8070 - YP_acc: 0.3665 - val_loss: 2.3771 - val_YT_loss: 0.6028 - val_YP_loss: 1.7743 - val_YT_acc: 0.8156 - val_YP_acc: 0.3774\n",
      "Epoch 127/250\n",
      "3615/3615 [==============================] - 77s 21ms/step - loss: 2.4364 - YT_loss: 0.6256 - YP_loss: 1.8109 - YT_acc: 0.8077 - YP_acc: 0.3664 - val_loss: 2.3758 - val_YT_loss: 0.6025 - val_YP_loss: 1.7733 - val_YT_acc: 0.8160 - val_YP_acc: 0.3787\n",
      "Epoch 128/250\n",
      "3615/3615 [==============================] - 77s 21ms/step - loss: 2.4342 - YT_loss: 0.6244 - YP_loss: 1.8099 - YT_acc: 0.8087 - YP_acc: 0.3681 - val_loss: 2.3746 - val_YT_loss: 0.6028 - val_YP_loss: 1.7718 - val_YT_acc: 0.8157 - val_YP_acc: 0.3787\n",
      "Epoch 129/250\n",
      "3615/3615 [==============================] - 76s 21ms/step - loss: 2.4346 - YT_loss: 0.6256 - YP_loss: 1.8090 - YT_acc: 0.8069 - YP_acc: 0.3687 - val_loss: 2.3701 - val_YT_loss: 0.5998 - val_YP_loss: 1.7703 - val_YT_acc: 0.8161 - val_YP_acc: 0.3787\n",
      "Epoch 130/250\n",
      "3615/3615 [==============================] - 77s 21ms/step - loss: 2.4325 - YT_loss: 0.6224 - YP_loss: 1.8101 - YT_acc: 0.8080 - YP_acc: 0.3675 - val_loss: 2.3671 - val_YT_loss: 0.5980 - val_YP_loss: 1.7691 - val_YT_acc: 0.8168 - val_YP_acc: 0.3804\n",
      "Epoch 131/250\n",
      "3615/3615 [==============================] - 77s 21ms/step - loss: 2.4281 - YT_loss: 0.6229 - YP_loss: 1.8052 - YT_acc: 0.8077 - YP_acc: 0.3695 - val_loss: 2.3658 - val_YT_loss: 0.5981 - val_YP_loss: 1.7677 - val_YT_acc: 0.8161 - val_YP_acc: 0.3803\n",
      "Epoch 132/250\n",
      "3615/3615 [==============================] - 71s 20ms/step - loss: 2.4260 - YT_loss: 0.6210 - YP_loss: 1.8050 - YT_acc: 0.8087 - YP_acc: 0.3693 - val_loss: 2.3639 - val_YT_loss: 0.5977 - val_YP_loss: 1.7662 - val_YT_acc: 0.8164 - val_YP_acc: 0.3809\n",
      "Epoch 133/250\n",
      "3615/3615 [==============================] - 72s 20ms/step - loss: 2.4286 - YT_loss: 0.6235 - YP_loss: 1.8051 - YT_acc: 0.8070 - YP_acc: 0.3698 - val_loss: 2.3622 - val_YT_loss: 0.5961 - val_YP_loss: 1.7661 - val_YT_acc: 0.8167 - val_YP_acc: 0.3806\n",
      "Epoch 134/250\n",
      "3615/3615 [==============================] - 78s 21ms/step - loss: 2.4215 - YT_loss: 0.6208 - YP_loss: 1.8007 - YT_acc: 0.8089 - YP_acc: 0.3704 - val_loss: 2.3602 - val_YT_loss: 0.5954 - val_YP_loss: 1.7649 - val_YT_acc: 0.8168 - val_YP_acc: 0.3814\n",
      "Epoch 135/250\n",
      "3615/3615 [==============================] - 78s 21ms/step - loss: 2.4186 - YT_loss: 0.6171 - YP_loss: 1.8015 - YT_acc: 0.8097 - YP_acc: 0.3705 - val_loss: 2.3583 - val_YT_loss: 0.5943 - val_YP_loss: 1.7640 - val_YT_acc: 0.8171 - val_YP_acc: 0.3817\n",
      "Epoch 136/250\n",
      "3615/3615 [==============================] - 77s 21ms/step - loss: 2.4192 - YT_loss: 0.6186 - YP_loss: 1.8006 - YT_acc: 0.8091 - YP_acc: 0.3707 - val_loss: 2.3564 - val_YT_loss: 0.5942 - val_YP_loss: 1.7622 - val_YT_acc: 0.8164 - val_YP_acc: 0.3824\n",
      "Epoch 137/250\n",
      "3615/3615 [==============================] - 78s 22ms/step - loss: 2.4168 - YT_loss: 0.6188 - YP_loss: 1.7981 - YT_acc: 0.8090 - YP_acc: 0.3714 - val_loss: 2.3584 - val_YT_loss: 0.5970 - val_YP_loss: 1.7614 - val_YT_acc: 0.8164 - val_YP_acc: 0.3835\n",
      "Epoch 138/250\n",
      "3615/3615 [==============================] - 76s 21ms/step - loss: 2.4113 - YT_loss: 0.6147 - YP_loss: 1.7966 - YT_acc: 0.8097 - YP_acc: 0.3729 - val_loss: 2.3534 - val_YT_loss: 0.5931 - val_YP_loss: 1.7603 - val_YT_acc: 0.8165 - val_YP_acc: 0.3824\n",
      "Epoch 139/250\n",
      "3615/3615 [==============================] - 78s 22ms/step - loss: 2.4132 - YT_loss: 0.6158 - YP_loss: 1.7973 - YT_acc: 0.8091 - YP_acc: 0.3726 - val_loss: 2.3515 - val_YT_loss: 0.5918 - val_YP_loss: 1.7597 - val_YT_acc: 0.8167 - val_YP_acc: 0.3834\n",
      "Epoch 140/250\n",
      "3615/3615 [==============================] - 71s 20ms/step - loss: 2.4099 - YT_loss: 0.6143 - YP_loss: 1.7957 - YT_acc: 0.8100 - YP_acc: 0.3730 - val_loss: 2.3502 - val_YT_loss: 0.5912 - val_YP_loss: 1.7590 - val_YT_acc: 0.8173 - val_YP_acc: 0.3828\n",
      "Epoch 141/250\n",
      "3615/3615 [==============================] - 75s 21ms/step - loss: 2.4073 - YT_loss: 0.6136 - YP_loss: 1.7938 - YT_acc: 0.8095 - YP_acc: 0.3733 - val_loss: 2.3475 - val_YT_loss: 0.5907 - val_YP_loss: 1.7568 - val_YT_acc: 0.8174 - val_YP_acc: 0.3849\n",
      "Epoch 142/250\n",
      "3615/3615 [==============================] - 76s 21ms/step - loss: 2.4052 - YT_loss: 0.6144 - YP_loss: 1.7908 - YT_acc: 0.8101 - YP_acc: 0.3745 - val_loss: 2.3459 - val_YT_loss: 0.5906 - val_YP_loss: 1.7553 - val_YT_acc: 0.8175 - val_YP_acc: 0.3854\n",
      "Epoch 143/250\n",
      "3615/3615 [==============================] - 75s 21ms/step - loss: 2.4018 - YT_loss: 0.6117 - YP_loss: 1.7902 - YT_acc: 0.8105 - YP_acc: 0.3746 - val_loss: 2.3443 - val_YT_loss: 0.5899 - val_YP_loss: 1.7543 - val_YT_acc: 0.8175 - val_YP_acc: 0.3858\n",
      "Epoch 144/250\n",
      "3615/3615 [==============================] - 77s 21ms/step - loss: 2.3990 - YT_loss: 0.6107 - YP_loss: 1.7883 - YT_acc: 0.8103 - YP_acc: 0.3758 - val_loss: 2.3414 - val_YT_loss: 0.5881 - val_YP_loss: 1.7532 - val_YT_acc: 0.8178 - val_YP_acc: 0.3859\n",
      "Epoch 145/250\n",
      "3615/3615 [==============================] - 74s 21ms/step - loss: 2.4019 - YT_loss: 0.6103 - YP_loss: 1.7916 - YT_acc: 0.8108 - YP_acc: 0.3740 - val_loss: 2.3400 - val_YT_loss: 0.5875 - val_YP_loss: 1.7525 - val_YT_acc: 0.8181 - val_YP_acc: 0.3869\n",
      "Epoch 146/250\n",
      "3615/3615 [==============================] - 82s 23ms/step - loss: 2.3977 - YT_loss: 0.6092 - YP_loss: 1.7885 - YT_acc: 0.8105 - YP_acc: 0.3753 - val_loss: 2.3378 - val_YT_loss: 0.5871 - val_YP_loss: 1.7507 - val_YT_acc: 0.8179 - val_YP_acc: 0.3874\n",
      "Epoch 147/250\n",
      "3615/3615 [==============================] - 81s 22ms/step - loss: 2.3960 - YT_loss: 0.6096 - YP_loss: 1.7865 - YT_acc: 0.8106 - YP_acc: 0.3766 - val_loss: 2.3374 - val_YT_loss: 0.5867 - val_YP_loss: 1.7507 - val_YT_acc: 0.8177 - val_YP_acc: 0.3862\n",
      "Epoch 148/250\n",
      "3615/3615 [==============================] - 83s 23ms/step - loss: 2.3966 - YT_loss: 0.6090 - YP_loss: 1.7875 - YT_acc: 0.8101 - YP_acc: 0.3749 - val_loss: 2.3348 - val_YT_loss: 0.5857 - val_YP_loss: 1.7491 - val_YT_acc: 0.8185 - val_YP_acc: 0.3874\n",
      "Epoch 149/250\n",
      "3615/3615 [==============================] - 76s 21ms/step - loss: 2.3933 - YT_loss: 0.6089 - YP_loss: 1.7844 - YT_acc: 0.8110 - YP_acc: 0.3768 - val_loss: 2.3344 - val_YT_loss: 0.5858 - val_YP_loss: 1.7486 - val_YT_acc: 0.8187 - val_YP_acc: 0.3877\n",
      "Epoch 150/250\n",
      "3615/3615 [==============================] - 71s 20ms/step - loss: 2.3951 - YT_loss: 0.6096 - YP_loss: 1.7854 - YT_acc: 0.8102 - YP_acc: 0.3776 - val_loss: 2.3327 - val_YT_loss: 0.5852 - val_YP_loss: 1.7475 - val_YT_acc: 0.8182 - val_YP_acc: 0.3875\n",
      "Epoch 151/250\n",
      "3615/3615 [==============================] - 71s 20ms/step - loss: 2.3899 - YT_loss: 0.6054 - YP_loss: 1.7846 - YT_acc: 0.8109 - YP_acc: 0.3763 - val_loss: 2.3311 - val_YT_loss: 0.5849 - val_YP_loss: 1.7462 - val_YT_acc: 0.8182 - val_YP_acc: 0.3883\n",
      "Epoch 152/250\n",
      "3615/3615 [==============================] - 70s 19ms/step - loss: 2.3877 - YT_loss: 0.6054 - YP_loss: 1.7824 - YT_acc: 0.8116 - YP_acc: 0.3779 - val_loss: 2.3302 - val_YT_loss: 0.5842 - val_YP_loss: 1.7461 - val_YT_acc: 0.8178 - val_YP_acc: 0.3897\n",
      "Epoch 153/250\n",
      "3615/3615 [==============================] - 71s 20ms/step - loss: 2.3880 - YT_loss: 0.6059 - YP_loss: 1.7821 - YT_acc: 0.8120 - YP_acc: 0.3777 - val_loss: 2.3261 - val_YT_loss: 0.5827 - val_YP_loss: 1.7433 - val_YT_acc: 0.8185 - val_YP_acc: 0.3899\n",
      "Epoch 154/250\n",
      "3615/3615 [==============================] - 71s 20ms/step - loss: 2.3837 - YT_loss: 0.6048 - YP_loss: 1.7789 - YT_acc: 0.8112 - YP_acc: 0.3797 - val_loss: 2.3243 - val_YT_loss: 0.5824 - val_YP_loss: 1.7420 - val_YT_acc: 0.8185 - val_YP_acc: 0.3915\n",
      "Epoch 155/250\n",
      "3615/3615 [==============================] - 73s 20ms/step - loss: 2.3841 - YT_loss: 0.6040 - YP_loss: 1.7801 - YT_acc: 0.8118 - YP_acc: 0.3788 - val_loss: 2.3225 - val_YT_loss: 0.5811 - val_YP_loss: 1.7414 - val_YT_acc: 0.8188 - val_YP_acc: 0.3917\n",
      "Epoch 156/250\n"
     ]
    },
    {
     "name": "stdout",
     "output_type": "stream",
     "text": [
      "3615/3615 [==============================] - 72s 20ms/step - loss: 2.3833 - YT_loss: 0.6064 - YP_loss: 1.7770 - YT_acc: 0.8106 - YP_acc: 0.3793 - val_loss: 2.3215 - val_YT_loss: 0.5802 - val_YP_loss: 1.7413 - val_YT_acc: 0.8191 - val_YP_acc: 0.3910\n",
      "Epoch 157/250\n",
      "3615/3615 [==============================] - 68s 19ms/step - loss: 2.3778 - YT_loss: 0.6033 - YP_loss: 1.7745 - YT_acc: 0.8110 - YP_acc: 0.3808 - val_loss: 2.3195 - val_YT_loss: 0.5801 - val_YP_loss: 1.7394 - val_YT_acc: 0.8186 - val_YP_acc: 0.3916\n",
      "Epoch 158/250\n",
      "3615/3615 [==============================] - 3894s 1s/step - loss: 2.3795 - YT_loss: 0.6033 - YP_loss: 1.7762 - YT_acc: 0.8114 - YP_acc: 0.3807 - val_loss: 2.3200 - val_YT_loss: 0.5815 - val_YP_loss: 1.7385 - val_YT_acc: 0.8190 - val_YP_acc: 0.3925\n",
      "Epoch 159/250\n",
      "3615/3615 [==============================] - 71s 20ms/step - loss: 2.3785 - YT_loss: 0.6039 - YP_loss: 1.7746 - YT_acc: 0.8115 - YP_acc: 0.3800 - val_loss: 2.3221 - val_YT_loss: 0.5835 - val_YP_loss: 1.7386 - val_YT_acc: 0.8185 - val_YP_acc: 0.3921\n",
      "Epoch 160/250\n",
      "3615/3615 [==============================] - 72s 20ms/step - loss: 2.3779 - YT_loss: 0.6035 - YP_loss: 1.7744 - YT_acc: 0.8119 - YP_acc: 0.3807 - val_loss: 2.3168 - val_YT_loss: 0.5798 - val_YP_loss: 1.7371 - val_YT_acc: 0.8195 - val_YP_acc: 0.3932\n",
      "Epoch 161/250\n",
      "3615/3615 [==============================] - 74s 20ms/step - loss: 2.3745 - YT_loss: 0.6017 - YP_loss: 1.7728 - YT_acc: 0.8120 - YP_acc: 0.3812 - val_loss: 2.3117 - val_YT_loss: 0.5760 - val_YP_loss: 1.7357 - val_YT_acc: 0.8199 - val_YP_acc: 0.3924\n",
      "Epoch 162/250\n",
      "3615/3615 [==============================] - 71s 20ms/step - loss: 2.3691 - YT_loss: 0.5976 - YP_loss: 1.7714 - YT_acc: 0.8131 - YP_acc: 0.3822 - val_loss: 2.3113 - val_YT_loss: 0.5760 - val_YP_loss: 1.7353 - val_YT_acc: 0.8197 - val_YP_acc: 0.3929\n",
      "Epoch 163/250\n",
      "3615/3615 [==============================] - 70s 19ms/step - loss: 2.3666 - YT_loss: 0.5969 - YP_loss: 1.7697 - YT_acc: 0.8128 - YP_acc: 0.3820 - val_loss: 2.3090 - val_YT_loss: 0.5752 - val_YP_loss: 1.7338 - val_YT_acc: 0.8196 - val_YP_acc: 0.3940\n",
      "Epoch 164/250\n",
      "3615/3615 [==============================] - 69s 19ms/step - loss: 2.3675 - YT_loss: 0.5981 - YP_loss: 1.7695 - YT_acc: 0.8124 - YP_acc: 0.3830 - val_loss: 2.3095 - val_YT_loss: 0.5748 - val_YP_loss: 1.7347 - val_YT_acc: 0.8200 - val_YP_acc: 0.3935\n",
      "Epoch 165/250\n",
      "3615/3615 [==============================] - 69s 19ms/step - loss: 2.3679 - YT_loss: 0.5969 - YP_loss: 1.7709 - YT_acc: 0.8134 - YP_acc: 0.3826 - val_loss: 2.3057 - val_YT_loss: 0.5742 - val_YP_loss: 1.7315 - val_YT_acc: 0.8199 - val_YP_acc: 0.3943\n",
      "Epoch 166/250\n",
      "3615/3615 [==============================] - 71s 20ms/step - loss: 2.3618 - YT_loss: 0.5964 - YP_loss: 1.7654 - YT_acc: 0.8126 - YP_acc: 0.3842 - val_loss: 2.3041 - val_YT_loss: 0.5740 - val_YP_loss: 1.7301 - val_YT_acc: 0.8199 - val_YP_acc: 0.3952\n",
      "Epoch 167/250\n",
      "3615/3615 [==============================] - 70s 19ms/step - loss: 2.3617 - YT_loss: 0.5951 - YP_loss: 1.7667 - YT_acc: 0.8130 - YP_acc: 0.3835 - val_loss: 2.3026 - val_YT_loss: 0.5733 - val_YP_loss: 1.7293 - val_YT_acc: 0.8203 - val_YP_acc: 0.3957\n",
      "Epoch 168/250\n",
      "3615/3615 [==============================] - 72s 20ms/step - loss: 2.3592 - YT_loss: 0.5958 - YP_loss: 1.7635 - YT_acc: 0.8129 - YP_acc: 0.3843 - val_loss: 2.3009 - val_YT_loss: 0.5715 - val_YP_loss: 1.7294 - val_YT_acc: 0.8204 - val_YP_acc: 0.3951\n",
      "Epoch 169/250\n",
      "3615/3615 [==============================] - 76s 21ms/step - loss: 2.3566 - YT_loss: 0.5926 - YP_loss: 1.7640 - YT_acc: 0.8143 - YP_acc: 0.3842 - val_loss: 2.2985 - val_YT_loss: 0.5697 - val_YP_loss: 1.7289 - val_YT_acc: 0.8205 - val_YP_acc: 0.3945\n",
      "Epoch 170/250\n",
      "3615/3615 [==============================] - 80s 22ms/step - loss: 2.3532 - YT_loss: 0.5918 - YP_loss: 1.7614 - YT_acc: 0.8139 - YP_acc: 0.3854 - val_loss: 2.2981 - val_YT_loss: 0.5691 - val_YP_loss: 1.7290 - val_YT_acc: 0.8205 - val_YP_acc: 0.3950\n",
      "Epoch 171/250\n",
      "3615/3615 [==============================] - 75s 21ms/step - loss: 2.3517 - YT_loss: 0.5898 - YP_loss: 1.7618 - YT_acc: 0.8145 - YP_acc: 0.3852 - val_loss: 2.2946 - val_YT_loss: 0.5675 - val_YP_loss: 1.7271 - val_YT_acc: 0.8207 - val_YP_acc: 0.3964\n",
      "Epoch 172/250\n",
      "3615/3615 [==============================] - 74s 20ms/step - loss: 2.3510 - YT_loss: 0.5904 - YP_loss: 1.7607 - YT_acc: 0.8142 - YP_acc: 0.3853 - val_loss: 2.2930 - val_YT_loss: 0.5675 - val_YP_loss: 1.7254 - val_YT_acc: 0.8208 - val_YP_acc: 0.3969\n",
      "Epoch 173/250\n",
      "3615/3615 [==============================] - 73s 20ms/step - loss: 2.3492 - YT_loss: 0.5897 - YP_loss: 1.7595 - YT_acc: 0.8143 - YP_acc: 0.3858 - val_loss: 2.2900 - val_YT_loss: 0.5662 - val_YP_loss: 1.7239 - val_YT_acc: 0.8211 - val_YP_acc: 0.3976\n",
      "Epoch 174/250\n",
      "3615/3615 [==============================] - 75s 21ms/step - loss: 2.3449 - YT_loss: 0.5877 - YP_loss: 1.7571 - YT_acc: 0.8144 - YP_acc: 0.3869 - val_loss: 2.2884 - val_YT_loss: 0.5652 - val_YP_loss: 1.7232 - val_YT_acc: 0.8214 - val_YP_acc: 0.3978\n",
      "Epoch 175/250\n",
      "3615/3615 [==============================] - 72s 20ms/step - loss: 2.3478 - YT_loss: 0.5887 - YP_loss: 1.7591 - YT_acc: 0.8142 - YP_acc: 0.3855 - val_loss: 2.2901 - val_YT_loss: 0.5680 - val_YP_loss: 1.7221 - val_YT_acc: 0.8209 - val_YP_acc: 0.3980\n",
      "Epoch 176/250\n",
      "3615/3615 [==============================] - 76s 21ms/step - loss: 2.3448 - YT_loss: 0.5889 - YP_loss: 1.7560 - YT_acc: 0.8145 - YP_acc: 0.3877 - val_loss: 2.2868 - val_YT_loss: 0.5653 - val_YP_loss: 1.7215 - val_YT_acc: 0.8213 - val_YP_acc: 0.3986\n",
      "Epoch 177/250\n",
      "3615/3615 [==============================] - 73s 20ms/step - loss: 2.3394 - YT_loss: 0.5835 - YP_loss: 1.7559 - YT_acc: 0.8163 - YP_acc: 0.3873 - val_loss: 2.2831 - val_YT_loss: 0.5629 - val_YP_loss: 1.7202 - val_YT_acc: 0.8216 - val_YP_acc: 0.3986\n",
      "Epoch 178/250\n",
      "3615/3615 [==============================] - 73s 20ms/step - loss: 2.3393 - YT_loss: 0.5849 - YP_loss: 1.7545 - YT_acc: 0.8152 - YP_acc: 0.3884 - val_loss: 2.2813 - val_YT_loss: 0.5612 - val_YP_loss: 1.7201 - val_YT_acc: 0.8220 - val_YP_acc: 0.3990\n",
      "Epoch 179/250\n",
      "3615/3615 [==============================] - 73s 20ms/step - loss: 2.3365 - YT_loss: 0.5829 - YP_loss: 1.7536 - YT_acc: 0.8164 - YP_acc: 0.3876 - val_loss: 2.2787 - val_YT_loss: 0.5608 - val_YP_loss: 1.7179 - val_YT_acc: 0.8219 - val_YP_acc: 0.4005\n",
      "Epoch 180/250\n",
      "3615/3615 [==============================] - 78s 21ms/step - loss: 2.3346 - YT_loss: 0.5823 - YP_loss: 1.7524 - YT_acc: 0.8158 - YP_acc: 0.3887 - val_loss: 2.2776 - val_YT_loss: 0.5600 - val_YP_loss: 1.7176 - val_YT_acc: 0.8221 - val_YP_acc: 0.3999\n",
      "Epoch 181/250\n",
      "3615/3615 [==============================] - 74s 20ms/step - loss: 2.3310 - YT_loss: 0.5803 - YP_loss: 1.7507 - YT_acc: 0.8161 - YP_acc: 0.3903 - val_loss: 2.2773 - val_YT_loss: 0.5599 - val_YP_loss: 1.7175 - val_YT_acc: 0.8221 - val_YP_acc: 0.4008\n",
      "Epoch 182/250\n",
      "3615/3615 [==============================] - 75s 21ms/step - loss: 2.3334 - YT_loss: 0.5826 - YP_loss: 1.7508 - YT_acc: 0.8158 - YP_acc: 0.3893 - val_loss: 2.2761 - val_YT_loss: 0.5595 - val_YP_loss: 1.7166 - val_YT_acc: 0.8218 - val_YP_acc: 0.4005\n",
      "Epoch 183/250\n",
      "3615/3615 [==============================] - 76s 21ms/step - loss: 2.3340 - YT_loss: 0.5840 - YP_loss: 1.7500 - YT_acc: 0.8145 - YP_acc: 0.3893 - val_loss: 2.2747 - val_YT_loss: 0.5582 - val_YP_loss: 1.7165 - val_YT_acc: 0.8224 - val_YP_acc: 0.3999\n",
      "Epoch 184/250\n",
      "3615/3615 [==============================] - 77s 21ms/step - loss: 2.3321 - YT_loss: 0.5809 - YP_loss: 1.7512 - YT_acc: 0.8153 - YP_acc: 0.3899 - val_loss: 2.2726 - val_YT_loss: 0.5579 - val_YP_loss: 1.7147 - val_YT_acc: 0.8228 - val_YP_acc: 0.4007\n",
      "Epoch 185/250\n",
      "3615/3615 [==============================] - 76s 21ms/step - loss: 2.3270 - YT_loss: 0.5798 - YP_loss: 1.7472 - YT_acc: 0.8160 - YP_acc: 0.3913 - val_loss: 2.2711 - val_YT_loss: 0.5566 - val_YP_loss: 1.7145 - val_YT_acc: 0.8224 - val_YP_acc: 0.4019\n",
      "Epoch 186/250\n",
      "3615/3615 [==============================] - 77s 21ms/step - loss: 2.3266 - YT_loss: 0.5794 - YP_loss: 1.7472 - YT_acc: 0.8169 - YP_acc: 0.3900 - val_loss: 2.2714 - val_YT_loss: 0.5573 - val_YP_loss: 1.7141 - val_YT_acc: 0.8228 - val_YP_acc: 0.4015\n",
      "Epoch 187/250\n"
     ]
    },
    {
     "name": "stdout",
     "output_type": "stream",
     "text": [
      "3615/3615 [==============================] - 74s 20ms/step - loss: 2.3222 - YT_loss: 0.5785 - YP_loss: 1.7437 - YT_acc: 0.8164 - YP_acc: 0.3923 - val_loss: 2.2682 - val_YT_loss: 0.5558 - val_YP_loss: 1.7124 - val_YT_acc: 0.8227 - val_YP_acc: 0.4010\n",
      "Epoch 188/250\n",
      "3615/3615 [==============================] - 73s 20ms/step - loss: 2.3219 - YT_loss: 0.5785 - YP_loss: 1.7434 - YT_acc: 0.8166 - YP_acc: 0.3921 - val_loss: 2.2659 - val_YT_loss: 0.5550 - val_YP_loss: 1.7109 - val_YT_acc: 0.8228 - val_YP_acc: 0.4025\n",
      "Epoch 189/250\n",
      "3615/3615 [==============================] - 74s 20ms/step - loss: 2.3205 - YT_loss: 0.5778 - YP_loss: 1.7427 - YT_acc: 0.8166 - YP_acc: 0.3913 - val_loss: 2.2635 - val_YT_loss: 0.5541 - val_YP_loss: 1.7093 - val_YT_acc: 0.8228 - val_YP_acc: 0.4028\n",
      "Epoch 190/250\n",
      "3615/3615 [==============================] - 73s 20ms/step - loss: 2.3196 - YT_loss: 0.5766 - YP_loss: 1.7430 - YT_acc: 0.8168 - YP_acc: 0.3920 - val_loss: 2.2623 - val_YT_loss: 0.5543 - val_YP_loss: 1.7080 - val_YT_acc: 0.8228 - val_YP_acc: 0.4032\n",
      "Epoch 191/250\n",
      "3615/3615 [==============================] - 73s 20ms/step - loss: 2.3180 - YT_loss: 0.5772 - YP_loss: 1.7408 - YT_acc: 0.8160 - YP_acc: 0.3927 - val_loss: 2.2613 - val_YT_loss: 0.5540 - val_YP_loss: 1.7073 - val_YT_acc: 0.8230 - val_YP_acc: 0.4038\n",
      "Epoch 192/250\n",
      "3615/3615 [==============================] - 74s 20ms/step - loss: 2.3162 - YT_loss: 0.5751 - YP_loss: 1.7410 - YT_acc: 0.8168 - YP_acc: 0.3931 - val_loss: 2.2601 - val_YT_loss: 0.5531 - val_YP_loss: 1.7070 - val_YT_acc: 0.8221 - val_YP_acc: 0.4032\n",
      "Epoch 193/250\n",
      "3615/3615 [==============================] - 83s 23ms/step - loss: 2.3182 - YT_loss: 0.5789 - YP_loss: 1.7394 - YT_acc: 0.8163 - YP_acc: 0.3934 - val_loss: 2.2630 - val_YT_loss: 0.5536 - val_YP_loss: 1.7094 - val_YT_acc: 0.8226 - val_YP_acc: 0.4031\n",
      "Epoch 194/250\n",
      "3615/3615 [==============================] - 78s 22ms/step - loss: 2.3136 - YT_loss: 0.5754 - YP_loss: 1.7382 - YT_acc: 0.8166 - YP_acc: 0.3923 - val_loss: 2.2584 - val_YT_loss: 0.5529 - val_YP_loss: 1.7055 - val_YT_acc: 0.8229 - val_YP_acc: 0.4041\n",
      "Epoch 195/250\n",
      "3615/3615 [==============================] - 73s 20ms/step - loss: 2.3095 - YT_loss: 0.5720 - YP_loss: 1.7375 - YT_acc: 0.8174 - YP_acc: 0.3936 - val_loss: 2.2552 - val_YT_loss: 0.5511 - val_YP_loss: 1.7041 - val_YT_acc: 0.8230 - val_YP_acc: 0.4038\n",
      "Epoch 196/250\n",
      "3615/3615 [==============================] - 72s 20ms/step - loss: 2.3079 - YT_loss: 0.5719 - YP_loss: 1.7360 - YT_acc: 0.8174 - YP_acc: 0.3937 - val_loss: 2.2564 - val_YT_loss: 0.5520 - val_YP_loss: 1.7044 - val_YT_acc: 0.8230 - val_YP_acc: 0.4041\n",
      "Epoch 197/250\n",
      "3615/3615 [==============================] - 72s 20ms/step - loss: 2.3095 - YT_loss: 0.5750 - YP_loss: 1.7345 - YT_acc: 0.8169 - YP_acc: 0.3952 - val_loss: 2.2524 - val_YT_loss: 0.5495 - val_YP_loss: 1.7029 - val_YT_acc: 0.8236 - val_YP_acc: 0.4048\n",
      "Epoch 198/250\n",
      "3615/3615 [==============================] - 72s 20ms/step - loss: 2.3060 - YT_loss: 0.5719 - YP_loss: 1.7341 - YT_acc: 0.8175 - YP_acc: 0.3951 - val_loss: 2.2524 - val_YT_loss: 0.5493 - val_YP_loss: 1.7031 - val_YT_acc: 0.8233 - val_YP_acc: 0.4046\n",
      "Epoch 199/250\n",
      "3615/3615 [==============================] - 82s 23ms/step - loss: 2.3035 - YT_loss: 0.5702 - YP_loss: 1.7333 - YT_acc: 0.8181 - YP_acc: 0.3946 - val_loss: 2.2520 - val_YT_loss: 0.5503 - val_YP_loss: 1.7017 - val_YT_acc: 0.8230 - val_YP_acc: 0.4057\n",
      "Epoch 200/250\n",
      "3615/3615 [==============================] - 72s 20ms/step - loss: 2.3073 - YT_loss: 0.5737 - YP_loss: 1.7336 - YT_acc: 0.8168 - YP_acc: 0.3954 - val_loss: 2.2520 - val_YT_loss: 0.5493 - val_YP_loss: 1.7027 - val_YT_acc: 0.8235 - val_YP_acc: 0.4047\n",
      "Epoch 201/250\n",
      "3615/3615 [==============================] - 80s 22ms/step - loss: 2.3053 - YT_loss: 0.5729 - YP_loss: 1.7324 - YT_acc: 0.8175 - YP_acc: 0.3958 - val_loss: 2.2520 - val_YT_loss: 0.5503 - val_YP_loss: 1.7017 - val_YT_acc: 0.8226 - val_YP_acc: 0.4047\n",
      "Epoch 202/250\n",
      "3615/3615 [==============================] - 79s 22ms/step - loss: 2.3023 - YT_loss: 0.5704 - YP_loss: 1.7318 - YT_acc: 0.8179 - YP_acc: 0.3954 - val_loss: 2.2479 - val_YT_loss: 0.5486 - val_YP_loss: 1.6993 - val_YT_acc: 0.8233 - val_YP_acc: 0.4058\n",
      "Epoch 203/250\n",
      "3615/3615 [==============================] - 82s 23ms/step - loss: 2.3002 - YT_loss: 0.5700 - YP_loss: 1.7302 - YT_acc: 0.8186 - YP_acc: 0.3961 - val_loss: 2.2479 - val_YT_loss: 0.5490 - val_YP_loss: 1.6989 - val_YT_acc: 0.8231 - val_YP_acc: 0.4063\n",
      "Epoch 204/250\n",
      "3615/3615 [==============================] - 75s 21ms/step - loss: 2.2990 - YT_loss: 0.5689 - YP_loss: 1.7301 - YT_acc: 0.8177 - YP_acc: 0.3968 - val_loss: 2.2478 - val_YT_loss: 0.5481 - val_YP_loss: 1.6997 - val_YT_acc: 0.8236 - val_YP_acc: 0.4066\n",
      "Epoch 205/250\n",
      "3615/3615 [==============================] - 71s 20ms/step - loss: 2.2969 - YT_loss: 0.5675 - YP_loss: 1.7294 - YT_acc: 0.8182 - YP_acc: 0.3957 - val_loss: 2.2426 - val_YT_loss: 0.5461 - val_YP_loss: 1.6965 - val_YT_acc: 0.8237 - val_YP_acc: 0.4070\n",
      "Epoch 206/250\n",
      "3615/3615 [==============================] - 70s 19ms/step - loss: 2.2985 - YT_loss: 0.5691 - YP_loss: 1.7294 - YT_acc: 0.8178 - YP_acc: 0.3970 - val_loss: 2.2423 - val_YT_loss: 0.5461 - val_YP_loss: 1.6962 - val_YT_acc: 0.8240 - val_YP_acc: 0.4069\n",
      "Epoch 207/250\n",
      "3615/3615 [==============================] - 70s 19ms/step - loss: 2.2946 - YT_loss: 0.5673 - YP_loss: 1.7273 - YT_acc: 0.8178 - YP_acc: 0.3968 - val_loss: 2.2409 - val_YT_loss: 0.5454 - val_YP_loss: 1.6955 - val_YT_acc: 0.8237 - val_YP_acc: 0.4076\n",
      "Epoch 208/250\n",
      "3615/3615 [==============================] - 70s 19ms/step - loss: 2.2954 - YT_loss: 0.5661 - YP_loss: 1.7292 - YT_acc: 0.8179 - YP_acc: 0.3964 - val_loss: 2.2398 - val_YT_loss: 0.5453 - val_YP_loss: 1.6945 - val_YT_acc: 0.8243 - val_YP_acc: 0.4075\n",
      "Epoch 209/250\n",
      "3615/3615 [==============================] - 75s 21ms/step - loss: 2.2943 - YT_loss: 0.5691 - YP_loss: 1.7252 - YT_acc: 0.8170 - YP_acc: 0.3983 - val_loss: 2.2387 - val_YT_loss: 0.5450 - val_YP_loss: 1.6937 - val_YT_acc: 0.8242 - val_YP_acc: 0.4074\n",
      "Epoch 210/250\n",
      "3615/3615 [==============================] - 83s 23ms/step - loss: 2.2886 - YT_loss: 0.5645 - YP_loss: 1.7241 - YT_acc: 0.8181 - YP_acc: 0.3987 - val_loss: 2.2371 - val_YT_loss: 0.5437 - val_YP_loss: 1.6935 - val_YT_acc: 0.8246 - val_YP_acc: 0.4083\n",
      "Epoch 211/250\n",
      "3615/3615 [==============================] - 75s 21ms/step - loss: 2.2867 - YT_loss: 0.5645 - YP_loss: 1.7221 - YT_acc: 0.8187 - YP_acc: 0.3997 - val_loss: 2.2357 - val_YT_loss: 0.5435 - val_YP_loss: 1.6923 - val_YT_acc: 0.8238 - val_YP_acc: 0.4087\n",
      "Epoch 212/250\n",
      "3615/3615 [==============================] - 79s 22ms/step - loss: 2.2880 - YT_loss: 0.5636 - YP_loss: 1.7245 - YT_acc: 0.8185 - YP_acc: 0.3987 - val_loss: 2.2348 - val_YT_loss: 0.5426 - val_YP_loss: 1.6922 - val_YT_acc: 0.8244 - val_YP_acc: 0.4080\n",
      "Epoch 213/250\n",
      "3615/3615 [==============================] - 94s 26ms/step - loss: 2.2868 - YT_loss: 0.5653 - YP_loss: 1.7216 - YT_acc: 0.8174 - YP_acc: 0.3991 - val_loss: 2.2339 - val_YT_loss: 0.5432 - val_YP_loss: 1.6908 - val_YT_acc: 0.8241 - val_YP_acc: 0.4087\n",
      "Epoch 214/250\n",
      "3615/3615 [==============================] - 82s 23ms/step - loss: 2.2882 - YT_loss: 0.5671 - YP_loss: 1.7211 - YT_acc: 0.8177 - YP_acc: 0.3994 - val_loss: 2.2326 - val_YT_loss: 0.5425 - val_YP_loss: 1.6901 - val_YT_acc: 0.8239 - val_YP_acc: 0.4087\n",
      "Epoch 215/250\n",
      "3615/3615 [==============================] - 89s 25ms/step - loss: 2.2867 - YT_loss: 0.5653 - YP_loss: 1.7214 - YT_acc: 0.8179 - YP_acc: 0.3987 - val_loss: 2.2354 - val_YT_loss: 0.5433 - val_YP_loss: 1.6922 - val_YT_acc: 0.8245 - val_YP_acc: 0.4078\n",
      "Epoch 216/250\n",
      "3615/3615 [==============================] - 84s 23ms/step - loss: 2.2828 - YT_loss: 0.5642 - YP_loss: 1.7187 - YT_acc: 0.8188 - YP_acc: 0.4000 - val_loss: 2.2340 - val_YT_loss: 0.5445 - val_YP_loss: 1.6895 - val_YT_acc: 0.8239 - val_YP_acc: 0.4088\n",
      "Epoch 217/250\n",
      "3615/3615 [==============================] - 84s 23ms/step - loss: 2.2901 - YT_loss: 0.5698 - YP_loss: 1.7202 - YT_acc: 0.8177 - YP_acc: 0.3990 - val_loss: 2.2356 - val_YT_loss: 0.5446 - val_YP_loss: 1.6910 - val_YT_acc: 0.8241 - val_YP_acc: 0.4075\n",
      "Epoch 218/250\n"
     ]
    },
    {
     "name": "stdout",
     "output_type": "stream",
     "text": [
      "3615/3615 [==============================] - 82s 23ms/step - loss: 2.2859 - YT_loss: 0.5658 - YP_loss: 1.7201 - YT_acc: 0.8186 - YP_acc: 0.3996 - val_loss: 2.2292 - val_YT_loss: 0.5410 - val_YP_loss: 1.6882 - val_YT_acc: 0.8247 - val_YP_acc: 0.4095\n",
      "Epoch 219/250\n",
      "3615/3615 [==============================] - 86s 24ms/step - loss: 2.2798 - YT_loss: 0.5640 - YP_loss: 1.7158 - YT_acc: 0.8182 - YP_acc: 0.4008 - val_loss: 2.2281 - val_YT_loss: 0.5404 - val_YP_loss: 1.6877 - val_YT_acc: 0.8246 - val_YP_acc: 0.4092\n",
      "Epoch 220/250\n",
      "3615/3615 [==============================] - 87s 24ms/step - loss: 2.2774 - YT_loss: 0.5593 - YP_loss: 1.7181 - YT_acc: 0.8197 - YP_acc: 0.4002 - val_loss: 2.2276 - val_YT_loss: 0.5393 - val_YP_loss: 1.6882 - val_YT_acc: 0.8246 - val_YP_acc: 0.4098\n",
      "Epoch 221/250\n",
      "3615/3615 [==============================] - 78s 22ms/step - loss: 2.2787 - YT_loss: 0.5619 - YP_loss: 1.7168 - YT_acc: 0.8179 - YP_acc: 0.4007 - val_loss: 2.2253 - val_YT_loss: 0.5392 - val_YP_loss: 1.6861 - val_YT_acc: 0.8247 - val_YP_acc: 0.4097\n",
      "Epoch 222/250\n",
      "3615/3615 [==============================] - 68s 19ms/step - loss: 2.2755 - YT_loss: 0.5607 - YP_loss: 1.7148 - YT_acc: 0.8189 - YP_acc: 0.4022 - val_loss: 2.2245 - val_YT_loss: 0.5387 - val_YP_loss: 1.6859 - val_YT_acc: 0.8249 - val_YP_acc: 0.4094\n",
      "Epoch 223/250\n",
      "3615/3615 [==============================] - 68s 19ms/step - loss: 2.2740 - YT_loss: 0.5595 - YP_loss: 1.7144 - YT_acc: 0.8201 - YP_acc: 0.4013 - val_loss: 2.2239 - val_YT_loss: 0.5378 - val_YP_loss: 1.6861 - val_YT_acc: 0.8250 - val_YP_acc: 0.4101\n",
      "Epoch 224/250\n",
      "3615/3615 [==============================] - 68s 19ms/step - loss: 2.2724 - YT_loss: 0.5589 - YP_loss: 1.7135 - YT_acc: 0.8193 - YP_acc: 0.4023 - val_loss: 2.2213 - val_YT_loss: 0.5369 - val_YP_loss: 1.6844 - val_YT_acc: 0.8250 - val_YP_acc: 0.4102\n",
      "Epoch 225/250\n",
      "3615/3615 [==============================] - 68s 19ms/step - loss: 2.2717 - YT_loss: 0.5589 - YP_loss: 1.7128 - YT_acc: 0.8196 - YP_acc: 0.4019 - val_loss: 2.2231 - val_YT_loss: 0.5388 - val_YP_loss: 1.6843 - val_YT_acc: 0.8247 - val_YP_acc: 0.4105\n",
      "Epoch 226/250\n",
      "3615/3615 [==============================] - 72s 20ms/step - loss: 2.2722 - YT_loss: 0.5580 - YP_loss: 1.7142 - YT_acc: 0.8195 - YP_acc: 0.4018 - val_loss: 2.2210 - val_YT_loss: 0.5378 - val_YP_loss: 1.6832 - val_YT_acc: 0.8243 - val_YP_acc: 0.4106\n",
      "Epoch 227/250\n",
      "3615/3615 [==============================] - 74s 21ms/step - loss: 2.2694 - YT_loss: 0.5574 - YP_loss: 1.7120 - YT_acc: 0.8199 - YP_acc: 0.4027 - val_loss: 2.2183 - val_YT_loss: 0.5353 - val_YP_loss: 1.6830 - val_YT_acc: 0.8254 - val_YP_acc: 0.4111\n",
      "Epoch 228/250\n",
      "3615/3615 [==============================] - 74s 20ms/step - loss: 2.2640 - YT_loss: 0.5550 - YP_loss: 1.7090 - YT_acc: 0.8202 - YP_acc: 0.4034 - val_loss: 2.2153 - val_YT_loss: 0.5347 - val_YP_loss: 1.6806 - val_YT_acc: 0.8252 - val_YP_acc: 0.4118\n",
      "Epoch 229/250\n",
      "3615/3615 [==============================] - 72s 20ms/step - loss: 2.2672 - YT_loss: 0.5575 - YP_loss: 1.7097 - YT_acc: 0.8188 - YP_acc: 0.4035 - val_loss: 2.2149 - val_YT_loss: 0.5349 - val_YP_loss: 1.6799 - val_YT_acc: 0.8255 - val_YP_acc: 0.4112\n",
      "Epoch 230/250\n",
      "3615/3615 [==============================] - 72s 20ms/step - loss: 2.2647 - YT_loss: 0.5561 - YP_loss: 1.7086 - YT_acc: 0.8200 - YP_acc: 0.4036 - val_loss: 2.2140 - val_YT_loss: 0.5342 - val_YP_loss: 1.6798 - val_YT_acc: 0.8256 - val_YP_acc: 0.4113\n",
      "Epoch 231/250\n",
      "3615/3615 [==============================] - 73s 20ms/step - loss: 2.2641 - YT_loss: 0.5551 - YP_loss: 1.7090 - YT_acc: 0.8201 - YP_acc: 0.4039 - val_loss: 2.2131 - val_YT_loss: 0.5338 - val_YP_loss: 1.6793 - val_YT_acc: 0.8256 - val_YP_acc: 0.4126\n",
      "Epoch 232/250\n",
      "3615/3615 [==============================] - 69s 19ms/step - loss: 2.2637 - YT_loss: 0.5542 - YP_loss: 1.7095 - YT_acc: 0.8206 - YP_acc: 0.4031 - val_loss: 2.2129 - val_YT_loss: 0.5332 - val_YP_loss: 1.6797 - val_YT_acc: 0.8256 - val_YP_acc: 0.4117\n",
      "Epoch 233/250\n",
      "3615/3615 [==============================] - 68s 19ms/step - loss: 2.2561 - YT_loss: 0.5503 - YP_loss: 1.7058 - YT_acc: 0.8208 - YP_acc: 0.4039 - val_loss: 2.2100 - val_YT_loss: 0.5315 - val_YP_loss: 1.6785 - val_YT_acc: 0.8259 - val_YP_acc: 0.4119\n",
      "Epoch 234/250\n",
      "3615/3615 [==============================] - 73s 20ms/step - loss: 2.2551 - YT_loss: 0.5498 - YP_loss: 1.7053 - YT_acc: 0.8211 - YP_acc: 0.4049 - val_loss: 2.2080 - val_YT_loss: 0.5310 - val_YP_loss: 1.6770 - val_YT_acc: 0.8260 - val_YP_acc: 0.4129\n",
      "Epoch 235/250\n",
      "3615/3615 [==============================] - 71s 20ms/step - loss: 2.2564 - YT_loss: 0.5504 - YP_loss: 1.7061 - YT_acc: 0.8210 - YP_acc: 0.4050 - val_loss: 2.2082 - val_YT_loss: 0.5320 - val_YP_loss: 1.6762 - val_YT_acc: 0.8257 - val_YP_acc: 0.4135\n",
      "Epoch 236/250\n",
      "3615/3615 [==============================] - 70s 19ms/step - loss: 2.2559 - YT_loss: 0.5514 - YP_loss: 1.7045 - YT_acc: 0.8204 - YP_acc: 0.4049 - val_loss: 2.2065 - val_YT_loss: 0.5299 - val_YP_loss: 1.6765 - val_YT_acc: 0.8260 - val_YP_acc: 0.4128\n",
      "Epoch 237/250\n",
      "3615/3615 [==============================] - 70s 19ms/step - loss: 2.2557 - YT_loss: 0.5521 - YP_loss: 1.7036 - YT_acc: 0.8198 - YP_acc: 0.4060 - val_loss: 2.2086 - val_YT_loss: 0.5320 - val_YP_loss: 1.6766 - val_YT_acc: 0.8252 - val_YP_acc: 0.4129\n",
      "Epoch 238/250\n",
      "1905/3615 [==============>...............] - ETA: 30s - loss: 2.2468 - YT_loss: 0.5427 - YP_loss: 1.7041 - YT_acc: 0.8249 - YP_acc: 0.4057"
     ]
    }
   ],
   "source": [
    "historyGRU = GRUmodel.fit(x=xs, y=ys, batch_size=ml-1, epochs=250, verbose=1, callbacks=None, validation_split=0.2)"
   ]
  },
  {
   "cell_type": "code",
   "execution_count": null,
   "metadata": {},
   "outputs": [],
   "source": [
    "historyRNN = RNNmodel.fit(x=xs, y=ys, batch_size=ml-1, epochs=250, verbose=1, callbacks=None, validation_split=0.2)"
   ]
  },
  {
   "cell_type": "code",
   "execution_count": null,
   "metadata": {},
   "outputs": [],
   "source": [
    "plotLearningCurves_separated(historyRNN, historyGRU)"
   ]
  },
  {
   "cell_type": "code",
   "execution_count": 63,
   "metadata": {},
   "outputs": [],
   "source": [
    "save_model(RNNmodel, \"RNNmodel\")\n",
    "save_model(GRUmodel, \"GRUmodel\")"
   ]
  },
  {
   "cell_type": "markdown",
   "metadata": {},
   "source": [
    "**Question**: What are the best prediction accuracies you obtained? With which model?\n",
    "    \n",
    "**Answer**: The best predictions with networks with one hidden layer and 128 hidden units are obtained using GRU cells, which gives better overall accuracy in the test set (???????). In order to have a richer model, more complex models with better accuracy are explored for generating melodies in exercise 7. \n",
    "\n",
    "**Question**: In a few sentences, comment on the plot comparing learning curves for the two activation function.\n",
    "    \n",
    "**Answer**: \n",
    "\n"
   ]
  },
  {
   "cell_type": "markdown",
   "metadata": {
    "collapsed": true
   },
   "source": [
    "## Exercise 6: Visualizing the model\n",
    "### Description\n",
    "\n",
    "1. Using the model.predict and plotMelody functions, show the outputs of your best model when fed with 4 randomly selected melodies. Report the prediction accuracies as well.\n",
    "2. For the same melodies, plot the hidden state evolution accross time steps. Construct a 2 dimensional matrix with the first dimension being time and the second the concatenation of all hidden unit activations and plot it using the provided `plotMelody` function. To get the hidden states of your network, you can modify the `buildModel` function so that you have another computation graph (another model with the same layers, but the output layer) returning you the hidden states. However, other approaches are equally valid.  \n",
    "3. For each hidden unit $i$ and accross the entire dataset, compute the average absolute change in activation $\\Delta A_i$. Be careful not to take masked timesteps into account. Plot the histogram (50 bins) of this average for the RNN and GRU models on the same figure."
   ]
  },
  {
   "cell_type": "markdown",
   "metadata": {},
   "source": [
    "### Solution"
   ]
  },
  {
   "cell_type": "code",
   "execution_count": 44,
   "metadata": {},
   "outputs": [],
   "source": [
    "RNNmodel = load_model(\"RNNmodel\")\n",
    "GRUmodel = load_model(\"GRUmodel\")"
   ]
  },
  {
   "cell_type": "code",
   "execution_count": 45,
   "metadata": {},
   "outputs": [],
   "source": [
    "get_intermediate_RNN = K.function([RNNmodel.layers[0].input, RNNmodel.layers[1].input],\n",
    "                              [RNNmodel.layers[5].output])\n",
    "\n",
    "get_intermediate_GRU = K.function([GRUmodel.layers[0].input, GRUmodel.layers[1].input],\n",
    "                              [GRUmodel.layers[5].output])"
   ]
  },
  {
   "cell_type": "code",
   "execution_count": 46,
   "metadata": {},
   "outputs": [],
   "source": [
    "def get_accuracy(notes, dic):\n",
    "    accu = 0\n",
    "    real = 0\n",
    "    for i, e in enumerate(notes):\n",
    "        if 1 in dataset[label][dic][i]:\n",
    "            real +=1\n",
    "            real_one = np.where(dataset[label][dic][i] == 1)[0]\n",
    "            one = np.argmax(e)\n",
    "\n",
    "            if real_one == one: \n",
    "                accu += 1\n",
    "    accu = round(accu/real,4)*100\n",
    "    return accu"
   ]
  },
  {
   "cell_type": "code",
   "execution_count": 47,
   "metadata": {},
   "outputs": [
    {
     "ename": "ValueError",
     "evalue": "Error when checking : expected XT to have shape (393, 24) but got array with shape (381, 26)",
     "output_type": "error",
     "traceback": [
      "\u001b[0;31m---------------------------------------------------------------------------\u001b[0m",
      "\u001b[0;31mValueError\u001b[0m                                Traceback (most recent call last)",
      "\u001b[0;32m<ipython-input-47-727e49fde123>\u001b[0m in \u001b[0;36m<module>\u001b[0;34m()\u001b[0m\n\u001b[1;32m      6\u001b[0m         }\n\u001b[1;32m      7\u001b[0m \u001b[0;34m\u001b[0m\u001b[0m\n\u001b[0;32m----> 8\u001b[0;31m         \u001b[0mpred\u001b[0m \u001b[0;34m=\u001b[0m \u001b[0mmod\u001b[0m\u001b[0;34m[\u001b[0m\u001b[0;36m0\u001b[0m\u001b[0;34m]\u001b[0m\u001b[0;34m.\u001b[0m\u001b[0mpredict\u001b[0m\u001b[0;34m(\u001b[0m\u001b[0mdat\u001b[0m\u001b[0;34m,\u001b[0m \u001b[0mbatch_size\u001b[0m\u001b[0;34m=\u001b[0m\u001b[0mml\u001b[0m\u001b[0;34m-\u001b[0m\u001b[0;36m1\u001b[0m\u001b[0;34m)\u001b[0m\u001b[0;34m\u001b[0m\u001b[0m\n\u001b[0m\u001b[1;32m      9\u001b[0m         \u001b[0mpred_2\u001b[0m \u001b[0;34m=\u001b[0m \u001b[0mmod\u001b[0m\u001b[0;34m[\u001b[0m\u001b[0;36m1\u001b[0m\u001b[0;34m]\u001b[0m\u001b[0;34m(\u001b[0m\u001b[0;34m[\u001b[0m\u001b[0mdat\u001b[0m\u001b[0;34m[\u001b[0m\u001b[0;34m'XT'\u001b[0m\u001b[0;34m]\u001b[0m\u001b[0;34m,\u001b[0m \u001b[0mdat\u001b[0m\u001b[0;34m[\u001b[0m\u001b[0;34m'XP'\u001b[0m\u001b[0;34m]\u001b[0m\u001b[0;34m]\u001b[0m\u001b[0;34m)\u001b[0m\u001b[0;34m\u001b[0m\u001b[0m\n\u001b[1;32m     10\u001b[0m \u001b[0;34m\u001b[0m\u001b[0m\n",
      "\u001b[0;32m/usr/local/lib/python3.5/dist-packages/keras/engine/training.py\u001b[0m in \u001b[0;36mpredict\u001b[0;34m(self, x, batch_size, verbose, steps)\u001b[0m\n\u001b[1;32m   1822\u001b[0m         x = _standardize_input_data(x, self._feed_input_names,\n\u001b[1;32m   1823\u001b[0m                                     \u001b[0mself\u001b[0m\u001b[0;34m.\u001b[0m\u001b[0m_feed_input_shapes\u001b[0m\u001b[0;34m,\u001b[0m\u001b[0;34m\u001b[0m\u001b[0m\n\u001b[0;32m-> 1824\u001b[0;31m                                     check_batch_axis=False)\n\u001b[0m\u001b[1;32m   1825\u001b[0m         \u001b[0;32mif\u001b[0m \u001b[0mself\u001b[0m\u001b[0;34m.\u001b[0m\u001b[0mstateful\u001b[0m\u001b[0;34m:\u001b[0m\u001b[0;34m\u001b[0m\u001b[0m\n\u001b[1;32m   1826\u001b[0m             \u001b[0;32mif\u001b[0m \u001b[0mx\u001b[0m\u001b[0;34m[\u001b[0m\u001b[0;36m0\u001b[0m\u001b[0;34m]\u001b[0m\u001b[0;34m.\u001b[0m\u001b[0mshape\u001b[0m\u001b[0;34m[\u001b[0m\u001b[0;36m0\u001b[0m\u001b[0;34m]\u001b[0m \u001b[0;34m>\u001b[0m \u001b[0mbatch_size\u001b[0m \u001b[0;32mand\u001b[0m \u001b[0mx\u001b[0m\u001b[0;34m[\u001b[0m\u001b[0;36m0\u001b[0m\u001b[0;34m]\u001b[0m\u001b[0;34m.\u001b[0m\u001b[0mshape\u001b[0m\u001b[0;34m[\u001b[0m\u001b[0;36m0\u001b[0m\u001b[0;34m]\u001b[0m \u001b[0;34m%\u001b[0m \u001b[0mbatch_size\u001b[0m \u001b[0;34m!=\u001b[0m \u001b[0;36m0\u001b[0m\u001b[0;34m:\u001b[0m\u001b[0;34m\u001b[0m\u001b[0m\n",
      "\u001b[0;32m/usr/local/lib/python3.5/dist-packages/keras/engine/training.py\u001b[0m in \u001b[0;36m_standardize_input_data\u001b[0;34m(data, names, shapes, check_batch_axis, exception_prefix)\u001b[0m\n\u001b[1;32m    121\u001b[0m                             \u001b[0;34m': expected '\u001b[0m \u001b[0;34m+\u001b[0m \u001b[0mnames\u001b[0m\u001b[0;34m[\u001b[0m\u001b[0mi\u001b[0m\u001b[0;34m]\u001b[0m \u001b[0;34m+\u001b[0m \u001b[0;34m' to have shape '\u001b[0m \u001b[0;34m+\u001b[0m\u001b[0;34m\u001b[0m\u001b[0m\n\u001b[1;32m    122\u001b[0m                             \u001b[0mstr\u001b[0m\u001b[0;34m(\u001b[0m\u001b[0mshape\u001b[0m\u001b[0;34m)\u001b[0m \u001b[0;34m+\u001b[0m \u001b[0;34m' but got array with shape '\u001b[0m \u001b[0;34m+\u001b[0m\u001b[0;34m\u001b[0m\u001b[0m\n\u001b[0;32m--> 123\u001b[0;31m                             str(data_shape))\n\u001b[0m\u001b[1;32m    124\u001b[0m     \u001b[0;32mreturn\u001b[0m \u001b[0mdata\u001b[0m\u001b[0;34m\u001b[0m\u001b[0m\n\u001b[1;32m    125\u001b[0m \u001b[0;34m\u001b[0m\u001b[0m\n",
      "\u001b[0;31mValueError\u001b[0m: Error when checking : expected XT to have shape (393, 24) but got array with shape (381, 26)"
     ]
    }
   ],
   "source": [
    "for label in np.random.choice(list(dataset.keys()), 4):\n",
    "    for mod in [[RNNmodel,get_intermediate_RNN] , [GRUmodel,get_intermediate_GRU]]:\n",
    "        dat = {\n",
    "            'XT': np.expand_dims(dataset[label]['T'][:-1], axis=0),\n",
    "            'XP': np.expand_dims(dataset[label]['P'][:-1], axis=0)\n",
    "        }\n",
    "\n",
    "        pred = mod[0].predict(dat, batch_size=ml-1)\n",
    "        pred_2 = mod[1]([dat['XT'], dat['XP']])\n",
    "\n",
    "        t = pred[0].reshape((ml-1, len(dictionary['T'])))\n",
    "        p = pred[1].reshape((ml-1, len(dictionary['P'])))\n",
    "        \n",
    "        H = pred_2[0].reshape((ml-1, 128))\n",
    "\n",
    "        accu_p = get_accuracy(p, 'P')\n",
    "        accu_t = get_accuracy(t, 'T')\n",
    "        print(label, '\\n')\n",
    "        plotMelody(dataset[label]['P'], dataset[label]['T'], dictionary, PrP=p, PrT=t, H=H)\n",
    "        print(\"Accuracy: 'P': {}%, 'T': {}% \\n\".format(accu_p, accu_t))"
   ]
  },
  {
   "cell_type": "markdown",
   "metadata": {},
   "source": [
    "**CHANGES IN ACTIVATION**"
   ]
  },
  {
   "cell_type": "code",
   "execution_count": 92,
   "metadata": {},
   "outputs": [],
   "source": [
    "def h_transf(P, T, dictionaries, H):\n",
    "    P = np.asarray(P)\n",
    "    T = np.asarray(T)\n",
    "    if len(P.shape) == 1:#if array\n",
    "        P = np_utils.to_categorical(P, len(dictionaries['P']))\n",
    "    if len(T.shape) == 1:#if array\n",
    "        T = np_utils.to_categorical(T, len(dictionaries['T']))\n",
    "    \n",
    "    xlim = [-1,np.where(P==1)[0][-1]+1]\n",
    "    \n",
    "    activeidxes = np.where(np.sum(P, axis=0)>1.)[0]\n",
    "    \n",
    "    diff = np.mean([[abs(j-i) for i,j in zip(H[:xlim[1]-1,k], H[1:xlim[1],k])] for k in range(H.shape[1])], axis=1)\n",
    "    #print(diff)\n",
    "    sortidx = np.argsort(-diff)\n",
    "    H = H[:,sortidx]\n",
    "    return diff"
   ]
  },
  {
   "cell_type": "code",
   "execution_count": 94,
   "metadata": {},
   "outputs": [
    {
     "data": {
      "application/vnd.jupyter.widget-view+json": {
       "model_id": "fdb65373fe1146d0a8c137936c873d43",
       "version_major": 2,
       "version_minor": 0
      },
      "text/plain": [
       "VBox(children=(HTML(value=''), IntProgress(value=0, max=4510)))"
      ]
     },
     "metadata": {},
     "output_type": "display_data"
    }
   ],
   "source": [
    "mean_delta_RNN = {}\n",
    "mean_delta_GRU = {}\n",
    "\n",
    "m_d_RNN = {}\n",
    "m_d_GRU = {}\n",
    "\n",
    "for label in log_progress(list(dataset.keys()),every=1):\n",
    "    dat = {\n",
    "        'XT': np.expand_dims(dataset[label]['T'][:-1], axis=0),\n",
    "        'XP': np.expand_dims(dataset[label]['P'][:-1], axis=0)\n",
    "    }\n",
    "\n",
    "  \n",
    "    #compute lastest non-padded value\n",
    "    last_id = np.where(np.sum(dataset[label]['P'], axis=1)>1.)[0]    \n",
    "    \n",
    "    pred_RNN = get_intermediate_RNN([dat['XT'], dat['XP']])\n",
    "\n",
    "    activation_RNN = pred_RNN[0][0]\n",
    "    \n",
    "    if len(last_id) >0:\n",
    "        activation_RNN = activation_RNN[:last_id]\n",
    "    diff_RNN = abs(activation_RNN[1:] - activation_RNN[:-1])\n",
    "    mean_delta_RNN[label] = np.mean(diff_RNN, axis=0)\n",
    "    m_d_RNN[label] = h_transf(dataset[label]['P'], dataset[label]['T'], dictionary, activation_RNN)\n",
    "\n",
    "    pred_GRU = get_intermediate_GRU([dat['XT'], dat['XP']])\n",
    "    activation_GRU = pred_GRU[0][0]\n",
    "    if len(last_id) >0:\n",
    "        activation_GRU = activation_GRU[:last_id]\n",
    "    diff_GRU = abs(activation_GRU[1:] - activation_GRU[:-1])\n",
    "    mean_delta_GRU[label] = np.mean(diff_GRU, axis=0)\n",
    "    m_d_GRU[label] = h_transf(dataset[label]['P'], dataset[label]['T'], dictionary, activation_GRU)"
   ]
  },
  {
   "cell_type": "code",
   "execution_count": 96,
   "metadata": {},
   "outputs": [
    {
     "data": {
      "image/png": "[encoded data removed]",
      "text/plain": [
       "<Figure size 432x288 with 1 Axes>"
      ]
     },
     "metadata": {
      "image/png": {
       "height": 250,
       "width": 370
      }
     },
     "output_type": "display_data"
    },
    {
     "data": {
      "image/png": "[encoded data removed]",
      "text/plain": [
       "<Figure size 432x288 with 1 Axes>"
      ]
     },
     "metadata": {
      "image/png": {
       "height": 250,
       "width": 370
      }
     },
     "output_type": "display_data"
    }
   ],
   "source": [
    "means_RNN = np.asarray(list(mean_delta_RNN.values()))\n",
    "average_RNN = np.mean(means_RNN, axis=0)\n",
    "m_RNN = np.asarray(list(m_d_RNN.values()))\n",
    "ave_RNN = np.mean(m_RNN, axis=0)\n",
    "\n",
    "means_GRU = np.asarray(list(mean_delta_GRU.values()))\n",
    "average_GRU = np.mean(means_GRU, axis=0)\n",
    "m_GRU = np.asarray(list(m_d_GRU.values()))\n",
    "ave_GRU = np.mean(m_GRU, axis=0)\n",
    "\n",
    "plt.figure()\n",
    "plt.hist(average_RNN, bins=50, color='g', alpha = 1, label = \"RNN\")\n",
    "plt.hist(average_GRU, bins=50, color='b', alpha=0.8, label = \"GRU\")\n",
    "plt.legend()\n",
    "plt.show()\n",
    "\n",
    "plt.figure()\n",
    "plt.hist(ave_RNN, bins=50, color='g', alpha = 1, label = \"mod RNN\")\n",
    "plt.hist(ave_GRU, bins=50, color='b', alpha=0.8, label = \"mod GRU\")\n",
    "plt.legend()\n",
    "plt.show()"
   ]
  },
  {
   "cell_type": "markdown",
   "metadata": {},
   "source": [
    "**Question**: How does the hidden state dynamics explain the performance of the RNN vs GRU models? Explain in term of temporal dependencies and base your explanation on figures obtained in 6.2 and 6.3.\n",
    "    \n",
    "**Answer**: \n"
   ]
  },
  {
   "cell_type": "markdown",
   "metadata": {
    "collapsed": true
   },
   "source": [
    "## Exercise 7: Generation of new melodies\n",
    "### Description\n",
    "\n",
    "1. Use your trained best model to generate new melodies. You can do that by starting with a random note, feeding it to your network and sample the output predictions in order to select the next note. Then add this note to your iteratively growing melodies. For your convenience, we provided the `sample` and `writeMIDI` functions. You can use the first in order to perform temperature sampling. The `writeMIDI` function allows you to write a MIDI file from the integer representation.\n",
    "2. Try different sampling temperatures (e.g. 0.5, 1., 1.5) and observe the effect on your generated melodies.\n",
    "3. Generate 32 melodies with both the RNN and GRU models\n",
    "4. Listen to 4 randomly chosen melodies (2 from the GRU model and 2 from the RNN model). To play in a notebook, use a similar approach as the one shown below assuming you have the files `GRU_1.mid` and `RNN_1.mid` at the same level as this notebook. For your own curiosity, you can also directly listen to the MIDI files with your favorite MIDI player but make sure that we can listen to the 4 extracts directly from this notebook (without rerunning it). If you have trouble achieving that, upload the MIDI files with your submission.\n",
    "5. (Optional) If you have a big enough computing power, try adding multiple and bigger layers. You could also try to improve your model with different add-ons, e.g. make your model learn when a melody ends, extend it to other datasets, ...\n",
    "6. (Optional) If you are happy with your results submit a 1 hour long generated MIDI file to the [AI-generated music challenge](https://www.crowdai.org/challenges/ai-generated-music-challenge). "
   ]
  },
  {
   "cell_type": "markdown",
   "metadata": {},
   "source": [
    "### Solution"
   ]
  },
  {
   "cell_type": "code",
   "execution_count": null,
   "metadata": {},
   "outputs": [],
   "source": [
    "GRUmodel_imp = buildModel(dictionary, batch_length=ml-1, activation='GRU', improved=True)\n",
    "RNNmodel_imp = buildModel(dictionary, batch_length=ml-1, activation='RNN', improved=True)"
   ]
  },
  {
   "cell_type": "code",
   "execution_count": null,
   "metadata": {},
   "outputs": [],
   "source": [
    "historyGRU_imp = GRUmodel_imp.fit(x=xs, y=ys, batch_size=ml-1, epochs=250, verbose=1, callbacks=None, validation_split=0.2)"
   ]
  },
  {
   "cell_type": "code",
   "execution_count": null,
   "metadata": {},
   "outputs": [],
   "source": [
    "historyRNN_imp = RNNmodel_imp.fit(x=xs, y=ys, batch_size=ml-1, epochs=250, verbose=1, callbacks=None, validation_split=0.2)"
   ]
  },
  {
   "cell_type": "code",
   "execution_count": null,
   "metadata": {},
   "outputs": [],
   "source": [
    "save_model(RNNmodel_imp, \"RNNmodel_imp\")\n",
    "save_model(GRUmodel_imp, \"GRUmodel_imp\")"
   ]
  },
  {
   "cell_type": "code",
   "execution_count": null,
   "metadata": {},
   "outputs": [],
   "source": [
    "if not os.path.exists(os.path.dirname(\"out/\")):\n",
    "    try:\n",
    "        os.makedirs(os.path.dirname(\"out/\"))\n",
    "    except OSError as exc:\n",
    "        if exc.errno != errno.EEXIST:\n",
    "            raise\n",
    "\n",
    "def new_song(ini_p, ini_t, model,label, temperature):\n",
    "    xp = np.zeros((ml-1, len(dictionary['P'])))\n",
    "    xp[0][ini_p] = 1\n",
    "\n",
    "    xt = np.zeros((ml-1, len(dictionary['T'])))\n",
    "    xt[0][ini_t] = 1\n",
    "\n",
    "    song = {\n",
    "        'xT': [ini_t],\n",
    "        'xP': [ini_p]\n",
    "    }\n",
    "    dat = {\n",
    "        'XT': np.expand_dims(xt, axis=0),\n",
    "        'XP': np.expand_dims(xp, axis=0)\n",
    "    }\n",
    "    \n",
    "    for i in range(1, ml-1):\n",
    "        next_note = model.predict(dat)\n",
    "        next_note_t = next_note[0][0]\n",
    "        next_note_p = next_note[1][0]\n",
    "\n",
    "        t = sample(next_note_t[i-1], temperature)\n",
    "        dat['XT'][0][i][t] = 1\n",
    "        song['xT'].append(t)\n",
    "\n",
    "        p = sample(next_note_p[i-1], temperature)\n",
    "        dat['XP'][0][i][p] = 1\n",
    "        song['xP'].append(p)\n",
    "    \n",
    "    writeMIDI(song['xP'], song['xT'], dictionary, 'out/{}.mid'.format(label))"
   ]
  },
  {
   "cell_type": "code",
   "execution_count": null,
   "metadata": {},
   "outputs": [],
   "source": [
    "for i in log_progress(range(1), every=1):\n",
    "    t = randint(0, len(dictionary['T']) - 1)\n",
    "    p = randint(0, len(dictionary['P']) - 1)\n",
    "    for t in [0.5, 1, 1.5]:\n",
    "        label1 = 'GRU_{}_{}'.format(i,t)\n",
    "        new_song(p, t, GRUmodel, label1, t)\n",
    "        label2 = 'RNN_{}_{}'.format(i,t)\n",
    "        new_song(p, t, RNNmodel, label2, t)"
   ]
  },
  {
   "cell_type": "code",
   "execution_count": null,
   "metadata": {},
   "outputs": [],
   "source": [
    "mf = music21.midi.MidiFile()\n",
    "mf.open('out/GRU_1.mid')\n",
    "mf.read()\n",
    "mf.close()\n",
    "s = music21.midi.translate.midiFileToStream(mf)\n",
    "print('GRU')\n",
    "s.show('midi')"
   ]
  },
  {
   "cell_type": "code",
   "execution_count": null,
   "metadata": {},
   "outputs": [],
   "source": [
    "mf = music21.midi.MidiFile()\n",
    "mf.open('out/RNN_1.mid')\n",
    "mf.read()\n",
    "mf.close()\n",
    "s = music21.midi.translate.midiFileToStream(mf)\n",
    "print('RNN')\n",
    "s.show('midi')"
   ]
  },
  {
   "cell_type": "markdown",
   "metadata": {},
   "source": [
    "**Question**: What is the effect of the sampling temperature on the generated melodies?\n",
    "    \n",
    "**Answer**: \n",
    "\n",
    "**Question**: Are the generated melodies from the RNN model different from the one generated by the GRU model? If yes, what are the main differences?\n",
    "\n",
    "**Answer**: \n",
    "\n"
   ]
  }
 ],
 "metadata": {
  "anaconda-cloud": {},
  "kernelspec": {
   "display_name": "Python 3",
   "language": "python",
   "name": "python3"
  },
  "language_info": {
   "codemirror_mode": {
    "name": "ipython",
    "version": 3
   },
   "file_extension": ".py",
   "mimetype": "text/x-python",
   "name": "python",
   "nbconvert_exporter": "python",
   "pygments_lexer": "ipython3",
   "version": "3.5.2"
  }
 },
 "nbformat": 4,
 "nbformat_minor": 1
}
