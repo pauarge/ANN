{
 "cells": [
  {
   "cell_type": "markdown",
   "metadata": {},
   "source": [
    "# Miniproject 2: Melody generation\n",
    "\n",
    "## Introduction\n",
    "\n",
    "### Description\n",
    "\n",
    "To develop a model employing ANN on real-world data requires going through several major steps, each of which with important design choices that directly impact the end results. In this project, we guide you through these choices starting from a large database of [Irish folk melodies](https://github.com/IraKorshunova/folk-rnn/tree/master/data) to your own model of symbolic music composition. \n",
    "\n",
    "\n",
    "### Prerequisites\n",
    "\n",
    "- You should have a running installation of [tensorflow](https://www.tensorflow.org/install/) and [keras](https://keras.io/).\n",
    "- You should know the concepts \"recurrent neural networks\", \"LSTM\", \"training and validation data\", \"overfitting\" and \"early stopping\".\n",
    "\n",
    "### What you will learn\n",
    "\n",
    "- You will be guided through a data processing procedure and understand the importance of design choices in ANN modeling\n",
    "- You will learn how to define recurrent neural networks in keras and fit them to data.\n",
    "- You will be guided through a prototyping procedure for the application of deep learning to a specific domain.\n",
    "- You will get in contact with concepts discussed later in the lecture, like \"overfitting\", \"LSTM network\", and \"Generative model\".\n",
    "- You will learn to be more patient :) Some fits may take your computer quite a bit of time; run them over night.\n",
    "\n",
    "### Evaluation criteria\n",
    "\n",
    "The evaluation is (mostly) based on the figures you submit and your answer sentences. \n",
    "We will only do random tests of your code and not re-run the full notebook. Please ensure that your notebook is fully executed before handing it in. "
   ]
  },
  {
   "cell_type": "markdown",
   "metadata": {},
   "source": [
    "## Functions and imports\n",
    "\n",
    "For your convenience we import some libraries and provide some functions below. Some libraries (midi and music21) should be added. If you work with the docker image, pull it `docker pull zifeo/artificial-neural-networks:cpu` before to get the latest version where these libraries are added. If you work locally, be sure to import them. If you do not find the midi library for python3, install it with `python python3-midi/setup.py install` after cloning https://github.com/louisabraham/python3-midi.git.\n",
    "\n",
    "Finally, fill in your sciper number(s) for the random seed and simply run the following cell."
   ]
  },
  {
   "cell_type": "code",
   "execution_count": 26,
   "metadata": {},
   "outputs": [],
   "source": [
    "sciper = {'student_1': 284216, \n",
    "          'student_2': 285155}\n",
    "seed = sciper['student_1']+sciper['student_2']\n",
    "\n",
    "%matplotlib inline\n",
    "\n",
    "import numpy as np\n",
    "import matplotlib.pyplot as plt\n",
    "import os, sys\n",
    "\n",
    "from functools import reduce\n",
    "from bisect import bisect_left\n",
    "\n",
    "plt.rcParams['font.size'] = 28\n",
    "plt.style.use('ggplot')\n",
    "plt.rcParams[\"axes.grid\"] = False\n",
    "c = plt.rcParams['axes.prop_cycle'].by_key()['color']\n",
    "plt.rcParams['figure.figsize'] = 8, 4\n",
    "\n",
    "import keras\n",
    "from keras.models import Model, load_model\n",
    "from keras.layers import Input, Masking, TimeDistributed, Dense, Concatenate, Dropout, LSTM, GRU, SimpleRNN\n",
    "from keras.optimizers import Adam\n",
    "from keras.utils import np_utils\n",
    "from keras.preprocessing.sequence import pad_sequences\n",
    "from keras.callbacks import ModelCheckpoint\n",
    "\n",
    "import midi\n",
    "import music21\n",
    "\n",
    "from collections import Counter\n",
    "\n",
    "def plotMelody(P, T, dictionaries, PrP=None, PrT=None, H=None):\n",
    "    \"\"\"\n",
    "    P: The pitch array (integer representation) or matrix (one-hot encoding)\n",
    "    T: The duration array (integer representation) or matrix (one-hot encoding)\n",
    "    dictionaries: The dictionaries relating integer to a pitch or duration\n",
    "    PrP: (Optional) If provided with PrT, plot the transition probabilities\n",
    "    PrT: (Optional) If provided with PrP, plot the transition probabilities\n",
    "    H: (Optional) Add a plot with the hidden state dynamic sorted by frequency\n",
    "    \"\"\"\n",
    "    P = np.asarray(P)\n",
    "    T = np.asarray(T)\n",
    "    if len(P.shape) == 1:#if array\n",
    "        P = np_utils.to_categorical(P, len(dictionaries['P']))\n",
    "    if len(T.shape) == 1:#if array\n",
    "        T = np_utils.to_categorical(T, len(dictionaries['T']))\n",
    "    \n",
    "    xlim = [-1,np.where(P==1)[0][-1]+1]\n",
    "    \n",
    "    activeidxes = np.where(np.sum(P, axis=0)>1.)[0]\n",
    "    plt.figure(figsize=(8,4))\n",
    "    if PrP is not None:\n",
    "        targets = np.where(P[:,activeidxes]==1)\n",
    "        plt.imshow(PrP[:,activeidxes].T, origin='lower', aspect='auto', interpolation='nearest', cmap=plt.cm.gray_r, vmin=0, vmax=1)\n",
    "        plt.scatter(targets[0]-1,targets[1], color='red',s=10, marker='.') \n",
    "    else:\n",
    "        plt.imshow(P[:,activeidxes].T, origin='lower', aspect='auto', interpolation='nearest', cmap=plt.cm.gray_r, vmin=0, vmax=1)\n",
    "    plt.ylim([-0.5,len(activeidxes)-0.5])\n",
    "    plt.yticks(range(len(activeidxes)),[dictionaries[\"P\"][i] for i in activeidxes])\n",
    "    plt.tight_layout()\n",
    "    plt.xlabel(\"$n$\")\n",
    "    plt.ylabel(\"$P[n]$\")\n",
    "    plt.xlim(xlim)\n",
    "    plt.show()\n",
    "    \n",
    "    activeidxes = np.where(np.sum(T, axis=0)>1.)[0]\n",
    "    plt.figure(figsize=(8,4))\n",
    "    if PrT is not None:\n",
    "        targets = np.where(T[:,activeidxes]==1)\n",
    "        plt.imshow(PrT[:,activeidxes].T, origin='lower', aspect='auto', interpolation='nearest', cmap=plt.cm.gray_r, vmin=0, vmax=1)\n",
    "        plt.scatter(targets[0]-1,targets[1], color='red',s=10, marker='.')\n",
    "    else:\n",
    "        plt.imshow(T[:,activeidxes].T, origin='lower', aspect='auto', interpolation='nearest', cmap=plt.cm.gray_r, vmin=0, vmax=1)\n",
    "    plt.ylim([-0.5,len(activeidxes)-0.5])\n",
    "    plt.yticks(range(len(activeidxes)),[dictionaries[\"T\"][i] for i in activeidxes])\n",
    "    plt.tight_layout()\n",
    "    plt.xlabel(\"$n$\")\n",
    "    plt.ylabel(\"$T[n]$\")\n",
    "    plt.xlim(xlim)\n",
    "    plt.show()\n",
    "    \n",
    "    \n",
    "    if H is not None:\n",
    "        diff = np.mean([[abs(j-i) for i,j in zip(H[:xlim[1]-1,k], H[1:xlim[1],k])] for k in range(H.shape[1])], axis=1)\n",
    "        sortidx = np.argsort(-diff)\n",
    "        H = H[:,sortidx]\n",
    "        plt.figure(figsize=(8,4))\n",
    "        plt.imshow(H.T, origin='lower', aspect='auto', interpolation='nearest', cmap=plt.cm.seismic, vmin=-1, vmax=1)\n",
    "        plt.xlim([-1,np.where(T==1)[0][-1]+1])\n",
    "        plt.tight_layout()\n",
    "        plt.xlabel(\"$n$\")\n",
    "        plt.ylabel(\"$H[n]$\")\n",
    "        plt.show()\n",
    "\n",
    "\n",
    "def plotLearningCurves(History):\n",
    "    \n",
    "    log = History.history\n",
    "    \n",
    "    plt.figure(figsize=(8,4))\n",
    "    plt.plot(log['YP_loss'], '--', c=c[0], label='Pitch train loss')\n",
    "    plt.plot(log['val_YP_loss'], c=c[0], label='Pitch val loss')\n",
    "    \n",
    "    plt.plot(log['YT_loss'], '--', c=c[1], label='Dur train loss')\n",
    "    plt.plot(log['val_YT_loss'], c=c[1], label='Dur val loss')\n",
    "    plt.legend(loc='best')\n",
    "    \n",
    "    plt.figure(figsize=(8,4))\n",
    "    plt.plot(log['YP_acc'], '--', c=c[0], label='Pitch train acc')\n",
    "    plt.plot(log['val_YP_acc'], c=c[0], label='Pitch val acc')\n",
    "    \n",
    "    plt.plot(log['YT_acc'], '--', c=c[1], label='Dur train acc')\n",
    "    plt.plot(log['val_YT_acc'], c=c[1], label='Dur val acc')\n",
    "    plt.legend(loc='best')\n",
    "\n",
    "def sample(preds, temperature=1.):\n",
    "    \"\"\"Helper function to sample an index from a probability array\"\"\"\n",
    "    preds = np.asarray(preds).astype('float64')\n",
    "    preds = np.log(preds) / temperature\n",
    "    exp_preds = np.exp(preds)\n",
    "    preds = exp_preds / np.sum(exp_preds)\n",
    "    probas = np.random.multinomial(1, preds, 1)\n",
    "    return np.argmax(probas)\n",
    "\n",
    "def writeMIDI(xP, xT, dictionaries, label):\n",
    "\n",
    "    # Instantiate a MIDI Pattern (contains a list of tracks)\n",
    "    pattern = midi.Pattern(format = 0, resolution=480)\n",
    "    # Instantiate a MIDI Track (contains a list of MIDI events)\n",
    "    track = midi.Track()\n",
    "    # Append the track to the pattern\n",
    "    pattern.append(track)\n",
    "    Events = []\n",
    "    \n",
    "    pseq = [dictionaries['P'][p] for p in xP]\n",
    "    tseq = [dictionaries['T'][t] for t in xT]\n",
    "    for t, p in zip(tseq, pseq):\n",
    "        e = midi.NoteOnEvent(tick=0, velocity=90, pitch=p)\n",
    "        track.append(e)\n",
    "        e = midi.NoteOffEvent(tick=t, velocity=0, pitch=p)\n",
    "        track.append(e)\n",
    "        \n",
    "    eot = midi.EndOfTrackEvent(tick=1)\n",
    "    track.append(eot)\n",
    "    # Save the pattern to disk\n",
    "    midi.write_midifile(label, pattern)"
   ]
  },
  {
   "cell_type": "markdown",
   "metadata": {},
   "source": [
    "## Exercise 1 : Data processing\n",
    "### Description\n",
    "\n",
    "For a real world application of ANNs, the original data should be translated into a representation understandable by an ANN. This step is often neglected but is of outmost importance. In order for you to better understand how ANN are applied to real world problems, the first step of this miniproject will guide you through a possible representation. \n",
    "\n",
    "Note that in general, your representation should be normalized in order to obtain homogeneous data from which a structure can be extracted by your ANN model. Importantly, all processing steps toward your representation should not (or minimally) distort your original data.\n",
    "\n",
    "To represent MIDI files, we provide you with a Python MIDI library. You should then\n",
    "\n",
    "0. Download the MIDI tar file from [this link](https://github.com/IraKorshunova/folk-rnn/tree/master/data) and put it in a folder named \"chorpus\" at the same level of this notebook.\n",
    "1. Parse the chorpus to extract the label of (a random subset of) the data (code is provided)\n",
    "2. Read each MIDI file in the subset with the midi [library](https://github.com/louisabraham/python3-midi)\n",
    "3. For each data sequence extract the sequence of MIDI notes defined by two dimensions (\"P\": the sequence of note pitches (integer between 0 and 127 representing a piano key), \"T\": the sequence of note durations.\n",
    "4. Select two melodies and display them both as sequences of MIDI events and sequence of notes in two dimensions. Control that your representation is correct.\n",
    "\n",
    "For step 3, you should learn how MIDI files are constructed. Below, we give a minimal explanation and some code for this particular project. For a more complete explanation, look for MIDI in your favorite search engine. Given this dataset, you can observe that it is monophonic (one note at a time) and there's a small delay (1 tick) inbetween each note. You could decide to ignore this delay or correct (recommanded) for it.\n",
    "\n",
    "A MIDI files is composed of timed events of many kinds. For this project, we focus on the events related to notes being played or stopped. Those are MIDI events \"Note Off\" and \"Note On\". Each event is timed with respect with the previous one (dt). The duration of a note is therefore given by the cummulated dt inbetween the event associated to a note's onset and the event associated with the same note's offset.\n",
    "        "
   ]
  },
  {
   "cell_type": "markdown",
   "metadata": {},
   "source": [
    "### Minimal code to read MIDI files"
   ]
  },
  {
   "cell_type": "code",
   "execution_count": 2,
   "metadata": {
    "scrolled": false
   },
   "outputs": [
    {
     "name": "stdout",
     "output_type": "stream",
     "text": [
      "chorpus/sessiontune0.mid\n",
      "########################################\n",
      "tick \t pitch \t message \t velocity\n",
      "########################################\n",
      "\n",
      "1 \t 67 \t Note On \t 105\n",
      "240 \t 67 \t Note Off \t 0\n",
      "241 \t 64 \t Note On \t 80\n",
      "480 \t 64 \t Note Off \t 0\n",
      "481 \t 64 \t Note On \t 80\n",
      "720 \t 64 \t Note Off \t 0\n",
      "721 \t 64 \t Note On \t 95\n",
      "1200 \t 64 \t Note Off \t 0\n",
      "1201 \t 62 \t Note On \t 80\n",
      ". \t . \t . \t \t .\n",
      ". \t . \t . \t \t .\n",
      ". \t . \t . \t \t .\n",
      "33601 \t 67 \t Note On \t 80\n",
      "33840 \t 67 \t Note Off \t 0\n",
      "33841 \t 69 \t Note On \t 95\n",
      "34080 \t 69 \t Note Off \t 0\n",
      "34081 \t 71 \t Note On \t 80\n",
      "34320 \t 71 \t Note Off \t 0\n",
      "34321 \t 72 \t Note On \t 80\n",
      "34560 \t 72 \t Note Off \t 0\n",
      "########################################\n",
      "\n",
      "4629/45853 melodies retained\n"
     ]
    }
   ],
   "source": [
    "def display(midi_file=\"chorpus/sessiontune0.mid\"):\n",
    "    #index 0 for first track only\n",
    "    events = midi.read_midifile(midi_file)[0] \n",
    "    tick = 0\n",
    "    print(midi_file)\n",
    "    print(\"#\"*40)\n",
    "    print(\"tick \\t pitch \\t message \\t velocity\")\n",
    "    print(\"#\"*40+'\\n')\n",
    "    for n, event in enumerate(events):\n",
    "        tick += event.tick\n",
    "        if event.name in ['Note On', 'Note Off']:\n",
    "            if n<13 or n>len(events)-10:\n",
    "                print(\"%i \\t %i \\t %s \\t %i\"%(tick, event.data[0], event.name, event.data[1]))\n",
    "            if n in range(20,23):\n",
    "                print(\". \\t . \\t . \\t \\t .\")\n",
    "    print(\"#\"*40+'\\n')\n",
    "\n",
    "display()\n",
    "\n",
    "datapath = \"chorpus/\"\n",
    "dataset = {}\n",
    "np.random.seed(seed)\n",
    "\n",
    "for filename in os.listdir(datapath):\n",
    "    if filename.endswith(\"mid\"):\n",
    "        label = filename[:-4]\n",
    "        #Down sample dataset\n",
    "        if np.random.rand() < 0.1:\n",
    "            dataset[label] = {\"T\":[], \"P\": []}\n",
    "print(\"%i/%i melodies retained\"%(len(list(dataset.keys())), len(os.listdir(datapath))))"
   ]
  },
  {
   "cell_type": "markdown",
   "metadata": {},
   "source": [
    "### Solution"
   ]
  },
  {
   "cell_type": "code",
   "execution_count": 3,
   "metadata": {},
   "outputs": [],
   "source": [
    "def parseMIDI(midi_file):\n",
    "    events = midi.read_midifile(midi_file)[0] #index 0 for first track only  \n",
    "    T = []\n",
    "    P = []\n",
    "    for n, event in enumerate(events):\n",
    "        if event.name == 'Note On':\n",
    "            P.append(event.data[0])\n",
    "        elif event.name == 'Note Off':\n",
    "            T.append(event.tick + 1)\n",
    "    return P, T"
   ]
  },
  {
   "cell_type": "code",
   "execution_count": 4,
   "metadata": {},
   "outputs": [],
   "source": [
    "for label in list(dataset.keys()):\n",
    "    Pseq, Tseq = parseMIDI(datapath+label+\".mid\")\n",
    "    dataset[label]['T']= Tseq\n",
    "    dataset[label]['P']= Pseq"
   ]
  },
  {
   "cell_type": "code",
   "execution_count": 5,
   "metadata": {},
   "outputs": [
    {
     "name": "stdout",
     "output_type": "stream",
     "text": [
      "sessiontune40061\n",
      "MIDI events\n",
      "chorpus/sessiontune40061.mid\n",
      "########################################\n",
      "tick \t pitch \t message \t velocity\n",
      "########################################\n",
      "\n",
      "1 \t 65 \t Note On \t 105\n",
      "320 \t 65 \t Note Off \t 0\n",
      "321 \t 66 \t Note On \t 80\n",
      "480 \t 66 \t Note Off \t 0\n",
      "481 \t 68 \t Note On \t 105\n",
      "800 \t 68 \t Note Off \t 0\n",
      "801 \t 65 \t Note On \t 80\n",
      "960 \t 65 \t Note Off \t 0\n",
      "961 \t 61 \t Note On \t 80\n",
      ". \t . \t . \t \t .\n",
      ". \t . \t . \t \t .\n",
      ". \t . \t . \t \t .\n",
      "61281 \t 66 \t Note On \t 80\n",
      "61440 \t 66 \t Note Off \t 0\n",
      "61441 \t 65 \t Note On \t 105\n",
      "61920 \t 65 \t Note Off \t 0\n",
      "61921 \t 61 \t Note On \t 80\n",
      "62400 \t 61 \t Note Off \t 0\n",
      "62401 \t 61 \t Note On \t 95\n",
      "62880 \t 61 \t Note Off \t 0\n",
      "########################################\n",
      "\n",
      "Note representation\n",
      "{'P': [65, 66, 68, 65, 61, 63, 65, 63, 61, 65, 68, 70, 68, 66, 70, 68, 65, 61, 73, 77, 75, 73, 77, 75, 73, 72, 75, 73, 72, 68, 70, 72, 70, 68, 66, 70, 68, 65, 61, 63, 65, 63, 61, 65, 68, 70, 68, 66, 70, 68, 65, 61, 73, 77, 75, 73, 72, 68, 70, 68, 66, 68, 66, 65, 61, 61, 65, 66, 68, 65, 61, 63, 65, 63, 61, 65, 68, 70, 68, 66, 70, 68, 65, 61, 73, 77, 75, 73, 77, 75, 73, 72, 75, 73, 72, 68, 70, 72, 70, 68, 66, 70, 68, 65, 61, 63, 65, 63, 61, 65, 68, 70, 68, 66, 70, 68, 65, 61, 73, 77, 75, 73, 72, 68, 70, 68, 66, 68, 66, 65, 61, 61, 77, 78, 80, 78, 77, 78, 77, 75, 77, 73, 75, 72, 73, 75, 77, 73, 70, 68, 65, 66, 68, 70, 68, 65, 68, 73, 68, 65, 68, 70, 68, 65, 61, 73, 75, 77, 78, 80, 78, 77, 78, 77, 75, 77, 73, 75, 72, 73, 75, 77, 73, 70, 68, 65, 66, 80, 82, 80, 65, 68, 73, 70, 68, 66, 65, 61, 61, 77, 78, 80, 78, 77, 78, 77, 75, 77, 73, 75, 72, 73, 75, 77, 73, 70, 68, 65, 66, 68, 70, 68, 65, 68, 73, 68, 65, 68, 70, 68, 65, 61, 73, 75, 77, 78, 80, 78, 77, 78, 77, 75, 77, 73, 75, 72, 73, 75, 77, 73, 70, 68, 65, 66, 80, 82, 80, 65, 68, 73, 70, 68, 66, 65, 61, 61], 'T': [320, 160, 320, 160, 320, 160, 320, 160, 320, 160, 160, 160, 160, 320, 160, 320, 160, 320, 160, 320, 160, 320, 160, 320, 160, 320, 160, 320, 160, 320, 160, 160, 160, 160, 320, 160, 320, 160, 320, 160, 320, 160, 320, 160, 160, 160, 160, 320, 160, 320, 160, 320, 160, 320, 160, 320, 160, 160, 160, 160, 160, 160, 160, 480, 480, 480, 320, 160, 320, 160, 320, 160, 320, 160, 320, 160, 160, 160, 160, 320, 160, 320, 160, 320, 160, 320, 160, 320, 160, 320, 160, 320, 160, 320, 160, 320, 160, 160, 160, 160, 320, 160, 320, 160, 320, 160, 320, 160, 320, 160, 160, 160, 160, 320, 160, 320, 160, 320, 160, 320, 160, 320, 160, 160, 160, 160, 160, 160, 160, 480, 480, 480, 320, 160, 160, 160, 160, 160, 160, 160, 320, 160, 320, 160, 320, 160, 320, 160, 320, 160, 320, 160, 160, 160, 160, 320, 160, 320, 160, 320, 160, 320, 160, 320, 160, 320, 160, 320, 160, 160, 160, 160, 160, 160, 160, 320, 160, 320, 160, 320, 160, 320, 160, 320, 160, 320, 160, 160, 160, 160, 320, 160, 320, 160, 320, 160, 480, 480, 480, 320, 160, 160, 160, 160, 160, 160, 160, 320, 160, 320, 160, 320, 160, 320, 160, 320, 160, 320, 160, 160, 160, 160, 320, 160, 320, 160, 320, 160, 320, 160, 320, 160, 320, 160, 320, 160, 160, 160, 160, 160, 160, 160, 320, 160, 320, 160, 320, 160, 320, 160, 320, 160, 320, 160, 160, 160, 160, 320, 160, 320, 160, 320, 160, 480, 480, 480]}\n",
      "/n\n",
      "sessiontune27766\n",
      "MIDI events\n",
      "chorpus/sessiontune27766.mid\n",
      "########################################\n",
      "tick \t pitch \t message \t velocity\n",
      "########################################\n",
      "\n",
      "1 \t 65 \t Note On \t 105\n",
      "120 \t 65 \t Note Off \t 0\n",
      "121 \t 66 \t Note On \t 80\n",
      "180 \t 66 \t Note Off \t 0\n",
      "181 \t 65 \t Note On \t 80\n",
      "240 \t 65 \t Note Off \t 0\n",
      "241 \t 63 \t Note On \t 80\n",
      "360 \t 63 \t Note Off \t 0\n",
      "361 \t 61 \t Note On \t 80\n",
      ". \t . \t . \t \t .\n",
      ". \t . \t . \t \t .\n",
      ". \t . \t . \t \t .\n",
      "14821 \t 63 \t Note On \t 80\n",
      "14880 \t 63 \t Note Off \t 0\n",
      "14881 \t 65 \t Note On \t 105\n",
      "15000 \t 65 \t Note Off \t 0\n",
      "15001 \t 61 \t Note On \t 80\n",
      "15120 \t 61 \t Note Off \t 0\n",
      "15121 \t 61 \t Note On \t 80\n",
      "15360 \t 61 \t Note Off \t 0\n",
      "########################################\n",
      "\n",
      "Note representation\n",
      "{'P': [65, 66, 65, 63, 61, 58, 61, 61, 63, 65, 66, 65, 63, 61, 65, 68, 70, 68, 65, 66, 65, 63, 61, 58, 61, 61, 63, 65, 61, 65, 68, 65, 63, 61, 61, 65, 66, 65, 63, 61, 58, 61, 61, 63, 65, 66, 65, 63, 61, 65, 68, 70, 68, 65, 66, 65, 63, 61, 58, 61, 61, 63, 65, 61, 65, 68, 65, 63, 61, 61, 73, 68, 70, 68, 65, 68, 68, 73, 68, 70, 68, 65, 68, 63, 73, 68, 70, 68, 65, 68, 70, 68, 65, 66, 65, 63, 61, 63, 65, 61, 61, 73, 68, 70, 68, 65, 68, 68, 73, 68, 70, 68, 65, 68, 63, 73, 68, 70, 68, 65, 68, 70, 68, 65, 66, 65, 63, 61, 63, 65, 61, 61], 'T': [120, 60, 60, 120, 120, 120, 120, 120, 120, 120, 60, 60, 120, 120, 120, 120, 120, 120, 120, 60, 60, 120, 120, 120, 120, 120, 120, 120, 60, 60, 120, 120, 120, 120, 240, 120, 60, 60, 120, 120, 120, 120, 120, 120, 120, 60, 60, 120, 120, 120, 120, 120, 120, 120, 60, 60, 120, 120, 120, 120, 120, 120, 120, 60, 60, 120, 120, 120, 120, 240, 120, 120, 120, 120, 120, 120, 240, 120, 120, 120, 120, 120, 120, 240, 120, 120, 120, 120, 120, 120, 120, 120, 120, 60, 60, 120, 60, 60, 120, 120, 240, 120, 120, 120, 120, 120, 120, 240, 120, 120, 120, 120, 120, 120, 240, 120, 120, 120, 120, 120, 120, 120, 120, 120, 60, 60, 120, 60, 60, 120, 120, 240]}\n",
      "/n\n"
     ]
    }
   ],
   "source": [
    "for label in np.random.choice(list(dataset.keys()), 2):\n",
    "    print(label)\n",
    "    print(\"MIDI events\")\n",
    "    display(datapath+label+\".mid\")\n",
    "    print(\"Note representation\")\n",
    "    print(dataset[label])\n",
    "    print('/n')"
   ]
  },
  {
   "cell_type": "markdown",
   "metadata": {},
   "source": [
    "## Exercise 2: Tokenzation and translation to integer\n",
    "### Description\n",
    "\n",
    "Now you should have a \"dataset\" dictionary where each entry corresponds to one melody example from a subset of the full dataset. In turn, every melody example is represented by a dictionary with two sequences: the \"P\" entry being the sequence of pitches and the \"T\" entry, the sequence of durations. Here, you will implement the first steps to translate this dataset in a language that can be read by your ANN models. To achieve that, we will later use the [one-hot encoding scheme](https://machinelearningmastery.com/why-one-hot-encode-data-in-machine-learning/), which will associate each input (and output) unit of your network to a unique pitch or duration. In your network, these units will then be sequentially activated in the same order as their corresponding pitch/duration in your dataset. And at each note, the model will be trained to approximate the probability distributions of the upcoming pitch and duration.\n",
    "\n",
    "1. Gather in a list of all possible pitches and durations in your dataset. These two lists will be your \"dictionaries\" translating a pitch/duration to a unique integer between 0 and the number of entries (-1) in the pitch/duration dictionary.\n",
    "2. Translate the pitch/duration sequence of each melody to the integer representation.\n",
    "3. Select randomly two melodies and display them in the note representation and translated to integer. Check that the translation is correct."
   ]
  },
  {
   "cell_type": "markdown",
   "metadata": {},
   "source": [
    "### Solution"
   ]
  },
  {
   "cell_type": "code",
   "execution_count": 108,
   "metadata": {},
   "outputs": [],
   "source": [
    "reduce_union = lambda x, y: x.union(y)\n",
    "\n",
    "def index(a, x):\n",
    "    'Locate the leftmost value exactly equal to x'\n",
    "    i = bisect_left(a, x)\n",
    "    if i != len(a) and a[i] == x:\n",
    "        return i\n",
    "    raise ValueError"
   ]
  },
  {
   "cell_type": "code",
   "execution_count": 109,
   "metadata": {},
   "outputs": [],
   "source": [
    "def translation(dataset):\n",
    "    durations = sorted(reduce(reduce_union, [set(dataset[x]['T']) for x in dataset]))\n",
    "    pitches = sorted(reduce(reduce_union, [set(dataset[x]['P']) for x in dataset]))\n",
    "\n",
    "    dur2Id = lambda x: index(durations, x)\n",
    "    pit2Id = lambda x: index(pitches, x)\n",
    "\n",
    "    for label in list(dataset.keys()):\n",
    "        dataset[label]['Tt'] = list(map(dur2Id, dataset[label]['T']))\n",
    "        dataset[label]['Pt'] = list(map(pit2Id, dataset[label]['P']))\n",
    "    \n",
    "    return dataset\n",
    "        \n",
    "dataset = translation(dataset)"
   ]
  },
  {
   "cell_type": "code",
   "execution_count": 110,
   "metadata": {},
   "outputs": [
    {
     "name": "stdout",
     "output_type": "stream",
     "text": [
      "sessiontune39166\n",
      "MIDI events\n",
      "chorpus/sessiontune39166.mid\n",
      "########################################\n",
      "tick \t pitch \t message \t velocity\n",
      "########################################\n",
      "\n",
      "1 \t 61 \t Note On \t 105\n",
      "240 \t 61 \t Note Off \t 0\n",
      "241 \t 58 \t Note On \t 80\n",
      "480 \t 58 \t Note Off \t 0\n",
      "481 \t 56 \t Note On \t 80\n",
      "720 \t 56 \t Note Off \t 0\n",
      "721 \t 58 \t Note On \t 80\n",
      "960 \t 58 \t Note Off \t 0\n",
      "961 \t 61 \t Note On \t 95\n",
      ". \t . \t . \t \t .\n",
      ". \t . \t . \t \t .\n",
      ". \t . \t . \t \t .\n",
      "45121 \t 65 \t Note On \t 95\n",
      "45360 \t 65 \t Note Off \t 0\n",
      "45361 \t 61 \t Note On \t 80\n",
      "45600 \t 61 \t Note Off \t 0\n",
      "45601 \t 63 \t Note On \t 80\n",
      "45840 \t 63 \t Note Off \t 0\n",
      "45841 \t 65 \t Note On \t 80\n",
      "46080 \t 65 \t Note Off \t 0\n",
      "########################################\n",
      "\n",
      "Note representation\n",
      "{'Tt': [21, 21, 21, 21, 32, 21, 21, 21, 21, 21, 21, 21, 21, 32, 21, 21, 21, 21, 32, 21, 21, 21, 21, 21, 21, 32, 21, 21, 21, 21, 32, 32, 21, 21, 21, 21, 21, 21, 21, 21, 32, 21, 21, 21, 21, 32, 21, 21, 21, 21, 21, 21, 21, 21, 21, 21, 21, 21, 21, 21, 32, 21, 21, 21, 21, 21, 21, 21, 21, 32, 21, 21, 21, 21, 32, 21, 21, 21, 21, 21, 21, 32, 21, 21, 21, 21, 32, 32, 21, 21, 21, 21, 21, 21, 21, 21, 32, 21, 21, 21, 21, 32, 21, 21, 21, 21, 21, 21, 21, 21, 32, 21, 21, 21, 21, 32, 21, 21, 32, 21, 21, 21, 21, 21, 21, 21, 21, 21, 21, 32, 21, 21, 15, 15, 15, 21, 21, 21, 21, 21, 21, 21, 21, 21, 21, 32, 21, 21, 15, 15, 15, 21, 21, 21, 21, 21, 21, 21, 21, 21, 21, 21, 21, 21, 21, 21, 21, 21, 21, 21, 21, 21, 21], 'Pt': [13, 10, 8, 10, 13, 13, 15, 17, 20, 25, 20, 17, 13, 13, 15, 13, 10, 13, 15, 15, 18, 17, 20, 25, 20, 17, 15, 17, 13, 10, 10, 13, 13, 15, 17, 20, 25, 20, 17, 13, 13, 17, 20, 25, 20, 22, 25, 22, 20, 17, 15, 18, 17, 13, 15, 17, 13, 10, 8, 10, 13, 13, 15, 17, 20, 25, 20, 17, 13, 13, 15, 13, 10, 13, 15, 15, 18, 17, 20, 25, 20, 17, 15, 17, 13, 10, 10, 13, 13, 15, 17, 20, 25, 20, 17, 13, 13, 17, 20, 25, 20, 22, 25, 22, 20, 17, 15, 18, 17, 13, 13, 25, 22, 20, 22, 25, 25, 27, 29, 27, 29, 25, 22, 20, 25, 27, 25, 22, 25, 27, 27, 29, 30, 29, 27, 29, 25, 27, 25, 22, 27, 25, 22, 20, 22, 25, 25, 27, 29, 27, 25, 27, 24, 25, 24, 22, 20, 17, 20, 25, 20, 22, 20, 25, 22, 20, 17, 15, 18, 17, 13, 15, 17], 'P': [61, 58, 56, 58, 61, 61, 63, 65, 68, 73, 68, 65, 61, 61, 63, 61, 58, 61, 63, 63, 66, 65, 68, 73, 68, 65, 63, 65, 61, 58, 58, 61, 61, 63, 65, 68, 73, 68, 65, 61, 61, 65, 68, 73, 68, 70, 73, 70, 68, 65, 63, 66, 65, 61, 63, 65, 61, 58, 56, 58, 61, 61, 63, 65, 68, 73, 68, 65, 61, 61, 63, 61, 58, 61, 63, 63, 66, 65, 68, 73, 68, 65, 63, 65, 61, 58, 58, 61, 61, 63, 65, 68, 73, 68, 65, 61, 61, 65, 68, 73, 68, 70, 73, 70, 68, 65, 63, 66, 65, 61, 61, 73, 70, 68, 70, 73, 73, 75, 77, 75, 77, 73, 70, 68, 73, 75, 73, 70, 73, 75, 75, 77, 78, 77, 75, 77, 73, 75, 73, 70, 75, 73, 70, 68, 70, 73, 73, 75, 77, 75, 73, 75, 72, 73, 72, 70, 68, 65, 68, 73, 68, 70, 68, 73, 70, 68, 65, 63, 66, 65, 61, 63, 65], 'T': [240, 240, 240, 240, 480, 240, 240, 240, 240, 240, 240, 240, 240, 480, 240, 240, 240, 240, 480, 240, 240, 240, 240, 240, 240, 480, 240, 240, 240, 240, 480, 480, 240, 240, 240, 240, 240, 240, 240, 240, 480, 240, 240, 240, 240, 480, 240, 240, 240, 240, 240, 240, 240, 240, 240, 240, 240, 240, 240, 240, 480, 240, 240, 240, 240, 240, 240, 240, 240, 480, 240, 240, 240, 240, 480, 240, 240, 240, 240, 240, 240, 480, 240, 240, 240, 240, 480, 480, 240, 240, 240, 240, 240, 240, 240, 240, 480, 240, 240, 240, 240, 480, 240, 240, 240, 240, 240, 240, 240, 240, 480, 240, 240, 240, 240, 480, 240, 240, 480, 240, 240, 240, 240, 240, 240, 240, 240, 240, 240, 480, 240, 240, 160, 160, 160, 240, 240, 240, 240, 240, 240, 240, 240, 240, 240, 480, 240, 240, 160, 160, 160, 240, 240, 240, 240, 240, 240, 240, 240, 240, 240, 240, 240, 240, 240, 240, 240, 240, 240, 240, 240, 240, 240]}\n",
      "/n\n",
      "sessiontune23077\n",
      "MIDI events\n",
      "chorpus/sessiontune23077.mid\n",
      "########################################\n",
      "tick \t pitch \t message \t velocity\n",
      "########################################\n",
      "\n",
      "1 \t 73 \t Note On \t 105\n",
      "240 \t 73 \t Note Off \t 0\n",
      "241 \t 75 \t Note On \t 80\n",
      "480 \t 75 \t Note Off \t 0\n",
      "481 \t 73 \t Note On \t 80\n",
      "720 \t 73 \t Note Off \t 0\n",
      "721 \t 82 \t Note On \t 95\n",
      "960 \t 82 \t Note Off \t 0\n",
      "961 \t 73 \t Note On \t 80\n",
      ". \t . \t . \t \t .\n",
      ". \t . \t . \t \t .\n",
      ". \t . \t . \t \t .\n",
      "44161 \t 70 \t Note On \t 80\n",
      "44400 \t 70 \t Note Off \t 0\n",
      "44401 \t 72 \t Note On \t 80\n",
      "44640 \t 72 \t Note Off \t 0\n",
      "44641 \t 73 \t Note On \t 105\n",
      "45840 \t 73 \t Note Off \t 0\n",
      "45841 \t 72 \t Note On \t 80\n",
      "46080 \t 72 \t Note Off \t 0\n",
      "########################################\n",
      "\n",
      "Note representation\n",
      "{'Tt': [21, 21, 21, 21, 21, 21, 21, 21, 21, 21, 21, 21, 21, 21, 21, 21, 21, 21, 21, 21, 21, 21, 21, 21, 21, 21, 21, 21, 21, 21, 21, 21, 21, 21, 21, 21, 21, 21, 21, 21, 21, 21, 21, 21, 21, 32, 21, 21, 21, 21, 21, 21, 21, 21, 21, 21, 21, 21, 21, 21, 21, 21, 21, 21, 21, 21, 21, 21, 21, 21, 21, 21, 21, 21, 21, 21, 21, 21, 21, 21, 21, 21, 21, 21, 21, 21, 21, 21, 21, 21, 21, 21, 39, 21, 21, 21, 21, 21, 21, 32, 32, 21, 21, 39, 21, 21, 21, 21, 21, 21, 21, 21, 21, 21, 21, 21, 21, 21, 21, 32, 32, 21, 21, 39, 21, 21, 21, 47, 21, 21, 21, 21, 21, 21, 21, 32, 32, 21, 21, 39, 21, 21, 21, 21, 21, 21, 21, 21, 21, 21, 21, 21, 21, 21, 21, 21, 21, 21, 32, 21, 39, 21, 21, 21, 47, 21], 'Pt': [25, 27, 25, 34, 25, 32, 25, 34, 25, 32, 25, 34, 37, 36, 34, 32, 37, 29, 30, 32, 29, 30, 27, 29, 25, 27, 25, 34, 25, 32, 25, 34, 25, 32, 25, 34, 37, 36, 34, 32, 37, 29, 30, 27, 24, 25, 27, 25, 27, 25, 34, 25, 32, 25, 34, 25, 32, 25, 34, 37, 36, 34, 32, 37, 29, 30, 32, 29, 30, 27, 29, 25, 27, 25, 34, 25, 32, 25, 34, 25, 32, 25, 34, 37, 36, 34, 32, 37, 29, 30, 27, 24, 25, 25, 29, 27, 25, 22, 20, 18, 18, 20, 22, 20, 20, 22, 24, 25, 29, 32, 30, 29, 27, 25, 29, 27, 25, 22, 20, 18, 18, 20, 22, 20, 20, 22, 24, 25, 24, 25, 29, 27, 25, 22, 20, 18, 18, 20, 22, 20, 20, 22, 24, 25, 29, 32, 30, 29, 27, 25, 29, 32, 30, 29, 27, 25, 22, 20, 18, 22, 20, 20, 22, 24, 25, 24], 'P': [73, 75, 73, 82, 73, 80, 73, 82, 73, 80, 73, 82, 85, 84, 82, 80, 85, 77, 78, 80, 77, 78, 75, 77, 73, 75, 73, 82, 73, 80, 73, 82, 73, 80, 73, 82, 85, 84, 82, 80, 85, 77, 78, 75, 72, 73, 75, 73, 75, 73, 82, 73, 80, 73, 82, 73, 80, 73, 82, 85, 84, 82, 80, 85, 77, 78, 80, 77, 78, 75, 77, 73, 75, 73, 82, 73, 80, 73, 82, 73, 80, 73, 82, 85, 84, 82, 80, 85, 77, 78, 75, 72, 73, 73, 77, 75, 73, 70, 68, 66, 66, 68, 70, 68, 68, 70, 72, 73, 77, 80, 78, 77, 75, 73, 77, 75, 73, 70, 68, 66, 66, 68, 70, 68, 68, 70, 72, 73, 72, 73, 77, 75, 73, 70, 68, 66, 66, 68, 70, 68, 68, 70, 72, 73, 77, 80, 78, 77, 75, 73, 77, 80, 78, 77, 75, 73, 70, 68, 66, 70, 68, 68, 70, 72, 73, 72], 'T': [240, 240, 240, 240, 240, 240, 240, 240, 240, 240, 240, 240, 240, 240, 240, 240, 240, 240, 240, 240, 240, 240, 240, 240, 240, 240, 240, 240, 240, 240, 240, 240, 240, 240, 240, 240, 240, 240, 240, 240, 240, 240, 240, 240, 240, 480, 240, 240, 240, 240, 240, 240, 240, 240, 240, 240, 240, 240, 240, 240, 240, 240, 240, 240, 240, 240, 240, 240, 240, 240, 240, 240, 240, 240, 240, 240, 240, 240, 240, 240, 240, 240, 240, 240, 240, 240, 240, 240, 240, 240, 240, 240, 720, 240, 240, 240, 240, 240, 240, 480, 480, 240, 240, 720, 240, 240, 240, 240, 240, 240, 240, 240, 240, 240, 240, 240, 240, 240, 240, 480, 480, 240, 240, 720, 240, 240, 240, 1200, 240, 240, 240, 240, 240, 240, 240, 480, 480, 240, 240, 720, 240, 240, 240, 240, 240, 240, 240, 240, 240, 240, 240, 240, 240, 240, 240, 240, 240, 240, 480, 240, 720, 240, 240, 240, 1200, 240]}\n",
      "/n\n"
     ]
    }
   ],
   "source": [
    "for label in np.random.choice(list(dataset.keys()), 2):\n",
    "    print(label)\n",
    "    print(\"MIDI events\")\n",
    "    display(datapath+label+\".mid\")\n",
    "    print(\"Note representation\")\n",
    "    print(dataset[label])\n",
    "    print('/n')"
   ]
  },
  {
   "cell_type": "markdown",
   "metadata": {},
   "source": [
    "## Exercise 3: Data reprocessing\n",
    "### Description\n",
    "\n",
    "Before moving to the implementation of your RNN generative model of note transition, you will perform data exploration and modification. This step will allow your model to get the most out of your original data as well as ensuring some features such as transposition invariance. \n",
    "\n",
    "To further improve your model, you might want to reconsider your original data. Many different approaches can be undertaken. Here you are asked to implement the a rare event suppression method and transposition invariance.\n",
    "\n",
    "**Rare event suppression** If a unit in your network is associated to a duration that happens very rarely in your data, a possible simplification consists in removing the melodies conaining these rare events from your dataset. \n",
    "1. Plot and comment the histogram of durations in your entire dataset. Use the labels from the original duration values (rather than the integer representation). \n",
    "2. Based on your observations, remove from your dataset melodies containing very rare durations. Adjust the rejection threshold such that at most 5% of the melodies are dicarded with this step. \n",
    "3. Recompute the duration dictionary based on your filtered dataset and plot the new histogram of durations. \n",
    "\n",
    "**Transposition invariance** A melody is perceived similarly by the human ear if it's shifted up or down by a constant offset (see [transposition](https://en.wikipedia.org/wiki/Transposition_(music))). Here, you will force your model to be transposition invariant. For this you can choose to use one of two orthogonal methods. The first consists in transposing every melody into a common tonality (C Major/A minor). On the other hand, the second consists in transposing each melody in all possible keys. The second method will increase your dataset size by a factor bigger than 11! As the training time is directly related with the dataset size, to save computing time, we recomand that you implement the first option.\n",
    "\n",
    "***Pitch normalization*** \n",
    "1. Use the provided function to create a new dataset where all melodies are transposed to C Major/A minor. \n",
    "2. Plot the histograms of the pitches before and after transposition.\n",
    "\n",
    "Finally, you shoud recompute the tokenization step for your brand new filtered and normalized dataset."
   ]
  },
  {
   "cell_type": "code",
   "execution_count": 101,
   "metadata": {},
   "outputs": [
    {
     "data": {
      "image/png": "[encoded data removed]",
      "text/plain": [
       "<Figure size 576x288 with 1 Axes>"
      ]
     },
     "metadata": {
      "image/png": {
       "height": 250,
       "width": 487
      }
     },
     "output_type": "display_data"
    }
   ],
   "source": [
    "plt.hist(reduce(lambda x, y: x + y, [dataset[x]['T'] for x in dataset]), bins=40, log=True)\n",
    "plt.show()"
   ]
  },
  {
   "cell_type": "code",
   "execution_count": 104,
   "metadata": {},
   "outputs": [
    {
     "name": "stdout",
     "output_type": "stream",
     "text": [
      "Deleted 2.3763231799524736% of elements\n"
     ]
    }
   ],
   "source": [
    "counts = Counter(x for x in durations)\n",
    "counts = Counter(dict(filter(lambda x: x[1] < 50, counts.items())))\n",
    "\n",
    "cleaned_ds = {k: v for k, v in dataset.items() if len([i for i in counts.keys() if i in v['T']]) == 0}\n",
    "print(\"Deleted {}% of elements\".format((len(dataset) - len(cleaned_ds))/len(dataset) * 100))"
   ]
  },
  {
   "cell_type": "code",
   "execution_count": 107,
   "metadata": {},
   "outputs": [
    {
     "data": {
      "image/png": "[encoded data removed]",
      "text/plain": [
       "<Figure size 576x288 with 1 Axes>"
      ]
     },
     "metadata": {
      "image/png": {
       "height": 250,
       "width": 495
      }
     },
     "output_type": "display_data"
    }
   ],
   "source": [
    "plt.hist(reduce(lambda x, y: x + y, [cleaned_ds[x]['T'] for x in cleaned_ds]), bins=40, log=True)\n",
    "plt.show()"
   ]
  },
  {
   "cell_type": "code",
   "execution_count": 112,
   "metadata": {},
   "outputs": [
    {
     "name": "stdout",
     "output_type": "stream",
     "text": [
      "sessiontune3631\n",
      "MIDI events\n",
      "chorpus/sessiontune3631.mid\n",
      "########################################\n",
      "tick \t pitch \t message \t velocity\n",
      "########################################\n",
      "\n",
      "1 \t 60 \t Note On \t 105\n",
      "240 \t 60 \t Note Off \t 0\n",
      "241 \t 60 \t Note On \t 105\n",
      "480 \t 60 \t Note Off \t 0\n",
      "481 \t 57 \t Note On \t 105\n",
      "720 \t 57 \t Note Off \t 0\n",
      "721 \t 65 \t Note On \t 105\n",
      "960 \t 65 \t Note Off \t 0\n",
      "961 \t 77 \t Note On \t 80\n",
      ". \t . \t . \t \t .\n",
      ". \t . \t . \t \t .\n",
      ". \t . \t . \t \t .\n",
      "8161 \t 60 \t Note On \t 105\n",
      "8400 \t 60 \t Note Off \t 0\n",
      "8401 \t 57 \t Note On \t 105\n",
      "8640 \t 57 \t Note Off \t 0\n",
      "8641 \t 55 \t Note On \t 80\n",
      "8880 \t 55 \t Note Off \t 0\n",
      "8881 \t 60 \t Note On \t 105\n",
      "9120 \t 60 \t Note Off \t 0\n",
      "########################################\n",
      "\n",
      "Note representation\n",
      "{'Tt': [10, 10, 10, 10, 10, 10, 10, 10, 10, 10, 10, 10, 10, 10, 10, 10, 10, 10, 10, 10, 10, 10, 10, 10, 10, 10, 10, 10, 10, 10, 10, 10, 10, 10, 10, 10, 10, 10], 'Pt': [12, 12, 9, 17, 29, 12, 12, 9, 12, 12, 12, 9, 17, 29, 12, 12, 9, 12, 12, 12, 9, 17, 29, 12, 12, 9, 7, 12, 12, 12, 9, 17, 29, 12, 12, 9, 7, 12], 'P': [60, 60, 57, 65, 77, 60, 60, 57, 60, 60, 60, 57, 65, 77, 60, 60, 57, 60, 60, 60, 57, 65, 77, 60, 60, 57, 55, 60, 60, 60, 57, 65, 77, 60, 60, 57, 55, 60], 'T': [240, 240, 240, 240, 240, 240, 240, 240, 240, 240, 240, 240, 240, 240, 240, 240, 240, 240, 240, 240, 240, 240, 240, 240, 240, 240, 240, 240, 240, 240, 240, 240, 240, 240, 240, 240, 240, 240]}\n",
      "/n\n",
      "sessiontune4765\n",
      "MIDI events\n",
      "chorpus/sessiontune4765.mid\n",
      "########################################\n",
      "tick \t pitch \t message \t velocity\n",
      "########################################\n",
      "\n",
      "1 \t 67 \t Note On \t 105\n",
      "240 \t 67 \t Note Off \t 0\n",
      "241 \t 65 \t Note On \t 80\n",
      "480 \t 65 \t Note Off \t 0\n",
      "481 \t 64 \t Note On \t 105\n",
      "960 \t 64 \t Note Off \t 0\n",
      "961 \t 62 \t Note On \t 80\n",
      "1200 \t 62 \t Note Off \t 0\n",
      "1201 \t 64 \t Note On \t 80\n",
      ". \t . \t . \t \t .\n",
      ". \t . \t . \t \t .\n",
      ". \t . \t . \t \t .\n",
      "45361 \t 67 \t Note On \t 80\n",
      "45600 \t 67 \t Note Off \t 0\n",
      "45601 \t 65 \t Note On \t 80\n",
      "45840 \t 65 \t Note Off \t 0\n",
      "45841 \t 62 \t Note On \t 80\n",
      "46080 \t 62 \t Note Off \t 0\n",
      "46081 \t 60 \t Note On \t 95\n",
      "47040 \t 60 \t Note Off \t 0\n",
      "########################################\n",
      "\n",
      "Note representation\n",
      "{'Tt': [10, 10, 14, 10, 10, 10, 10, 10, 10, 10, 10, 10, 10, 14, 10, 10, 10, 10, 10, 10, 7, 7, 7, 10, 10, 10, 10, 10, 10, 10, 10, 10, 10, 14, 10, 10, 10, 10, 10, 10, 10, 10, 10, 10, 14, 10, 10, 10, 10, 10, 10, 7, 7, 7, 10, 10, 10, 10, 10, 10, 14, 7, 7, 7, 10, 10, 14, 10, 10, 10, 10, 10, 10, 10, 10, 10, 10, 14, 10, 10, 10, 10, 10, 10, 7, 7, 7, 10, 10, 10, 10, 10, 10, 10, 10, 10, 10, 14, 10, 10, 10, 10, 10, 10, 10, 10, 10, 10, 14, 10, 10, 10, 10, 10, 10, 7, 7, 7, 10, 10, 10, 10, 10, 10, 14, 7, 7, 7, 10, 10, 10, 10, 10, 10, 10, 10, 7, 7, 7, 10, 10, 10, 10, 10, 10, 10, 10, 10, 10, 10, 10, 10, 10, 10, 10, 10, 10, 7, 7, 7, 10, 10, 10, 10, 10, 10, 10, 10, 10, 10, 7, 7, 7, 10, 10, 10, 10, 10, 10, 10, 10, 10, 10, 10, 10, 10, 10, 10, 10, 10, 10, 21], 'Pt': [19, 17, 16, 14, 16, 12, 16, 19, 16, 17, 19, 16, 17, 14, 14, 16, 17, 16, 17, 19, 21, 23, 24, 26, 24, 23, 24, 26, 24, 23, 19, 17, 14, 16, 14, 16, 12, 16, 19, 16, 17, 19, 16, 17, 14, 14, 16, 17, 16, 17, 19, 21, 23, 24, 26, 24, 23, 19, 17, 14, 12, 19, 19, 17, 19, 17, 16, 14, 16, 12, 16, 19, 16, 17, 19, 16, 17, 14, 14, 16, 17, 16, 17, 19, 21, 23, 24, 26, 24, 23, 24, 26, 24, 23, 19, 17, 14, 16, 14, 16, 12, 16, 19, 16, 17, 19, 16, 17, 14, 14, 16, 17, 16, 17, 19, 21, 23, 24, 26, 24, 23, 19, 17, 14, 12, 19, 21, 23, 24, 19, 31, 19, 28, 19, 24, 19, 21, 23, 24, 19, 16, 12, 14, 16, 19, 21, 26, 26, 24, 26, 28, 26, 24, 23, 24, 26, 28, 29, 29, 29, 28, 26, 24, 19, 31, 19, 28, 19, 24, 19, 21, 23, 24, 19, 16, 12, 14, 16, 19, 21, 26, 26, 24, 23, 24, 26, 24, 23, 19, 17, 14, 12], 'P': [67, 65, 64, 62, 64, 60, 64, 67, 64, 65, 67, 64, 65, 62, 62, 64, 65, 64, 65, 67, 69, 71, 72, 74, 72, 71, 72, 74, 72, 71, 67, 65, 62, 64, 62, 64, 60, 64, 67, 64, 65, 67, 64, 65, 62, 62, 64, 65, 64, 65, 67, 69, 71, 72, 74, 72, 71, 67, 65, 62, 60, 67, 67, 65, 67, 65, 64, 62, 64, 60, 64, 67, 64, 65, 67, 64, 65, 62, 62, 64, 65, 64, 65, 67, 69, 71, 72, 74, 72, 71, 72, 74, 72, 71, 67, 65, 62, 64, 62, 64, 60, 64, 67, 64, 65, 67, 64, 65, 62, 62, 64, 65, 64, 65, 67, 69, 71, 72, 74, 72, 71, 67, 65, 62, 60, 67, 69, 71, 72, 67, 79, 67, 76, 67, 72, 67, 69, 71, 72, 67, 64, 60, 62, 64, 67, 69, 74, 74, 72, 74, 76, 74, 72, 71, 72, 74, 76, 77, 77, 77, 76, 74, 72, 67, 79, 67, 76, 67, 72, 67, 69, 71, 72, 67, 64, 60, 62, 64, 67, 69, 74, 74, 72, 71, 72, 74, 72, 71, 67, 65, 62, 60], 'T': [240, 240, 480, 240, 240, 240, 240, 240, 240, 240, 240, 240, 240, 480, 240, 240, 240, 240, 240, 240, 160, 160, 160, 240, 240, 240, 240, 240, 240, 240, 240, 240, 240, 480, 240, 240, 240, 240, 240, 240, 240, 240, 240, 240, 480, 240, 240, 240, 240, 240, 240, 160, 160, 160, 240, 240, 240, 240, 240, 240, 480, 160, 160, 160, 240, 240, 480, 240, 240, 240, 240, 240, 240, 240, 240, 240, 240, 480, 240, 240, 240, 240, 240, 240, 160, 160, 160, 240, 240, 240, 240, 240, 240, 240, 240, 240, 240, 480, 240, 240, 240, 240, 240, 240, 240, 240, 240, 240, 480, 240, 240, 240, 240, 240, 240, 160, 160, 160, 240, 240, 240, 240, 240, 240, 480, 160, 160, 160, 240, 240, 240, 240, 240, 240, 240, 240, 160, 160, 160, 240, 240, 240, 240, 240, 240, 240, 240, 240, 240, 240, 240, 240, 240, 240, 240, 240, 240, 160, 160, 160, 240, 240, 240, 240, 240, 240, 240, 240, 240, 240, 160, 160, 160, 240, 240, 240, 240, 240, 240, 240, 240, 240, 240, 240, 240, 240, 240, 240, 240, 240, 240, 960]}\n",
      "/n\n"
     ]
    }
   ],
   "source": [
    "cleaned_ds = translation(cleaned_ds)\n",
    "\n",
    "for label in np.random.choice(list(cleaned_ds.keys()), 2):\n",
    "    print(label)\n",
    "    print(\"MIDI events\")\n",
    "    display(datapath+label+\".mid\")\n",
    "    print(\"Note representation\")\n",
    "    print(dataset[label])\n",
    "    print('/n')"
   ]
  },
  {
   "cell_type": "markdown",
   "metadata": {},
   "source": [
    "### Solution"
   ]
  },
  {
   "cell_type": "code",
   "execution_count": 10,
   "metadata": {
    "scrolled": true
   },
   "outputs": [],
   "source": [
    "def transposeDataset(dataset):\n",
    "    transposed_dataset = {}\n",
    "\n",
    "    for label in list(dataset.keys()):\n",
    "        transposed_dataset[label] = {}\n",
    "        score = music21.converter.parse(datapath+label+\".mid\")\n",
    "        key = score.analyze('key')\n",
    "        if key.mode == \"major\":\n",
    "            i = music21.interval.Interval(key.tonic, music21.pitch.Pitch('C'))\n",
    "        elif key.mode == \"minor\":\n",
    "            i = music21.interval.Interval(key.tonic, music21.pitch.Pitch('A'))\n",
    "        i = i.semitones\n",
    "        transposed_dataset[label]['P'] = [p+i for p in dataset[label]['P']]\n",
    "        transposed_dataset[label]['T'] = dataset[label]['T']\n",
    "        \n",
    "    return transposed_dataset"
   ]
  },
  {
   "cell_type": "markdown",
   "metadata": {},
   "source": [
    "**Question**: How much did you reduce the space of possible durations with your rare event suppression procedure? What is the impact in term of training time?\n",
    "    \n",
    "**Answer**: \n",
    "\n",
    "**Question**: Explain why and how both transposition to a single tonality and to all possible tonalities can yield transposition invariance in your model. \n",
    "\n",
    "**Answer**:\n",
    "\n",
    "**Question**: In terms of number of dimensions, what would have been the impact of keeping the joint represenation of a note duration and pitch (vs separating the two features)? \n",
    "\n",
    "**Answer**: \n",
    "\n",
    "**Question**: How would the distribution of notes in the joint representation differ from the distributions in the pitch and duration only representations (as shown by your histograms above)?\n",
    "\n",
    "**Answer**: "
   ]
  },
  {
   "cell_type": "markdown",
   "metadata": {},
   "source": [
    "## Exercise 4: One-hot and zero-padding\n",
    "### Description\n",
    "\n",
    "The last few steps to be able to feed (note by note) your music scores to a RNN model are\n",
    "1. Transform the sequence of integers into a sequence of vectors in the one-hot encoding scheme.\n",
    "2. Homegenize the length of each sequence\n",
    "\n",
    "**One-hot encode** You can implement your own integer to one-hot code. For this use the numpy library and the suitable datatype. Alternatively, Keras provides a [built in one-hot encoding scheme](https://keras.io/utils/#to_categorical). After this step, for each melody, you should have two similar length matrices with one representing the sequence of note pitches and the other the sequence of note durations.\n",
    "1. Code the integer representation into matrices of one-hot vectors\n",
    "\n",
    "**Zero-padding** Most deep learning libraries, including Keras, require that you specify the shape of the input data. As such, you cannot have variable length inputs per-se. The trick to handle them is [zero-padding](https://keras.io/preprocessing/sequence/#pad_sequences). Provided with the [Masking Layer](https://keras.io/layers/core/#masking) Keras will then ignore time steps where all inputs are 0.\n",
    "1. Extend the end of each melody matrices with vectors containing only zeros until all melodies have the same size. For simplicity, use the Keras pad_sequences function. There might be some rare very long melodies in your dataset, a possible choice is to set the 'maxlen' argument of pad_sequences to the mean+2std of the melody lengths. This ensure that 95% of your melodies would end before being truncated.\n",
    "2. Check and display the dimension of the resulting tensors. Typically, the tensor representing the sequence of pitches should be of shape [number of melodies x number of notes x number of entries in the pitch dictionary] and the tensor representing the sequence of durations [number of melodies x number of notes x number of entries in the duration dictionary]\n",
    "\n",
    "To check if this step was done correctly use the provided plotMelody function. For two randomly selected melodies, call the plotMelody function before and after one-hot/zero-pad. You should obtain the same plots (or slightly truncated if you randomly selected one belonging to 5% longest).\n",
    "\n",
    "Finally, we strongly suggest that you save your preprocessed data now."
   ]
  },
  {
   "cell_type": "markdown",
   "metadata": {},
   "source": [
    "### Solution"
   ]
  },
  {
   "cell_type": "markdown",
   "metadata": {},
   "source": [
    "## Exercise 5: Building and training a generative model of  note transition with the Keras functional API\n",
    "### Description\n",
    "\n",
    "The Keras Sequential model is very efficient for fast prototyping, however suffers from a lack of design liberty. The Keras Functional API is only slightly more complex but allows for more control on the different parts of your model. You will be using the Functional API for the rest of this project. Please read carefully the [documentation](https://keras.io/getting-started/sequential-model-guide/). \n",
    "\n",
    "Here, you will be constructing your RNN model of note transition. To achieve that, your model should be trained to approximate the probability distribution of the upcoming note (observed as two output softmax layers - one for pitch and one for duration) given the current note (given as input) and the model internal representation of the history of notes (its hidden state). To achieve that, set the Keras RNN layer argument \"return_sequences\" to True when building your model. Doing this will give you an output for each note, rather than a single output at the end of the sequence. During training, the target at each time step is the next note pitch and duration.\n",
    "\n",
    "You are free to use your own architecture but make sure to use at least 128 hidden units, Masking, and dropout to prevent overfitting. Your model should have two output (softmax) layers, one related to the pitch predictions that you should name `YP`, and the other related to the duration predictions `YT`. You should monitor both the loss (categorical_crossentropy) and the accuracy. For your best model, you should reach 40%/75% accuracy on the pitch/duration predictions.\n",
    "\n",
    "1. Train your first model composed of SimpleRNN cells for min 250 epochs and save the model/parameters that lead to the higher accuracy on the validating set. Use a validation split of 0.2. Try  If you correctly named the output layers (`YP` and `YT`) use the provided `plotLearningCurves(History)` function to plot the learning curves by giving the History object returned by the Keras fit function as argument.  \n",
    "2. Train a second model where you replaced the SimpleRNN units with GRUs (LSTM unit equivalent that requires less parameters). Make sure you use the same hyperparameters as before. Plot the learning curves.\n",
    "3. On a single plot, adapt the `plotLearningCurves(History)` function to compare the validation learning curves of the simpleRNN and GRU models. In other words, plot the validation loss vs epoch for pitch/duration for the simpleRNN and GRU models. Do the same for accuracies.\n"
   ]
  },
  {
   "cell_type": "markdown",
   "metadata": {},
   "source": [
    "### Solution"
   ]
  },
  {
   "cell_type": "code",
   "execution_count": null,
   "metadata": {},
   "outputs": [],
   "source": [
    "def buildModel(dictionaries, batch_length, dropout=0.2, activation='GRU', Hsize=128):\n",
    "    X = dict()\n",
    "    H = dict()\n",
    "    M = dict()\n",
    "    Y = dict()\n",
    "    \n",
    "    X['T'] = Input(shape=(batch_length, len(dictionaries['T'])), name=\"XT\")\n",
    "    X['P'] = Input(shape=(batch_length, len(dictionaries['P'])), name=\"XP\")\n",
    "    \n",
    "    M['T'] = Masking(mask_value=0., name=\"MT\")(X['T'])\n",
    "    M['P'] = Masking(mask_value=0., name=\"MP\")(X['P'])\n",
    "    \n",
    "    H['1'] = Concatenate(name=\"MergeX\")([M['T'], M['P']])\n",
    "    if activation == 'GRU':\n",
    "        #Your hidden layer(s) architecture with GRU\n",
    "    elif activation == 'LSTM':\n",
    "        #Your hidden layer(s) architecture with LSTM (For your own curiosity, not required for the project)\n",
    "    elif activation == 'RNN':\n",
    "        #Your hidden layer(s) architecture with SimpleRNN\n",
    "\n",
    "    Y['T'] = TimeDistributed(Dense(len(dictionaries['T']), activation='softmax'), name='YT')(#Input(s) to duration output layer)\n",
    "    Y['P'] = TimeDistributed(Dense(len(dictionaries['P']), activation='softmax'), name='YP')(#Input(s) to pitch output layer)\n",
    "    \n",
    "    model = Model(inputs = [X['T'], X['P']], outputs = [Y['T'], Y['P']])\n",
    "    opt = Adam() \n",
    "    model.compile(\n",
    "        loss='categorical_crossentropy', \n",
    "        optimizer=opt,\n",
    "        metrics=['acc'])\n",
    "    \n",
    "    \n",
    "    return model\n",
    "\n",
    "RNNmodel = buildModel(dictionaries, \n",
    "                      batch_length=,#Put here the number of notes (timesteps) you have in your Zero-padded matrices\n",
    "                      activation='RNN')\n",
    "RNNmodel.summary()"
   ]
  },
  {
   "cell_type": "markdown",
   "metadata": {},
   "source": [
    "**Question**: What are the best prediction accuracies you obtained? With which model?\n",
    "    \n",
    "**Answer**: \n",
    "\n",
    "**Question**: In a few sentences, comment on the plot comparing learning curves for the two activation function.\n",
    "    \n",
    "**Answer**: \n",
    "\n"
   ]
  },
  {
   "cell_type": "markdown",
   "metadata": {
    "collapsed": true
   },
   "source": [
    "## Exercise 6: Visualizing the model\n",
    "### Description\n",
    "\n",
    "1. Using the model.predict and plotMelody functions, show the outputs of your best model when fed with 4 randomly selected melodies. Report the prediction accuracies as well.\n",
    "2. For the same melodies, plot the hidden state evolution accross time steps. Construct a 2 dimensional matrix with the first dimension being time and the second the concatenation of all hidden unit activations and plot it using the provided `plotMelody` function. To get the hidden states of your network, you can modify the `buildModel` function so that you have another computation graph (another model with the same layers, but the output layer) returning you the hidden states. However, other approaches are equally valid.  \n",
    "3. For each hidden unit $i$ and accross the entire dataset, compute the average absolute change in activation $\\Delta A_i$. Be careful not to take masked timesteps into account. Plot the histogram (50 bins) of this average for the RNN and GRU models on the same figure."
   ]
  },
  {
   "cell_type": "markdown",
   "metadata": {},
   "source": [
    "### Solution"
   ]
  },
  {
   "cell_type": "code",
   "execution_count": null,
   "metadata": {},
   "outputs": [],
   "source": []
  },
  {
   "cell_type": "markdown",
   "metadata": {},
   "source": [
    "**Question**: How does the hidden state dynamics explain the performance of the RNN vs GRU models? Explain in term of temporal dependencies and base your explanation on figures obtained in 6.2 and 6.3.\n",
    "    \n",
    "**Answer**: \n"
   ]
  },
  {
   "cell_type": "markdown",
   "metadata": {
    "collapsed": true
   },
   "source": [
    "## Exercise 7: Generation of new melodies\n",
    "### Description\n",
    "\n",
    "1. Use your trained best model to generate new melodies. You can do that by starting with a random note, feeding it to your network and sample the output predictions in order to select the next note. Then add this note to your iteratively growing melodies. For your convenience, we provided the `sample` and `writeMIDI` functions. You can use the first in order to perform temperature sampling. The `writeMIDI` function allows you to write a MIDI file from the integer representation.\n",
    "2. Try different sampling temperatures (e.g. 0.5, 1., 1.5) and observe the effect on your generated melodies.\n",
    "3. Generate 32 melodies with both the RNN and GRU models\n",
    "4. Listen to 4 randomly chosen melodies (2 from the GRU model and 2 from the RNN model). To play in a notebook, use a similar approach as the one shown below assuming you have the files `GRU_1.mid` and `RNN_1.mid` at the same level as this notebook. For your own curiosity, you can also directly listen to the MIDI files with your favorite MIDI player but make sure that we can listen to the 4 extracts directly from this notebook (without rerunning it). If you have trouble achieving that, upload the MIDI files with your submission.\n",
    "5. (Optional) If you have a big enough computing power, try adding multiple and bigger layers. You could also try to improve your model with different add-ons, e.g. make your model learn when a melody ends, extend it to other datasets, ...\n",
    "6. (Optional) If you are happy with your results submit a 1 hour long generated MIDI file to the [AI-generated music challenge](https://www.crowdai.org/challenges/ai-generated-music-challenge). "
   ]
  },
  {
   "cell_type": "markdown",
   "metadata": {},
   "source": [
    "### Solution"
   ]
  },
  {
   "cell_type": "code",
   "execution_count": null,
   "metadata": {},
   "outputs": [],
   "source": [
    "mf = music21.midi.MidiFile()\n",
    "mf.open('GRU_1.mid')\n",
    "mf.read()\n",
    "mf.close()\n",
    "s = music21.midi.translate.midiFileToStream(mf)\n",
    "print('GRU')\n",
    "s.show('midi')"
   ]
  },
  {
   "cell_type": "code",
   "execution_count": null,
   "metadata": {},
   "outputs": [],
   "source": [
    "mf = music21.midi.MidiFile()\n",
    "mf.open('RNN_1.mid')\n",
    "mf.read()\n",
    "mf.close()\n",
    "s = music21.midi.translate.midiFileToStream(mf)\n",
    "print('RNN')\n",
    "s.show('midi')"
   ]
  },
  {
   "cell_type": "markdown",
   "metadata": {},
   "source": [
    "**Question**: What is the effect of the sampling temperature on the generated melodies?\n",
    "    \n",
    "**Answer**: \n",
    "\n",
    "**Question**: Are the generated melodies from the RNN model different from the one generated by the GRU model? If yes, what are the main differences?\n",
    "\n",
    "**Answer**: \n",
    "\n"
   ]
  }
 ],
 "metadata": {
  "anaconda-cloud": {},
  "kernelspec": {
   "display_name": "Python 3",
   "language": "python",
   "name": "python3"
  },
  "language_info": {
   "codemirror_mode": {
    "name": "ipython",
    "version": 3
   },
   "file_extension": ".py",
   "mimetype": "text/x-python",
   "name": "python",
   "nbconvert_exporter": "python",
   "pygments_lexer": "ipython3",
   "version": "3.5.2"
  }
 },
 "nbformat": 4,
 "nbformat_minor": 1
}
