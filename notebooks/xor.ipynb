{
 "cells": [
  {
   "cell_type": "code",
   "execution_count": 16,
   "metadata": {},
   "outputs": [],
   "source": [
    "from itertools import product\n",
    "\n",
    "import numpy as np\n",
    "from keras.models import Sequential\n",
    "from keras.layers.core import Dense\n",
    "from sklearn.model_selection import StratifiedKFold\n",
    "\n",
    "import matplotlib.pyplot as plt"
   ]
  },
  {
   "cell_type": "code",
   "execution_count": 2,
   "metadata": {},
   "outputs": [
    {
     "name": "stdout",
     "output_type": "stream",
     "text": [
      "[[ 0.36740309]\n",
      " [ 0.67591524]\n",
      " [ 0.68596506]\n",
      " [ 0.30799776]]\n",
      "[[ 0.]\n",
      " [ 1.]\n",
      " [ 1.]\n",
      " [ 0.]]\n"
     ]
    }
   ],
   "source": [
    "# the four different states of the XOR gate\n",
    "training_data = np.array([[0,0],[0,1],[1,0],[1,1]], \"float32\")\n",
    "\n",
    "# the four expected results in the same order\n",
    "target_data = np.array([[0],[1],[1],[0]], \"float32\")\n",
    "\n",
    "model = Sequential()\n",
    "model.add(Dense(16, input_dim=2, activation='relu'))\n",
    "model.add(Dense(1, activation='sigmoid'))\n",
    "\n",
    "model.compile(loss='mean_squared_error',\n",
    "              optimizer='adam',\n",
    "              metrics=['binary_accuracy'])\n",
    "\n",
    "model.fit(training_data, target_data, epochs=500, verbose=0)\n",
    "\n",
    "print(model.predict(training_data))\n",
    "print(model.predict(training_data).round())"
   ]
  },
  {
   "cell_type": "code",
   "execution_count": 40,
   "metadata": {},
   "outputs": [],
   "source": [
    "covar = [[0.1, 0],[0, 0.1]]\n",
    "points = 500\n",
    "\n",
    "a = np.random.multivariate_normal([0,0],covar,points)\n",
    "b = np.random.multivariate_normal([0,1],covar,points)\n",
    "c = np.random.multivariate_normal([1,0],covar,points)\n",
    "d = np.random.multivariate_normal([1,1],covar,points)\n",
    "\n",
    "noisy_training_data = np.concatenate((a, b, c, d), axis=0)\n",
    "noisy_target_data = np.concatenate((np.zeros(points), np.ones(points), np.ones(points), np.zeros(points)))"
   ]
  },
  {
   "cell_type": "code",
   "execution_count": 41,
   "metadata": {},
   "outputs": [
    {
     "data": {
      "image/png": "[encoded data removed]",
      "text/plain": [
       "<Figure size 432x288 with 1 Axes>"
      ]
     },
     "metadata": {},
     "output_type": "display_data"
    }
   ],
   "source": [
    "x, y = zip(*a)\n",
    "plt.scatter(x, y, color='b', marker='x')\n",
    "\n",
    "x, y = zip(*b)\n",
    "plt.scatter(x, y, color='r', marker='o')\n",
    "\n",
    "x, y = zip(*c)\n",
    "plt.scatter(x, y, color='r', marker='o')\n",
    "\n",
    "x, y = zip(*d)\n",
    "plt.scatter(x, y, color='b', marker='x')\n",
    "plt.show()"
   ]
  },
  {
   "cell_type": "code",
   "execution_count": null,
   "metadata": {},
   "outputs": [
    {
     "name": "stdout",
     "output_type": "stream",
     "text": [
      "1600/1600 [==============================] - 0s 69us/step\n",
      "binary_accuracy: 88.81%\n",
      "loss: 8.25%\n",
      "1600/1600 [==============================] - 0s 105us/step\n",
      "binary_accuracy: 88.50%\n",
      "loss: 8.57%\n"
     ]
    }
   ],
   "source": [
    "kfold = StratifiedKFold(n_splits=5, shuffle=True)\n",
    "cvscores = []\n",
    "losses = []\n",
    "\n",
    "for train, test in kfold.split(noisy_training_data, noisy_target_data):\n",
    "    # create model\n",
    "    model = Sequential()\n",
    "    model.add(Dense(16, input_dim=2, activation='relu'))\n",
    "    model.add(Dense(1, activation='sigmoid'))\n",
    "    # Compile model\n",
    "    model.compile(loss='mean_squared_error',\n",
    "              optimizer='adam',\n",
    "              metrics=['binary_accuracy'])\n",
    "    # Fit the model\n",
    "    model.fit(noisy_training_data[train], noisy_target_data[train], epochs=150, batch_size=10, verbose=0)\n",
    "    # evaluate the model\n",
    "    scores = model.evaluate(noisy_training_data[train], noisy_target_data[train], verbose=1)\n",
    "    print(\"%s: %.2f%%\" % (model.metrics_names[1], scores[1]*100))\n",
    "    print(\"%s: %.2f%%\" % (model.metrics_names[0], scores[0]*100))\n",
    "    cvscores.append(scores[1] * 100)\n",
    "    losses.append(scores[0] * 100)\n",
    "print(\"%.2f%% (+/- %.2f%%)\" % (np.mean(cvscores), np.std(cvscores)))\n",
    "print(\"%.2f%% (+/- %.2f%%)\" % (np.mean(losses), np.std(losses)))"
   ]
  },
  {
   "cell_type": "code",
   "execution_count": null,
   "metadata": {},
   "outputs": [],
   "source": [
    "grid = np.array(list(product(np.linspace(0, 1, num=100), np.linspace(0, 1, num=100))))\n",
    "preds = model.predict(grid).round()\n",
    "\n",
    "x, y = zip(*grid)\n",
    "\n",
    "plt.scatter(x, y, c=preds.flatten())\n",
    "plt.show()"
   ]
  },
  {
   "cell_type": "code",
   "execution_count": null,
   "metadata": {},
   "outputs": [],
   "source": []
  }
 ],
 "metadata": {
  "kernelspec": {
   "display_name": "Python 3",
   "language": "python",
   "name": "python3"
  },
  "language_info": {
   "codemirror_mode": {
    "name": "ipython",
    "version": 3
   },
   "file_extension": ".py",
   "mimetype": "text/x-python",
   "name": "python",
   "nbconvert_exporter": "python",
   "pygments_lexer": "ipython3",
   "version": "3.5.2"
  }
 },
 "nbformat": 4,
 "nbformat_minor": 2
}
